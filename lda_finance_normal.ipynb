{
 "cells": [
  {
   "cell_type": "code",
   "execution_count": 1,
   "metadata": {},
   "outputs": [],
   "source": [
    "import numpy as np\n",
    "import json\n",
    "import glob\n",
    "import pandas as pd\n",
    "import csv\n",
    "\n",
    "# Gensim\n",
    "import gensim\n",
    "import gensim.corpora as corpora\n",
    "from gensim.utils import simple_preprocess\n",
    "from gensim.models import CoherenceModel\n",
    "\n",
    "# Spacy\n",
    "import spacy\n",
    "from nltk.corpus import stopwords\n",
    "\n",
    "# Vis\n",
    "import pyLDAvis\n",
    "import pyLDAvis.gensim_models\n",
    "import warnings\n",
    "warnings.filterwarnings(\"ignore\", category=DeprecationWarning)\n"
   ]
  },
  {
   "cell_type": "code",
   "execution_count": 2,
   "metadata": {},
   "outputs": [],
   "source": [
    "all_files = [\"robinhood.csv\", \"webull.csv\", \"etoro.csv\"]"
   ]
  },
  {
   "cell_type": "code",
   "execution_count": 3,
   "metadata": {},
   "outputs": [
    {
     "data": {
      "text/plain": [
       "3153"
      ]
     },
     "execution_count": 3,
     "metadata": {},
     "output_type": "execute_result"
    }
   ],
   "source": [
    "def load_data(file):\n",
    "    with open(file, \"r\", encoding=\"utf-8\") as f:\n",
    "        data = pd.read_csv(file)\n",
    "        # print(data)\n",
    "        # data = json.load(f)\n",
    "    return (data);\n",
    "\n",
    "def write_data(file, data):\n",
    "    with open(file, \"w\", encoding=\"utf-8\") as f:\n",
    "        json.dump(data, f, indent=4);\n",
    "\n",
    "# Combine all the csv files into one\n",
    "\n",
    "li = []\n",
    "for filename in all_files:\n",
    "    df = load_data(filename)\n",
    "    li.append(df)\n",
    "\n",
    "frame = pd.concat(li, axis=0, ignore_index=True)\n",
    "data = frame.loc[:, [\"content\", \"score\"]]\n",
    "data = data.loc[(data.score <= 2)] # Grab only poor reviews\n",
    "content = json.loads(data.loc[:, \"content\"].to_json())\n",
    "\n",
    "# Prefilter step\n",
    "\n",
    "# Remove reviews with <= 50 chars\n",
    "data = [content[key] for key in content if len(content[key]) > 50];\n",
    "len(data)\n",
    "\n"
   ]
  },
  {
   "cell_type": "code",
   "execution_count": 4,
   "metadata": {},
   "outputs": [
    {
     "name": "stdout",
     "output_type": "stream",
     "text": [
      "['i', 'me', 'my', 'myself', 'we', 'our', 'ours', 'ourselves', 'you', \"you're\", \"you've\", \"you'll\", \"you'd\", 'your', 'yours', 'yourself', 'yourselves', 'he', 'him', 'his', 'himself', 'she', \"she's\", 'her', 'hers', 'herself', 'it', \"it's\", 'its', 'itself', 'they', 'them', 'their', 'theirs', 'themselves', 'what', 'which', 'who', 'whom', 'this', 'that', \"that'll\", 'these', 'those', 'am', 'is', 'are', 'was', 'were', 'be', 'been', 'being', 'have', 'has', 'had', 'having', 'do', 'does', 'did', 'doing', 'a', 'an', 'the', 'and', 'but', 'if', 'or', 'because', 'as', 'until', 'while', 'of', 'at', 'by', 'for', 'with', 'about', 'against', 'between', 'into', 'through', 'during', 'before', 'after', 'above', 'below', 'to', 'from', 'up', 'down', 'in', 'out', 'on', 'off', 'over', 'under', 'again', 'further', 'then', 'once', 'here', 'there', 'when', 'where', 'why', 'how', 'all', 'any', 'both', 'each', 'few', 'more', 'most', 'other', 'some', 'such', 'no', 'nor', 'not', 'only', 'own', 'same', 'so', 'than', 'too', 'very', 's', 't', 'can', 'will', 'just', 'don', \"don't\", 'should', \"should've\", 'now', 'd', 'll', 'm', 'o', 're', 've', 'y', 'ain', 'aren', \"aren't\", 'couldn', \"couldn't\", 'didn', \"didn't\", 'doesn', \"doesn't\", 'hadn', \"hadn't\", 'hasn', \"hasn't\", 'haven', \"haven't\", 'isn', \"isn't\", 'ma', 'mightn', \"mightn't\", 'mustn', \"mustn't\", 'needn', \"needn't\", 'shan', \"shan't\", 'shouldn', \"shouldn't\", 'wasn', \"wasn't\", 'weren', \"weren't\", 'won', \"won't\", 'wouldn', \"wouldn't\"]\n"
     ]
    }
   ],
   "source": [
    "# Stop words are basically words that are not really useful in the topic model\n",
    "# i.e. words that you want to eliminate from consideration\n",
    "stopwords = stopwords.words(\"english\")\n",
    "print(stopwords)"
   ]
  },
  {
   "cell_type": "code",
   "execution_count": 5,
   "metadata": {},
   "outputs": [
    {
     "name": "stdout",
     "output_type": "stream",
     "text": [
      "I once wrote my reviews here, how robinhood had been messing with my funds in my account, \n"
     ]
    }
   ],
   "source": [
    "# data = load_data(\"ushmm_dn.json\")[\"texts\"]\n",
    "print(data[0][0:90]) # Prints out first text, char 0-89"
   ]
  },
  {
   "cell_type": "code",
   "execution_count": 6,
   "metadata": {},
   "outputs": [
    {
     "name": "stdout",
     "output_type": "stream",
     "text": [
      "once write review here robinhood mess fund account very easy transfer money robinhood link\n"
     ]
    }
   ],
   "source": [
    "# Reducing words to their root form (lemma) using spacy or nltk to grab roots\n",
    "# Specify allowed_postags for spacy\n",
    "\n",
    "# Takes a list of texts i.e. [text1, text2...] and returns lemmatised [text1..]\n",
    "# Allowed_post_tages -> Basically default arguments in python \n",
    "# This is a list initalised that is used to filter tokens \n",
    "# pos_ tag marks category of word token belongs to i.e. only append nouns,adj,verbs,and adverbs \n",
    "# e.g. conjunctions (but, and, because), and pronouns (he/she) is ignored\n",
    "def lemmatization(texts, allowed_postags=[\"NOUN\", \"ADJ\", \"VERB\", \"ADV\"]):\n",
    "\n",
    "    # Spacy load creates an an nlp parser i.e. function pointer \n",
    "    spacy.load\n",
    "    nlp = spacy.load(\"en_core_web_sm\", disable=[\"parser\", \"ner\"])\n",
    "    texts_out = []\n",
    "\n",
    "    for text in texts:\n",
    "        doc = nlp(text) # Create document from the raw text/string\n",
    "        new_text = []\n",
    "        for token in doc:\n",
    "            if token.pos_ in allowed_postags and token.pos_ not in stopwords:\n",
    "               new_text.append(token.lemma_) # Appends only lemma to new_text\n",
    "        final = \" \".join(new_text)\n",
    "        texts_out.append(final)\n",
    "    return (texts_out);\n",
    "\n",
    "lemmatized_texts = lemmatization(data)\n",
    "print(lemmatized_texts[0][0:90])"
   ]
  },
  {
   "cell_type": "code",
   "execution_count": 7,
   "metadata": {},
   "outputs": [
    {
     "name": "stdout",
     "output_type": "stream",
     "text": [
      "['once', 'write', 'review', 'here', 'robinhood', 'mess', 'fund', 'account', 'very', 'easy', 'transfer', 'money', 'robinhood', 'link', 'account', 'never', 'go', 'easy', 'take', 'money']\n"
     ]
    }
   ],
   "source": [
    "# Simple preprocess converts documents to list of lower case tokens ignoring ones\n",
    "# which are too short or too long.\n",
    "def gen_words(texts):\n",
    "    final = []\n",
    "    for text in texts:\n",
    "        new = gensim.utils.simple_preprocess(text, deacc=True);\n",
    "        final.append(new)\n",
    "    return (final)\n",
    "\n",
    "data_words = gen_words(lemmatized_texts)\n",
    "\n",
    "print(data_words[0][0:20])\n"
   ]
  },
  {
   "cell_type": "code",
   "execution_count": 8,
   "metadata": {},
   "outputs": [],
   "source": [
    "# BIGRAMS AND TRIGRAMS\n",
    "\n",
    "# min_count - ignore all words/bigrams with total collected count lower than this value.\n",
    "# threshold - score for forming phrases play around with this -> related to scoring function\n",
    "bigrams_phrases = gensim.models.Phrases(data_words, min_count=5, threshold=1) \n",
    "\n",
    "# First arg checks ensures no overlap between bigraph phrases and trigram phrases.\n",
    "trigram_phrases = gensim.models.Phrases(bigrams_phrases[data_words], threshold=1)\n",
    "\n",
    "# Create function pointer i.e. phraser that converts document to list of bigram\n",
    "bigram = gensim.models.phrases.Phraser(bigrams_phrases)\n",
    "trigram = gensim.models.phrases.Phraser(trigram_phrases)\n",
    "\n",
    "def make_bigrams(texts):\n",
    "    return([bigram[doc] for doc in texts])\n",
    "\n",
    "def make_trigrams(texts):\n",
    "    return ([trigram[bigram[doc]] for doc in texts])\n",
    "\n",
    "data_bigrams = make_bigrams(data_words)\n",
    "data_bigrams_trigrams = make_trigrams(data_bigrams)\n",
    "\n",
    "# print(data_bigrams_trigrams[0])\n",
    "\n",
    "# new_words = []\n",
    "# for word in data_bigrams_trigrams[0]:\n",
    "#     if '_' in word:\n",
    "#         new_words.append(word)\n",
    "# print(data_bigrams)\n"
   ]
  },
  {
   "cell_type": "code",
   "execution_count": 9,
   "metadata": {},
   "outputs": [
    {
     "name": "stdout",
     "output_type": "stream",
     "text": [
      "[(0, 1), (1, 1), (2, 1), (3, 1), (4, 1), (5, 1), (6, 1), (7, 1), (8, 1), (9, 1), (10, 1), (11, 1), (12, 1), (13, 1), (14, 1), (15, 1), (16, 1), (17, 1), (18, 1), (19, 1)]\n"
     ]
    }
   ],
   "source": [
    "# TF-IDF Removal - to remove words that are not important to the topic\n",
    "from gensim.models import TfidfModel\n",
    "\n",
    "id2word = corpora.Dictionary(data_bigrams_trigrams)\n",
    "\n",
    "texts = data_bigrams_trigrams\n",
    "\n",
    "corpus = [id2word.doc2bow(text) for text in texts]\n",
    "print(corpus[0][0:20])\n",
    "\n",
    "tfidf = TfidfModel(corpus, id2word=id2word)\n",
    "\n",
    "# Goes through words and looks at words that occur too frequentely and removes them\n",
    "# Corpus becomes new corpus where those irrelevant words are removed\n",
    "low_value = 0.03\n",
    "words = []\n",
    "words_missing_in_tfidf = []\n",
    "for i in range(0, len(corpus)):\n",
    "    bow = corpus[i]\n",
    "    low_value_words = []\n",
    "    tfidf_ids = [id for id, value in tfidf[bow]]\n",
    "    bow_ids = [id for id, value in bow]\n",
    "    low_value_words = [id for id, value in tfidf[bow] if value < low_value]\n",
    "    drops = low_value_words + words_missing_in_tfidf\n",
    "    for item in drops:\n",
    "        words.append(id2word[item])\n",
    "    words_missing_in_tfidf = [id for id in bow_ids if id not in tfidf_ids]\n",
    "\n",
    "    new_bow = [b for b in bow if b[0] not in low_value_words and b[0] not in words_missing_in_tfidf]\n",
    "    corpus[i] = new_bow\n",
    "\n",
    "\n"
   ]
  },
  {
   "cell_type": "code",
   "execution_count": 10,
   "metadata": {},
   "outputs": [],
   "source": [
    "# id2word = corpora.Dictionary(data_words)\n",
    "# corpus = []\n",
    "# for text in data_words:\n",
    "#     new = id2word.doc2bow(text) # Create a bag of words all (word: f pairs) for 1 doc\n",
    "#     corpus.append(new)\n",
    "\n",
    "# print(corpus[0][0:20])\n",
    "# #(0,2) - 0 = index of word in the dictionary, 2 = frequency of word in that text\n",
    "\n",
    "# word = id2word[[0][:1][0]] # i.e. text 1 -> first tuple -> first value in tuple\n",
    "# print(word) # i.e. able is the first element in teh dictionary "
   ]
  },
  {
   "cell_type": "code",
   "execution_count": 11,
   "metadata": {},
   "outputs": [],
   "source": [
    "lda_model = gensim.models.LdaModel(corpus=corpus\n",
    "                                    ,id2word=id2word\n",
    "                                    ,num_topics=10\n",
    "                                    ,random_state=100\n",
    "                                    ,update_every=1\n",
    "                                    ,chunksize=100\n",
    "                                    ,passes=10\n",
    "                                    ,alpha=\"auto\")"
   ]
  },
  {
   "cell_type": "markdown",
   "metadata": {},
   "source": [
    "### Idea\n",
    "I think I can separate the review data set into one star vs 5 star reviews and look at if there are any differences in the topics that are mentioned."
   ]
  },
  {
   "cell_type": "code",
   "execution_count": 12,
   "metadata": {},
   "outputs": [
    {
     "name": "stderr",
     "output_type": "stream",
     "text": [
      "/root/miniconda3/lib/python3.9/site-packages/pyLDAvis/_prepare.py:246: FutureWarning: In a future version of pandas all arguments of DataFrame.drop except for the argument 'labels' will be keyword-only.\n",
      "  default_term_info = default_term_info.sort_values(\n",
      "/root/miniconda3/lib/python3.9/site-packages/past/builtins/misc.py:45: DeprecationWarning: the imp module is deprecated in favour of importlib; see the module's documentation for alternative uses\n",
      "  from imp import reload\n",
      "/root/miniconda3/lib/python3.9/site-packages/past/builtins/misc.py:45: DeprecationWarning: the imp module is deprecated in favour of importlib; see the module's documentation for alternative uses\n",
      "  from imp import reload\n",
      "/root/miniconda3/lib/python3.9/site-packages/past/builtins/misc.py:45: DeprecationWarning: the imp module is deprecated in favour of importlib; see the module's documentation for alternative uses\n",
      "  from imp import reload\n",
      "/root/miniconda3/lib/python3.9/site-packages/past/builtins/misc.py:45: DeprecationWarning: the imp module is deprecated in favour of importlib; see the module's documentation for alternative uses\n",
      "  from imp import reload\n",
      "/root/miniconda3/lib/python3.9/site-packages/past/builtins/misc.py:45: DeprecationWarning: the imp module is deprecated in favour of importlib; see the module's documentation for alternative uses\n",
      "  from imp import reload\n",
      "/root/miniconda3/lib/python3.9/site-packages/past/builtins/misc.py:45: DeprecationWarning: the imp module is deprecated in favour of importlib; see the module's documentation for alternative uses\n",
      "  from imp import reload\n",
      "/root/miniconda3/lib/python3.9/site-packages/past/builtins/misc.py:45: DeprecationWarning: the imp module is deprecated in favour of importlib; see the module's documentation for alternative uses\n",
      "  from imp import reload\n",
      "/root/miniconda3/lib/python3.9/site-packages/past/builtins/misc.py:45: DeprecationWarning: the imp module is deprecated in favour of importlib; see the module's documentation for alternative uses\n",
      "  from imp import reload\n"
     ]
    },
    {
     "data": {
      "text/html": [
       "\n",
       "<link rel=\"stylesheet\" type=\"text/css\" href=\"https://cdn.jsdelivr.net/gh/bmabey/pyLDAvis@3.3.1/pyLDAvis/js/ldavis.v1.0.0.css\">\n",
       "\n",
       "\n",
       "<div id=\"ldavis_el172541401857565400325130490586\"></div>\n",
       "<script type=\"text/javascript\">\n",
       "\n",
       "var ldavis_el172541401857565400325130490586_data = {\"mdsDat\": {\"x\": [-0.44289014480400796, -0.10176697530555277, -0.3484930960935441, 0.19945354301954735, 0.4056173411879047, 0.3364129229943742, 0.14727533152810068, 0.07164796708985764, -0.10295040658822407, -0.16430648302845574], \"y\": [-0.11890973337381149, 0.4119782573766808, 0.23695282548611749, -0.1983141759017487, -0.09770691466516782, 0.17264457594008112, 0.29290122854403705, -0.38959776488601827, -0.008835439772093135, -0.3011128587480771], \"topics\": [1, 2, 3, 4, 5, 6, 7, 8, 9, 10], \"cluster\": [1, 1, 1, 1, 1, 1, 1, 1, 1, 1], \"Freq\": [26.07162920874805, 18.5327793484911, 15.732906150506878, 6.988090492515721, 6.963277612272041, 6.781559326972038, 5.177110245439014, 5.080533524626891, 4.435704196291758, 4.2364098941365125]}, \"tinfo\": {\"Term\": [\"app\", \"customer_service\", \"fee\", \"etoro\", \"money\", \"use\", \"get\", \"just\", \"make\", \"deposit\", \"say\", \"more\", \"then\", \"fund\", \"only\", \"time\", \"platform\", \"see\", \"take\", \"trade\", \"wallet\", \"buy\", \"company\", \"spread\", \"support\", \"even\", \"withdraw\", \"find\", \"account\", \"give\", \"use\", \"get\", \"time\", \"trade\", \"need\", \"try\", \"crypto\", \"trading\", \"also\", \"money\", \"good\", \"bad\", \"very\", \"look\", \"scam\", \"coin\", \"thing\", \"service\", \"think\", \"way\", \"invest\", \"well\", \"never\", \"password\", \"order\", \"change\", \"exchange\", \"bank\", \"sign\", \"here\", \"app\", \"want\", \"so\", \"sell\", \"now\", \"go\", \"tell\", \"account\", \"say\", \"then\", \"withdraw\", \"give\", \"stock\", \"still\", \"take\", \"ask\", \"other\", \"let\", \"send\", \"transfer\", \"issue\", \"same\", \"put\", \"know\", \"reason\", \"again\", \"back\", \"really\", \"week\", \"verify\", \"first\", \"show\", \"long\", \"recommend\", \"do\", \"day\", \"keep\", \"number\", \"only\", \"even\", \"account\", \"etoro\", \"make\", \"more\", \"platform\", \"buy\", \"work\", \"people\", \"high\", \"lose\", \"profit\", \"withdrawal\", \"pay\", \"market\", \"star\", \"new\", \"ad\", \"customer\", \"instead\", \"move\", \"own\", \"minimum\", \"happen\", \"block\", \"download\", \"rate\", \"understand\", \"load\", \"less\", \"register\", \"care\", \"email\", \"price\", \"update\", \"just\", \"even\", \"customer_service\", \"company\", \"charge\", \"amount\", \"many\", \"stop\", \"question\", \"share\", \"great\", \"accept\", \"read\", \"trust\", \"clear\", \"brokerage\", \"horrible\", \"like\", \"wait_day\", \"fine\", \"full\", \"cancel\", \"consider\", \"report\", \"ago\", \"totally\", \"personal\", \"business\", \"careful\", \"make_money\", \"short\", \"next\", \"deposit\", \"fund\", \"support\", \"available\", \"withdraw_money\", \"verification\", \"run\", \"reply\", \"much\", \"bank_account\", \"receive\", \"close_account\", \"country\", \"dollar\", \"cash\", \"come\", \"check\", \"case\", \"currency\", \"however\", \"almost\", \"message\", \"beware\", \"definitely\", \"take_day\", \"internet\", \"get_money_back\", \"steal\", \"buy_crypto\", \"put_money\", \"find\", \"provide\", \"log\", \"phone\", \"call\", \"ever\", \"useless\", \"access\", \"there\", \"document\", \"wrong\", \"place\", \"transaction\", \"avoid\", \"screen\", \"unable\", \"cost\", \"second\", \"ticket\", \"rating\", \"response\", \"little\", \"error\", \"mean\", \"detail\", \"last\", \"mark\", \"follow\", \"notice\", \"ridiculous\", \"fee\", \"chart\", \"add\", \"one\", \"easy\", \"awful\", \"open\", \"broker\", \"asset\", \"site\", \"far\", \"design\", \"financial\", \"yet\", \"single\", \"opportunity\", \"super\", \"expensive\", \"limited\", \"mention\", \"forever\", \"green\", \"profit_loss\", \"reject\", \"become\", \"new_update\", \"unacceptable\", \"competitor\", \"news\", \"hit\", \"wallet\", \"spread\", \"loss\", \"option\", \"close\", \"fix\", \"webull\", \"miss\", \"remove\", \"stop_loss\", \"require\", \"possible\", \"else\", \"gain\", \"redirect\", \"team\", \"bad_app\", \"huge\", \"close_market\", \"quick\", \"hell\", \"non\", \"button\", \"half\", \"automatically\", \"binance\", \"down\", \"literally\", \"immediately\", \"home\", \"see\", \"stay_away\", \"investment\", \"lot\", \"slow\", \"suck\", \"very_poor\", \"hard\", \"complicated\", \"value\", \"small\", \"commission\", \"easily\", \"name\", \"interface\", \"list\", \"wish\", \"as_soon\", \"advertising\", \"connection\", \"nice\", \"fast\", \"search\", \"basically\", \"reset\", \"leverage\", \"view\", \"spend\", \"other_app\", \"balance\", \"user\", \"answer\", \"terrible\", \"copy\", \"process\", \"notification\", \"open_account\", \"end\", \"contact\", \"poor\", \"stick\", \"lie\", \"verify_account\", \"also_take\", \"top\", \"compare_other\", \"download_app\", \"stupid\", \"completely\", \"still_get\", \"stay\", \"bunch\", \"region\", \"legal\", \"disappear\", \"trash\", \"respond\", \"focus\", \"limit\", \"bank_statement\"], \"Freq\": [786.0, 257.0, 201.0, 321.0, 445.0, 417.0, 410.0, 335.0, 265.0, 171.0, 252.0, 229.0, 251.0, 155.0, 294.0, 306.0, 217.0, 124.0, 235.0, 294.0, 126.0, 208.0, 140.0, 124.0, 138.0, 344.0, 206.0, 125.0, 392.0, 199.0, 416.2687522815577, 409.7383919493768, 305.99354300094205, 293.6979128635211, 247.48891594627648, 226.90789161502536, 223.1760533531037, 200.7673962588622, 193.71046463226963, 443.6274826755239, 174.66969604454223, 166.71030912768188, 157.86391647622514, 154.79779740295237, 145.3515595133268, 140.04702526196638, 139.67650339549004, 138.27398177812478, 134.71157916261384, 128.20693412548698, 125.00464753392681, 120.19870215833835, 118.62766193331612, 106.56590851973313, 104.08422333890587, 100.72933895138638, 99.29047330507778, 97.54865371713755, 95.62284686089497, 86.08207119140894, 756.2336647635001, 248.30536064342905, 281.13099209477264, 167.55425225079858, 202.7925489800979, 245.60300027582346, 128.46699103208056, 198.1855500674829, 252.11420752021223, 250.6864522816072, 206.02457935402416, 198.28644618249783, 198.10207600862782, 193.22359992301483, 234.4126065780701, 176.15108841129816, 154.40361057473504, 150.85208548907713, 145.9803453791742, 144.77945852678178, 136.54346975267552, 124.48646254212488, 122.15410379133054, 119.16696112212003, 119.16446229242113, 118.02927836439403, 117.67417293522837, 114.62224176846266, 112.64105007393901, 112.07278360698137, 103.21550971839326, 101.4304761552322, 100.15732242364955, 99.18905307652342, 93.10018372118533, 164.51760567351639, 85.28288472760443, 82.90205230214401, 264.1580958748437, 258.7829140104615, 193.685177226307, 321.09036786615405, 264.9267531990123, 228.24618225939832, 216.7439540075365, 208.07669346445454, 171.35255871883334, 171.16516056815104, 137.35203804377178, 132.25161407602167, 119.37075430557908, 119.32427753512646, 118.46740483284741, 100.33501586774904, 95.43354199147672, 79.54857042636856, 70.05186055077353, 68.5916352840325, 68.53918655217065, 68.13602151263163, 66.69873103719713, 65.03357603164707, 64.9247510617713, 63.528146014547666, 59.97661595291789, 59.74958534534142, 59.4232526252715, 59.02943366690834, 57.74318693100337, 53.082539892332726, 52.46547948594876, 106.0486226942242, 154.49272017660095, 125.24564251971391, 309.631918626116, 64.01429979709351, 256.4937736921335, 139.50341680418492, 107.25603921480183, 105.72297085915369, 82.63664896172698, 71.83113070463091, 67.934634313192, 65.55331765779549, 56.997221625090525, 55.98206635947477, 51.649825043135344, 48.454524987796354, 48.07540232335023, 44.53469487211979, 43.682947367200434, 40.113184564545456, 39.162551228423744, 38.569451314307926, 37.06945983563692, 35.00306140405189, 32.415004879436864, 32.02611516524035, 31.665959899750252, 31.347388847126137, 30.613801819648472, 30.412408053159464, 28.858054288495698, 28.4214780890009, 28.128637289424223, 27.772390892149506, 170.35524628269832, 154.2803381615357, 138.05342682494907, 97.43601368380217, 86.19442273649554, 83.17483008118975, 78.2139545738818, 74.8041214551661, 68.46328371569999, 67.4591045647668, 65.11909731731488, 61.68098215730846, 59.453558797101905, 55.1625771489784, 54.89569727558137, 53.88895321496173, 52.96020758166411, 42.38980315359612, 40.5017710923523, 38.85575220714741, 35.18766261829088, 35.013190930083006, 29.179007897116936, 27.01441121728066, 25.61870574635736, 24.75057566438996, 24.027706555142885, 23.983150604117387, 23.708553890370577, 23.529641234529187, 124.47419574925233, 106.82516053257166, 102.42509508876964, 93.07576769662846, 78.37890056869037, 65.58212374333775, 63.87340343621643, 60.23496168532428, 55.543365435295904, 55.53132944067086, 55.394444434913154, 53.72974346734125, 53.55253307579327, 52.12156164876558, 50.821452260738546, 49.67027712494632, 49.26538666331527, 48.3357725549217, 48.177870111811586, 43.52504546792055, 40.24010349640683, 39.18584909355041, 38.37905314996272, 36.35175500657957, 35.74322996041144, 34.8584501804684, 33.61421722661315, 30.614421981600366, 28.925947191449502, 28.737770892329568, 201.02310448020677, 76.52979615440726, 69.59871865187026, 67.65837568567007, 64.56018825559843, 63.08232043787925, 62.10819336556662, 61.67573415875715, 47.957325872662146, 44.18309182642242, 36.942385772891534, 36.93465163490438, 29.5926556885522, 25.51127671574743, 24.816097086540466, 23.366434339727988, 21.5099124334265, 21.485470736399733, 21.398321316268493, 21.304527821417746, 20.9498601830219, 20.808050792263337, 20.09144168262303, 20.01631710194893, 19.69067271419781, 19.67351876033978, 19.24448149228002, 19.08883765587406, 18.683368263822572, 17.75192437651328, 125.95410624991463, 123.56889438176711, 90.73174035336143, 84.75449396487268, 71.95637994331305, 61.32044309651865, 46.80081555859502, 46.63825652053926, 44.99550084275449, 44.92118076464985, 44.32880427248478, 42.26947492688399, 41.67733670373769, 39.34599597155267, 36.700410669206455, 33.591354895818625, 31.785598389505797, 31.121028866622396, 26.441129983677286, 26.034638073717968, 25.222870418582634, 24.854513961471223, 24.81224603032902, 24.57856120820151, 23.97157088288522, 22.56867268399547, 22.348675920602496, 21.95580505621619, 21.839979011435624, 20.993600299355016, 123.61829349800486, 72.22912916664352, 64.7863155390932, 64.22784394086467, 51.97529492447501, 50.895267948392714, 44.6655885845943, 39.00411044038403, 36.19645375730401, 36.05616951953573, 35.44087606578557, 32.9871284005398, 32.74060276499427, 32.624789933465244, 32.10954039039021, 31.819240126540475, 30.89190753110544, 30.036849336830244, 26.17719522160708, 24.83970382854865, 22.513806421703343, 21.14283559657225, 21.123714398604022, 20.396064404208712, 20.098389997488866, 20.042627782244477, 19.12809321437068, 18.800631864397058, 18.6218690327573, 18.213101419301584, 83.34578941170747, 75.97687853342187, 69.89290358755585, 62.99569025953119, 54.76998433992533, 52.44070268831122, 48.34328475483288, 40.66017651043132, 38.86073970052565, 38.438360556984314, 38.087212673303455, 36.344830409618766, 31.990811889672248, 31.092724324186268, 30.179803984006227, 28.886426180793123, 26.89597419394275, 26.11190672838975, 24.048954821027653, 24.02096771175073, 23.62402593862444, 23.274951787362085, 21.657645390655965, 21.022582429030418, 18.788214392631065, 18.502035179690523, 18.47502284882589, 18.308470263883937, 18.24731585347028, 17.450520389540213], \"Total\": [786.0, 257.0, 201.0, 321.0, 445.0, 417.0, 410.0, 335.0, 265.0, 171.0, 252.0, 229.0, 251.0, 155.0, 294.0, 306.0, 217.0, 124.0, 235.0, 294.0, 126.0, 208.0, 140.0, 124.0, 138.0, 344.0, 206.0, 125.0, 392.0, 199.0, 417.1428821170701, 410.6125340712405, 306.8677016835488, 294.5734477789816, 248.3631235300953, 227.78201154565488, 224.0502312822491, 201.64160508927344, 194.58465697117444, 445.77234789930435, 175.5438393848584, 167.58446674120484, 158.7380658905056, 155.67197436372663, 146.2257386548076, 140.92124299704074, 140.5507383303849, 139.1481792634856, 135.58576418253736, 129.08109365491015, 125.87884711290152, 121.07281008741082, 119.50181309734205, 107.44007951006888, 104.95839707692225, 101.60344724168375, 100.16466580569951, 98.42281032715968, 96.49696925366005, 86.95621687391093, 786.5941732589331, 259.17479631874545, 309.18343277844104, 180.1319260495955, 248.3568803802514, 334.0739764264093, 139.80733995271126, 392.6395714862148, 252.99011034775407, 251.56234138449673, 206.9006146342153, 199.16233947433014, 198.97793142858202, 194.09951237119387, 235.5541966676328, 177.02698004374076, 155.27952809531502, 151.72802071593094, 146.85626029992298, 145.65539462360218, 137.41935715760366, 125.36244214706389, 123.03006530513699, 120.04287741181759, 120.0403985752633, 118.90518557541178, 118.55008467332986, 115.49814897665775, 113.51696375033599, 112.94871447854153, 104.09148464269204, 102.30636356595299, 101.03328906375026, 100.06507416289276, 93.97612060189773, 166.19118819924313, 86.1587860202343, 83.77796049367217, 294.09529654207836, 344.36460144259155, 392.6395714862148, 321.9672694570779, 265.80352857970615, 229.12293285158117, 217.62071915152788, 208.9534334867053, 172.22931187240104, 172.04194683826643, 138.228865530801, 133.13456813455207, 120.24758695816199, 120.2011443974564, 119.34420219877731, 101.21176035918239, 96.31027820255687, 80.42528130570949, 70.92859872711595, 69.46840427874389, 69.41591844098411, 69.01273352674731, 67.5755065835325, 65.91044678802368, 65.80149542420487, 64.404988251907, 60.85334284151536, 60.626364594222366, 60.300055894001, 59.906208636579855, 58.619974235330275, 53.95933981848961, 53.342309082673395, 108.17893606837893, 159.90376258165287, 129.96004132815906, 335.09427454684584, 344.36460144259155, 257.3737452287801, 140.3832878570629, 108.13596121083515, 106.60295207003166, 83.51661066265288, 72.71102798419072, 68.81460201865437, 66.4331271752307, 57.8771300175796, 56.86195696114635, 52.52983867959358, 49.33442357621169, 48.95530103798612, 45.414736574983024, 44.562803233788536, 40.99305032177513, 40.04293876187236, 39.44938662055593, 37.94934993101315, 35.8831831325088, 33.29495408414576, 32.90605114464537, 32.546080682757506, 32.227503743338914, 31.4937680897723, 31.292264735323876, 29.738044893378074, 29.301425065767155, 29.008482448797118, 28.652398977975064, 171.24080472432462, 155.16596940786187, 138.93904131088027, 98.32162915591793, 87.08012578570953, 84.06048270080868, 79.09995877867645, 75.68983301298825, 69.34895049170993, 68.34465952340571, 66.00469209533122, 62.56659017861424, 60.339179719142386, 56.04814977546221, 55.781214773838514, 54.77460255702708, 53.845819373276214, 43.27556949290728, 41.387558803911425, 39.74138697273059, 36.0732714641029, 35.89875889574745, 30.06469226388101, 27.89999929051569, 26.5043555129153, 25.636506490781997, 24.913334667726907, 24.868658787313063, 24.594103256113307, 24.415226242909448, 125.35593810020437, 107.7069653505225, 103.30686845817283, 93.95750782083442, 79.26073800230654, 66.46389814384656, 64.75530365178861, 61.11677903080185, 56.42509122111237, 56.41315317058479, 56.27624008112622, 54.61150989254828, 54.434390361936615, 53.00339987392973, 51.703199158311556, 50.55206263625647, 50.147153255684046, 49.21763828374916, 49.05971708033326, 44.407040827809546, 41.12192976567133, 40.067737385116594, 39.26081351242453, 37.23348437396544, 36.62507110722061, 35.74025062024111, 34.496318859787735, 31.49643888120741, 29.80777957508388, 29.619514740650374, 201.91011049104014, 77.4166449829211, 70.48562728218616, 68.54549995689148, 65.44716521035528, 63.96929490263637, 62.99508614759277, 62.56267488414984, 48.8442898833218, 45.07005322362434, 37.829393356396906, 37.82164046532196, 30.479719816534566, 26.398206993676116, 25.70319362138411, 24.253430685873994, 22.39696698190328, 22.372535563767894, 22.285298028719243, 22.191636739955474, 21.83682059887702, 21.695138689991726, 20.979494697134896, 20.903449249652226, 20.57763524042912, 20.56044861349141, 20.131914164691494, 19.975999078123632, 19.570315677686338, 18.63885328574733, 126.839402263911, 124.45424340153369, 91.61706318729334, 85.63966596631501, 72.84162373783555, 62.20571360690555, 47.68592903887221, 47.52354868620154, 45.88075046521358, 45.806504619183784, 45.214082059360834, 43.1548450218424, 42.562572480757225, 40.231328466598605, 37.58639794132734, 34.47667257881886, 32.6709504172262, 32.006319011579215, 27.3266987035152, 26.919991664026387, 26.108318483194676, 25.73988935033465, 25.69744602405531, 25.464018750192807, 24.856928599573216, 23.454179217801368, 23.233892032249088, 22.841054868382017, 22.72521447289061, 21.8790154355596, 124.50800022282132, 73.11888654545336, 65.67611565563136, 65.11756948572715, 52.86501869055438, 51.7850113329596, 45.55559232822258, 39.89384394720801, 37.086373616562945, 36.94595957322119, 36.33066903903577, 33.87689807140916, 33.63064861690206, 33.514598209015944, 32.999176990213755, 32.70896981189537, 31.781768667158683, 30.92674702453563, 27.06707104855587, 25.729550492388626, 23.403587640932912, 22.03257197867476, 22.01340850144714, 21.285820019227398, 20.98836226903656, 20.93267399733215, 20.01777992340584, 19.690329591968943, 19.511616478132073, 19.10282290829344, 84.24069987906304, 76.87190265942202, 70.78786842032707, 63.8906710525452, 55.665072775824385, 53.33578767893369, 49.238266630664015, 41.55520199550236, 39.75578242593112, 39.33329685115611, 38.98220483226589, 37.23982665773994, 32.885901543301614, 31.988296156935046, 31.07479163020642, 29.781642077935686, 27.791093485897417, 27.006983630782752, 24.943909736778515, 24.91625626475733, 24.51898111557729, 24.170074186710917, 22.552624538480977, 21.917909195454293, 19.68324204527746, 19.396951679313414, 19.369913363493918, 19.206361933886303, 19.142274048262287, 18.345505914248672], \"Category\": [\"Default\", \"Default\", \"Default\", \"Default\", \"Default\", \"Default\", \"Default\", \"Default\", \"Default\", \"Default\", \"Default\", \"Default\", \"Default\", \"Default\", \"Default\", \"Default\", \"Default\", \"Default\", \"Default\", \"Default\", \"Default\", \"Default\", \"Default\", \"Default\", \"Default\", \"Default\", \"Default\", \"Default\", \"Default\", \"Default\", \"Topic1\", \"Topic1\", \"Topic1\", \"Topic1\", \"Topic1\", \"Topic1\", \"Topic1\", \"Topic1\", \"Topic1\", \"Topic1\", \"Topic1\", \"Topic1\", \"Topic1\", \"Topic1\", \"Topic1\", \"Topic1\", \"Topic1\", \"Topic1\", \"Topic1\", \"Topic1\", \"Topic1\", \"Topic1\", \"Topic1\", \"Topic1\", \"Topic1\", \"Topic1\", \"Topic1\", \"Topic1\", \"Topic1\", \"Topic1\", \"Topic1\", \"Topic1\", \"Topic1\", \"Topic1\", \"Topic1\", \"Topic1\", \"Topic1\", \"Topic1\", \"Topic2\", \"Topic2\", \"Topic2\", \"Topic2\", \"Topic2\", \"Topic2\", \"Topic2\", \"Topic2\", \"Topic2\", \"Topic2\", \"Topic2\", \"Topic2\", \"Topic2\", \"Topic2\", \"Topic2\", \"Topic2\", \"Topic2\", \"Topic2\", \"Topic2\", \"Topic2\", \"Topic2\", \"Topic2\", \"Topic2\", \"Topic2\", \"Topic2\", \"Topic2\", \"Topic2\", \"Topic2\", \"Topic2\", \"Topic2\", \"Topic2\", \"Topic2\", \"Topic2\", \"Topic3\", \"Topic3\", \"Topic3\", \"Topic3\", \"Topic3\", \"Topic3\", \"Topic3\", \"Topic3\", \"Topic3\", \"Topic3\", \"Topic3\", \"Topic3\", \"Topic3\", \"Topic3\", \"Topic3\", \"Topic3\", \"Topic3\", \"Topic3\", \"Topic3\", \"Topic3\", \"Topic3\", \"Topic3\", \"Topic3\", \"Topic3\", \"Topic3\", \"Topic3\", \"Topic3\", \"Topic3\", \"Topic3\", \"Topic3\", \"Topic3\", \"Topic3\", \"Topic3\", \"Topic3\", \"Topic3\", \"Topic4\", \"Topic4\", \"Topic4\", \"Topic4\", \"Topic4\", \"Topic4\", \"Topic4\", \"Topic4\", \"Topic4\", \"Topic4\", \"Topic4\", \"Topic4\", \"Topic4\", \"Topic4\", \"Topic4\", \"Topic4\", \"Topic4\", \"Topic4\", \"Topic4\", \"Topic4\", \"Topic4\", \"Topic4\", \"Topic4\", \"Topic4\", \"Topic4\", \"Topic4\", \"Topic4\", \"Topic4\", \"Topic4\", \"Topic4\", \"Topic5\", \"Topic5\", \"Topic5\", \"Topic5\", \"Topic5\", \"Topic5\", \"Topic5\", \"Topic5\", \"Topic5\", \"Topic5\", \"Topic5\", \"Topic5\", \"Topic5\", \"Topic5\", \"Topic5\", \"Topic5\", \"Topic5\", \"Topic5\", \"Topic5\", \"Topic5\", \"Topic5\", \"Topic5\", \"Topic5\", \"Topic5\", \"Topic5\", \"Topic5\", \"Topic5\", \"Topic5\", \"Topic5\", \"Topic5\", \"Topic6\", \"Topic6\", \"Topic6\", \"Topic6\", \"Topic6\", \"Topic6\", \"Topic6\", \"Topic6\", \"Topic6\", \"Topic6\", \"Topic6\", \"Topic6\", \"Topic6\", \"Topic6\", \"Topic6\", \"Topic6\", \"Topic6\", \"Topic6\", \"Topic6\", \"Topic6\", \"Topic6\", \"Topic6\", \"Topic6\", \"Topic6\", \"Topic6\", \"Topic6\", \"Topic6\", \"Topic6\", \"Topic6\", \"Topic6\", \"Topic7\", \"Topic7\", \"Topic7\", \"Topic7\", \"Topic7\", \"Topic7\", \"Topic7\", \"Topic7\", \"Topic7\", \"Topic7\", \"Topic7\", \"Topic7\", \"Topic7\", \"Topic7\", \"Topic7\", \"Topic7\", \"Topic7\", \"Topic7\", \"Topic7\", \"Topic7\", \"Topic7\", \"Topic7\", \"Topic7\", \"Topic7\", \"Topic7\", \"Topic7\", \"Topic7\", \"Topic7\", \"Topic7\", \"Topic7\", \"Topic8\", \"Topic8\", \"Topic8\", \"Topic8\", \"Topic8\", \"Topic8\", \"Topic8\", \"Topic8\", \"Topic8\", \"Topic8\", \"Topic8\", \"Topic8\", \"Topic8\", \"Topic8\", \"Topic8\", \"Topic8\", \"Topic8\", \"Topic8\", \"Topic8\", \"Topic8\", \"Topic8\", \"Topic8\", \"Topic8\", \"Topic8\", \"Topic8\", \"Topic8\", \"Topic8\", \"Topic8\", \"Topic8\", \"Topic8\", \"Topic9\", \"Topic9\", \"Topic9\", \"Topic9\", \"Topic9\", \"Topic9\", \"Topic9\", \"Topic9\", \"Topic9\", \"Topic9\", \"Topic9\", \"Topic9\", \"Topic9\", \"Topic9\", \"Topic9\", \"Topic9\", \"Topic9\", \"Topic9\", \"Topic9\", \"Topic9\", \"Topic9\", \"Topic9\", \"Topic9\", \"Topic9\", \"Topic9\", \"Topic9\", \"Topic9\", \"Topic9\", \"Topic9\", \"Topic9\", \"Topic10\", \"Topic10\", \"Topic10\", \"Topic10\", \"Topic10\", \"Topic10\", \"Topic10\", \"Topic10\", \"Topic10\", \"Topic10\", \"Topic10\", \"Topic10\", \"Topic10\", \"Topic10\", \"Topic10\", \"Topic10\", \"Topic10\", \"Topic10\", \"Topic10\", \"Topic10\", \"Topic10\", \"Topic10\", \"Topic10\", \"Topic10\", \"Topic10\", \"Topic10\", \"Topic10\", \"Topic10\", \"Topic10\", \"Topic10\"], \"logprob\": [30.0, 29.0, 28.0, 27.0, 26.0, 25.0, 24.0, 23.0, 22.0, 21.0, 20.0, 19.0, 18.0, 17.0, 16.0, 15.0, 14.0, 13.0, 12.0, 11.0, 10.0, 9.0, 8.0, 7.0, 6.0, 5.0, 4.0, 3.0, 2.0, 1.0, -3.4921, -3.5079, -3.7998, -3.8408, -4.012, -4.0988, -4.1154, -4.2212, -4.257, -3.4284, -4.3605, -4.4071, -4.4617, -4.4813, -4.5442, -4.5814, -4.5841, -4.5942, -4.6203, -4.6697, -4.695, -4.7342, -4.7474, -4.8546, -4.8782, -4.911, -4.9253, -4.943, -4.963, -5.0681, -2.895, -4.0087, -3.8846, -4.4021, -4.2112, -4.0197, -4.6677, -4.2342, -3.6522, -3.6579, -3.8541, -3.8924, -3.8933, -3.9182, -3.725, -4.0107, -4.1425, -4.1658, -4.1986, -4.2069, -4.2654, -4.3579, -4.3768, -4.4016, -4.4016, -4.4111, -4.4142, -4.4404, -4.4579, -4.4629, -4.5453, -4.5627, -4.5753, -4.5851, -4.6484, -4.0791, -4.7361, -4.7644, -3.6055, -3.6261, -3.9158, -3.2466, -3.4388, -3.5879, -3.6396, -3.6804, -3.8746, -3.8757, -4.0957, -4.1336, -4.2361, -4.2365, -4.2437, -4.4098, -4.4599, -4.6419, -4.7691, -4.7901, -4.7909, -4.7968, -4.8181, -4.8434, -4.8451, -4.8668, -4.9243, -4.9281, -4.9336, -4.9403, -4.9623, -5.0464, -5.0581, -4.3544, -3.9781, -4.188, -3.2829, -4.8592, -2.6596, -3.2687, -3.5315, -3.5459, -3.7923, -3.9324, -3.9882, -4.0239, -4.1637, -4.1817, -4.2623, -4.3261, -4.334, -4.4105, -4.4298, -4.515, -4.539, -4.5543, -4.594, -4.6513, -4.7281, -4.7402, -4.7515, -4.7616, -4.7853, -4.7919, -4.8444, -4.8596, -4.87, -4.8827, -3.0653, -3.1644, -3.2756, -3.624, -3.7466, -3.7822, -3.8437, -3.8883, -3.9769, -3.9917, -4.027, -4.0812, -4.118, -4.1929, -4.1978, -4.2163, -4.2337, -4.4563, -4.5018, -4.5433, -4.6425, -4.6475, -4.8297, -4.9068, -4.9599, -4.9943, -5.024, -5.0258, -5.0374, -5.0449, -3.3526, -3.5056, -3.5476, -3.6433, -3.8152, -3.9934, -4.0198, -4.0785, -4.1596, -4.1598, -4.1623, -4.1928, -4.1961, -4.2232, -4.2484, -4.2713, -4.2795, -4.2986, -4.3018, -4.4034, -4.4819, -4.5084, -4.5292, -4.5835, -4.6004, -4.6255, -4.6618, -4.7553, -4.812, -4.8185, -2.6034, -3.5691, -3.664, -3.6923, -3.7392, -3.7623, -3.7779, -3.7849, -4.0365, -4.1184, -4.2974, -4.2976, -4.5193, -4.6677, -4.6953, -4.7555, -4.8383, -4.8394, -4.8435, -4.8479, -4.8647, -4.8714, -4.9065, -4.9102, -4.9266, -4.9275, -4.9496, -4.9577, -4.9792, -5.0303, -3.052, -3.0712, -3.38, -3.4482, -3.6119, -3.7718, -4.0421, -4.0455, -4.0814, -4.083, -4.0963, -4.1439, -4.158, -4.2156, -4.2852, -4.3737, -4.4289, -4.4501, -4.613, -4.6285, -4.6602, -4.6749, -4.6766, -4.6861, -4.7111, -4.7714, -4.7812, -4.7989, -4.8042, -4.8437, -2.935, -3.4724, -3.5811, -3.5898, -3.8015, -3.8225, -3.953, -4.0886, -4.1633, -4.1671, -4.1844, -4.2561, -4.2636, -4.2672, -4.2831, -4.2922, -4.3217, -4.3498, -4.4873, -4.5398, -4.6381, -4.7009, -4.7018, -4.7369, -4.7516, -4.7544, -4.8011, -4.8183, -4.8279, -4.8501, -3.2833, -3.3758, -3.4593, -3.5632, -3.7031, -3.7466, -3.8279, -4.001, -4.0463, -4.0572, -4.0664, -4.1132, -4.2408, -4.2693, -4.2991, -4.3429, -4.4143, -4.4439, -4.5262, -4.5273, -4.544, -4.5589, -4.6309, -4.6607, -4.773, -4.7884, -4.7898, -4.7989, -4.8022, -4.8469], \"loglift\": [30.0, 29.0, 28.0, 27.0, 26.0, 25.0, 24.0, 23.0, 22.0, 21.0, 20.0, 19.0, 18.0, 17.0, 16.0, 15.0, 14.0, 13.0, 12.0, 11.0, 10.0, 9.0, 8.0, 7.0, 6.0, 5.0, 4.0, 3.0, 2.0, 1.0, 1.3422, 1.3422, 1.3415, 1.3413, 1.3408, 1.3405, 1.3404, 1.34, 1.3398, 1.3395, 1.3393, 1.3391, 1.3388, 1.3387, 1.3383, 1.3381, 1.3381, 1.338, 1.3379, 1.3375, 1.3374, 1.3371, 1.337, 1.3362, 1.336, 1.3357, 1.3356, 1.3354, 1.3352, 1.3342, 1.305, 1.3015, 1.2492, 1.2719, 1.1416, 1.0367, 1.2597, 0.6606, 1.6822, 1.6821, 1.6814, 1.6812, 1.6812, 1.6811, 1.6808, 1.6807, 1.68, 1.6798, 1.6796, 1.6796, 1.6792, 1.6786, 1.6785, 1.6783, 1.6783, 1.6782, 1.6782, 1.678, 1.6779, 1.6778, 1.6772, 1.677, 1.6769, 1.6768, 1.6763, 1.6755, 1.6754, 1.6751, 1.5783, 1.3999, 0.979, 1.8467, 1.8461, 1.8456, 1.8454, 1.8452, 1.8443, 1.8443, 1.8431, 1.8428, 1.8421, 1.8421, 1.842, 1.8407, 1.8403, 1.8385, 1.837, 1.8367, 1.8367, 1.8366, 1.8364, 1.836, 1.836, 1.8357, 1.8349, 1.8348, 1.8348, 1.8347, 1.8343, 1.833, 1.8328, 1.8295, 1.815, 1.8125, 1.7704, 0.1668, 2.6575, 2.6547, 2.6528, 2.6527, 2.6504, 2.6488, 2.6481, 2.6476, 2.6456, 2.6454, 2.6441, 2.643, 2.6428, 2.6414, 2.641, 2.6393, 2.6387, 2.6384, 2.6375, 2.6361, 2.6342, 2.6339, 2.6335, 2.6333, 2.6326, 2.6324, 2.6309, 2.6305, 2.6302, 2.6298, 2.6593, 2.6588, 2.6581, 2.6555, 2.6543, 2.6539, 2.6533, 2.6527, 2.6517, 2.6515, 2.651, 2.6503, 2.6497, 2.6486, 2.6485, 2.6482, 2.6479, 2.6438, 2.6429, 2.642, 2.6397, 2.6395, 2.6346, 2.6323, 2.6305, 2.6294, 2.6283, 2.6283, 2.6278, 2.6276, 2.6839, 2.6827, 2.6824, 2.6815, 2.6798, 2.6776, 2.6773, 2.6764, 2.6752, 2.6752, 2.6752, 2.6747, 2.6746, 2.6742, 2.6738, 2.6734, 2.6732, 2.6729, 2.6728, 2.6709, 2.6693, 2.6687, 2.6682, 2.667, 2.6666, 2.666, 2.6651, 2.6626, 2.6609, 2.6607, 2.9565, 2.9494, 2.9483, 2.9479, 2.9473, 2.947, 2.9467, 2.9466, 2.9426, 2.941, 2.9372, 2.9372, 2.9314, 2.9267, 2.9258, 2.9237, 2.9205, 2.9205, 2.9203, 2.9201, 2.9195, 2.9192, 2.9177, 2.9176, 2.9169, 2.9168, 2.9158, 2.9155, 2.9145, 2.9122, 2.9727, 2.9726, 2.97, 2.9694, 2.9675, 2.9654, 2.961, 2.9609, 2.9603, 2.9602, 2.96, 2.959, 2.9587, 2.9575, 2.9559, 2.9537, 2.9523, 2.9517, 2.9468, 2.9463, 2.9453, 2.9448, 2.9447, 2.9444, 2.9435, 2.9413, 2.9409, 2.9402, 2.94, 2.9384, 3.1083, 3.1032, 3.1018, 3.1017, 3.0985, 3.0982, 3.0958, 3.0929, 3.0912, 3.0911, 3.0907, 3.0889, 3.0887, 3.0886, 3.0882, 3.0879, 3.0871, 3.0863, 3.0821, 3.0803, 3.0767, 3.0743, 3.0742, 3.0728, 3.0722, 3.072, 3.07, 3.0692, 3.0688, 3.0678, 3.1508, 3.1497, 3.1487, 3.1473, 3.1452, 3.1445, 3.1431, 3.1397, 3.1387, 3.1384, 3.1382, 3.1371, 3.1339, 3.1331, 3.1322, 3.1309, 3.1287, 3.1277, 3.1249, 3.1249, 3.1243, 3.1237, 3.121, 3.1197, 3.1149, 3.1142, 3.1142, 3.1136, 3.1136, 3.1114]}, \"token.table\": {\"Topic\": [4, 6, 1, 2, 3, 7, 9, 2, 4, 5, 1, 10, 4, 10, 1, 2, 9, 2, 7, 8, 5, 6, 7, 2, 1, 8, 9, 1, 5, 10, 9, 7, 5, 8, 3, 7, 4, 10, 4, 8, 3, 5, 6, 4, 3, 4, 5, 5, 1, 4, 7, 5, 4, 8, 5, 8, 1, 5, 9, 4, 10, 7, 10, 9, 9, 4, 10, 10, 6, 5, 1, 5, 3, 4, 1, 2, 5, 5, 7, 6, 10, 2, 6, 5, 8, 3, 10, 9, 7, 8, 1, 3, 10, 6, 3, 1, 2, 3, 6, 1, 7, 7, 9, 7, 7, 6, 4, 2, 8, 10, 6, 7, 4, 5, 8, 1, 5, 2, 1, 2, 1, 4, 7, 8, 3, 9, 8, 1, 3, 7, 8, 4, 5, 8, 8, 3, 9, 5, 1, 9, 2, 2, 3, 2, 2, 6, 10, 3, 2, 9, 10, 4, 10, 7, 9, 8, 6, 3, 6, 2, 1, 3, 8, 9, 3, 4, 4, 6, 3, 6, 7, 5, 3, 8, 1, 2, 3, 3, 5, 9, 1, 1, 3, 7, 7, 4, 9, 8, 6, 10, 1, 3, 2, 7, 1, 2, 7, 10, 7, 8, 1, 2, 9, 3, 1, 3, 3, 4, 6, 6, 3, 10, 8, 1, 3, 10, 3, 7, 6, 2, 5, 4, 8, 3, 6, 4, 2, 2, 5, 2, 8, 10, 3, 7, 8, 5, 4, 8, 9, 10, 6, 6, 5, 2, 2, 1, 6, 9, 6, 9, 1, 3, 2, 1, 4, 4, 2, 1, 7, 7, 9, 9, 1, 2, 3, 9, 8, 3, 10, 9, 5, 10, 2, 10, 2, 4, 8, 10, 9, 7, 5, 2, 5, 8, 1, 2, 10, 2, 6, 1, 1, 6, 1, 10, 4, 1, 1, 6, 2, 10, 4, 1, 6, 7, 3, 2, 3, 1, 6, 10, 9, 5, 2, 10, 1, 9, 9, 4, 8, 1, 2, 1, 8, 2, 1, 9, 2, 5, 3, 3, 6, 7], \"Freq\": [0.9848412364397637, 0.9817271288096021, 0.5042792789594097, 0.4940918187784116, 0.9869079786746027, 0.9931102651574346, 0.9605767817788027, 0.992387333058425, 0.9832213074108548, 0.970247459669109, 0.9969953593450019, 0.9691044451981297, 0.9943439458446183, 0.9886577198006279, 0.9611055175603722, 0.03813910783969731, 0.9700341253543285, 0.9941987371445471, 0.9827146656172375, 0.9655255637823279, 0.9865581035702521, 0.9810691412944009, 0.9848474974734102, 0.9953598964113299, 0.9965124050422441, 0.9794633945857776, 0.9422691131259636, 0.9957041429140842, 0.9803253168165216, 0.9266574647470671, 0.9395926481542209, 0.9719289785400494, 0.9645866235870272, 0.980635467411426, 0.9937118496113535, 0.9910062207987147, 0.9908677974098064, 0.9515899629569924, 0.9587033809711728, 0.9728593252651476, 0.9954371006458433, 0.9758436707398294, 0.9840937892570487, 0.975387269037772, 0.9748359396929556, 0.9751817950364848, 0.9705244897327961, 0.9859950204202992, 0.9940607601605452, 0.9894950653037583, 0.9946181472600238, 0.9842918283513762, 0.9804862595524667, 0.9884458405146948, 0.9909442055736656, 0.9514504581065792, 0.9934627102525623, 0.9858583628019825, 0.9741151604388116, 0.9972697045145918, 0.9737542316877557, 0.9511414135379852, 0.962158709410868, 0.9707069332851199, 0.9716454240969176, 0.9611065964868718, 0.980989371109996, 0.9860594506541857, 0.9771242596796057, 0.977805801713318, 0.995312518642634, 0.9906358621984055, 0.9932573047616813, 0.9946624500196827, 0.006017166197771695, 0.9928324226323297, 0.9677419600931089, 0.9927540358951118, 0.9782759167711059, 0.982933245224543, 0.9652881347642936, 0.9896130996295028, 0.9926762971512073, 0.9812991190670654, 0.9468925812973383, 0.9859770589146142, 0.9715342799915787, 0.981247800954243, 0.99316753890076, 0.9867824605523652, 0.009243943750453499, 0.9798580375480709, 0.9866394104987758, 0.9678862102023045, 0.9969957522119904, 0.06098187767275747, 0.7521098246306755, 0.1858495319550704, 0.9930202988870355, 0.9883724884785345, 0.9386508712945929, 0.9780754254084104, 0.9531342968186292, 0.9954924966915882, 0.9842610161962733, 0.9891832958154684, 0.9886085270506648, 0.9895141793160247, 0.980617317333183, 0.9371894615940832, 0.9842382536298853, 0.9616784597790736, 0.9749837630225829, 0.9924856628530638, 0.9693937905227044, 0.9985082431235911, 0.963339525603128, 0.9941638591040955, 0.7363638515979695, 0.26341471114073706, 0.9969019739640872, 0.9848449635060829, 0.9679587810004459, 0.9817774737465863, 0.9878194953011654, 0.9775944391723483, 0.9575492200346769, 0.9890034673967305, 0.9911099210278395, 0.9657246464708296, 0.9598238120838403, 0.9873705603564498, 0.9813447131767368, 0.9685587395659229, 0.9680876731106, 0.9940083132179873, 0.9697211542424203, 0.975171870979735, 0.9930183098029705, 0.9897053038401885, 0.9969483399844267, 0.07460587034442161, 0.925112792270828, 0.9865505762817717, 0.9913124590621074, 0.9792880405874412, 0.9581205858976428, 0.9894238398529248, 0.995201804436018, 0.9554441063071533, 0.9667069702247861, 0.9757751542278466, 0.9403271499832079, 0.9423252932465669, 0.9783249116076551, 0.9631779323140519, 0.9733516925387155, 0.9848728761641826, 0.9873496459850396, 0.9897727860458123, 0.9956833953801051, 0.9914780349653035, 0.9932647569587352, 0.9828376658626348, 0.9969769830220098, 0.9555849224791593, 0.9938142764827992, 0.9856124109414384, 0.9880274747234702, 0.9668716373257852, 0.9463024402427261, 0.974964067745141, 0.9861866087639826, 0.9889833840132911, 0.9960240963629607, 0.0022432975143309927, 0.9950989940744667, 0.9853254106163639, 0.9805483647244065, 0.9846455504014514, 0.9945115703542433, 0.995800790930818, 0.9947120942717884, 0.972741420966678, 0.9708581257921863, 0.9772305635393197, 0.9827553088387595, 0.9712551464280078, 0.9729003774652474, 0.9749551335592013, 0.8173721609370882, 0.18119087311413284, 0.9907140196647432, 0.9920417830895604, 0.09860749335666699, 0.8976682153848305, 0.9842037497137259, 0.9748515389472938, 0.9483194479944632, 0.9925307279156529, 0.9908687908389087, 0.9917598403922917, 0.9737788778953567, 0.9914835032302555, 0.9959039539799703, 0.9887367616188139, 0.9939436465500711, 0.9843217207809233, 0.9898091398650093, 0.9888025455851438, 0.9971477019561925, 0.9661025909879476, 0.9732395048283018, 0.031268807683288956, 0.9630792766452998, 0.9880522427680499, 0.9896248482840985, 0.9533118070156064, 0.9934362151210765, 0.9916275318347411, 0.9829931437547077, 0.9881623667832367, 0.9658249647507957, 0.9896684454293989, 0.990833867327754, 0.9899135673569199, 0.9956869527254638, 0.9913329296835767, 0.984778474629044, 0.9893561847447496, 0.9843986661812416, 0.9754962205157964, 0.9822210608632969, 0.9567798960419293, 0.9808034860745933, 0.9908860544999502, 0.9724655158207033, 0.9731481431433932, 0.9529090332839043, 0.9292762266001785, 0.9727169962094551, 0.979084237332216, 0.9860940663476935, 0.9891319750658208, 0.996086367382531, 0.9916174904221124, 0.9863993104922113, 0.9539640350843205, 0.9752601236831145, 0.9959199391050197, 0.9326497733319343, 0.06661784095228102, 0.9941693987156268, 0.9917485139254935, 0.9934802530958955, 0.9652349118718226, 0.9872308669723088, 0.9948498977998607, 0.972641780171664, 0.9762579995564893, 0.9836372196212061, 0.9633733956948048, 0.9088455919996298, 0.08085814875441547, 0.006468651900353237, 0.9649406786847028, 0.9963501172067863, 0.9863952401860876, 0.978833495848342, 0.9846977080981967, 0.9650701392969284, 0.9748037640125241, 0.9943353161594184, 0.9632265676263202, 0.9950852266803617, 0.9902211809693391, 0.9823932293920105, 0.9627139541183346, 0.9848409546941633, 0.9822758598419139, 0.9932413430953569, 0.993401957215707, 0.9809708441063759, 0.9861740550011283, 0.9155456361825852, 0.07867970310944092, 0.988870007843027, 0.9977646042670703, 0.9924662732144008, 0.9960815692828998, 0.9956797515869826, 0.9783994457489835, 0.9971723916241808, 0.9654127486035445, 0.9619112993325576, 0.9980532944048242, 0.9968180917376185, 0.9920199278608921, 0.9955003752157905, 0.9795353576233962, 0.9729514712146119, 0.9965668423930916, 0.9890793252052088, 0.943775134573308, 0.9784402207472856, 0.030778691350979902, 0.9618341047181219, 0.9972602142669443, 0.9883360341285691, 0.9852719661536026, 0.9743961292615383, 0.9873842896598252, 0.9916004844949186, 0.9730613575505866, 0.9953504165093287, 0.9878040806885002, 0.9491562037698398, 0.9739544900019823, 0.9933821647774366, 0.9568831673547371, 0.038583998683658756, 0.9916246940252894, 0.9856156930839481, 0.9954459339533342, 0.9911391328355534, 0.9754019772988117, 0.9956471147473027, 0.9875961848244507, 0.9900072132966995, 0.9928623539220095, 0.9773218665766151, 0.9849153772537843], \"Term\": [\"accept\", \"access\", \"account\", \"account\", \"ad\", \"add\", \"advertising\", \"again\", \"ago\", \"almost\", \"also\", \"also_take\", \"amount\", \"answer\", \"app\", \"app\", \"as_soon\", \"ask\", \"asset\", \"automatically\", \"available\", \"avoid\", \"awful\", \"back\", \"bad\", \"bad_app\", \"balance\", \"bank\", \"bank_account\", \"bank_statement\", \"basically\", \"become\", \"beware\", \"binance\", \"block\", \"broker\", \"brokerage\", \"bunch\", \"business\", \"button\", \"buy\", \"buy_crypto\", \"call\", \"cancel\", \"care\", \"careful\", \"case\", \"cash\", \"change\", \"charge\", \"chart\", \"check\", \"clear\", \"close\", \"close_account\", \"close_market\", \"coin\", \"come\", \"commission\", \"company\", \"compare_other\", \"competitor\", \"completely\", \"complicated\", \"connection\", \"consider\", \"contact\", \"copy\", \"cost\", \"country\", \"crypto\", \"currency\", \"customer\", \"customer_service\", \"day\", \"day\", \"definitely\", \"deposit\", \"design\", \"detail\", \"disappear\", \"do\", \"document\", \"dollar\", \"down\", \"download\", \"download_app\", \"easily\", \"easy\", \"else\", \"email\", \"email\", \"end\", \"error\", \"etoro\", \"even\", \"even\", \"even\", \"ever\", \"exchange\", \"expensive\", \"far\", \"fast\", \"fee\", \"financial\", \"find\", \"fine\", \"first\", \"fix\", \"focus\", \"follow\", \"forever\", \"full\", \"fund\", \"gain\", \"get\", \"get_money_back\", \"give\", \"go\", \"go\", \"good\", \"great\", \"green\", \"half\", \"happen\", \"hard\", \"hell\", \"here\", \"high\", \"hit\", \"home\", \"horrible\", \"however\", \"huge\", \"immediately\", \"instead\", \"interface\", \"internet\", \"invest\", \"investment\", \"issue\", \"just\", \"just\", \"keep\", \"know\", \"last\", \"legal\", \"less\", \"let\", \"leverage\", \"lie\", \"like\", \"limit\", \"limited\", \"list\", \"literally\", \"little\", \"load\", \"log\", \"long\", \"look\", \"lose\", \"loss\", \"lot\", \"make\", \"make_money\", \"many\", \"mark\", \"market\", \"mean\", \"mention\", \"message\", \"minimum\", \"miss\", \"money\", \"money\", \"more\", \"move\", \"much\", \"name\", \"need\", \"never\", \"new\", \"new_update\", \"news\", \"next\", \"nice\", \"non\", \"notice\", \"notification\", \"now\", \"now\", \"number\", \"one\", \"only\", \"only\", \"open\", \"open_account\", \"opportunity\", \"option\", \"order\", \"other\", \"other_app\", \"own\", \"password\", \"pay\", \"people\", \"personal\", \"phone\", \"place\", \"platform\", \"poor\", \"possible\", \"price\", \"price\", \"process\", \"profit\", \"profit_loss\", \"provide\", \"put\", \"put_money\", \"question\", \"quick\", \"rate\", \"rating\", \"read\", \"really\", \"reason\", \"receive\", \"recommend\", \"redirect\", \"region\", \"register\", \"reject\", \"remove\", \"reply\", \"report\", \"require\", \"reset\", \"respond\", \"response\", \"ridiculous\", \"run\", \"same\", \"say\", \"scam\", \"screen\", \"search\", \"second\", \"see\", \"sell\", \"sell\", \"send\", \"service\", \"share\", \"short\", \"show\", \"sign\", \"single\", \"site\", \"slow\", \"small\", \"so\", \"so\", \"so\", \"spend\", \"spread\", \"star\", \"stay\", \"stay_away\", \"steal\", \"stick\", \"still\", \"still_get\", \"stock\", \"stop\", \"stop_loss\", \"stupid\", \"suck\", \"super\", \"support\", \"take\", \"take_day\", \"team\", \"tell\", \"tell\", \"terrible\", \"then\", \"there\", \"thing\", \"think\", \"ticket\", \"time\", \"top\", \"totally\", \"trade\", \"trading\", \"transaction\", \"transfer\", \"trash\", \"trust\", \"try\", \"unable\", \"unacceptable\", \"understand\", \"update\", \"update\", \"use\", \"useless\", \"user\", \"value\", \"verification\", \"verify\", \"verify_account\", \"very\", \"very_poor\", \"view\", \"wait_day\", \"wallet\", \"want\", \"want\", \"way\", \"webull\", \"week\", \"well\", \"wish\", \"withdraw\", \"withdraw_money\", \"withdrawal\", \"work\", \"wrong\", \"yet\"]}, \"R\": 30, \"lambda.step\": 0.01, \"plot.opts\": {\"xlab\": \"PC1\", \"ylab\": \"PC2\"}, \"topic.order\": [5, 2, 8, 9, 4, 3, 10, 6, 1, 7]};\n",
       "\n",
       "function LDAvis_load_lib(url, callback){\n",
       "  var s = document.createElement('script');\n",
       "  s.src = url;\n",
       "  s.async = true;\n",
       "  s.onreadystatechange = s.onload = callback;\n",
       "  s.onerror = function(){console.warn(\"failed to load library \" + url);};\n",
       "  document.getElementsByTagName(\"head\")[0].appendChild(s);\n",
       "}\n",
       "\n",
       "if(typeof(LDAvis) !== \"undefined\"){\n",
       "   // already loaded: just create the visualization\n",
       "   !function(LDAvis){\n",
       "       new LDAvis(\"#\" + \"ldavis_el172541401857565400325130490586\", ldavis_el172541401857565400325130490586_data);\n",
       "   }(LDAvis);\n",
       "}else if(typeof define === \"function\" && define.amd){\n",
       "   // require.js is available: use it to load d3/LDAvis\n",
       "   require.config({paths: {d3: \"https://d3js.org/d3.v5\"}});\n",
       "   require([\"d3\"], function(d3){\n",
       "      window.d3 = d3;\n",
       "      LDAvis_load_lib(\"https://cdn.jsdelivr.net/gh/bmabey/pyLDAvis@3.3.1/pyLDAvis/js/ldavis.v3.0.0.js\", function(){\n",
       "        new LDAvis(\"#\" + \"ldavis_el172541401857565400325130490586\", ldavis_el172541401857565400325130490586_data);\n",
       "      });\n",
       "    });\n",
       "}else{\n",
       "    // require.js not available: dynamically load d3 & LDAvis\n",
       "    LDAvis_load_lib(\"https://d3js.org/d3.v5.js\", function(){\n",
       "         LDAvis_load_lib(\"https://cdn.jsdelivr.net/gh/bmabey/pyLDAvis@3.3.1/pyLDAvis/js/ldavis.v3.0.0.js\", function(){\n",
       "                 new LDAvis(\"#\" + \"ldavis_el172541401857565400325130490586\", ldavis_el172541401857565400325130490586_data);\n",
       "            })\n",
       "         });\n",
       "}\n",
       "</script>"
      ],
      "text/plain": [
       "PreparedData(topic_coordinates=              x         y  topics  cluster       Freq\n",
       "topic                                                \n",
       "4     -0.442890 -0.118910       1        1  26.071629\n",
       "1     -0.101767  0.411978       2        1  18.532779\n",
       "7     -0.348493  0.236953       3        1  15.732906\n",
       "8      0.199454 -0.198314       4        1   6.988090\n",
       "3      0.405617 -0.097707       5        1   6.963278\n",
       "2      0.336413  0.172645       6        1   6.781559\n",
       "9      0.147275  0.292901       7        1   5.177110\n",
       "5      0.071648 -0.389598       8        1   5.080534\n",
       "0     -0.102950 -0.008835       9        1   4.435704\n",
       "6     -0.164306 -0.301113      10        1   4.236410, topic_info=                  Term        Freq       Total Category  logprob  loglift\n",
       "68                 app  786.000000  786.000000  Default  30.0000  30.0000\n",
       "294   customer_service  257.000000  257.000000  Default  29.0000  29.0000\n",
       "98                 fee  201.000000  201.000000  Default  28.0000  28.0000\n",
       "4003             etoro  321.000000  321.000000  Default  27.0000  27.0000\n",
       "16               money  445.000000  445.000000  Default  26.0000  26.0000\n",
       "...                ...         ...         ...      ...      ...      ...\n",
       "727              trash   18.502035   19.396952  Topic10  -4.7884   3.1142\n",
       "1035           respond   18.475023   19.369913  Topic10  -4.7898   3.1142\n",
       "3667             focus   18.308470   19.206362  Topic10  -4.7989   3.1136\n",
       "703              limit   18.247316   19.142274  Topic10  -4.8022   3.1136\n",
       "1142    bank_statement   17.450520   18.345506  Topic10  -4.8469   3.1114\n",
       "\n",
       "[346 rows x 6 columns], token_table=      Topic      Freq            Term\n",
       "term                                 \n",
       "729       4  0.984841          accept\n",
       "953       6  0.981727          access\n",
       "105       1  0.504279         account\n",
       "105       2  0.494092         account\n",
       "935       3  0.986908              ad\n",
       "...     ...       ...             ...\n",
       "1189      5  0.987596  withdraw_money\n",
       "748       3  0.990007      withdrawal\n",
       "64        3  0.992862            work\n",
       "1759      6  0.977322           wrong\n",
       "617       7  0.984915             yet\n",
       "\n",
       "[332 rows x 3 columns], R=30, lambda_step=0.01, plot_opts={'xlab': 'PC1', 'ylab': 'PC2'}, topic_order=[5, 2, 8, 9, 4, 3, 10, 6, 1, 7])"
      ]
     },
     "execution_count": 12,
     "metadata": {},
     "output_type": "execute_result"
    }
   ],
   "source": [
    "# Visualising the data\n",
    "pyLDAvis.enable_notebook()\n",
    "vis = pyLDAvis.gensim_models.prepare(lda_model, corpus, id2word, mds=\"mmds\", R=30)\n",
    "vis"
   ]
  },
  {
   "cell_type": "code",
   "execution_count": 13,
   "metadata": {},
   "outputs": [
    {
     "ename": "NameError",
     "evalue": "name 'csv_file' is not defined",
     "output_type": "error",
     "traceback": [
      "\u001b[0;31m---------------------------------------------------------------------------\u001b[0m",
      "\u001b[0;31mNameError\u001b[0m                                 Traceback (most recent call last)",
      "\u001b[1;32m/home/UW2022/lda_finance_normal.ipynb Cell 14'\u001b[0m in \u001b[0;36m<cell line: 2>\u001b[0;34m()\u001b[0m\n\u001b[1;32m      <a href='vscode-notebook-cell://wsl%2Bubuntu-20.04/home/UW2022/lda_finance_normal.ipynb#ch0000013vscode-remote?line=0'>1</a>\u001b[0m \u001b[39m# Save the model into memory\u001b[39;00m\n\u001b[0;32m----> <a href='vscode-notebook-cell://wsl%2Bubuntu-20.04/home/UW2022/lda_finance_normal.ipynb#ch0000013vscode-remote?line=1'>2</a>\u001b[0m lda_model\u001b[39m.\u001b[39msave(\u001b[39mf\u001b[39m\u001b[39m\"\u001b[39m\u001b[39mmodels/\u001b[39m\u001b[39m{\u001b[39;00mcsv_file[:\u001b[39m-\u001b[39m\u001b[39m4\u001b[39m]\u001b[39m}\u001b[39;00m\u001b[39m.model\u001b[39m\u001b[39m\"\u001b[39m)\n",
      "\u001b[0;31mNameError\u001b[0m: name 'csv_file' is not defined"
     ]
    }
   ],
   "source": [
    "# Save the model into memory\n",
    "lda_model.save(f\"models/{csv_file[:-4]}.model\");"
   ]
  }
 ],
 "metadata": {
  "kernelspec": {
   "display_name": "Python 3.9.12 ('base')",
   "language": "python",
   "name": "python3"
  },
  "language_info": {
   "codemirror_mode": {
    "name": "ipython",
    "version": 3
   },
   "file_extension": ".py",
   "mimetype": "text/x-python",
   "name": "python",
   "nbconvert_exporter": "python",
   "pygments_lexer": "ipython3",
   "version": "3.9.12"
  },
  "orig_nbformat": 4,
  "vscode": {
   "interpreter": {
    "hash": "2f394aca7ca06fed1e6064aef884364492d7cdda3614a461e02e6407fc40ba69"
   }
  }
 },
 "nbformat": 4,
 "nbformat_minor": 2
}
