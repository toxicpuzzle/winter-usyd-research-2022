{
 "cells": [
  {
   "cell_type": "code",
   "execution_count": 14,
   "metadata": {},
   "outputs": [],
   "source": [
    "import numpy as np\n",
    "import json\n",
    "import glob\n",
    "import pandas as pd\n",
    "import csv\n",
    "\n",
    "# Gensim\n",
    "import gensim\n",
    "import gensim.corpora as corpora\n",
    "from gensim.utils import simple_preprocess\n",
    "from gensim.models import CoherenceModel\n",
    "\n",
    "# Spacy\n",
    "import spacy\n",
    "from nltk.corpus import stopwords\n",
    "\n",
    "# Vis\n",
    "import pyLDAvis\n",
    "import pyLDAvis.gensim_models\n",
    "import warnings\n",
    "warnings.filterwarnings(\"ignore\", category=DeprecationWarning)\n"
   ]
  },
  {
   "cell_type": "code",
   "execution_count": 15,
   "metadata": {},
   "outputs": [],
   "source": [
    "all_files = [\"robinhood.csv\", \"webull.csv\", \"etoro.csv\"]"
   ]
  },
  {
   "cell_type": "code",
   "execution_count": 16,
   "metadata": {},
   "outputs": [
    {
     "data": {
      "text/plain": [
       "3153"
      ]
     },
     "execution_count": 16,
     "metadata": {},
     "output_type": "execute_result"
    }
   ],
   "source": [
    "def load_data(file):\n",
    "    with open(file, \"r\", encoding=\"utf-8\") as f:\n",
    "        data = pd.read_csv(file)\n",
    "        # print(data)\n",
    "        # data = json.load(f)\n",
    "    return (data);\n",
    "\n",
    "def write_data(file, data):\n",
    "    with open(file, \"w\", encoding=\"utf-8\") as f:\n",
    "        json.dump(data, f, indent=4);\n",
    "\n",
    "# Combine all the csv files into one\n",
    "\n",
    "li = []\n",
    "for filename in all_files:\n",
    "    df = load_data(filename)\n",
    "    li.append(df)\n",
    "\n",
    "frame = pd.concat(li, axis=0, ignore_index=True)\n",
    "data = frame.loc[:, [\"content\", \"score\"]]\n",
    "data = data.loc[(data.score <= 2)] # Grab only poor reviews\n",
    "content = json.loads(data.loc[:, \"content\"].to_json())\n",
    "\n",
    "# Prefilter step\n",
    "\n",
    "# Remove reviews with <= 50 chars\n",
    "data = [content[key] for key in content if len(content[key]) > 50];\n",
    "len(data)\n",
    "\n"
   ]
  },
  {
   "cell_type": "code",
   "execution_count": 17,
   "metadata": {},
   "outputs": [
    {
     "name": "stdout",
     "output_type": "stream",
     "text": [
      "['i', 'me', 'my', 'myself', 'we', 'our', 'ours', 'ourselves', 'you', \"you're\", \"you've\", \"you'll\", \"you'd\", 'your', 'yours', 'yourself', 'yourselves', 'he', 'him', 'his', 'himself', 'she', \"she's\", 'her', 'hers', 'herself', 'it', \"it's\", 'its', 'itself', 'they', 'them', 'their', 'theirs', 'themselves', 'what', 'which', 'who', 'whom', 'this', 'that', \"that'll\", 'these', 'those', 'am', 'is', 'are', 'was', 'were', 'be', 'been', 'being', 'have', 'has', 'had', 'having', 'do', 'does', 'did', 'doing', 'a', 'an', 'the', 'and', 'but', 'if', 'or', 'because', 'as', 'until', 'while', 'of', 'at', 'by', 'for', 'with', 'about', 'against', 'between', 'into', 'through', 'during', 'before', 'after', 'above', 'below', 'to', 'from', 'up', 'down', 'in', 'out', 'on', 'off', 'over', 'under', 'again', 'further', 'then', 'once', 'here', 'there', 'when', 'where', 'why', 'how', 'all', 'any', 'both', 'each', 'few', 'more', 'most', 'other', 'some', 'such', 'no', 'nor', 'not', 'only', 'own', 'same', 'so', 'than', 'too', 'very', 's', 't', 'can', 'will', 'just', 'don', \"don't\", 'should', \"should've\", 'now', 'd', 'll', 'm', 'o', 're', 've', 'y', 'ain', 'aren', \"aren't\", 'couldn', \"couldn't\", 'didn', \"didn't\", 'doesn', \"doesn't\", 'hadn', \"hadn't\", 'hasn', \"hasn't\", 'haven', \"haven't\", 'isn', \"isn't\", 'ma', 'mightn', \"mightn't\", 'mustn', \"mustn't\", 'needn', \"needn't\", 'shan', \"shan't\", 'shouldn', \"shouldn't\", 'wasn', \"wasn't\", 'weren', \"weren't\", 'won', \"won't\", 'wouldn', \"wouldn't\"]\n"
     ]
    }
   ],
   "source": [
    "# Stop words are basically words that are not really useful in the topic model\n",
    "# i.e. words that you want to eliminate from consideration\n",
    "stopwords = stopwords.words(\"english\")\n",
    "print(stopwords)"
   ]
  },
  {
   "cell_type": "code",
   "execution_count": 18,
   "metadata": {},
   "outputs": [
    {
     "name": "stdout",
     "output_type": "stream",
     "text": [
      "I once wrote my reviews here, how robinhood had been messing with my funds in my account, \n"
     ]
    }
   ],
   "source": [
    "# data = load_data(\"ushmm_dn.json\")[\"texts\"]\n",
    "print(data[0][0:90]) # Prints out first text, char 0-89"
   ]
  },
  {
   "cell_type": "code",
   "execution_count": 19,
   "metadata": {},
   "outputs": [
    {
     "name": "stdout",
     "output_type": "stream",
     "text": [
      "review robinhood fund account easy money robinhood account money month customer support te\n"
     ]
    }
   ],
   "source": [
    "# Reducing words to their root form (lemma) using spacy or nltk to grab roots\n",
    "# Specify allowed_postags for spacy\n",
    "\n",
    "# Takes a list of texts i.e. [text1, text2...] and returns lemmatised [text1..]\n",
    "# Allowed_post_tages -> Basically default arguments in python \n",
    "# This is a list initalised that is used to filter tokens \n",
    "# pos_ tag marks category of word token belongs to i.e. only append nouns,adj,verbs,and adverbs \n",
    "# e.g. conjunctions (but, and, because), and pronouns (he/she) is ignored\n",
    "\n",
    "# Adjectives can be useful, verb and adverbs are rarely useful\n",
    "# def lemmatization(texts, allowed_postags=[\"NOUN\", \"ADJ\", \"VERB\", \"ADV\"]):\n",
    "def lemmatization(texts, allowed_postags=[\"NOUN\", \"ADJ\"]):\n",
    "\n",
    "    # Spacy load creates an an nlp parser i.e. function pointer \n",
    "    spacy.load\n",
    "    nlp = spacy.load(\"en_core_web_sm\", disable=[\"parser\", \"ner\"])\n",
    "    texts_out = []\n",
    "\n",
    "    for text in texts:\n",
    "        doc = nlp(text) # Create document from the raw text/string\n",
    "        new_text = []\n",
    "        for token in doc:\n",
    "            if token.pos_ in allowed_postags and token.pos_ not in stopwords:\n",
    "               new_text.append(token.lemma_) # Appends only lemma to new_text\n",
    "        final = \" \".join(new_text)\n",
    "        texts_out.append(final)\n",
    "    return (texts_out);\n",
    "\n",
    "lemmatized_texts = lemmatization(data)\n",
    "print(lemmatized_texts[0][0:90])"
   ]
  },
  {
   "cell_type": "code",
   "execution_count": 26,
   "metadata": {},
   "outputs": [
    {
     "name": "stdout",
     "output_type": "stream",
     "text": [
      "['review', 'robinhood', 'fund', 'account', 'easy', 'money', 'robinhood', 'account', 'money', 'month', 'customer', 'support', 'team', 'busy', 'alternative', 'way', 'fund', 'suicide', 'money', 'post']\n"
     ]
    }
   ],
   "source": [
    "# Simple preprocess converts documents to list of lower case tokens ignoring ones\n",
    "# which are too short or too long.\n",
    "def gen_words(texts):\n",
    "    final = []\n",
    "    for text in texts:\n",
    "        new = gensim.utils.simple_preprocess(text, deacc=True);\n",
    "        final.append(new)\n",
    "    return (final)\n",
    "\n",
    "data_words = gen_words(lemmatized_texts)\n",
    "\n",
    "print(data_words[0][0:20])\n"
   ]
  },
  {
   "cell_type": "code",
   "execution_count": 27,
   "metadata": {},
   "outputs": [],
   "source": [
    "# BIGRAMS AND TRIGRAMS\n",
    "\n",
    "# min_count - ignore all words/bigrams with total collected count lower than this value.\n",
    "# threshold - score for forming phrases play around with this -> related to scoring function\n",
    "bigrams_phrases = gensim.models.Phrases(data_words, min_count=5, threshold=1) \n",
    "\n",
    "# First arg checks ensures no overlap between bigraph phrases and trigram phrases.\n",
    "trigram_phrases = gensim.models.Phrases(bigrams_phrases[data_words], threshold=1)\n",
    "\n",
    "# Create function pointer i.e. phraser that converts document to list of bigram\n",
    "bigram = gensim.models.phrases.Phraser(bigrams_phrases)\n",
    "trigram = gensim.models.phrases.Phraser(trigram_phrases)\n",
    "\n",
    "def make_bigrams(texts):\n",
    "    return([bigram[doc] for doc in texts])\n",
    "\n",
    "def make_trigrams(texts):\n",
    "    return ([trigram[bigram[doc]] for doc in texts])\n",
    "\n",
    "data_bigrams = make_bigrams(data_words)\n",
    "data_bigrams_trigrams = make_trigrams(data_bigrams)\n",
    "\n",
    "# print(data_bigrams_trigrams[0])\n",
    "\n",
    "# new_words = []\n",
    "# for word in data_bigrams_trigrams[0]:\n",
    "#     if '_' in word:\n",
    "#         new_words.append(word)\n",
    "# print(data_bigrams)\n"
   ]
  },
  {
   "cell_type": "code",
   "execution_count": 28,
   "metadata": {},
   "outputs": [
    {
     "name": "stdout",
     "output_type": "stream",
     "text": [
      "[(0, 1), (1, 1), (2, 1), (3, 1), (4, 1), (5, 1), (6, 1), (7, 1), (8, 1), (9, 1), (10, 1), (11, 1), (12, 2), (13, 1), (14, 1), (15, 1), (16, 1)]\n"
     ]
    }
   ],
   "source": [
    "# TF-IDF Removal - to remove words that are not important to the topic\n",
    "from gensim.models import TfidfModel\n",
    "\n",
    "id2word = corpora.Dictionary(data_bigrams_trigrams)\n",
    "\n",
    "texts = data_bigrams_trigrams\n",
    "\n",
    "corpus = [id2word.doc2bow(text) for text in texts]\n",
    "print(corpus[0][0:20])\n",
    "\n",
    "tfidf = TfidfModel(corpus, id2word=id2word)\n",
    "\n",
    "# Goes through words and looks at words that occur too frequentely and removes them\n",
    "# Corpus becomes new corpus where those irrelevant words are removed\n",
    "low_value = 0.03\n",
    "words = []\n",
    "words_missing_in_tfidf = []\n",
    "for i in range(0, len(corpus)):\n",
    "    bow = corpus[i]\n",
    "    low_value_words = []\n",
    "    tfidf_ids = [id for id, value in tfidf[bow]]\n",
    "    bow_ids = [id for id, value in bow]\n",
    "    low_value_words = [id for id, value in tfidf[bow] if value < low_value]\n",
    "    drops = low_value_words + words_missing_in_tfidf\n",
    "    for item in drops:\n",
    "        words.append(id2word[item])\n",
    "    words_missing_in_tfidf = [id for id in bow_ids if id not in tfidf_ids]\n",
    "\n",
    "    new_bow = [b for b in bow if b[0] not in low_value_words and b[0] not in words_missing_in_tfidf]\n",
    "    corpus[i] = new_bow\n",
    "\n",
    "\n"
   ]
  },
  {
   "cell_type": "code",
   "execution_count": 29,
   "metadata": {},
   "outputs": [],
   "source": [
    "# id2word = corpora.Dictionary(data_words)\n",
    "# corpus = []\n",
    "# for text in data_words:\n",
    "#     new = id2word.doc2bow(text) # Create a bag of words all (word: f pairs) for 1 doc\n",
    "#     corpus.append(new)\n",
    "\n",
    "# print(corpus[0][0:20])\n",
    "# #(0,2) - 0 = index of word in the dictionary, 2 = frequency of word in that text\n",
    "\n",
    "# word = id2word[[0][:1][0]] # i.e. text 1 -> first tuple -> first value in tuple\n",
    "# print(word) # i.e. able is the first element in teh dictionary "
   ]
  },
  {
   "cell_type": "code",
   "execution_count": 30,
   "metadata": {},
   "outputs": [],
   "source": [
    "lda_model = gensim.models.LdaModel(corpus=corpus\n",
    "                                    ,id2word=id2word\n",
    "                                    ,num_topics=10\n",
    "                                    ,random_state=100\n",
    "                                    ,update_every=1\n",
    "                                    ,chunksize=100\n",
    "                                    ,passes=10\n",
    "                                    ,alpha=\"auto\")\n",
    "# First start with 50? and then group on your own\n",
    "# 3-10 is a good number. literature says 4-5 for restaurants.\n",
    "# LDA's core weakness is that it does not work with texts that are too short."
   ]
  },
  {
   "cell_type": "markdown",
   "metadata": {},
   "source": [
    "### Idea\n",
    "I think I can separate the review data set into one star vs 5 star reviews and look at if there are any differences in the topics that are mentioned."
   ]
  },
  {
   "cell_type": "code",
   "execution_count": 31,
   "metadata": {},
   "outputs": [
    {
     "name": "stderr",
     "output_type": "stream",
     "text": [
      "/root/miniconda3/lib/python3.9/site-packages/pyLDAvis/_prepare.py:246: FutureWarning: In a future version of pandas all arguments of DataFrame.drop except for the argument 'labels' will be keyword-only.\n",
      "  default_term_info = default_term_info.sort_values(\n",
      "/root/miniconda3/lib/python3.9/site-packages/past/builtins/misc.py:45: DeprecationWarning: the imp module is deprecated in favour of importlib; see the module's documentation for alternative uses\n",
      "  from imp import reload\n",
      "/root/miniconda3/lib/python3.9/site-packages/past/builtins/misc.py:45: DeprecationWarning: the imp module is deprecated in favour of importlib; see the module's documentation for alternative uses\n",
      "  from imp import reload\n",
      "/root/miniconda3/lib/python3.9/site-packages/past/builtins/misc.py:45: DeprecationWarning: the imp module is deprecated in favour of importlib; see the module's documentation for alternative uses\n",
      "  from imp import reload\n",
      "/root/miniconda3/lib/python3.9/site-packages/past/builtins/misc.py:45: DeprecationWarning: the imp module is deprecated in favour of importlib; see the module's documentation for alternative uses\n",
      "  from imp import reload\n",
      "/root/miniconda3/lib/python3.9/site-packages/past/builtins/misc.py:45: DeprecationWarning: the imp module is deprecated in favour of importlib; see the module's documentation for alternative uses\n",
      "  from imp import reload\n",
      "/root/miniconda3/lib/python3.9/site-packages/past/builtins/misc.py:45: DeprecationWarning: the imp module is deprecated in favour of importlib; see the module's documentation for alternative uses\n",
      "  from imp import reload\n",
      "/root/miniconda3/lib/python3.9/site-packages/past/builtins/misc.py:45: DeprecationWarning: the imp module is deprecated in favour of importlib; see the module's documentation for alternative uses\n",
      "  from imp import reload\n",
      "/root/miniconda3/lib/python3.9/site-packages/past/builtins/misc.py:45: DeprecationWarning: the imp module is deprecated in favour of importlib; see the module's documentation for alternative uses\n",
      "  from imp import reload\n"
     ]
    },
    {
     "data": {
      "text/html": [
       "\n",
       "<link rel=\"stylesheet\" type=\"text/css\" href=\"https://cdn.jsdelivr.net/gh/bmabey/pyLDAvis@3.3.1/pyLDAvis/js/ldavis.v1.0.0.css\">\n",
       "\n",
       "\n",
       "<div id=\"ldavis_el172541401856432391206765917831\"></div>\n",
       "<script type=\"text/javascript\">\n",
       "\n",
       "var ldavis_el172541401856432391206765917831_data = {\"mdsDat\": {\"x\": [-0.22661097454627985, 0.14866190736140802, 0.19478311047885888, -0.22012927120276965, -0.30197456043113946, 0.1402604571876873, 0.4080918534933846, -0.3576153315532032, 0.24269072735403416, -0.02815791814198111], \"y\": [0.3928965023468322, -0.39836771520304964, 0.40264456152033273, -0.3537385371718482, 0.1263214954759968, 0.20522038076310267, -0.12426294139679342, -0.10636393231589801, -0.015419399319716896, -0.1289304146989583], \"topics\": [1, 2, 3, 4, 5, 6, 7, 8, 9, 10], \"cluster\": [1, 1, 1, 1, 1, 1, 1, 1, 1, 1], \"Freq\": [23.05545664044627, 11.654227740624735, 10.818316600512956, 9.259905609922264, 9.156722502177592, 8.48898982821861, 8.363200776196248, 7.834182733161321, 7.058209011803923, 4.3107885569360835]}, \"tinfo\": {\"Term\": [\"money\", \"app\", \"account\", \"stock\", \"etoro\", \"fee\", \"platform\", \"trade\", \"customer_service\", \"day\", \"trading\", \"good\", \"way\", \"crypto\", \"company\", \"time\", \"bad\", \"fund\", \"price\", \"many\", \"position\", \"thing\", \"service\", \"market\", \"wallet\", \"option\", \"withdrawal\", \"reason\", \"update\", \"high\", \"app\", \"crypto\", \"time\", \"fund\", \"other\", \"week\", \"people\", \"profit\", \"more\", \"coin\", \"issue\", \"same\", \"scam\", \"star\", \"problem\", \"support\", \"month\", \"information\", \"exchange\", \"different\", \"lot\", \"portfolio\", \"phone\", \"button\", \"year\", \"transaction\", \"screen\", \"unable\", \"bad_app\", \"ticket\", \"account\", \"day\", \"withdrawal\", \"password\", \"deposit\", \"available\", \"email\", \"bank_account\", \"notification\", \"wrong\", \"money_account\", \"difficult\", \"info\", \"address\", \"case\", \"garbage\", \"horrible\", \"transfer\", \"method\", \"full\", \"name\", \"valid\", \"login\", \"request\", \"advertising\", \"absolute\", \"more_money\", \"day_money\", \"bad_customer_service\", \"expensive\", \"money\", \"etoro\", \"customer_service\", \"bad\", \"loss\", \"easy\", \"number\", \"country\", \"great\", \"possible\", \"proof\", \"response\", \"old\", \"work\", \"disappointed\", \"withdraw\", \"connection\", \"fund_account\", \"percentage\", \"right\", \"false\", \"stupid\", \"period\", \"thank\", \"excuse\", \"time_money\", \"bad_platform\", \"business_day\", \"ok\", \"useless_app\", \"investment\", \"trading\", \"market\", \"spread\", \"amount\", \"user\", \"order\", \"new\", \"reply\", \"useless\", \"complicated\", \"sell\", \"system\", \"currency\", \"usd\", \"trader\", \"small\", \"less\", \"team\", \"impossible\", \"clear\", \"huge\", \"application\", \"personal\", \"frustrating\", \"open\", \"gain\", \"half\", \"video\", \"tech\", \"confusing\", \"stock\", \"fee\", \"company\", \"reason\", \"verification\", \"share\", \"hard\", \"broker\", \"asset\", \"process\", \"trading_app\", \"webull\", \"own\", \"interface\", \"top\", \"bad_trading\", \"single\", \"rubbish\", \"opportunity\", \"previous\", \"fraud\", \"bank_statement\", \"side\", \"fee_high\", \"functionality\", \"initial\", \"good_app\", \"link\", \"kind\", \"look\", \"trade\", \"good\", \"position\", \"thing\", \"terrible\", \"poor\", \"chart\", \"question\", \"minimum\", \"long\", \"commission\", \"hour\", \"money_time\", \"answer\", \"user_friendly\", \"other_platform\", \"limited\", \"datum\", \"internet\", \"waste_time\", \"buy\", \"legal\", \"short\", \"new_update\", \"profit_loss\", \"basic\", \"stop\", \"competitor\", \"sale\", \"closed\", \"platform\", \"price\", \"many\", \"high\", \"ad\", \"slow\", \"real\", \"experience\", \"point\", \"brokerage\", \"little\", \"business\", \"cost\", \"complete\", \"rate\", \"free\", \"cryptocurrency\", \"investor\", \"nice\", \"certain\", \"beginner\", \"green\", \"moment\", \"client\", \"practice\", \"use\", \"least\", \"investing\", \"feedback\", \"current\", \"way\", \"wallet\", \"bank\", \"well\", \"document\", \"review\", \"page\", \"annoying\", \"total\", \"place\", \"fine\", \"account_money\", \"only\", \"low\", \"stop_loss\", \"quick\", \"bunch\", \"other_app\", \"consent\", \"enough\", \"coinbase\", \"person\", \"easy_money\", \"explanation\", \"marketing\", \"strong\", \"additional\", \"stuff\", \"alternative\", \"key\", \"service\", \"option\", \"able\", \"one\", \"awful\", \"customer\", \"much\", \"big\", \"guy\", \"message\", \"whole\", \"error\", \"detail\", \"joke\", \"charge\", \"financial\", \"careful\", \"actual\", \"non\", \"withdrawal_request\", \"happy\", \"warning\", \"region\", \"next\", \"unacceptable\", \"app_phone\", \"news\", \"withdrawal_fee\", \"minute\", \"south\", \"update\", \"dollar\", \"close\", \"feature\", \"few\", \"first\", \"trash\", \"free_stock\", \"lie\", \"mistake\", \"list\", \"other_broker\", \"mobile\", \"design\", \"end\", \"watchlist\", \"version\", \"line\", \"promotion\", \"success\", \"bit\", \"suck\", \"unnecessary\", \"reset\", \"last_update\", \"machine\", \"cheat\", \"smart\", \"unusable\", \"app_bad\"], \"Freq\": [670.0, 1013.0, 542.0, 254.0, 272.0, 229.0, 204.0, 205.0, 218.0, 223.0, 197.0, 161.0, 152.0, 270.0, 158.0, 265.0, 170.0, 257.0, 138.0, 135.0, 136.0, 132.0, 117.0, 124.0, 114.0, 100.0, 125.0, 110.0, 82.0, 105.0, 1012.8962145731377, 269.35627342781083, 264.3958511968107, 256.79604320587833, 174.7564035325452, 174.33187754998272, 157.52682656926874, 154.3411254326769, 147.91441365096628, 135.55577967876857, 128.48822401177893, 128.4386094584844, 126.83339399305689, 126.75281231357798, 125.25356692215753, 123.08852831777324, 103.83057230509414, 84.93916608106396, 83.22147847822916, 79.73747016279712, 72.74901755312288, 71.57297701330472, 71.03223391143608, 59.91750213380999, 59.005063121614164, 55.8010374011793, 52.86525246611561, 51.75591457372188, 51.5795130125549, 50.20009089973461, 541.8983893840832, 222.28222438979063, 124.81844744055209, 109.15483153517631, 94.29908621927228, 80.97740072576634, 76.1351774222223, 71.58110724918126, 61.58207024682482, 56.11644318467426, 54.03739383650764, 52.40919776838578, 47.62807065732849, 45.81827995500726, 44.66178017591679, 44.63681164808284, 42.97418512242891, 41.36187426018521, 39.57345857600575, 36.86455934603365, 35.552712893637995, 31.024756863237403, 29.48988433973726, 29.10932807308956, 28.830085279970437, 27.75173209721045, 25.85597295843402, 24.865180975734848, 24.164533078045704, 22.9591504700181, 669.9227322285293, 271.5702611533016, 217.10198221121337, 169.13637212585564, 90.68056778087313, 71.77365878835475, 69.17408552143803, 55.16751032423957, 47.466609233318955, 39.086406496766216, 37.99199188975259, 35.315178017360005, 31.03204798386293, 26.089427880759736, 25.61321685512678, 24.20288805052659, 24.09354414797602, 23.536355312550313, 22.801406134134975, 22.733330541272444, 21.233405785266726, 20.815855384993505, 20.63540613334459, 20.358601544128046, 19.80017202352377, 19.674479556324744, 18.90456093143563, 18.479395238863688, 17.80706354745206, 17.25590089717939, 62.47705174266747, 196.7015210180097, 123.40214237874626, 106.55780067439234, 97.05106577252224, 90.36533430728822, 85.6069410201147, 76.52727771959789, 42.17335823664304, 41.951720933175395, 40.709646968303936, 39.58694050406212, 39.28584675244675, 39.06859473746169, 38.522938815326036, 37.655979470880304, 36.2347388527359, 34.296060126754455, 32.74171005430259, 32.06464070309165, 31.285802058017946, 30.333709508187134, 27.83107905271072, 27.657692889105228, 26.88391119999902, 26.397266064037897, 23.83646246176003, 23.33326940988681, 21.951768685714654, 21.21783321632155, 21.055667011687014, 253.24012048637414, 228.73284131190383, 158.03933646448397, 109.7798337678216, 98.0521143581185, 96.4452323458552, 66.47125957122925, 58.870635439339765, 57.34683529553857, 50.42644748775116, 49.994456647771734, 48.47113348488091, 45.538977964067435, 39.44979093851213, 31.75976365889146, 30.636945467069076, 29.67762915096147, 29.255772873120517, 27.94284188672938, 25.22554831514013, 24.44708726087864, 23.483747379994902, 23.021019479845503, 22.785185757046268, 21.286419417798662, 21.125716599415398, 20.697426208111537, 16.649287939650808, 16.57797416472449, 16.241555169142256, 204.7833691611458, 160.66290708714382, 135.7127634937032, 131.5213428001908, 76.58539774742715, 75.15393089134378, 70.94533103597769, 66.10622313232797, 61.729659287899565, 42.5282680637141, 35.75114577025783, 34.56659192162009, 34.16611727253944, 33.9303352968955, 30.145116432218206, 27.620250366826554, 26.23368089125898, 25.83034621841553, 25.6691198081926, 24.761341609132295, 24.368605428337535, 24.1671603797145, 23.53152425889855, 22.745911630141944, 21.130485573129132, 20.88421684368825, 20.80209398347339, 20.08059058230425, 19.46941206286804, 19.224151355102492, 203.7508364840401, 137.68536663268128, 134.89233407465994, 104.39646732948755, 64.93104835311625, 57.447052768264435, 45.895887323477844, 44.94568307512331, 39.596857511045776, 38.81264834144405, 38.153310229927705, 32.99340267376758, 29.17673848113339, 29.075045649983018, 28.42974891583888, 27.449644379989174, 26.92545950281575, 23.831351239321474, 23.600728349754444, 22.98682621482583, 21.447411107649074, 21.372599492195253, 20.939157748221398, 20.77919612870309, 20.394853532995057, 19.525655969844056, 18.14243157016405, 17.007767656148662, 16.6785506413968, 16.560679192365107, 151.5275021701455, 113.33093753026084, 92.56059704722333, 84.93519950745682, 68.33417910965628, 64.57495313263765, 59.2216709920283, 46.11245995030796, 40.48980411789053, 38.505351808265054, 37.42138466539876, 37.326146400477235, 35.67172381546533, 34.72210783258037, 29.227824440279008, 26.7325327531607, 26.38486964448948, 25.84871121112689, 25.428822972457706, 24.410090793904715, 22.574290303373143, 21.49793204142161, 20.05755859771417, 19.394686407618305, 18.413906484562286, 17.90584913157923, 17.55865225335622, 16.89361894800631, 16.70842892293953, 14.775216985091372, 116.1294827703841, 99.8843668232823, 91.8385802343046, 68.4372595444129, 65.62079857183164, 64.36505924604141, 59.82108596063288, 52.518419016685186, 47.582345936129165, 44.47743187468579, 38.69947095811196, 37.84654123131126, 35.248012313655444, 35.0066760362328, 32.69955933928694, 30.785852994880095, 27.939334200736972, 27.022556806144056, 25.404287259896858, 24.73589903680345, 24.713155034771955, 24.674759458945456, 24.624473984612138, 20.050826358990083, 20.02929012553509, 19.94668547570943, 19.436505052597994, 18.906219532609942, 17.850853164748294, 17.03504206041825, 82.01824530658725, 55.07043346186298, 45.77383928594416, 39.488944073554094, 39.07281229136048, 36.92634263063915, 32.14710735848662, 25.998979034057808, 25.606574953574817, 22.48560107437312, 21.685052515783077, 19.299888501952186, 19.049859082629073, 18.893728777158067, 16.686477857134648, 16.07045582218676, 16.015190583497052, 15.951985124284766, 15.721747703630832, 15.256035721281918, 13.428925424227671, 12.054320773457793, 11.663899031745984, 11.682628632048148, 10.917880483884842, 10.40578636191953, 10.374940591149887, 9.99203471424929, 9.834230527714796, 9.111045093848418], \"Total\": [670.0, 1013.0, 542.0, 254.0, 272.0, 229.0, 204.0, 205.0, 218.0, 223.0, 197.0, 161.0, 152.0, 270.0, 158.0, 265.0, 170.0, 257.0, 138.0, 135.0, 136.0, 132.0, 117.0, 124.0, 114.0, 100.0, 125.0, 110.0, 82.0, 105.0, 1013.7807302794191, 270.2408260157044, 265.28034973106367, 257.6805771358372, 175.64093919011884, 175.21642037542748, 158.41135396841847, 155.22573809146712, 148.7989653554852, 136.44037823178448, 129.37270377831402, 129.3231669127833, 127.71796268728355, 127.6373186913009, 126.13811118653206, 123.97306880683337, 104.71509180601902, 85.82366584029396, 84.1060118453791, 80.62203236878048, 73.63350548685267, 72.45756314615642, 71.916713879565, 60.80208029427344, 59.88955698285508, 56.68566234622097, 53.74976075453583, 52.64042874370419, 52.46411845963703, 51.08474007158938, 542.7857637682308, 223.1696444391446, 125.70594150863215, 110.0422177043849, 95.18642654832016, 81.8648132483588, 77.02254306403155, 72.46845592269347, 62.46953079375943, 57.003865651565235, 54.92478639727702, 53.29656683299853, 48.51540672661924, 46.70569516780287, 45.549385021090785, 45.52427965333068, 43.86154936478539, 42.24923807254035, 40.461017715290915, 37.75198093921974, 36.44009966291204, 31.912760522419134, 30.377287722848617, 29.99685975549037, 29.71760313307742, 28.63924923538329, 26.743597910309404, 25.752608598736753, 25.05201149687015, 23.846921989112587, 670.8221584643899, 272.46982366043125, 218.0014416043163, 170.03582116437846, 91.58003743924459, 72.67308614460889, 70.07347552821075, 56.066916431363786, 48.36603145293367, 39.98588764899793, 38.89146861458735, 36.21464702501691, 31.931496944695535, 26.988979122353413, 26.512692589684516, 25.102575978498848, 24.99306372167827, 24.436107550227593, 23.702360893681245, 23.63270797438413, 22.13316650743484, 21.715425166103945, 21.534991517370244, 21.257945166119075, 20.69977266713564, 20.573957342134293, 19.80401200598016, 19.378867360815047, 18.706529289024115, 18.156340625657766, 65.80680481177711, 197.59620284177504, 124.29675510087316, 107.4524942046894, 97.94576252892853, 91.25992207466217, 86.50153812715139, 77.42184740908147, 43.06818276831271, 42.84646446387359, 41.60432879992036, 40.48170222089432, 40.18046804464543, 39.963261044015596, 39.41795985120455, 38.55057440253164, 37.129334973208955, 35.19064989175489, 33.63636470591918, 32.9592572745723, 32.180434950856664, 31.228353252796097, 28.725645729731003, 28.552373254306463, 27.77860463685257, 27.291861404038677, 24.731253435753967, 24.228068891026567, 22.846573264320465, 22.11266753529537, 21.950338859252394, 254.11547350026777, 229.60831956501843, 158.91471965443003, 110.65528644468648, 98.9276058600746, 97.32057784339956, 67.34672834869156, 59.74599611092135, 58.22224079944122, 51.301952524951005, 50.86989475989477, 49.346429452669454, 46.414367575740954, 40.32516505373125, 32.63518319844045, 31.512400509005047, 30.553189964808325, 30.131569290685345, 28.81831640596053, 26.101025712061492, 25.322615012535014, 24.359199595536893, 23.896513067591915, 23.660990784777574, 22.161953256364757, 22.001256797554515, 21.57287398496103, 17.52469534162789, 17.453469546668934, 17.11703292859828, 205.67237547978948, 161.55190363101676, 136.60172898273032, 132.41042608500655, 77.474406303911, 76.0429600313473, 71.83426268874999, 66.99527852438483, 62.61875357835681, 43.417276346447686, 36.640200153228456, 35.45553334740562, 35.05529703186747, 34.819334877406824, 31.0341132740022, 28.509409278840508, 27.122659497518416, 26.719282648033687, 26.558390532115826, 25.65039141733054, 25.257606420856145, 25.056623671221846, 24.420514568251942, 23.6349045460158, 22.021659881684553, 21.773388900618578, 21.691213972465125, 20.96977383354998, 20.35922754150276, 20.113511002154784, 204.64215226591864, 138.57669695478708, 135.78369550354967, 105.28783265261076, 65.82231961103031, 58.33837356865531, 46.78720317027586, 45.83707453708891, 40.48824873096753, 39.70413935970736, 39.04476107786541, 33.88472766064759, 30.06802818305453, 29.966393716539223, 29.321099719184417, 28.340893737377375, 27.816910972159572, 24.72261379946045, 24.492072212493603, 23.878321157664928, 22.33871654300629, 22.264133342100504, 21.830582977687165, 21.670516671016742, 21.286281725576487, 20.4169877625296, 19.03371457344091, 17.899085303255887, 17.570038608245, 17.45199928419773, 152.41714375750541, 114.22057968749093, 93.4502324773764, 85.82484108689474, 69.22387389879754, 65.46456527084854, 60.111301923325755, 47.002129420986, 41.37949772228603, 39.39494446954023, 38.311026517222345, 38.21578209780342, 36.56168423917317, 35.611764652396396, 30.117559962786686, 27.62218157379821, 27.274944741485086, 26.738304306076166, 26.31868699991895, 25.29967198632119, 23.464068491330217, 22.38772346965036, 20.94735216331937, 20.284342783309377, 19.303652992954053, 18.795496993317446, 18.448529348654453, 17.783453305799608, 17.59830286831832, 15.66498530273231, 117.01957087844542, 100.77436975700289, 92.72865114359088, 69.32738271570051, 66.510934929588, 65.25511996559767, 60.711170548881476, 53.408495380825556, 48.47238366597989, 45.36749578227657, 39.58961815375166, 38.736621416734934, 36.13820265725071, 35.89670733325713, 33.58972817034264, 31.676042873981764, 28.82942193786833, 27.912603927242127, 26.294398460471047, 25.626628014093537, 25.60330330910724, 25.564809526454134, 25.514550196816906, 20.94092779250685, 20.91961761957174, 20.836778951533297, 20.326625810425117, 19.79660661010409, 18.740841774506627, 17.927226039974734, 82.91009801310882, 55.962308945199965, 46.665830127051535, 40.380806941992105, 39.96472603234606, 37.81824536648168, 33.039022699254126, 26.890726999236538, 26.49856156423715, 23.377667232083724, 22.5769172533543, 20.191892269533614, 19.94169470928348, 19.785662436030872, 17.57839088692794, 16.962318505843378, 16.907004326946478, 16.84379607752789, 16.613543312495594, 16.151751034194984, 14.320763626020131, 12.946134830617748, 12.555994418555876, 12.598482570818952, 11.809730287882198, 11.299483520441916, 11.268160044002002, 10.88433619453542, 10.726127662687453, 10.003088530913349], \"Category\": [\"Default\", \"Default\", \"Default\", \"Default\", \"Default\", \"Default\", \"Default\", \"Default\", \"Default\", \"Default\", \"Default\", \"Default\", \"Default\", \"Default\", \"Default\", \"Default\", \"Default\", \"Default\", \"Default\", \"Default\", \"Default\", \"Default\", \"Default\", \"Default\", \"Default\", \"Default\", \"Default\", \"Default\", \"Default\", \"Default\", \"Topic1\", \"Topic1\", \"Topic1\", \"Topic1\", \"Topic1\", \"Topic1\", \"Topic1\", \"Topic1\", \"Topic1\", \"Topic1\", \"Topic1\", \"Topic1\", \"Topic1\", \"Topic1\", \"Topic1\", \"Topic1\", \"Topic1\", \"Topic1\", \"Topic1\", \"Topic1\", \"Topic1\", \"Topic1\", \"Topic1\", \"Topic1\", \"Topic1\", \"Topic1\", \"Topic1\", \"Topic1\", \"Topic1\", \"Topic1\", \"Topic2\", \"Topic2\", \"Topic2\", \"Topic2\", \"Topic2\", \"Topic2\", \"Topic2\", \"Topic2\", \"Topic2\", \"Topic2\", \"Topic2\", \"Topic2\", \"Topic2\", \"Topic2\", \"Topic2\", \"Topic2\", \"Topic2\", \"Topic2\", \"Topic2\", \"Topic2\", \"Topic2\", \"Topic2\", \"Topic2\", \"Topic2\", \"Topic2\", \"Topic2\", \"Topic2\", \"Topic2\", \"Topic2\", \"Topic2\", \"Topic3\", \"Topic3\", \"Topic3\", \"Topic3\", \"Topic3\", \"Topic3\", \"Topic3\", \"Topic3\", \"Topic3\", \"Topic3\", \"Topic3\", \"Topic3\", \"Topic3\", \"Topic3\", \"Topic3\", \"Topic3\", \"Topic3\", \"Topic3\", \"Topic3\", \"Topic3\", \"Topic3\", \"Topic3\", \"Topic3\", \"Topic3\", \"Topic3\", \"Topic3\", \"Topic3\", \"Topic3\", \"Topic3\", \"Topic3\", \"Topic3\", \"Topic4\", \"Topic4\", \"Topic4\", \"Topic4\", \"Topic4\", \"Topic4\", \"Topic4\", \"Topic4\", \"Topic4\", \"Topic4\", \"Topic4\", \"Topic4\", \"Topic4\", \"Topic4\", \"Topic4\", \"Topic4\", \"Topic4\", \"Topic4\", \"Topic4\", \"Topic4\", \"Topic4\", \"Topic4\", \"Topic4\", \"Topic4\", \"Topic4\", \"Topic4\", \"Topic4\", \"Topic4\", \"Topic4\", \"Topic4\", \"Topic5\", \"Topic5\", \"Topic5\", \"Topic5\", \"Topic5\", \"Topic5\", \"Topic5\", \"Topic5\", \"Topic5\", \"Topic5\", \"Topic5\", \"Topic5\", \"Topic5\", \"Topic5\", \"Topic5\", \"Topic5\", \"Topic5\", \"Topic5\", \"Topic5\", \"Topic5\", \"Topic5\", \"Topic5\", \"Topic5\", \"Topic5\", \"Topic5\", \"Topic5\", \"Topic5\", \"Topic5\", \"Topic5\", \"Topic5\", \"Topic6\", \"Topic6\", \"Topic6\", \"Topic6\", \"Topic6\", \"Topic6\", \"Topic6\", \"Topic6\", \"Topic6\", \"Topic6\", \"Topic6\", \"Topic6\", \"Topic6\", \"Topic6\", \"Topic6\", \"Topic6\", \"Topic6\", \"Topic6\", \"Topic6\", \"Topic6\", \"Topic6\", \"Topic6\", \"Topic6\", \"Topic6\", \"Topic6\", \"Topic6\", \"Topic6\", \"Topic6\", \"Topic6\", \"Topic6\", \"Topic7\", \"Topic7\", \"Topic7\", \"Topic7\", \"Topic7\", \"Topic7\", \"Topic7\", \"Topic7\", \"Topic7\", \"Topic7\", \"Topic7\", \"Topic7\", \"Topic7\", \"Topic7\", \"Topic7\", \"Topic7\", \"Topic7\", \"Topic7\", \"Topic7\", \"Topic7\", \"Topic7\", \"Topic7\", \"Topic7\", \"Topic7\", \"Topic7\", \"Topic7\", \"Topic7\", \"Topic7\", \"Topic7\", \"Topic7\", \"Topic8\", \"Topic8\", \"Topic8\", \"Topic8\", \"Topic8\", \"Topic8\", \"Topic8\", \"Topic8\", \"Topic8\", \"Topic8\", \"Topic8\", \"Topic8\", \"Topic8\", \"Topic8\", \"Topic8\", \"Topic8\", \"Topic8\", \"Topic8\", \"Topic8\", \"Topic8\", \"Topic8\", \"Topic8\", \"Topic8\", \"Topic8\", \"Topic8\", \"Topic8\", \"Topic8\", \"Topic8\", \"Topic8\", \"Topic8\", \"Topic9\", \"Topic9\", \"Topic9\", \"Topic9\", \"Topic9\", \"Topic9\", \"Topic9\", \"Topic9\", \"Topic9\", \"Topic9\", \"Topic9\", \"Topic9\", \"Topic9\", \"Topic9\", \"Topic9\", \"Topic9\", \"Topic9\", \"Topic9\", \"Topic9\", \"Topic9\", \"Topic9\", \"Topic9\", \"Topic9\", \"Topic9\", \"Topic9\", \"Topic9\", \"Topic9\", \"Topic9\", \"Topic9\", \"Topic9\", \"Topic10\", \"Topic10\", \"Topic10\", \"Topic10\", \"Topic10\", \"Topic10\", \"Topic10\", \"Topic10\", \"Topic10\", \"Topic10\", \"Topic10\", \"Topic10\", \"Topic10\", \"Topic10\", \"Topic10\", \"Topic10\", \"Topic10\", \"Topic10\", \"Topic10\", \"Topic10\", \"Topic10\", \"Topic10\", \"Topic10\", \"Topic10\", \"Topic10\", \"Topic10\", \"Topic10\", \"Topic10\", \"Topic10\", \"Topic10\"], \"logprob\": [30.0, 29.0, 28.0, 27.0, 26.0, 25.0, 24.0, 23.0, 22.0, 21.0, 20.0, 19.0, 18.0, 17.0, 16.0, 15.0, 14.0, 13.0, 12.0, 11.0, 10.0, 9.0, 8.0, 7.0, 6.0, 5.0, 4.0, 3.0, 2.0, 1.0, -1.9235, -3.248, -3.2666, -3.2958, -3.6807, -3.6831, -3.7845, -3.8049, -3.8474, -3.9347, -3.9882, -3.9886, -4.0012, -4.0018, -4.0137, -4.0311, -4.2013, -4.4021, -4.4225, -4.4653, -4.557, -4.5733, -4.5809, -4.7511, -4.7664, -4.8223, -4.8763, -4.8975, -4.9009, -4.928, -1.8667, -2.7579, -3.335, -3.469, -3.6153, -3.7676, -3.8293, -3.891, -4.0414, -4.1344, -4.1721, -4.2027, -4.2984, -4.3371, -4.3627, -4.3633, -4.4012, -4.4395, -4.4837, -4.5546, -4.5908, -4.727, -4.7778, -4.7908, -4.8004, -4.8385, -4.9093, -4.9483, -4.9769, -5.0281, -1.5802, -2.4832, -2.707, -2.9567, -3.58, -3.8139, -3.8508, -4.077, -4.2274, -4.4216, -4.45, -4.5231, -4.6524, -4.8259, -4.8443, -4.9009, -4.9054, -4.9288, -4.9606, -4.9636, -5.0318, -5.0517, -5.0604, -5.0739, -5.1017, -5.1081, -5.148, -5.1707, -5.2078, -5.2392, -3.9526, -2.6502, -3.1164, -3.2632, -3.3566, -3.428, -3.4821, -3.5942, -4.1901, -4.1953, -4.2254, -4.2533, -4.261, -4.2665, -4.2806, -4.3033, -4.3418, -4.3968, -4.4432, -4.4641, -4.4887, -4.5196, -4.6057, -4.6119, -4.6403, -4.6586, -4.7606, -4.782, -4.843, -4.877, -4.8847, -2.3863, -2.4881, -2.8578, -3.2222, -3.3351, -3.3517, -3.7239, -3.8453, -3.8715, -4.0001, -4.0087, -4.0397, -4.1021, -4.2456, -4.4624, -4.4984, -4.5302, -4.5446, -4.5905, -4.6928, -4.7241, -4.7643, -4.7842, -4.7945, -4.8626, -4.8701, -4.8906, -5.1083, -5.1126, -5.1331, -2.523, -2.7656, -2.9344, -2.9657, -3.5065, -3.5254, -3.583, -3.6537, -3.7222, -4.0947, -4.2683, -4.302, -4.3137, -4.3206, -4.4389, -4.5264, -4.5779, -4.5934, -4.5996, -4.6356, -4.6516, -4.6599, -4.6866, -4.7205, -4.7942, -4.8059, -4.8099, -4.8452, -4.8761, -4.8887, -2.5131, -2.905, -2.9255, -3.1818, -3.6567, -3.7791, -4.0036, -4.0245, -4.1512, -4.1712, -4.1884, -4.3337, -4.4566, -4.4601, -4.4826, -4.5176, -4.5369, -4.659, -4.6687, -4.6951, -4.7644, -4.7679, -4.7884, -4.796, -4.8147, -4.8583, -4.9317, -4.9963, -5.0159, -5.023, -2.7439, -3.0343, -3.2368, -3.3228, -3.5402, -3.5968, -3.6834, -3.9336, -4.0636, -4.1138, -4.1424, -4.1449, -4.1903, -4.2173, -4.3895, -4.4788, -4.4919, -4.5124, -4.5288, -4.5696, -4.6478, -4.6967, -4.766, -4.7996, -4.8515, -4.8795, -4.8991, -4.9377, -4.9487, -5.0717, -2.9056, -3.0563, -3.1403, -3.4344, -3.4764, -3.4958, -3.569, -3.6992, -3.7979, -3.8654, -4.0045, -4.0268, -4.0979, -4.1048, -4.173, -4.2333, -4.3303, -4.3637, -4.4254, -4.4521, -4.453, -4.4546, -4.4566, -4.6621, -4.6631, -4.6673, -4.6932, -4.7208, -4.7783, -4.8251, -2.7603, -3.1587, -3.3436, -3.4912, -3.5018, -3.5583, -3.6969, -3.9092, -3.9244, -4.0544, -4.0906, -4.2072, -4.2202, -4.2284, -4.3527, -4.3903, -4.3937, -4.3977, -4.4122, -4.4423, -4.5699, -4.6778, -4.7108, -4.7092, -4.7769, -4.8249, -4.8279, -4.8655, -4.8814, -4.9578], \"loglift\": [30.0, 29.0, 28.0, 27.0, 26.0, 25.0, 24.0, 23.0, 22.0, 21.0, 20.0, 19.0, 18.0, 17.0, 16.0, 15.0, 14.0, 13.0, 12.0, 11.0, 10.0, 9.0, 8.0, 7.0, 6.0, 5.0, 4.0, 3.0, 2.0, 1.0, 1.4664, 1.464, 1.4639, 1.4638, 1.4622, 1.4622, 1.4617, 1.4616, 1.4613, 1.4608, 1.4604, 1.4604, 1.4603, 1.4603, 1.4602, 1.4601, 1.4588, 1.4569, 1.4567, 1.4562, 1.4552, 1.455, 1.4549, 1.4526, 1.4524, 1.4515, 1.4507, 1.4503, 1.4503, 1.4498, 2.1479, 2.1455, 2.1424, 2.1414, 2.1401, 2.1386, 2.1379, 2.1372, 2.1352, 2.1338, 2.1332, 2.1327, 2.131, 2.1303, 2.1298, 2.1298, 2.1291, 2.1283, 2.1273, 2.1257, 2.1248, 2.1213, 2.1199, 2.1195, 2.1192, 2.118, 2.1157, 2.1144, 2.1134, 2.1116, 2.2226, 2.2206, 2.2198, 2.2186, 2.2141, 2.2115, 2.211, 2.2078, 2.2052, 2.2012, 2.2005, 2.1988, 2.1954, 2.19, 2.1894, 2.1874, 2.1873, 2.1864, 2.1852, 2.1851, 2.1824, 2.1816, 2.1813, 2.1807, 2.1795, 2.1792, 2.1774, 2.1764, 2.1747, 2.1731, 2.172, 2.3749, 2.3723, 2.3711, 2.3703, 2.3696, 2.3691, 2.3679, 2.3585, 2.3584, 2.3577, 2.3571, 2.357, 2.3568, 2.3565, 2.356, 2.3551, 2.3537, 2.3525, 2.352, 2.3513, 2.3504, 2.3478, 2.3476, 2.3467, 2.3461, 2.3426, 2.3418, 2.3395, 2.3382, 2.3379, 2.3872, 2.3869, 2.3852, 2.3827, 2.3818, 2.3816, 2.3776, 2.3759, 2.3755, 2.3735, 2.3733, 2.3728, 2.3716, 2.3687, 2.3635, 2.3625, 2.3616, 2.3612, 2.3598, 2.3566, 2.3555, 2.3541, 2.3534, 2.353, 2.3504, 2.3501, 2.3493, 2.3394, 2.3392, 2.3382, 2.4621, 2.4609, 2.4599, 2.4597, 2.4549, 2.4546, 2.4539, 2.453, 2.4521, 2.4457, 2.4418, 2.441, 2.4407, 2.4405, 2.4373, 2.4347, 2.4331, 2.4326, 2.4323, 2.4311, 2.4306, 2.4303, 2.4293, 2.4281, 2.4251, 2.4247, 2.4245, 2.4231, 2.4217, 2.4212, 2.477, 2.4749, 2.4747, 2.4728, 2.4677, 2.4659, 2.4621, 2.4617, 2.4591, 2.4586, 2.4582, 2.4547, 2.4512, 2.4511, 2.4505, 2.4494, 2.4488, 2.4446, 2.4443, 2.4433, 2.4406, 2.4405, 2.4396, 2.4393, 2.4385, 2.4367, 2.4334, 2.4302, 2.4293, 2.4289, 2.5408, 2.5389, 2.5371, 2.5363, 2.5337, 2.533, 2.5318, 2.5276, 2.5249, 2.5238, 2.5232, 2.5231, 2.522, 2.5214, 2.5167, 2.5139, 2.5135, 2.5128, 2.5123, 2.5109, 2.508, 2.5061, 2.5033, 2.5018, 2.4995, 2.4982, 2.4972, 2.4953, 2.4948, 2.4882, 2.6433, 2.6421, 2.6413, 2.6381, 2.6375, 2.6372, 2.6362, 2.6342, 2.6324, 2.6312, 2.6282, 2.6277, 2.626, 2.6259, 2.6241, 2.6225, 2.6196, 2.6186, 2.6165, 2.6156, 2.6156, 2.6155, 2.6155, 2.6075, 2.6075, 2.6073, 2.6062, 2.605, 2.6023, 2.5999, 3.1332, 3.128, 3.1247, 3.1217, 3.1215, 3.1202, 3.1167, 3.1103, 3.1098, 3.1051, 3.1037, 3.0989, 3.0983, 3.0979, 3.092, 3.09, 3.0899, 3.0897, 3.0889, 3.087, 3.0797, 3.0727, 3.0703, 3.0686, 3.0655, 3.0617, 3.0615, 3.0585, 3.0572, 3.0506]}, \"token.table\": {\"Topic\": [9, 2, 2, 8, 9, 7, 8, 2, 2, 8, 4, 8, 6, 1, 10, 9, 4, 5, 2, 9, 3, 1, 2, 3, 5, 8, 2, 5, 6, 7, 9, 10, 5, 7, 8, 7, 3, 1, 6, 9, 2, 7, 9, 6, 10, 4, 7, 10, 6, 1, 8, 6, 5, 6, 7, 4, 4, 3, 8, 7, 3, 1, 7, 4, 7, 9, 3, 6, 2, 2, 2, 10, 9, 1, 2, 3, 8, 10, 3, 8, 2, 10, 8, 9, 3, 1, 3, 2, 7, 8, 3, 10, 5, 5, 7, 10, 9, 8, 10, 5, 7, 10, 4, 2, 5, 1, 3, 4, 2, 6, 5, 3, 7, 9, 4, 9, 5, 7, 2, 6, 4, 4, 2, 1, 5, 5, 6, 7, 1, 3, 7, 1, 9, 8, 5, 10, 7, 6, 4, 10, 6, 10, 5, 10, 7, 2, 6, 5, 3, 1, 8, 10, 7, 4, 8, 9, 2, 6, 9, 10, 10, 7, 3, 2, 6, 1, 1, 2, 9, 2, 4, 6, 9, 9, 7, 9, 2, 3, 3, 3, 9, 8, 4, 5, 9, 4, 1, 8, 10, 6, 5, 8, 2, 1, 3, 3, 8, 4, 1, 8, 7, 7, 6, 1, 6, 3, 7, 5, 7, 1, 5, 1, 6, 10, 3, 6, 8, 7, 7, 5, 9, 4, 2, 10, 3, 8, 3, 5, 6, 1, 1, 1, 4, 9, 5, 6, 5, 5, 7, 4, 10, 9, 4, 1, 5, 6, 8, 8, 8, 3, 10, 10, 1, 4, 4, 4, 6, 3, 6, 1, 1, 3, 5, 8, 6, 4, 4, 5, 1, 2, 10, 1, 9, 10, 10, 10, 4, 7, 4, 3, 4, 6, 2, 5, 10, 4, 8, 9, 6, 10, 8, 5, 1, 8, 9, 3, 2, 9, 9, 3, 2, 1], \"Freq\": [0.9921421142807032, 0.9776792600207722, 0.9985523500786466, 0.9681863871137861, 0.9673049519270596, 0.987506979154036, 0.9756875282480353, 0.9848905970617187, 0.9758525904709089, 0.9660022405117583, 0.9903440179083889, 0.9786790634098684, 0.9764689681669231, 0.9992298825021029, 0.8997221180425002, 0.9598412521685977, 0.9747387495982393, 0.97900732121164, 0.9894360810946314, 0.9923180311609076, 0.9939082179432233, 0.9911536022473323, 0.958006905074206, 0.9594015593538636, 0.9837397183099833, 0.995182114956371, 0.9935357264518897, 0.9442017957032576, 0.9644800860284728, 0.9400719132440306, 0.9923514905650719, 0.9077728213026037, 0.9875138727365702, 0.9822653413205088, 0.9532558267828165, 0.9738900760983515, 0.9288468549197473, 0.9868083412542551, 0.9502088044329611, 0.9712300184285396, 0.9879386950924496, 0.9632167960274298, 0.9824431990830064, 0.9883862845176715, 0.8874563336827082, 0.9633182412649385, 0.9690585747817667, 0.985731955796377, 0.9446386559743104, 0.9967723760554492, 0.9802221643061737, 0.9825273838420326, 0.9942439589207397, 0.9537537294752118, 0.9677507502010212, 0.9854743768893223, 0.9567050483664031, 0.9602664270080297, 0.949895410818822, 0.9644796068251512, 0.9809706597174844, 0.9954084435205498, 0.9706325776799166, 0.9758963353127099, 0.9741004295933589, 0.9807659542077408, 0.9954062615506278, 0.9730800164993718, 0.9947589447387252, 0.9707754421905954, 0.9875357591271915, 0.9602913251668473, 0.968504170834231, 0.9922845858569381, 0.9756726012566392, 0.9806623718828169, 0.9823200605532885, 0.9828043380743584, 0.990738164837674, 0.9547746103692157, 0.9867241066919658, 0.9670964827982033, 0.9486288997334081, 0.9809838496545623, 0.9982756855268613, 0.9868497884858409, 0.9661941858788311, 0.9644850606086919, 0.9817380462094807, 0.9366830467701336, 0.9488023321446485, 0.9658053653069474, 0.9973506205429713, 0.9720641121587003, 0.9675562119722663, 0.975860561847334, 0.9786575969520153, 0.9657793946963811, 0.9783637406084711, 0.9477694143404896, 0.9526869635868632, 0.9668760536202005, 0.9719710674084892, 0.9800810203726681, 0.9475699076284689, 0.9973588341682483, 0.9821531498283355, 0.9704320107489257, 0.988483515668494, 0.9965837379900067, 0.9734447072114547, 0.9717563874500849, 0.943221084662205, 0.9902545814698313, 0.9493121430127099, 0.9764365050156383, 0.9800030620386072, 0.9877684569986366, 0.9803575255032579, 0.9871519815273361, 0.9606654490279242, 0.9708956647117059, 0.9893764319131958, 0.9904028121820538, 0.9544909271880411, 0.967138012901732, 0.9789749860240744, 0.9497692039552244, 0.04558799061253169, 0.9421518059923215, 0.9707711407328532, 0.9893895409292349, 0.9750197887251246, 0.9575495737863015, 0.9740183723668008, 0.931435327637156, 0.9456903396626886, 0.9578305646807712, 0.9661657316526611, 0.9811853347953039, 0.9586080598909877, 0.949904637075627, 0.9700596597316281, 0.9744465886604343, 0.9732419651440078, 0.954660609090104, 0.9903891634491755, 0.934741439520631, 0.993666333237422, 0.9913965051281474, 0.9828212766660742, 0.8849962019864874, 0.9942283534069142, 0.9895672650519254, 0.9324659952481588, 0.9698573668505017, 0.9886058794038518, 0.9901187177483093, 0.9604691302866447, 0.9410690887843163, 0.9527775987441481, 0.961953238787251, 0.9987744017486364, 0.9831626764902109, 0.9698962176555476, 0.9931710721569752, 0.9946305718351169, 0.9721952927648992, 0.9882860016953737, 0.9879226547955915, 0.9945513130569914, 0.9731369955491177, 0.9347345780456726, 0.9550675212755598, 0.9799089187625948, 0.9507728437896404, 0.9924838431185026, 0.9846807152047342, 0.9622308725414572, 0.9708282719626686, 0.9808534137060406, 0.9846373532603466, 0.9526649580652089, 0.9716042951839033, 0.9923158065005009, 0.9942019744618394, 0.9963508553696295, 0.9723877663435676, 0.9409717398635297, 0.9821318893752531, 0.9910724287029276, 0.9815125960049366, 0.9905289285682638, 0.9974032545135592, 0.9703674711210525, 0.9751571057300525, 0.9380140874291389, 0.9806540335758902, 0.9872531178065204, 0.9899747423214267, 0.99686207235993, 0.9879409767952229, 0.9862845945118738, 0.9936850878460617, 0.9955950119576715, 0.9753441099606891, 0.9395722680851791, 0.9578167645897264, 0.9958384276183517, 0.9909772615443002, 0.9746217743989803, 0.9921035125583049, 0.9536065906396879, 0.9630696895325076, 0.9770780418856957, 0.9851440497553485, 0.977475292017181, 0.9549437186245767, 0.9831748188193482, 0.9940781279797776, 0.9798330680788917, 0.9751978676681333, 0.966767862915787, 0.9524956622787908, 0.9664597856171886, 0.9929035613552694, 0.9732274449855712, 0.9624457232954292, 0.933237764609097, 0.9897685237349959, 0.9943785300659589, 0.9860509006177752, 0.9881007419533437, 0.9912871764031291, 0.986430641158702, 0.9827802740570162, 0.9624835194550726, 0.9818941994127127, 0.9770584353525, 0.9695837543542367, 0.9187514811441226, 0.9482783316332837, 0.9957888906345214, 0.9950067997523334, 0.995610367661194, 0.9681339194135213, 0.9628934095535114, 0.957676192675284, 0.9559448160980013, 0.9670545172092386, 0.9286918779421127, 0.9269175825065464, 0.9921509662042041, 0.9706208488329756, 0.9810810498850611, 0.949681894619029, 0.9938766061394516, 0.9408247054788725, 0.996900349185924, 0.9787658688275747, 0.9951735975455338, 0.9721027251787452, 0.9805368581944776, 0.966662289340862, 0.9967308420578069, 0.9857181271339116, 0.9969827211596144, 0.9828996154994882, 0.9879041309946573, 0.9704317017410952, 0.9685516515209276, 0.9878338995523325, 0.9560404192707914, 0.9557188064902131, 0.9323029069275948, 0.9890230739690486, 0.9893967152845488, 0.979576430794807, 0.980244240114904, 0.9363120218165727, 0.9861941359797415, 0.9666781755653224, 0.9713982586439707, 0.9906233871525544, 0.9463533391600966, 0.9629452848562388, 0.9893138373940104, 0.9779067578864737, 0.9746439963917625, 0.9432672776712767, 0.9972631441108155, 0.9727147542871186, 0.9930576119930934, 0.9903892500533777, 0.9851067481514524, 0.956077177918185, 0.994384183435087, 0.9597604465354429, 0.9755477773451536, 0.9633561863207231, 0.9823895162180519, 0.9851467095822776], \"Term\": [\"able\", \"absolute\", \"account\", \"account_money\", \"actual\", \"ad\", \"additional\", \"address\", \"advertising\", \"alternative\", \"amount\", \"annoying\", \"answer\", \"app\", \"app_bad\", \"app_phone\", \"application\", \"asset\", \"available\", \"awful\", \"bad\", \"bad_app\", \"bad_customer_service\", \"bad_platform\", \"bad_trading\", \"bank\", \"bank_account\", \"bank_statement\", \"basic\", \"beginner\", \"big\", \"bit\", \"broker\", \"brokerage\", \"bunch\", \"business\", \"business_day\", \"button\", \"buy\", \"careful\", \"case\", \"certain\", \"charge\", \"chart\", \"cheat\", \"clear\", \"client\", \"close\", \"closed\", \"coin\", \"coinbase\", \"commission\", \"company\", \"competitor\", \"complete\", \"complicated\", \"confusing\", \"connection\", \"consent\", \"cost\", \"country\", \"crypto\", \"cryptocurrency\", \"currency\", \"current\", \"customer\", \"customer_service\", \"datum\", \"day\", \"day_money\", \"deposit\", \"design\", \"detail\", \"different\", \"difficult\", \"disappointed\", \"document\", \"dollar\", \"easy\", \"easy_money\", \"email\", \"end\", \"enough\", \"error\", \"etoro\", \"exchange\", \"excuse\", \"expensive\", \"experience\", \"explanation\", \"false\", \"feature\", \"fee\", \"fee_high\", \"feedback\", \"few\", \"financial\", \"fine\", \"first\", \"fraud\", \"free\", \"free_stock\", \"frustrating\", \"full\", \"functionality\", \"fund\", \"fund_account\", \"gain\", \"garbage\", \"good\", \"good_app\", \"great\", \"green\", \"guy\", \"half\", \"happy\", \"hard\", \"high\", \"horrible\", \"hour\", \"huge\", \"impossible\", \"info\", \"information\", \"initial\", \"interface\", \"internet\", \"investing\", \"investment\", \"investment\", \"investor\", \"issue\", \"joke\", \"key\", \"kind\", \"last_update\", \"least\", \"legal\", \"less\", \"lie\", \"limited\", \"line\", \"link\", \"list\", \"little\", \"login\", \"long\", \"look\", \"loss\", \"lot\", \"low\", \"machine\", \"many\", \"market\", \"marketing\", \"message\", \"method\", \"minimum\", \"minute\", \"mistake\", \"mobile\", \"moment\", \"money\", \"money_account\", \"money_time\", \"month\", \"more\", \"more_money\", \"much\", \"name\", \"new\", \"new_update\", \"news\", \"next\", \"nice\", \"non\", \"notification\", \"number\", \"ok\", \"old\", \"one\", \"only\", \"open\", \"opportunity\", \"option\", \"order\", \"other\", \"other_app\", \"other_broker\", \"other_platform\", \"own\", \"page\", \"password\", \"people\", \"percentage\", \"period\", \"person\", \"personal\", \"phone\", \"place\", \"platform\", \"point\", \"poor\", \"portfolio\", \"position\", \"possible\", \"practice\", \"previous\", \"price\", \"problem\", \"process\", \"profit\", \"profit_loss\", \"promotion\", \"proof\", \"question\", \"quick\", \"rate\", \"real\", \"reason\", \"region\", \"reply\", \"request\", \"reset\", \"response\", \"review\", \"right\", \"rubbish\", \"sale\", \"same\", \"scam\", \"screen\", \"sell\", \"service\", \"share\", \"short\", \"side\", \"single\", \"slow\", \"small\", \"smart\", \"south\", \"spread\", \"star\", \"stock\", \"stop\", \"stop_loss\", \"strong\", \"stuff\", \"stupid\", \"success\", \"suck\", \"support\", \"system\", \"team\", \"tech\", \"terrible\", \"thank\", \"thing\", \"ticket\", \"time\", \"time_money\", \"top\", \"total\", \"trade\", \"trader\", \"trading\", \"trading_app\", \"transaction\", \"transfer\", \"trash\", \"unable\", \"unacceptable\", \"unnecessary\", \"unusable\", \"update\", \"usd\", \"use\", \"useless\", \"useless_app\", \"user\", \"user_friendly\", \"valid\", \"verification\", \"version\", \"video\", \"wallet\", \"warning\", \"waste_time\", \"watchlist\", \"way\", \"webull\", \"week\", \"well\", \"whole\", \"withdraw\", \"withdrawal\", \"withdrawal_fee\", \"withdrawal_request\", \"work\", \"wrong\", \"year\"]}, \"R\": 30, \"lambda.step\": 0.01, \"plot.opts\": {\"xlab\": \"PC1\", \"ylab\": \"PC2\"}, \"topic.order\": [2, 7, 1, 9, 4, 8, 5, 6, 3, 10]};\n",
       "\n",
       "function LDAvis_load_lib(url, callback){\n",
       "  var s = document.createElement('script');\n",
       "  s.src = url;\n",
       "  s.async = true;\n",
       "  s.onreadystatechange = s.onload = callback;\n",
       "  s.onerror = function(){console.warn(\"failed to load library \" + url);};\n",
       "  document.getElementsByTagName(\"head\")[0].appendChild(s);\n",
       "}\n",
       "\n",
       "if(typeof(LDAvis) !== \"undefined\"){\n",
       "   // already loaded: just create the visualization\n",
       "   !function(LDAvis){\n",
       "       new LDAvis(\"#\" + \"ldavis_el172541401856432391206765917831\", ldavis_el172541401856432391206765917831_data);\n",
       "   }(LDAvis);\n",
       "}else if(typeof define === \"function\" && define.amd){\n",
       "   // require.js is available: use it to load d3/LDAvis\n",
       "   require.config({paths: {d3: \"https://d3js.org/d3.v5\"}});\n",
       "   require([\"d3\"], function(d3){\n",
       "      window.d3 = d3;\n",
       "      LDAvis_load_lib(\"https://cdn.jsdelivr.net/gh/bmabey/pyLDAvis@3.3.1/pyLDAvis/js/ldavis.v3.0.0.js\", function(){\n",
       "        new LDAvis(\"#\" + \"ldavis_el172541401856432391206765917831\", ldavis_el172541401856432391206765917831_data);\n",
       "      });\n",
       "    });\n",
       "}else{\n",
       "    // require.js not available: dynamically load d3 & LDAvis\n",
       "    LDAvis_load_lib(\"https://d3js.org/d3.v5.js\", function(){\n",
       "         LDAvis_load_lib(\"https://cdn.jsdelivr.net/gh/bmabey/pyLDAvis@3.3.1/pyLDAvis/js/ldavis.v3.0.0.js\", function(){\n",
       "                 new LDAvis(\"#\" + \"ldavis_el172541401856432391206765917831\", ldavis_el172541401856432391206765917831_data);\n",
       "            })\n",
       "         });\n",
       "}\n",
       "</script>"
      ],
      "text/plain": [
       "PreparedData(topic_coordinates=              x         y  topics  cluster       Freq\n",
       "topic                                                \n",
       "1     -0.226611  0.392897       1        1  23.055457\n",
       "6      0.148662 -0.398368       2        1  11.654228\n",
       "0      0.194783  0.402645       3        1  10.818317\n",
       "8     -0.220129 -0.353739       4        1   9.259906\n",
       "3     -0.301975  0.126321       5        1   9.156723\n",
       "7      0.140260  0.205220       6        1   8.488990\n",
       "4      0.408092 -0.124263       7        1   8.363201\n",
       "5     -0.357615 -0.106364       8        1   7.834183\n",
       "2      0.242691 -0.015419       9        1   7.058209\n",
       "9     -0.028158 -0.128930      10        1   4.310789, topic_info=          Term         Freq        Total Category  logprob  loglift\n",
       "8        money   670.000000   670.000000  Default  30.0000  30.0000\n",
       "33         app  1013.000000  1013.000000  Default  29.0000  29.0000\n",
       "51     account   542.000000   542.000000  Default  28.0000  28.0000\n",
       "42       stock   254.000000   254.000000  Default  27.0000  27.0000\n",
       "2735     etoro   272.000000   272.000000  Default  26.0000  26.0000\n",
       "...        ...          ...          ...      ...      ...      ...\n",
       "508    machine    10.405786    11.299484  Topic10  -4.8249   3.0617\n",
       "781      cheat    10.374941    11.268160  Topic10  -4.8279   3.0615\n",
       "2126     smart     9.992035    10.884336  Topic10  -4.8655   3.0585\n",
       "367   unusable     9.834231    10.726128  Topic10  -4.8814   3.0572\n",
       "267    app_bad     9.111045    10.003089  Topic10  -4.9578   3.0506\n",
       "\n",
       "[331 rows x 6 columns], token_table=      Topic      Freq                Term\n",
       "term                                     \n",
       "50        9  0.992142                able\n",
       "1818      2  0.977679            absolute\n",
       "51        2  0.998552             account\n",
       "0         8  0.968186       account_money\n",
       "286       9  0.967305              actual\n",
       "...     ...       ...                 ...\n",
       "435       9  0.959760      withdrawal_fee\n",
       "2972      9  0.975548  withdrawal_request\n",
       "160       3  0.963356                work\n",
       "1093      2  0.982390               wrong\n",
       "140       1  0.985147                year\n",
       "\n",
       "[302 rows x 3 columns], R=30, lambda_step=0.01, plot_opts={'xlab': 'PC1', 'ylab': 'PC2'}, topic_order=[2, 7, 1, 9, 4, 8, 5, 6, 3, 10])"
      ]
     },
     "execution_count": 31,
     "metadata": {},
     "output_type": "execute_result"
    }
   ],
   "source": [
    "# Visualising the data\n",
    "pyLDAvis.enable_notebook()\n",
    "vis = pyLDAvis.gensim_models.prepare(lda_model, corpus, id2word, mds=\"mmds\", R=30)\n",
    "vis"
   ]
  },
  {
   "cell_type": "code",
   "execution_count": null,
   "metadata": {},
   "outputs": [
    {
     "ename": "NameError",
     "evalue": "name 'csv_file' is not defined",
     "output_type": "error",
     "traceback": [
      "\u001b[0;31m---------------------------------------------------------------------------\u001b[0m",
      "\u001b[0;31mNameError\u001b[0m                                 Traceback (most recent call last)",
      "\u001b[1;32m/home/UW2022/lda_finance_normal.ipynb Cell 14'\u001b[0m in \u001b[0;36m<cell line: 2>\u001b[0;34m()\u001b[0m\n\u001b[1;32m      <a href='vscode-notebook-cell://wsl%2Bubuntu-20.04/home/UW2022/lda_finance_normal.ipynb#ch0000013vscode-remote?line=0'>1</a>\u001b[0m \u001b[39m# Save the model into memory\u001b[39;00m\n\u001b[0;32m----> <a href='vscode-notebook-cell://wsl%2Bubuntu-20.04/home/UW2022/lda_finance_normal.ipynb#ch0000013vscode-remote?line=1'>2</a>\u001b[0m lda_model\u001b[39m.\u001b[39msave(\u001b[39mf\u001b[39m\u001b[39m\"\u001b[39m\u001b[39mmodels/\u001b[39m\u001b[39m{\u001b[39;00mcsv_file[:\u001b[39m-\u001b[39m\u001b[39m4\u001b[39m]\u001b[39m}\u001b[39;00m\u001b[39m.model\u001b[39m\u001b[39m\"\u001b[39m)\n",
      "\u001b[0;31mNameError\u001b[0m: name 'csv_file' is not defined"
     ]
    }
   ],
   "source": [
    "# Save the model into memory\n",
    "lda_model.save(f\"models/{csv_file[:-4]}.model\");"
   ]
  }
 ],
 "metadata": {
  "kernelspec": {
   "display_name": "Python 3.9.12 ('base')",
   "language": "python",
   "name": "python3"
  },
  "language_info": {
   "codemirror_mode": {
    "name": "ipython",
    "version": 3
   },
   "file_extension": ".py",
   "mimetype": "text/x-python",
   "name": "python",
   "nbconvert_exporter": "python",
   "pygments_lexer": "ipython3",
   "version": "3.9.12"
  },
  "orig_nbformat": 4,
  "vscode": {
   "interpreter": {
    "hash": "2f394aca7ca06fed1e6064aef884364492d7cdda3614a461e02e6407fc40ba69"
   }
  }
 },
 "nbformat": 4,
 "nbformat_minor": 2
}
