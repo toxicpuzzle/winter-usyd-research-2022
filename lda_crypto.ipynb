{
 "cells": [
  {
   "cell_type": "code",
   "execution_count": 92,
   "metadata": {},
   "outputs": [],
   "source": [
    "import numpy as np\n",
    "import json\n",
    "import glob\n",
    "import pandas as pd\n",
    "import csv\n",
    "\n",
    "# Gensim\n",
    "import gensim\n",
    "import gensim.corpora as corpora\n",
    "from gensim.utils import simple_preprocess\n",
    "from gensim.models import CoherenceModel\n",
    "\n",
    "# Spacy\n",
    "import spacy\n",
    "from nltk.corpus import stopwords\n",
    "\n",
    "# Vis\n",
    "import pyLDAvis\n",
    "import pyLDAvis.gensim_models\n",
    "import warnings\n",
    "warnings.filterwarnings(\"ignore\", category=DeprecationWarning)\n"
   ]
  },
  {
   "cell_type": "code",
   "execution_count": 93,
   "metadata": {},
   "outputs": [],
   "source": [
    "all_files = [\"coinbase.csv\", \"binance.csv\", \"ftx.csv\", \"kraken.csv\"]"
   ]
  },
  {
   "cell_type": "code",
   "execution_count": 94,
   "metadata": {},
   "outputs": [
    {
     "data": {
      "text/plain": [
       "5543"
      ]
     },
     "execution_count": 94,
     "metadata": {},
     "output_type": "execute_result"
    }
   ],
   "source": [
    "def load_data(file):\n",
    "    with open(file, \"r\", encoding=\"utf-8\") as f:\n",
    "        data = pd.read_csv(file)\n",
    "        # print(data)\n",
    "        # data = json.load(f)\n",
    "    return (data);\n",
    "\n",
    "def write_data(file, data):\n",
    "    with open(file, \"w\", encoding=\"utf-8\") as f:\n",
    "        json.dump(data, f, indent=4);\n",
    "\n",
    "# Combine all the csv files into one\n",
    "\n",
    "li = []\n",
    "for filename in all_files:\n",
    "    df = load_data(filename)\n",
    "    li.append(df)\n",
    "\n",
    "frame = pd.concat(li, axis=0, ignore_index=True)\n",
    "data = frame.loc[:, [\"content\", \"score\"]]\n",
    "data = data.loc[(data.score <= 2)] # Grab only poor reviews\n",
    "content = json.loads(data.loc[:, \"content\"].to_json())\n",
    "\n",
    "# Prefilter step\n",
    "\n",
    "# Remove reviews with <= 50 chars\n",
    "data = [content[key] for key in content if len(content[key]) > 50];\n",
    "len(data)\n",
    "\n",
    "## Break each sentence into its own document\n",
    "\n",
    "#"
   ]
  },
  {
   "cell_type": "code",
   "execution_count": 95,
   "metadata": {},
   "outputs": [
    {
     "name": "stdout",
     "output_type": "stream",
     "text": [
      "['i', 'me', 'my', 'myself', 'we', 'our', 'ours', 'ourselves', 'you', \"you're\", \"you've\", \"you'll\", \"you'd\", 'your', 'yours', 'yourself', 'yourselves', 'he', 'him', 'his', 'himself', 'she', \"she's\", 'her', 'hers', 'herself', 'it', \"it's\", 'its', 'itself', 'they', 'them', 'their', 'theirs', 'themselves', 'what', 'which', 'who', 'whom', 'this', 'that', \"that'll\", 'these', 'those', 'am', 'is', 'are', 'was', 'were', 'be', 'been', 'being', 'have', 'has', 'had', 'having', 'do', 'does', 'did', 'doing', 'a', 'an', 'the', 'and', 'but', 'if', 'or', 'because', 'as', 'until', 'while', 'of', 'at', 'by', 'for', 'with', 'about', 'against', 'between', 'into', 'through', 'during', 'before', 'after', 'above', 'below', 'to', 'from', 'up', 'down', 'in', 'out', 'on', 'off', 'over', 'under', 'again', 'further', 'then', 'once', 'here', 'there', 'when', 'where', 'why', 'how', 'all', 'any', 'both', 'each', 'few', 'more', 'most', 'other', 'some', 'such', 'no', 'nor', 'not', 'only', 'own', 'same', 'so', 'than', 'too', 'very', 's', 't', 'can', 'will', 'just', 'don', \"don't\", 'should', \"should've\", 'now', 'd', 'll', 'm', 'o', 're', 've', 'y', 'ain', 'aren', \"aren't\", 'couldn', \"couldn't\", 'didn', \"didn't\", 'doesn', \"doesn't\", 'hadn', \"hadn't\", 'hasn', \"hasn't\", 'haven', \"haven't\", 'isn', \"isn't\", 'ma', 'mightn', \"mightn't\", 'mustn', \"mustn't\", 'needn', \"needn't\", 'shan', \"shan't\", 'shouldn', \"shouldn't\", 'wasn', \"wasn't\", 'weren', \"weren't\", 'won', \"won't\", 'wouldn', \"wouldn't\"]\n"
     ]
    }
   ],
   "source": [
    "# Stop words are basically words that are not really useful in the topic model\n",
    "# i.e. words that you want to eliminate from consideration\n",
    "stopwords = stopwords.words(\"english\")\n",
    "print(stopwords)"
   ]
  },
  {
   "cell_type": "code",
   "execution_count": 96,
   "metadata": {},
   "outputs": [
    {
     "name": "stdout",
     "output_type": "stream",
     "text": [
      "DO NOT RECOMMEND - They have no problem taking your money to buy crypto, but then mistaken\n"
     ]
    }
   ],
   "source": [
    "# data = load_data(\"ushmm_dn.json\")[\"texts\"]\n",
    "print(data[0][0:90]) # Prints out first text, char 0-89"
   ]
  },
  {
   "cell_type": "code",
   "execution_count": 98,
   "metadata": {},
   "outputs": [
    {
     "name": "stdout",
     "output_type": "stream",
     "text": [
      "problem money crypto customer service problem problem money access guy form theft luck clo\n"
     ]
    }
   ],
   "source": [
    "# Reducing words to their root form (lemma) using spacy or nltk to grab roots\n",
    "# Specify allowed_postags for spacy\n",
    "\n",
    "# Takes a list of texts i.e. [text1, text2...] and returns lemmatised [text1..]\n",
    "# Allowed_post_tages -> Basically default arguments in python \n",
    "# This is a list initalised that is used to filter tokens \n",
    "# pos_ tag marks category of word token belongs to i.e. only append nouns,adj,verbs,and adverbs \n",
    "# e.g. conjunctions (but, and, because), and pronouns (he/she) is ignored\n",
    "def lemmatization(texts, allowed_postags=[\"NOUN\"]):\n",
    "\n",
    "    # Spacy load creates an an nlp parser i.e. function pointer \n",
    "    spacy.load\n",
    "    nlp = spacy.load(\"en_core_web_sm\", disable=[\"parser\", \"ner\"])\n",
    "    texts_out = []\n",
    "\n",
    "    for text in texts:\n",
    "        doc = nlp(text) # Create document from the raw text/string\n",
    "        new_text = []\n",
    "        for token in doc:\n",
    "            if token.pos_ in allowed_postags and token.pos_ not in stopwords:\n",
    "               new_text.append(token.lemma_) # Appends only lemma to new_text\n",
    "        final = \" \".join(new_text)\n",
    "        texts_out.append(final)\n",
    "    return (texts_out);\n",
    "\n",
    "lemmatized_texts = lemmatization(data)\n",
    "print(lemmatized_texts[0][0:90])"
   ]
  },
  {
   "cell_type": "code",
   "execution_count": null,
   "metadata": {},
   "outputs": [
    {
     "name": "stdout",
     "output_type": "stream",
     "text": [
      "['problem', 'money', 'crypto', 'suspicious', 'customer', 'service', 'flat', 'problem', 'problem', 'money', 'access', 'smart', 'guy', 'form', 'theft', 'good', 'luck', 'clown']\n"
     ]
    }
   ],
   "source": [
    "# Simple preprocess converts documents to list of lower case tokens ignoring ones\n",
    "# which are too short or too long.\n",
    "def gen_words(texts):\n",
    "    final = []\n",
    "    for text in texts:\n",
    "        new = gensim.utils.simple_preprocess(text, deacc=True);\n",
    "        final.append(new)\n",
    "    return (final)\n",
    "\n",
    "data_words = gen_words(lemmatized_texts)\n",
    "\n",
    "print(data_words[0][0:20])\n"
   ]
  },
  {
   "cell_type": "code",
   "execution_count": null,
   "metadata": {},
   "outputs": [],
   "source": [
    "# BIGRAMS AND TRIGRAMS\n",
    "\n",
    "# min_count - ignore all words/bigrams with total collected count lower than this value.\n",
    "# threshold - score for forming phrases play around with this -> related to scoring function\n",
    "bigrams_phrases = gensim.models.Phrases(data_words, min_count=5, threshold=1) \n",
    "\n",
    "# First arg checks ensures no overlap between bigraph phrases and trigram phrases.\n",
    "trigram_phrases = gensim.models.Phrases(bigrams_phrases[data_words], threshold=1)\n",
    "\n",
    "# Create function pointer i.e. phraser that converts document to list of bigram\n",
    "bigram = gensim.models.phrases.Phraser(bigrams_phrases)\n",
    "trigram = gensim.models.phrases.Phraser(trigram_phrases)\n",
    "\n",
    "def make_bigrams(texts):\n",
    "    return([bigram[doc] for doc in texts])\n",
    "\n",
    "def make_trigrams(texts):\n",
    "    return ([trigram[bigram[doc]] for doc in texts])\n",
    "\n",
    "data_bigrams = make_bigrams(data_words)\n",
    "data_bigrams_trigrams = make_trigrams(data_bigrams)\n",
    "\n",
    "# print(data_bigrams_trigrams[0])\n",
    "\n",
    "# new_words = []\n",
    "# for word in data_bigrams_trigrams[0]:\n",
    "#     if '_' in word:\n",
    "#         new_words.append(word)\n",
    "# print(data_bigrams)\n"
   ]
  },
  {
   "cell_type": "code",
   "execution_count": null,
   "metadata": {},
   "outputs": [
    {
     "name": "stdout",
     "output_type": "stream",
     "text": [
      "[(0, 1), (1, 1), (2, 1), (3, 1), (4, 1), (5, 1), (6, 1), (7, 1), (8, 2), (9, 3), (10, 1), (11, 1), (12, 1)]\n"
     ]
    }
   ],
   "source": [
    "# TF-IDF Removal - to remove words that are not important to the topic\n",
    "from gensim.models import TfidfModel\n",
    "\n",
    "id2word = corpora.Dictionary(data_bigrams_trigrams)\n",
    "\n",
    "texts = data_bigrams_trigrams\n",
    "\n",
    "corpus = [id2word.doc2bow(text) for text in texts]\n",
    "print(corpus[0][0:20])\n",
    "\n",
    "tfidf = TfidfModel(corpus, id2word=id2word)\n",
    "\n",
    "# Goes through words and looks at words that occur too frequentely and removes them\n",
    "# Corpus becomes new corpus where those irrelevant words are removed\n",
    "# low_value = 0.03\n",
    "low_value = 0.2 # TODO\n",
    "words = []\n",
    "words_missing_in_tfidf = []\n",
    "for i in range(0, len(corpus)):\n",
    "    bow = corpus[i]\n",
    "    low_value_words = []\n",
    "    tfidf_ids = [id for id, value in tfidf[bow]]\n",
    "    bow_ids = [id for id, value in bow]\n",
    "    low_value_words = [id for id, value in tfidf[bow] if value < low_value]\n",
    "    drops = low_value_words + words_missing_in_tfidf\n",
    "    for item in drops:\n",
    "        words.append(id2word[item])\n",
    "    words_missing_in_tfidf = [id for id in bow_ids if id not in tfidf_ids]\n",
    "\n",
    "    new_bow = [b for b in bow if b[0] not in low_value_words and b[0] not in words_missing_in_tfidf]\n",
    "    corpus[i] = new_bow\n",
    "\n",
    "\n"
   ]
  },
  {
   "cell_type": "code",
   "execution_count": null,
   "metadata": {},
   "outputs": [],
   "source": [
    "# id2word = corpora.Dictionary(data_words)\n",
    "# corpus = []\n",
    "# for text in data_words:\n",
    "#     new = id2word.doc2bow(text) # Create a bag of words all (word: f pairs) for 1 doc\n",
    "#     corpus.append(new)\n",
    "\n",
    "# print(corpus[0][0:20])\n",
    "# #(0,2) - 0 = index of word in the dictionary, 2 = frequency of word in that text\n",
    "\n",
    "# word = id2word[[0][:1][0]] # i.e. text 1 -> first tuple -> first value in tuple\n",
    "# print(word) # i.e. able is the first element in teh dictionary "
   ]
  },
  {
   "cell_type": "code",
   "execution_count": null,
   "metadata": {},
   "outputs": [],
   "source": [
    "lda_model = gensim.models.LdaModel(corpus=corpus\n",
    "                                    ,id2word=id2word\n",
    "                                    ,num_topics=20\n",
    "                                    ,random_state=100\n",
    "                                    ,update_every=1\n",
    "                                    ,chunksize=100\n",
    "                                    ,passes=10\n",
    "                                    ,alpha=\"auto\")"
   ]
  },
  {
   "cell_type": "markdown",
   "metadata": {},
   "source": [
    "### Idea\n",
    "I think I can separate the review data set into one star vs 5 star reviews and look at if there are any differences in the topics that are mentioned."
   ]
  },
  {
   "cell_type": "code",
   "execution_count": null,
   "metadata": {},
   "outputs": [
    {
     "name": "stderr",
     "output_type": "stream",
     "text": [
      "/root/miniconda3/lib/python3.9/site-packages/pyLDAvis/_prepare.py:246: FutureWarning: In a future version of pandas all arguments of DataFrame.drop except for the argument 'labels' will be keyword-only.\n",
      "  default_term_info = default_term_info.sort_values(\n",
      "/root/miniconda3/lib/python3.9/site-packages/past/builtins/misc.py:45: DeprecationWarning: the imp module is deprecated in favour of importlib; see the module's documentation for alternative uses\n",
      "  from imp import reload\n",
      "/root/miniconda3/lib/python3.9/site-packages/past/builtins/misc.py:45: DeprecationWarning: the imp module is deprecated in favour of importlib; see the module's documentation for alternative uses\n",
      "  from imp import reload\n",
      "/root/miniconda3/lib/python3.9/site-packages/past/builtins/misc.py:45: DeprecationWarning: the imp module is deprecated in favour of importlib; see the module's documentation for alternative uses\n",
      "  from imp import reload\n",
      "/root/miniconda3/lib/python3.9/site-packages/past/builtins/misc.py:45: DeprecationWarning: the imp module is deprecated in favour of importlib; see the module's documentation for alternative uses\n",
      "  from imp import reload\n",
      "/root/miniconda3/lib/python3.9/site-packages/past/builtins/misc.py:45: DeprecationWarning: the imp module is deprecated in favour of importlib; see the module's documentation for alternative uses\n",
      "  from imp import reload\n",
      "/root/miniconda3/lib/python3.9/site-packages/past/builtins/misc.py:45: DeprecationWarning: the imp module is deprecated in favour of importlib; see the module's documentation for alternative uses\n",
      "  from imp import reload\n",
      "/root/miniconda3/lib/python3.9/site-packages/past/builtins/misc.py:45: DeprecationWarning: the imp module is deprecated in favour of importlib; see the module's documentation for alternative uses\n",
      "  from imp import reload\n",
      "/root/miniconda3/lib/python3.9/site-packages/past/builtins/misc.py:45: DeprecationWarning: the imp module is deprecated in favour of importlib; see the module's documentation for alternative uses\n",
      "  from imp import reload\n"
     ]
    },
    {
     "data": {
      "text/html": [
       "\n",
       "<link rel=\"stylesheet\" type=\"text/css\" href=\"https://cdn.jsdelivr.net/gh/bmabey/pyLDAvis@3.3.1/pyLDAvis/js/ldavis.v1.0.0.css\">\n",
       "\n",
       "\n",
       "<div id=\"ldavis_el31701399868542168646850364280\"></div>\n",
       "<script type=\"text/javascript\">\n",
       "\n",
       "var ldavis_el31701399868542168646850364280_data = {\"mdsDat\": {\"x\": [0.3411798937624828, 0.10243099194071832, -0.3437914395480644, -0.13215307046328426, 0.25515913871162627, 0.35715338805267355, 0.07988556542373687, -0.13329555981976837, -0.3713614300692804, 0.16256688524164892, 0.36707450868656033, -0.013149162185018971, -0.22771179857670054, -0.23041741742219413, 0.004394365846327392, -0.11990376914825918, -0.04059107433807074, -0.2841966498770452, 0.056565190939769985, 0.17016144284214185], \"y\": [0.23947001887137873, -0.3910020627523503, -0.2649370657555859, 0.3686092405216982, -0.2752013296788235, -0.13170391287647856, 0.3874221998217308, -0.37587823348226, 0.1287145871846452, 0.2258280119169149, 0.050698949413555267, 0.20667967876864785, -0.12652475124972704, 0.22620711406822785, -0.215570241454797, 0.07116765743361132, -0.07685641755250988, -0.014016830828266137, -0.0067408368684551525, -0.02636577550115642], \"topics\": [1, 2, 3, 4, 5, 6, 7, 8, 9, 10, 11, 12, 13, 14, 15, 16, 17, 18, 19, 20], \"cluster\": [1, 1, 1, 1, 1, 1, 1, 1, 1, 1, 1, 1, 1, 1, 1, 1, 1, 1, 1, 1], \"Freq\": [8.01950905514832, 7.394922982740172, 7.3564279868767946, 7.153454884990046, 6.76051619459371, 6.5796629228065076, 6.4168767416576, 6.342193798290658, 5.877537826234894, 5.855181459370631, 5.710836024887516, 4.41795676598031, 4.125513701332949, 3.630008185329908, 3.350950910853865, 2.9945269553147416, 2.4898219703382116, 1.9666089754036034, 1.8635069405015372, 1.693985717348024]}, \"tinfo\": {\"Term\": [\"account\", \"app\", \"crypto\", \"money\", \"time\", \"fee\", \"option\", \"star\", \"coin\", \"day\", \"company\", \"transaction\", \"error\", \"platform\", \"slow\", \"update\", \"website\", \"price\", \"terrible\", \"exchange\", \"verification\", \"hour\", \"problem\", \"issue\", \"way\", \"new\", \"customer\", \"password\", \"credit_card\", \"screen\", \"app\", \"star\", \"update\", \"many\", \"week\", \"wrong\", \"fine\", \"unable_app\", \"tab\", \"security_reason\", \"connection_issue\", \"couple_month\", \"devs\", \"bat\", \"basic\", \"useless\", \"thing\", \"step\", \"laggy\", \"promise\", \"shib\", \"consequence\", \"shiba\", \"web_browser\", \"point_app\", \"version\", \"pin\", \"busy\", \"sustainable\", \"layout\", \"usable\", \"lie\", \"people\", \"kraken\", \"portfolio\", \"good\", \"time\", \"coin\", \"email\", \"application\", \"info\", \"rating\", \"last_update\", \"part\", \"single\", \"confusing\", \"certain\", \"work\", \"history\", \"recent\", \"cent\", \"ui\", \"piece\", \"fraudulent\", \"scheme\", \"loser\", \"site\", \"responsive\", \"bad_app\", \"poor\", \"service\", \"verification_process\", \"shib\", \"goodness\", \"charge\", \"everthing\", \"today\", \"bank\", \"kraken\", \"bad\", \"day\", \"company\", \"way\", \"review\", \"waste_time\", \"scam\", \"first\", \"error_message\", \"simple\", \"system\", \"pro\", \"moment\", \"investment\", \"instant\", \"hostage\", \"opinion\", \"internet_connection\", \"promise\", \"currency\", \"passport\", \"joke\", \"shib\", \"whole\", \"pic\", \"easy\", \"heavy\", \"login\", \"api\", \"transfer\", \"user\", \"kraken\", \"code\", \"bank\", \"new\", \"password\", \"garbage\", \"impossible\", \"response\", \"absolute\", \"cost\", \"yesterday\", \"pain\", \"own\", \"constant\", \"hard\", \"useless_app\", \"awful\", \"prompt\", \"new_version\", \"most_time\", \"connection\", \"decent\", \"account_customer_service\", \"failure\", \"support_ticket\", \"all\", \"internet\", \"pure\", \"rule\", \"cause\", \"people\", \"copy_paste\", \"web\", \"login\", \"good\", \"option\", \"price\", \"screen\", \"market\", \"minute\", \"month\", \"multiple\", \"total\", \"button\", \"money_account\", \"support_team\", \"case\", \"app_year\", \"question\", \"difference\", \"circle\", \"account_month\", \"reinstall\", \"scam_money\", \"own_money\", \"account_review\", \"next\", \"top\", \"check\", \"limited\", \"couple\", \"example\", \"hurdle\", \"mobile_datum\", \"final\", \"kraken\", \"period\", \"visa\", \"several_time\", \"terrible\", \"purchase\", \"bitcoin\", \"trade\", \"debit_card\", \"app_good\", \"section\", \"customer_service\", \"stupid\", \"experience\", \"full\", \"detail\", \"idea\", \"first_time\", \"small\", \"speed\", \"credit\", \"mistake\", \"positive\", \"fast\", \"selling\", \"real_time\", \"comment\", \"maker\", \"tax\", \"bank_card\", \"bank\", \"euro\", \"payment\", \"careful\", \"crypto\", \"platform\", \"other\", \"number\", \"feature\", \"balance\", \"serious\", \"cryptocurrency\", \"thank\", \"banking\", \"warning\", \"support_help\", \"gain\", \"headache\", \"start\", \"reward\", \"sub\", \"connection_trouble\", \"web\", \"good\", \"login\", \"kraken\", \"great\", \"desktop\", \"credential\", \"people\", \"shib\", \"percent\", \"bounty\", \"interval\", \"functional\", \"portfolio\", \"version\", \"promise\", \"bad\", \"account\", \"website\", \"business\", \"trading\", \"year\", \"great_app\", \"sure\", \"multiple_time\", \"least\", \"driver_license\", \"greedy\", \"new_phone\", \"death\", \"bank\", \"code\", \"disappointed\", \"funding\", \"kraken\", \"bad\", \"free\", \"currency\", \"link\", \"registration\", \"client\", \"request\", \"management\", \"account_email\", \"franc\", \"swiss\", \"extreme\", \"money_bank\", \"useless\", \"shib\", \"only\", \"portfolio\", \"promise\", \"good\", \"withdrawal\", \"money\", \"problem\", \"one\", \"amount\", \"expensive\", \"usd\", \"explanation\", \"rate\", \"excuse\", \"solution\", \"hold\", \"ability\", \"good_luck\", \"interest\", \"flat\", \"class_action_lawsuit\", \"smart\", \"theft\", \"suspicious\", \"chat\", \"difficult\", \"deal\", \"complete\", \"fund\", \"refunded\", \"pocket\", \"fault\", \"con\", \"entire\", \"terrible_customer_service\", \"people\", \"bank_account\", \"shib\", \"bank\", \"great\", \"well\", \"service\", \"issue\", \"same\", \"wallet\", \"coinbase\", \"clear\", \"asset\", \"lot\", \"point\", \"picture\", \"cash\", \"rest\", \"few_month\", \"half\", \"complete\", \"terrible_customer_service\", \"refunded\", \"pocket\", \"fault\", \"con\", \"private\", \"app_lot\", \"same_problem\", \"minus\", \"bank_account\", \"people\", \"able_crypto\", \"deal\", \"track\", \"false\", \"browser\", \"kraken\", \"good\", \"useless\", \"page\", \"web\", \"bank\", \"version\", \"fund\", \"transaction\", \"error\", \"more\", \"support\", \"ridiculous\", \"function\", \"worthless\", \"document\", \"key\", \"asap\", \"other_platform\", \"language\", \"setting\", \"risk\", \"employee\", \"location\", \"case_number\", \"hoop\", \"passport\", \"crash\", \"chat\", \"common\", \"buggy\", \"pic\", \"stressful\", \"page\", \"advanced\", \"programming\", \"idiot\", \"bad_experience\", \"poor\", \"today\", \"bank\", \"shib\", \"address\", \"bug\", \"frustrating\", \"reason\", \"huge\", \"such\", \"end\", \"future\", \"trouble\", \"worth\", \"world\", \"email_password\", \"access\", \"new_account\", \"password_email\", \"chance\", \"wheel\", \"concern\", \"valid\", \"app_lot\", \"if\", \"verify\", \"further\", \"same_problem\", \"version\", \"while\", \"buying\", \"qr\", \"aware\", \"new_user\", \"bank_account\", \"good\", \"today\", \"promise\", \"kraken\", \"shib\", \"high_fee\", \"few\", \"horrible\", \"glitch\", \"high\", \"less\", \"right\", \"reply\", \"chart\", \"buy\", \"specific\", \"software\", \"many_other\", \"bot\", \"dozen\", \"decision\", \"stock\", \"scam_artist\", \"technical\", \"fix\", \"person\", \"connection_error\", \"luna\", \"ad\", \"phone\", \"app_slow\", \"wonder\", \"whole\", \"if\", \"verify\", \"minimum\", \"bank\", \"portfolio\", \"hour\", \"customer\", \"name\", \"message\", \"possible\", \"nice\", \"blank\", \"previous\", \"app_scam\", \"app_garbage\", \"note\", \"edit\", \"tech_support\", \"mean\", \"loading\", \"other_review\", \"dev\", \"portfolio\", \"whole\", \"bank_transfer\", \"monero\", \"word\", \"kyced\", \"process\", \"social_medium\", \"card_payment\", \"marketing\", \"potential\", \"money_bank\", \"successful\", \"last\", \"big\", \"login\", \"promise\", \"slow\", \"datum\", \"server\", \"developer\", \"action\", \"app_website\", \"sell\", \"line\", \"government\", \"much_time\", \"privacy\", \"wifi\", \"sale\", \"common\", \"able_crypto\", \"graph\", \"crash\", \"unbearable\", \"limited\", \"second\", \"private\", \"regular\", \"competitor\", \"crumble\", \"bull\", \"informative\", \"run\", \"correct\", \"heavy\", \"load\", \"transfer\", \"code\", \"site\", \"copy_paste\", \"available\", \"much\", \"card\", \"annoying\", \"fake\", \"app_bad\", \"country\", \"form\", \"profile\", \"keyboard\", \"kyced\", \"shib\", \"excited\", \"horrible_app\", \"card_payment\", \"marketing\", \"canadian\", \"everytime\", \"sand\", \"lagging\", \"nope\", \"numeric\", \"most\", \"withdraw\", \"token\", \"gaining\", \"price_coin\", \"today\", \"loss\", \"shiba\", \"portfolio\", \"big\", \"code\", \"bank\", \"promise\", \"different\", \"login\", \"credit_card\", \"information\", \"low\", \"money_money\", \"kind\", \"disappointment\", \"glad\", \"day_money\", \"none\", \"small_amount\", \"mandatory\", \"first_place\", \"debit\", \"payment_method\", \"earning\", \"artist\", \"able\", \"promo\", \"security\", \"last\", \"city\", \"improved\", \"uninstall\", \"monero\", \"check\", \"usable\", \"feed\", \"promise\", \"devs\", \"bat\", \"bad\", \"shib\", \"fee\", \"sorry\", \"mobile_app\", \"bunch\", \"hell\", \"rich\", \"fee_fee\", \"math\", \"dumb\", \"yield\", \"euro\", \"careful\", \"profit\", \"fee_crypto\", \"cheap\", \"charge\", \"convenient\", \"minimum\", \"rip\", \"fund\", \"requirement\", \"making\", \"insane\", \"gas\", \"eye\", \"corner\", \"bloody\", \"web\", \"investor\", \"sad\", \"kraken\", \"interface\", \"old\", \"shib\", \"withdrawal\", \"verification\", \"guy\", \"cache\", \"tired\", \"identification\", \"doc\", \"able\", \"tier\", \"knowledge\", \"service_joke\", \"computer\", \"product\", \"phone_number\", \"long\", \"happy\", \"free\", \"successful\", \"terrific\", \"couple_day\", \"community\", \"job\", \"receipt\", \"book\", \"empty\", \"disaster\", \"robinhood\", \"few_day\", \"selfie\", \"public\", \"couple\", \"whole\", \"disappointing\", \"shib\", \"good\", \"exchange\", \"deposit\", \"fraud\", \"respect\", \"widget\", \"possibility\", \"class\", \"rd\", \"android\", \"advanced\", \"able\", \"bac\", \"sort\", \"international\", \"promo\", \"baked\", \"order\", \"extra\", \"selfie\", \"liar\", \"browser\", \"transfer\", \"promise\", \"uninstall\", \"bad\", \"half\", \"trust\", \"trustworthy\", \"usable\", \"kraken\", \"good\", \"useless\", \"code\", \"shib\", \"people\"], \"Freq\": [796.0, 777.0, 561.0, 500.0, 441.0, 287.0, 406.0, 424.0, 395.0, 391.0, 387.0, 323.0, 316.0, 320.0, 254.0, 344.0, 301.0, 306.0, 299.0, 194.0, 196.0, 236.0, 272.0, 267.0, 289.0, 265.0, 192.0, 236.0, 160.0, 224.0, 775.9409628342366, 422.42463556891494, 342.3022741813275, 195.0039745757768, 188.97519360067238, 138.81074549610372, 82.63099761773088, 35.49001506373956, 28.862160016699793, 12.547082126642271, 6.568612004876245, 4.461431547224131, 0.11609077883042826, 0.11608455000962736, 0.11609101801714701, 0.11611311289029193, 0.11607864010445149, 0.11605922611577928, 0.11605117349624788, 0.1161061565432215, 0.11613134091148365, 0.1160369518525953, 0.11606585358111142, 0.11603771924331796, 0.11603409157808353, 0.11605586753560343, 0.11604318067339618, 0.11602072702017313, 0.11602023868062235, 0.11602156417368878, 0.11604291158833759, 0.11604384840298604, 0.11606979019585759, 0.11607534132095533, 0.11605975431978319, 0.11606040211714648, 439.2374134005604, 393.6807660481401, 195.4535798127394, 163.59610296985733, 143.22225974618982, 99.21173498493724, 81.09300911890548, 78.31086739337874, 71.07599367381468, 57.86329308046001, 54.15734832952544, 53.86724684211097, 53.86376967076722, 39.78839651221863, 26.154163000941853, 25.608414135943306, 23.815633525584275, 18.395059825229946, 15.043715972779143, 1.1329471327949063, 0.1131345311500401, 0.11308074255302607, 0.11309288243627492, 0.11309693519063733, 0.11309102607259872, 0.11306082799814321, 0.11314658832401625, 0.11305526809703378, 0.11307006386692829, 0.11304435966295627, 0.11306671873634344, 0.11311289808026888, 0.11309760605473815, 0.11307287598220017, 389.37990900417986, 385.5732275664436, 287.86312411747025, 191.127607955668, 165.8864094593877, 107.45522740147753, 100.77979221798894, 99.1217974313647, 79.13994959733006, 69.83607479941035, 67.25357669758937, 53.098250083567535, 45.07247144298373, 17.18663210348759, 11.056247446872884, 9.061921235646718, 4.024082444425733, 0.0989689235668503, 0.0989045084700097, 0.09886607516499724, 0.09888734878554054, 0.09893554583216892, 0.0988859591893555, 0.09885569890401028, 0.0988724563369522, 0.09885451957566903, 0.09888147042799461, 0.09885273687003691, 0.09887586633285364, 0.09886254632205366, 0.0988969936801143, 0.09886895492024912, 0.09885973056136292, 263.43110956047565, 234.96101347081972, 186.73993409766175, 175.78558642724053, 114.92002382409017, 95.17198997570367, 87.93019824105842, 82.89090628217544, 76.86511930907534, 73.40042971294402, 68.63956351865333, 61.01766333348632, 54.86993451442666, 41.97002474150723, 37.181721518085716, 36.99952790153567, 30.860663318413682, 27.901876945963302, 22.348006418753833, 18.775878641779975, 18.2700926217321, 17.286759829809046, 16.89528945427602, 14.534176750196888, 13.612149423662556, 11.105225158955752, 7.111021496577538, 0.12730705028535869, 0.12721891642475405, 0.12724455471948712, 0.12723939861305675, 0.12725300006622653, 404.5023437800797, 304.5757454214727, 222.34861134579154, 205.11019024955309, 110.66834540321356, 107.05513988345103, 94.08155323194728, 79.37211618419946, 60.568488311943504, 59.88334148707703, 36.17909726041324, 28.267240436313987, 23.426865538408887, 22.777428267696973, 12.991862983276821, 10.686169574623397, 10.37724310944029, 6.261534176040533, 4.558622579681321, 1.9950854295386486, 1.2774889749206053, 0.11571999017975793, 0.11571196672761976, 0.11569979292432321, 0.11571343699371837, 0.11568636729446269, 0.115671925080614, 0.11565546650183005, 0.11565537408510385, 0.11565535728206272, 0.11572542596356253, 0.11565722241962782, 0.11565665951775006, 0.11565670152535289, 297.94329882050147, 165.11179949153924, 164.44115483750068, 118.2666642009813, 103.06465134218134, 101.15331910197779, 89.86032158151914, 88.37223665225491, 79.59649265438789, 78.15927376429269, 68.58281457979919, 64.93170889931872, 51.14522046024572, 48.89583210507413, 42.741933091244015, 39.466210406820565, 27.89940706794759, 26.559754683435504, 24.756840370504456, 18.22877872690684, 16.50441371931812, 14.250671398653877, 12.381359111959773, 11.057962927455376, 5.335437231315773, 4.273743678457178, 0.11191863065749459, 0.11179662510026057, 0.11179525140321511, 0.1117612033407312, 559.145523911819, 318.7338532198448, 171.7023169398355, 138.92700634398665, 116.44958264024628, 82.60499409452136, 76.3252388943886, 76.15032626934492, 54.198946977617354, 34.61383254949137, 29.861263812864433, 15.983045323214366, 14.44375297891362, 6.227391651669052, 5.898145378201116, 5.120302728581668, 1.456878319965399, 0.8553734923592722, 0.11127118482577268, 0.11123179095250717, 0.11120653581148857, 0.11124060273994814, 0.11117604941928327, 0.11116036364019152, 0.11115836204865516, 0.11118869692596327, 0.11120728541150617, 0.11111078637094218, 0.11110450248994355, 0.11110450248994355, 0.11111445462634748, 0.11115672728265932, 0.1111258182436356, 0.1111337608140349, 0.11112616114577131, 794.4608190219968, 299.61762221687457, 149.14994188819244, 105.12198039294859, 79.6698194781439, 78.18788026488389, 65.446194882726, 50.545912986297175, 46.511501209951966, 36.39706451079656, 10.92618938896995, 10.373240562765007, 4.019228299567211, 0.10029382866631374, 0.10021091363183313, 0.10018549528713731, 0.1001822638076566, 0.1002363162132144, 0.10019959557199337, 0.10016066018507948, 0.10017386196100676, 0.10014799436184656, 0.10013514726049642, 0.1001316556863258, 0.10013152957980949, 0.10012698186356468, 0.10013075717739703, 0.10012394742551572, 0.10012394742551572, 0.10012394742551572, 0.10013748023104835, 0.10015893410213735, 0.10018659871915511, 0.10013348423081245, 0.10015351940359284, 0.1001530307408421, 0.10014607123747267, 0.10013442214802758, 498.9808418693596, 270.27415264218473, 136.92269081070157, 98.17043449702416, 85.51342749990634, 62.15305529557674, 54.58914537615726, 52.247182136137155, 51.737901972450835, 49.793729248299336, 45.94216431409425, 41.90127790091681, 39.93283041143642, 12.382221777062464, 5.535731024634369, 5.11201978270812, 4.084633160385269, 3.343397348347349, 3.2214221219648973, 0.11175537511159642, 0.11177099152045615, 0.11175242420926745, 0.11174561668211251, 0.1117643885112844, 0.11173474801214839, 0.11173482835849893, 0.11173482835849893, 0.11173482835849893, 0.11173643528550975, 0.11173571947256856, 0.11177524257282115, 0.11175253377247274, 0.11179463526015632, 0.11178596515851155, 0.11174424348993962, 0.11174218370168029, 0.11174240282809086, 265.23201458788003, 160.22746362182176, 157.6143155129759, 151.43398493092232, 140.03933944371911, 136.5557579199658, 127.44219637820522, 84.21879921639696, 82.79578736900399, 68.66291274456896, 17.741691786173405, 7.984309795301359, 0.1378406425062481, 0.13782159281073442, 0.13781243906094212, 0.1378046823858399, 0.1378047842558694, 0.13780479880873076, 0.13780475515014667, 0.13780479880873076, 0.13780555555752122, 0.1378062686477276, 0.13780492978448294, 0.13783038273899284, 0.13786025976335464, 0.13781322491545528, 0.13780605035480728, 0.13780696718507265, 0.13781956996300607, 0.13780813141398104, 0.13788131775373533, 0.13785625772648202, 0.13782950956731155, 0.137812802882476, 0.13781504402312467, 0.1378177508553367, 0.13780826238973323, 0.1378066906807069, 321.2212567860479, 314.27756884971063, 202.18710270686117, 185.94960249109258, 90.92976865224321, 78.32523015059658, 64.2874123086402, 61.25986669485159, 41.166888585237395, 33.4955654374901, 32.22012988983862, 26.851017269259877, 18.858893936544337, 18.268339621978892, 16.89031051457894, 2.0545087985743478, 0.4424090067142014, 0.10173156652194555, 0.1016677001891763, 0.10166853764081167, 0.10165286026231547, 0.1016479703964106, 0.10165529454969628, 0.10164110045418139, 0.10162813414792854, 0.1016474381178288, 0.1016257566369298, 0.10161017152005444, 0.10161051927539455, 0.10162425915985297, 0.10163258399687246, 0.10163059682350037, 0.10166942477178136, 0.10164242050506428, 170.09137294751852, 140.21207661401613, 112.6754466824911, 111.95002563401566, 71.48039157682955, 68.91919932246753, 68.42808539339272, 54.52707172959745, 54.35879630991274, 43.24340678100816, 40.023637573000194, 32.247248182007816, 32.07317636535357, 13.743951545522506, 12.745540439383738, 7.748890238056196, 1.194273612097541, 1.088903910282221, 0.10865466204168174, 0.10862674913647642, 0.10861875519666939, 0.10861884304216178, 0.10861882108078869, 0.10861924932756406, 0.10863595095180374, 0.10860918003799944, 0.10860407401875456, 0.10859889113470385, 0.10859795777634726, 0.10859548712187393, 0.10862134663869474, 0.10864482334653462, 0.10861396761733441, 0.10862041328033815, 0.10862528870516552, 0.10862483849701705, 128.41598439968482, 110.98098140628403, 92.64720619203197, 88.51492036053003, 87.4495931459493, 77.98847150813558, 69.59300783240788, 63.95223512893543, 49.889675448283434, 36.72419225127312, 30.156499664258128, 27.06382936627181, 18.89149294506725, 17.01443916557796, 16.913851236780236, 14.89960155461535, 13.842444590909055, 12.126203660960355, 9.880451724942237, 9.828678584200324, 6.8049455162427375, 0.9323462098010187, 0.3292621561302859, 0.09781348878693014, 0.0977686693007703, 0.09773713877687612, 0.09771026349130647, 0.09772634149503528, 0.0976963490454774, 0.09769637980696412, 0.09770495200793178, 0.09773832822102953, 0.09772077366593787, 234.40274679057003, 190.67794259509162, 77.57267459493178, 74.95304964006189, 61.1793190942511, 54.10576537762562, 38.56164042807824, 26.08660346318055, 21.489983735861255, 17.860068219001818, 16.410209382674854, 14.646123924897841, 14.469398372774558, 11.966093382006328, 11.175016461248454, 2.500638441945114, 1.7184978954236532, 0.08515828363797565, 0.08513160479679048, 0.08511370462062838, 0.0851136324424987, 0.0851280951352345, 0.08510142531631557, 0.08511195430098349, 0.08510141629404935, 0.08510146140538041, 0.08510151553897767, 0.08508627693134774, 0.0850965803593604, 0.08508833400804379, 0.08510411395164637, 0.08510375306099793, 0.08510777699172793, 0.08510460115402174, 252.6054537275687, 140.68174549921096, 91.63560385855277, 73.62190621094737, 49.11972185070606, 45.22045684647626, 29.64380995418757, 18.675872630918857, 10.08053888188854, 6.349144856152057, 4.402925912897971, 2.0409655902466377, 1.8137952202906276, 0.09622812734049083, 0.09622398798726964, 0.09621105354953824, 0.09622564539429382, 0.09620153386999736, 0.09622411291744734, 0.09622025673929561, 0.0961873917738815, 0.09619256388323835, 0.09618672547960042, 0.09617633128881563, 0.09617184213109686, 0.09617184213109686, 0.09617184213109686, 0.09617767220605629, 0.09617634794617265, 0.09618019579564586, 0.09619444616458239, 0.09619911022454994, 0.09618693369656325, 0.09617635627485116, 150.36557565098897, 119.31293050990449, 112.54727665430266, 76.78889657764367, 65.66219438213538, 45.165143717479744, 28.467600468176695, 12.928882601520938, 10.37902986147249, 0.09208551795371782, 0.09208767636527397, 0.09215674553507103, 0.09208568913808261, 0.09208711815538875, 0.09208770613646786, 0.09208769869366938, 0.09207621445563093, 0.09208023356680446, 0.09206112790313323, 0.0920648939591588, 0.09205397537380403, 0.09205389350302086, 0.09206127675910263, 0.0920529333820183, 0.09205644638289591, 0.09204731406917382, 0.09204731406917382, 0.09206930753865122, 0.09205471965365099, 0.09206858558719967, 0.09209131589372556, 0.09206915123988337, 0.09205943838788065, 0.09206362868341898, 0.09205845593848268, 0.09205541183390864, 0.09205627519853112, 159.02849204298178, 101.90365669568959, 40.87224485253147, 23.186526695962286, 21.075940953994824, 18.320679456816052, 16.572053799872414, 15.028521642553175, 15.016334215605774, 13.415226644592346, 10.112860889924477, 8.124756966922032, 6.147867361936474, 2.4716743063557147, 1.3618696117692706, 0.5903136901817934, 0.09135301431657211, 0.0913178210518703, 0.09132756154749903, 0.09132548225491247, 0.09130854468405106, 0.09130854468405106, 0.09130854468405106, 0.09130854468405106, 0.09130886647933231, 0.09130921302809673, 0.0912938782452708, 0.09134233937695357, 0.09129111823189696, 0.09128741139779174, 0.09131212156236962, 0.09131932482597307, 285.83874850788334, 46.52013975232846, 29.808629648429363, 27.827640734034844, 11.05927095974265, 9.681789135377214, 9.190437244673252, 2.9107549537088495, 0.98659114218114, 0.24885320545363643, 0.057007296019372926, 0.05695552782495332, 0.05694758491909629, 0.0569301691815156, 0.056920950522779366, 0.056909610497186555, 0.056885454287497035, 0.056885527606628024, 0.05686690943529913, 0.0568801606462397, 0.056866371761671884, 0.05685549609057533, 0.05685549609057533, 0.056850935640627875, 0.05685369732789509, 0.05684944481829778, 0.0568497429827638, 0.05686723203947548, 0.05685663009313461, 0.05685067657969838, 0.05687830322825467, 0.05685687937817997, 0.05685459670923521, 0.056862148579726976, 0.056855510754401525, 194.65993679113242, 128.55478771078398, 25.185915027506937, 2.9148300050006135, 2.630774449221698, 0.06480810681271867, 0.0648199315053964, 0.06479236371424174, 0.06479236371424174, 0.06479236371424174, 0.06479448039444297, 0.06479247487468995, 0.06478946891090309, 0.06479271572232773, 0.06478896868888617, 0.06479236371424174, 0.06478661579273251, 0.06478136809324021, 0.06478136809324021, 0.06479080746796688, 0.06478737538912858, 0.06477858445034976, 0.06477858445034976, 0.06477879750787549, 0.06478442037388048, 0.06477858445034976, 0.0647872781237364, 0.06477832044428528, 0.06477858445034976, 0.06477960342112496, 0.06478485112061727, 0.0647799276390989, 0.06478683348194358, 0.06477917267438818, 192.22982259883406, 124.21494903343105, 24.24786090251477, 8.039003542419179, 0.052703371168975666, 0.05270305539303277, 0.05270036498199932, 0.05270036498199932, 0.05270283224469979, 0.05270283224469979, 0.052713227588739836, 0.05269696723285379, 0.05269696723285379, 0.05269696723285379, 0.05269696723285379, 0.05269696723285379, 0.05270283224469979, 0.05269696723285379, 0.05269067276572545, 0.05269769141234949, 0.05269696723285379, 0.05270487847280974, 0.05271766950366987, 0.05269267268003044, 0.05270677733881301, 0.05269696723285379, 0.052691119062391406, 0.052685969809349295, 0.05269345159402291, 0.05272191774268826, 0.05270920249805443, 0.05269797771587105, 0.052696988284583315, 0.052695560977321435, 0.05269367053200998], \"Total\": [796.0, 777.0, 561.0, 500.0, 441.0, 287.0, 406.0, 424.0, 395.0, 391.0, 387.0, 323.0, 316.0, 320.0, 254.0, 344.0, 301.0, 306.0, 299.0, 194.0, 196.0, 236.0, 272.0, 267.0, 289.0, 265.0, 192.0, 236.0, 160.0, 224.0, 777.8139156875848, 424.2975884222631, 344.1752270346757, 196.87692742912495, 190.84814645402054, 140.68369834945187, 84.50395047107905, 37.36296792627767, 30.73511287004798, 14.42003500402334, 8.441564858224423, 6.3343844005723104, 1.9892204483459697, 1.9891499765265632, 1.9893593472345155, 1.9898457834016687, 1.9894591951391198, 1.9891831669654787, 1.9891775943786572, 1.9901472305697372, 1.990600342217629, 1.9890311439549413, 1.9895419249561037, 1.9890601753622037, 1.9890837943574502, 1.9895461337780656, 1.989365653111023, 1.9889865456482791, 1.9889787359131552, 1.9890075779923118, 1.9893976967524756, 1.9894483729388301, 1.9899859579238082, 1.99049322796194, 1.9900566749081485, 1.9901049214206856, 441.1133513205647, 395.55670396814435, 197.32951773274362, 165.47204088986155, 145.09819766619404, 101.08767290494148, 82.96894703890973, 80.18680531338299, 72.95193159381893, 59.73923100046427, 56.0332862495297, 55.743184762115234, 55.73970759077148, 41.664334432222894, 28.030100925577806, 27.484352086946725, 25.691571453765313, 20.270997745234215, 16.919653927366127, 3.0088850527991657, 1.9895064538185803, 1.9892065503388034, 1.989421953582752, 1.9895205045029385, 1.9895154320963075, 1.9890906472112957, 1.990600342217629, 1.9890117116778796, 1.9894193437603762, 1.9890516610362063, 1.9895079009924697, 1.990524389176011, 1.99049322796194, 1.9897867568011902, 391.2700519794639, 387.46337054172767, 289.7532670927543, 193.01775093095202, 167.77655243467171, 109.34537037676157, 102.66993519327298, 101.01194040664873, 81.0300925726141, 71.72621777469439, 69.14371967776134, 54.988393084316286, 46.9626144182678, 19.076775078771654, 12.946390748772194, 10.952064210930772, 5.914225419709789, 1.9901472305697372, 1.989615416258314, 1.989127934358281, 1.9895560026375418, 1.990600342217629, 1.989609737060383, 1.9891039571110216, 1.9894456536147258, 1.9891279233079346, 1.9897513303797163, 1.9891755441993075, 1.9896474685991417, 1.9893812134012046, 1.99049322796194, 1.989780517411, 1.990524389176011, 265.2929100199935, 236.82281393033753, 188.60173455717955, 177.64738689164628, 116.781824283608, 97.0337904352215, 89.79199870057626, 84.75270674169327, 78.72691976859318, 75.26223017246186, 70.50136397817117, 62.87946379300417, 56.73173497394451, 43.83182520102508, 39.04352198756968, 38.86132836105352, 32.72246378581319, 29.763677405481157, 24.20980687827169, 20.637679129880713, 20.131893081249956, 19.148560289326902, 18.75708993294991, 16.39597720971474, 15.473949991373136, 12.967025618473599, 8.972821956095387, 1.9899859579238082, 1.989228739020017, 1.989661096403242, 1.9897513303797163, 1.9901049214206856, 406.3757515955098, 306.4491532369028, 224.22201916122165, 206.9835980649832, 112.54175321864372, 108.92854769888119, 95.95496104737744, 81.24552399962961, 62.441896127373674, 61.7567493025072, 38.05250507584341, 30.14064826093408, 25.30027335383906, 24.650836083127146, 14.865270798706986, 12.559577390053562, 12.250650924870454, 8.134941991470699, 6.432030395111488, 3.8684932449688154, 3.1508967903507714, 1.9892524017121915, 1.9894029777667304, 1.9893093668082134, 1.9896059048398624, 1.9891853695357404, 1.989229309820697, 1.989079858855181, 1.989080638880714, 1.989081829297705, 1.99049322796194, 1.9891707472915374, 1.9891519338680808, 1.989165153675658, 299.82067036162016, 166.9891710326579, 166.31852637861934, 120.1440357421, 104.94202288330004, 103.03069064309649, 91.73769313177992, 90.24960819337362, 81.4738641955066, 80.0366453054114, 70.4601861209179, 66.80908044043743, 53.02259200136442, 50.7732036607457, 44.61930463236272, 41.34358198497218, 29.776778609066305, 28.43712622944216, 26.63421191995185, 20.106150268025555, 18.381785274989696, 16.12804299104173, 14.258730653078482, 12.935334504398295, 7.212808772434483, 6.151115247143662, 1.990524389176011, 1.9896477322128805, 1.9896375680631242, 1.9893389844761804, 561.0234040984084, 320.61173340643404, 173.58019712642482, 140.80488653057597, 118.3274628268356, 84.48287428111068, 78.20311908097793, 78.02820647950936, 56.07682716420669, 36.49171273608071, 31.739143999453777, 17.86092550980371, 16.321633165502963, 8.10527183825839, 7.776025564790455, 6.998182915171006, 3.334758506554738, 2.733253678948611, 1.989661096403242, 1.9901049214206856, 1.9897513303797163, 1.99049322796194, 1.989558661075211, 1.9893037949209968, 1.9893143899455112, 1.9899859579238082, 1.990600342217629, 1.9890655113915896, 1.9889890490873394, 1.9889890490873394, 1.9891802240609506, 1.9900566749081485, 1.9895461337780656, 1.9901472305697372, 1.9897867568011902, 796.349668918665, 301.50647211354266, 151.0387917848606, 107.01083029450469, 81.55866937481207, 80.07673016155205, 67.33504477939417, 52.434762882965344, 48.400351106620136, 38.2859144220176, 12.815039345082509, 12.262090459433178, 5.908078196235384, 1.990524389176011, 1.989780517411, 1.9894159460832839, 1.9894134366526057, 1.99049322796194, 1.9897867568011902, 1.9892463137013954, 1.989615416258314, 1.9891602344202597, 1.9890612738728883, 1.9890536188056844, 1.9890965453169764, 1.9890380676417947, 1.9891134444646474, 1.9889782709602546, 1.9889782709602546, 1.98897850504025, 1.9892907863601854, 1.9898457834016687, 1.990600342217629, 1.9892664872905685, 1.9900566749081485, 1.9901472305697372, 1.9901049214206856, 1.9896451563737196, 500.85809369014567, 272.1514044629708, 138.79994263148762, 100.04768631781026, 87.39067943989188, 64.03030716166876, 56.466397196943355, 54.12443395692325, 53.615153815671455, 51.67098106908543, 47.81941613488034, 43.77852972958456, 41.81008223222251, 14.259473597848562, 7.4129828551963515, 6.989271603494218, 5.961884981171367, 5.220649177015105, 5.098673942750995, 1.9891919770934077, 1.9895153453860763, 1.989243676091006, 1.9891601687703753, 1.9895592130454236, 1.989090017204935, 1.98909260212383, 1.9891082889990475, 1.9891158223953016, 1.9891549381744669, 1.9891774420736128, 1.9899859579238082, 1.9895521089874966, 1.990600342217629, 1.990524389176011, 1.989558661075211, 1.9894774136430946, 1.9895154320963075, 267.0832297160328, 162.07867874997459, 159.46553064112874, 153.28520005907515, 141.89055457187195, 138.40697304811863, 129.29341150635804, 86.0700143445498, 84.64700251301295, 70.5141278727218, 19.592907058208237, 9.835524923454209, 1.989421311695681, 1.9891601687703753, 1.9891774420736128, 1.989090017204935, 1.98909260212383, 1.9891082889990475, 1.9891158223953016, 1.9891182278064352, 1.989165131846066, 1.989182059657936, 1.9891741700169654, 1.9895521089874966, 1.9899859579238082, 1.9893120062090504, 1.989243676091006, 1.9892777989876365, 1.989460432776187, 1.9893372552963393, 1.99049322796194, 1.9901049214206856, 1.9898457834016687, 1.9894157124181835, 1.989661096403242, 1.990524389176011, 1.9895461337780656, 1.9895592130454236, 323.10862014925146, 316.1649322129142, 204.07446607006474, 187.83696585429615, 92.81713201544682, 80.2125935237663, 66.1747756718438, 63.14723005805521, 43.054251948441014, 35.38292880069372, 34.10749326969959, 28.7383806324635, 20.74625729974796, 20.155702985182515, 18.777673896580712, 3.9418721617779644, 2.3297723699178183, 1.9891884628162757, 1.989127934358281, 1.9894299978537837, 1.9891919770934077, 1.9891768327288732, 1.989322189966988, 1.9891039571110216, 1.989014168611422, 1.9894157124181835, 1.9891834451680548, 1.9890040969492517, 1.989012001891031, 1.9892946989484568, 1.9895205045029385, 1.9895079009924697, 1.990524389176011, 1.990600342217629, 171.97175333117733, 142.09245699767493, 114.55582706614992, 113.83040601767448, 73.36077196048836, 70.79957970612635, 70.30846577705154, 56.40745211325627, 56.23917669357156, 45.12378716466698, 41.90401795665901, 34.12762856566663, 33.953556749012385, 15.624331929181325, 14.625920823042557, 9.629270621715015, 3.074653995756362, 2.969284293941042, 1.9891620603363493, 1.989165131846066, 1.9890755744298272, 1.9891009849601244, 1.989148340944455, 1.989182059657936, 1.9895461337780656, 1.9891722159357734, 1.9890797343942743, 1.9889965063882293, 1.9890551791137119, 1.989023427660115, 1.9895521089874966, 1.9901049214206856, 1.9895079009924697, 1.9901472305697372, 1.99049322796194, 1.990600342217629, 130.30727940499736, 112.87227641159659, 94.53850119734453, 90.40621538662086, 89.34088815126185, 79.87976651833607, 71.48430283772043, 65.84353013424798, 51.78097045359601, 38.615487256585695, 32.047794673781056, 28.955124371584393, 20.78278795037983, 18.90573417906731, 18.805146242092817, 16.79089655992793, 15.733739596221628, 14.017498718164926, 11.771746749350754, 11.719973589512897, 8.69624052155531, 2.823641215113595, 2.220557161442862, 1.9892083279777173, 1.9895069287619793, 1.9892413307489765, 1.9890647328224478, 1.989609737060383, 1.9890755744298272, 1.9891009849601244, 1.989330067787144, 1.990524389176011, 1.9900566749081485, 236.30662710444716, 192.58182290896875, 79.47655490880892, 76.85692995393903, 63.083199408128245, 56.00964569150277, 40.46552074195539, 27.9904837770577, 23.393864049738408, 19.76394853287897, 18.314089700762352, 16.550004238774992, 16.37327869153965, 13.869973806069765, 13.0788967751256, 4.404518755822262, 3.622378209300801, 1.9900566749081485, 1.989609737060383, 1.989238876580869, 1.9892579019914085, 1.9896532615400269, 1.989064470632199, 1.9893266599527264, 1.9891431036658984, 1.9891746216148025, 1.9892118459371788, 1.9890319466453636, 1.9892907863601854, 1.9891046043827518, 1.9894743066315974, 1.989556359050022, 1.9897513303797163, 1.9901472305697372, 254.49826746257833, 142.5745592342206, 93.52841766912242, 75.51471994595704, 51.01253558571572, 47.11327058148592, 31.536623689197235, 20.56868636592852, 11.973352686175074, 8.241958591161717, 6.2957396479076335, 3.9337793252563005, 3.70660895530029, 1.9891768327288732, 1.9893120062090504, 1.9891078320145297, 1.9894299978537837, 1.9890363708010625, 1.9896059048398624, 1.9896991141668123, 1.9891182278064352, 1.9892362746135992, 1.9891988583625737, 1.9890923764191146, 1.989025907527847, 1.989025907527847, 1.9890265886105194, 1.9891507263937684, 1.9891279233079346, 1.9892143170475702, 1.9896474685991417, 1.989780517411, 1.9895064538185803, 1.989228739020017, 152.26248526408702, 121.20984012300255, 114.44418626740072, 78.68580619074173, 67.55910399523344, 47.062053330577804, 30.364510081274755, 14.825792214618996, 12.27593947457055, 1.9890123423293797, 1.989064470632199, 1.990600342217629, 1.989066639717016, 1.989146660885486, 1.9891746216148025, 1.9892118459371788, 1.9891491299582704, 1.9892945370572637, 1.9890158842194274, 1.9891024621062152, 1.9889670130336252, 1.9889723241848514, 1.9891707371614338, 1.9890514061398505, 1.9891559090540996, 1.9890158235283673, 1.989020933392446, 1.9895079009924697, 1.9892141701032524, 1.9895419249561037, 1.9900566749081485, 1.989556359050022, 1.989780517411, 1.990524389176011, 1.9901472305697372, 1.9893634371204219, 1.9897513303797163, 160.9261767381445, 103.80134139085234, 42.76992954769422, 25.084211391125038, 22.973625649157576, 20.218364151978804, 18.469738495035166, 16.926206337715925, 16.914018910768526, 15.312911339755093, 12.010545585087224, 10.022441662084779, 8.045552210643782, 4.369359001518463, 3.259554306932019, 2.4879983853445413, 1.989582055112468, 1.9890999993873146, 1.9894071306919898, 1.9894743066315974, 1.9891295469546695, 1.9891398398386047, 1.9892144796553743, 1.9892579019914085, 1.9893093668082134, 1.9893976967524756, 1.9890644595764269, 1.9901472305697372, 1.9892204483459697, 1.9891499765265632, 1.9897867568011902, 1.990600342217629, 287.77086481376597, 48.45225605821112, 31.740745954312025, 29.759757039917506, 12.991387265625308, 11.613905450282138, 11.122553594165117, 4.842871259591509, 2.9187074480638, 2.180969511336296, 1.9896477322128805, 1.9893389844761804, 1.9894113013566603, 1.9891628817046545, 1.9892963583325254, 1.9894193437603762, 1.9892171112448733, 1.989330067787144, 1.9890735452381054, 1.9895592130454236, 1.9892524061333112, 1.988977325402971, 1.9890182796843972, 1.9889812313842108, 1.9890836241017147, 1.9889863165252628, 1.9890008512466442, 1.989661096403242, 1.9892971157545405, 1.9891121288341822, 1.99049322796194, 1.9894758930688823, 1.9893981089905983, 1.990600342217629, 1.9896451563737196, 196.58412070427255, 130.4789716239241, 27.11009894064708, 4.839013918140756, 4.55495836236184, 1.9890997863155602, 1.989582055112468, 1.9890038767049254, 1.989009070801994, 1.9890129462870707, 1.9890840249774366, 1.9891448499480386, 1.9890694185066915, 1.9891706395547781, 1.9890888217835512, 1.9892463137013954, 1.9891046043827518, 1.9889835941927092, 1.9890111309021616, 1.9893183442040712, 1.9892276669821305, 1.9889784735852027, 1.9889795020124583, 1.9889971772056896, 1.98918032110356, 1.9890031377212023, 1.9892977251351731, 1.9890880812164335, 1.989103828134697, 1.9891853695357404, 1.989609737060383, 1.9892831229802217, 1.990600342217629, 1.9901049214206856, 194.16609043444623, 126.15121686904321, 26.184128738126933, 9.97527137803134, 1.9890336503886132, 1.9890336399515356, 1.9889801139613585, 1.9889842762141794, 1.9891625864001978, 1.9891834451680548, 1.989582055112468, 1.9890604040364261, 1.989062864806856, 1.989076358996163, 1.9890999993873146, 1.9891028167698495, 1.9893868780197397, 1.9891688977349056, 1.9890880812164335, 1.9893640489045838, 1.9893372552963393, 1.9896474685991417, 1.9901472305697372, 1.9892144796553743, 1.9897867568011902, 1.989421311695681, 1.9892352652817902, 1.989111298811539, 1.9893976967524756, 1.99049322796194, 1.9901049214206856, 1.9898457834016687, 1.989780517411, 1.990600342217629, 1.9899859579238082], \"Category\": [\"Default\", \"Default\", \"Default\", \"Default\", \"Default\", \"Default\", \"Default\", \"Default\", \"Default\", \"Default\", \"Default\", \"Default\", \"Default\", \"Default\", \"Default\", \"Default\", \"Default\", \"Default\", \"Default\", \"Default\", \"Default\", \"Default\", \"Default\", \"Default\", \"Default\", \"Default\", \"Default\", \"Default\", \"Default\", \"Default\", \"Topic1\", \"Topic1\", \"Topic1\", \"Topic1\", \"Topic1\", \"Topic1\", \"Topic1\", \"Topic1\", \"Topic1\", \"Topic1\", \"Topic1\", \"Topic1\", \"Topic1\", \"Topic1\", \"Topic1\", \"Topic1\", \"Topic1\", \"Topic1\", \"Topic1\", \"Topic1\", \"Topic1\", \"Topic1\", \"Topic1\", \"Topic1\", \"Topic1\", \"Topic1\", \"Topic1\", \"Topic1\", \"Topic1\", \"Topic1\", \"Topic1\", \"Topic1\", \"Topic1\", \"Topic1\", \"Topic1\", \"Topic1\", \"Topic2\", \"Topic2\", \"Topic2\", \"Topic2\", \"Topic2\", \"Topic2\", \"Topic2\", \"Topic2\", \"Topic2\", \"Topic2\", \"Topic2\", \"Topic2\", \"Topic2\", \"Topic2\", \"Topic2\", \"Topic2\", \"Topic2\", \"Topic2\", \"Topic2\", \"Topic2\", \"Topic2\", \"Topic2\", \"Topic2\", \"Topic2\", \"Topic2\", \"Topic2\", \"Topic2\", \"Topic2\", \"Topic2\", \"Topic2\", \"Topic2\", \"Topic2\", \"Topic2\", \"Topic2\", \"Topic3\", \"Topic3\", \"Topic3\", \"Topic3\", \"Topic3\", \"Topic3\", \"Topic3\", \"Topic3\", \"Topic3\", \"Topic3\", \"Topic3\", \"Topic3\", \"Topic3\", \"Topic3\", \"Topic3\", \"Topic3\", \"Topic3\", \"Topic3\", \"Topic3\", \"Topic3\", \"Topic3\", \"Topic3\", \"Topic3\", \"Topic3\", \"Topic3\", \"Topic3\", \"Topic3\", \"Topic3\", \"Topic3\", \"Topic3\", \"Topic3\", \"Topic3\", \"Topic3\", \"Topic4\", \"Topic4\", \"Topic4\", \"Topic4\", \"Topic4\", \"Topic4\", \"Topic4\", \"Topic4\", \"Topic4\", \"Topic4\", \"Topic4\", \"Topic4\", \"Topic4\", \"Topic4\", \"Topic4\", \"Topic4\", \"Topic4\", \"Topic4\", \"Topic4\", \"Topic4\", \"Topic4\", \"Topic4\", \"Topic4\", \"Topic4\", \"Topic4\", \"Topic4\", \"Topic4\", \"Topic4\", \"Topic4\", \"Topic4\", \"Topic4\", \"Topic4\", \"Topic5\", \"Topic5\", \"Topic5\", \"Topic5\", \"Topic5\", \"Topic5\", \"Topic5\", \"Topic5\", \"Topic5\", \"Topic5\", \"Topic5\", \"Topic5\", \"Topic5\", \"Topic5\", \"Topic5\", \"Topic5\", \"Topic5\", \"Topic5\", \"Topic5\", \"Topic5\", \"Topic5\", \"Topic5\", \"Topic5\", \"Topic5\", \"Topic5\", \"Topic5\", \"Topic5\", \"Topic5\", \"Topic5\", \"Topic5\", \"Topic5\", \"Topic5\", \"Topic5\", \"Topic5\", \"Topic6\", \"Topic6\", \"Topic6\", \"Topic6\", \"Topic6\", \"Topic6\", \"Topic6\", \"Topic6\", \"Topic6\", \"Topic6\", \"Topic6\", \"Topic6\", \"Topic6\", \"Topic6\", \"Topic6\", \"Topic6\", \"Topic6\", \"Topic6\", \"Topic6\", \"Topic6\", \"Topic6\", \"Topic6\", \"Topic6\", \"Topic6\", \"Topic6\", \"Topic6\", \"Topic6\", \"Topic6\", \"Topic6\", \"Topic6\", \"Topic7\", \"Topic7\", \"Topic7\", \"Topic7\", \"Topic7\", \"Topic7\", \"Topic7\", \"Topic7\", \"Topic7\", \"Topic7\", \"Topic7\", \"Topic7\", \"Topic7\", \"Topic7\", \"Topic7\", \"Topic7\", \"Topic7\", \"Topic7\", \"Topic7\", \"Topic7\", \"Topic7\", \"Topic7\", \"Topic7\", \"Topic7\", \"Topic7\", \"Topic7\", \"Topic7\", \"Topic7\", \"Topic7\", \"Topic7\", \"Topic7\", \"Topic7\", \"Topic7\", \"Topic7\", \"Topic7\", \"Topic8\", \"Topic8\", \"Topic8\", \"Topic8\", \"Topic8\", \"Topic8\", \"Topic8\", \"Topic8\", \"Topic8\", \"Topic8\", \"Topic8\", \"Topic8\", \"Topic8\", \"Topic8\", \"Topic8\", \"Topic8\", \"Topic8\", \"Topic8\", \"Topic8\", \"Topic8\", \"Topic8\", \"Topic8\", \"Topic8\", \"Topic8\", \"Topic8\", \"Topic8\", \"Topic8\", \"Topic8\", \"Topic8\", \"Topic8\", \"Topic8\", \"Topic8\", \"Topic8\", \"Topic8\", \"Topic8\", \"Topic8\", \"Topic8\", \"Topic8\", \"Topic9\", \"Topic9\", \"Topic9\", \"Topic9\", \"Topic9\", \"Topic9\", \"Topic9\", \"Topic9\", \"Topic9\", \"Topic9\", \"Topic9\", \"Topic9\", \"Topic9\", \"Topic9\", \"Topic9\", \"Topic9\", \"Topic9\", \"Topic9\", \"Topic9\", \"Topic9\", \"Topic9\", \"Topic9\", \"Topic9\", \"Topic9\", \"Topic9\", \"Topic9\", \"Topic9\", \"Topic9\", \"Topic9\", \"Topic9\", \"Topic9\", \"Topic9\", \"Topic9\", \"Topic9\", \"Topic9\", \"Topic9\", \"Topic9\", \"Topic10\", \"Topic10\", \"Topic10\", \"Topic10\", \"Topic10\", \"Topic10\", \"Topic10\", \"Topic10\", \"Topic10\", \"Topic10\", \"Topic10\", \"Topic10\", \"Topic10\", \"Topic10\", \"Topic10\", \"Topic10\", \"Topic10\", \"Topic10\", \"Topic10\", \"Topic10\", \"Topic10\", \"Topic10\", \"Topic10\", \"Topic10\", \"Topic10\", \"Topic10\", \"Topic10\", \"Topic10\", \"Topic10\", \"Topic10\", \"Topic10\", \"Topic10\", \"Topic10\", \"Topic10\", \"Topic10\", \"Topic10\", \"Topic10\", \"Topic10\", \"Topic11\", \"Topic11\", \"Topic11\", \"Topic11\", \"Topic11\", \"Topic11\", \"Topic11\", \"Topic11\", \"Topic11\", \"Topic11\", \"Topic11\", \"Topic11\", \"Topic11\", \"Topic11\", \"Topic11\", \"Topic11\", \"Topic11\", \"Topic11\", \"Topic11\", \"Topic11\", \"Topic11\", \"Topic11\", \"Topic11\", \"Topic11\", \"Topic11\", \"Topic11\", \"Topic11\", \"Topic11\", \"Topic11\", \"Topic11\", \"Topic11\", \"Topic11\", \"Topic11\", \"Topic11\", \"Topic12\", \"Topic12\", \"Topic12\", \"Topic12\", \"Topic12\", \"Topic12\", \"Topic12\", \"Topic12\", \"Topic12\", \"Topic12\", \"Topic12\", \"Topic12\", \"Topic12\", \"Topic12\", \"Topic12\", \"Topic12\", \"Topic12\", \"Topic12\", \"Topic12\", \"Topic12\", \"Topic12\", \"Topic12\", \"Topic12\", \"Topic12\", \"Topic12\", \"Topic12\", \"Topic12\", \"Topic12\", \"Topic12\", \"Topic12\", \"Topic12\", \"Topic12\", \"Topic12\", \"Topic12\", \"Topic12\", \"Topic12\", \"Topic13\", \"Topic13\", \"Topic13\", \"Topic13\", \"Topic13\", \"Topic13\", \"Topic13\", \"Topic13\", \"Topic13\", \"Topic13\", \"Topic13\", \"Topic13\", \"Topic13\", \"Topic13\", \"Topic13\", \"Topic13\", \"Topic13\", \"Topic13\", \"Topic13\", \"Topic13\", \"Topic13\", \"Topic13\", \"Topic13\", \"Topic13\", \"Topic13\", \"Topic13\", \"Topic13\", \"Topic13\", \"Topic13\", \"Topic13\", \"Topic13\", \"Topic13\", \"Topic13\", \"Topic14\", \"Topic14\", \"Topic14\", \"Topic14\", \"Topic14\", \"Topic14\", \"Topic14\", \"Topic14\", \"Topic14\", \"Topic14\", \"Topic14\", \"Topic14\", \"Topic14\", \"Topic14\", \"Topic14\", \"Topic14\", \"Topic14\", \"Topic14\", \"Topic14\", \"Topic14\", \"Topic14\", \"Topic14\", \"Topic14\", \"Topic14\", \"Topic14\", \"Topic14\", \"Topic14\", \"Topic14\", \"Topic14\", \"Topic14\", \"Topic14\", \"Topic14\", \"Topic14\", \"Topic14\", \"Topic15\", \"Topic15\", \"Topic15\", \"Topic15\", \"Topic15\", \"Topic15\", \"Topic15\", \"Topic15\", \"Topic15\", \"Topic15\", \"Topic15\", \"Topic15\", \"Topic15\", \"Topic15\", \"Topic15\", \"Topic15\", \"Topic15\", \"Topic15\", \"Topic15\", \"Topic15\", \"Topic15\", \"Topic15\", \"Topic15\", \"Topic15\", \"Topic15\", \"Topic15\", \"Topic15\", \"Topic15\", \"Topic15\", \"Topic15\", \"Topic15\", \"Topic15\", \"Topic15\", \"Topic15\", \"Topic16\", \"Topic16\", \"Topic16\", \"Topic16\", \"Topic16\", \"Topic16\", \"Topic16\", \"Topic16\", \"Topic16\", \"Topic16\", \"Topic16\", \"Topic16\", \"Topic16\", \"Topic16\", \"Topic16\", \"Topic16\", \"Topic16\", \"Topic16\", \"Topic16\", \"Topic16\", \"Topic16\", \"Topic16\", \"Topic16\", \"Topic16\", \"Topic16\", \"Topic16\", \"Topic16\", \"Topic16\", \"Topic16\", \"Topic16\", \"Topic16\", \"Topic16\", \"Topic16\", \"Topic16\", \"Topic16\", \"Topic16\", \"Topic16\", \"Topic17\", \"Topic17\", \"Topic17\", \"Topic17\", \"Topic17\", \"Topic17\", \"Topic17\", \"Topic17\", \"Topic17\", \"Topic17\", \"Topic17\", \"Topic17\", \"Topic17\", \"Topic17\", \"Topic17\", \"Topic17\", \"Topic17\", \"Topic17\", \"Topic17\", \"Topic17\", \"Topic17\", \"Topic17\", \"Topic17\", \"Topic17\", \"Topic17\", \"Topic17\", \"Topic17\", \"Topic17\", \"Topic17\", \"Topic17\", \"Topic17\", \"Topic17\", \"Topic18\", \"Topic18\", \"Topic18\", \"Topic18\", \"Topic18\", \"Topic18\", \"Topic18\", \"Topic18\", \"Topic18\", \"Topic18\", \"Topic18\", \"Topic18\", \"Topic18\", \"Topic18\", \"Topic18\", \"Topic18\", \"Topic18\", \"Topic18\", \"Topic18\", \"Topic18\", \"Topic18\", \"Topic18\", \"Topic18\", \"Topic18\", \"Topic18\", \"Topic18\", \"Topic18\", \"Topic18\", \"Topic18\", \"Topic18\", \"Topic18\", \"Topic18\", \"Topic18\", \"Topic18\", \"Topic18\", \"Topic19\", \"Topic19\", \"Topic19\", \"Topic19\", \"Topic19\", \"Topic19\", \"Topic19\", \"Topic19\", \"Topic19\", \"Topic19\", \"Topic19\", \"Topic19\", \"Topic19\", \"Topic19\", \"Topic19\", \"Topic19\", \"Topic19\", \"Topic19\", \"Topic19\", \"Topic19\", \"Topic19\", \"Topic19\", \"Topic19\", \"Topic19\", \"Topic19\", \"Topic19\", \"Topic19\", \"Topic19\", \"Topic19\", \"Topic19\", \"Topic19\", \"Topic19\", \"Topic19\", \"Topic19\", \"Topic20\", \"Topic20\", \"Topic20\", \"Topic20\", \"Topic20\", \"Topic20\", \"Topic20\", \"Topic20\", \"Topic20\", \"Topic20\", \"Topic20\", \"Topic20\", \"Topic20\", \"Topic20\", \"Topic20\", \"Topic20\", \"Topic20\", \"Topic20\", \"Topic20\", \"Topic20\", \"Topic20\", \"Topic20\", \"Topic20\", \"Topic20\", \"Topic20\", \"Topic20\", \"Topic20\", \"Topic20\", \"Topic20\", \"Topic20\", \"Topic20\", \"Topic20\", \"Topic20\", \"Topic20\", \"Topic20\"], \"logprob\": [30.0, 29.0, 28.0, 27.0, 26.0, 25.0, 24.0, 23.0, 22.0, 21.0, 20.0, 19.0, 18.0, 17.0, 16.0, 15.0, 14.0, 13.0, 12.0, 11.0, 10.0, 9.0, 8.0, 7.0, 6.0, 5.0, 4.0, 3.0, 2.0, 1.0, -1.2614, -1.8695, -2.0798, -2.6425, -2.6739, -2.9824, -3.5011, -4.3463, -4.553, -5.386, -6.0332, -6.42, -10.0689, -10.069, -10.0689, -10.0687, -10.069, -10.0692, -10.0692, -10.0688, -10.0686, -10.0694, -10.0691, -10.0694, -10.0694, -10.0692, -10.0693, -10.0695, -10.0695, -10.0695, -10.0693, -10.0693, -10.0691, -10.069, -10.0692, -10.0692, -1.7494, -1.8589, -2.5591, -2.737, -2.87, -3.2372, -3.4388, -3.4737, -3.5707, -3.7764, -3.8425, -3.8479, -3.848, -4.1509, -4.5704, -4.5915, -4.6641, -4.9224, -5.1235, -7.7096, -10.0136, -10.0141, -10.014, -10.0139, -10.014, -10.0143, -10.0135, -10.0143, -10.0142, -10.0144, -10.0142, -10.0138, -10.0139, -10.0142, -1.8647, -1.8745, -2.1667, -2.5763, -2.7179, -3.1521, -3.2163, -3.2329, -3.458, -3.5831, -3.6207, -3.8571, -4.0209, -4.9851, -5.4262, -5.6251, -6.4369, -10.1422, -10.1428, -10.1432, -10.143, -10.1425, -10.143, -10.1433, -10.1431, -10.1433, -10.143, -10.1433, -10.1431, -10.1432, -10.1429, -10.1432, -10.1433, -2.2274, -2.3418, -2.5715, -2.632, -3.057, -3.2456, -3.3247, -3.3837, -3.4592, -3.5053, -3.5724, -3.6901, -3.7963, -4.0643, -4.1854, -4.1903, -4.3718, -4.4725, -4.6945, -4.8687, -4.896, -4.9513, -4.9742, -5.1247, -5.1903, -5.3938, -5.8396, -9.8624, -9.8631, -9.8629, -9.8629, -9.8628, -1.7421, -2.0258, -2.3405, -2.4212, -3.0382, -3.0714, -3.2006, -3.3706, -3.641, -3.6523, -4.1563, -4.403, -4.5909, -4.619, -5.1804, -5.3758, -5.4051, -5.9103, -6.2277, -7.0541, -7.4998, -9.9013, -9.9014, -9.9015, -9.9014, -9.9016, -9.9017, -9.9019, -9.9019, -9.9019, -9.9013, -9.9019, -9.9019, -9.9019, -2.0207, -2.611, -2.6151, -2.9447, -3.0823, -3.101, -3.2194, -3.2361, -3.3407, -3.3589, -3.4896, -3.5443, -3.783, -3.8279, -3.9624, -4.0422, -4.389, -4.4382, -4.5085, -4.8146, -4.914, -5.0608, -5.2014, -5.3145, -6.0433, -6.2651, -9.9076, -9.9087, -9.9087, -9.909, -1.3662, -1.9282, -2.5468, -2.7586, -2.9351, -3.2785, -3.3576, -3.3599, -3.6999, -4.1483, -4.296, -4.921, -5.0223, -5.8636, -5.9179, -6.0594, -7.3163, -7.8488, -9.8884, -9.8887, -9.8889, -9.8886, -9.8892, -9.8894, -9.8894, -9.8891, -9.8889, -9.8898, -9.8899, -9.8899, -9.8898, -9.8894, -9.8897, -9.8896, -9.8897, -1.0032, -1.9784, -2.6759, -3.0257, -3.303, -3.3218, -3.4996, -3.758, -3.8412, -4.0864, -5.2897, -5.3416, -6.2898, -9.9805, -9.9813, -9.9816, -9.9816, -9.9811, -9.9815, -9.9818, -9.9817, -9.982, -9.9821, -9.9821, -9.9821, -9.9822, -9.9821, -9.9822, -9.9822, -9.9822, -9.9821, -9.9819, -9.9816, -9.9821, -9.9819, -9.9819, -9.982, -9.9821, -1.3922, -2.0053, -2.6854, -3.0181, -3.1561, -3.4752, -3.6049, -3.6488, -3.6586, -3.6969, -3.7774, -3.8695, -3.9176, -5.0885, -5.8936, -5.9732, -6.1975, -6.3978, -6.435, -9.7962, -9.7961, -9.7962, -9.7963, -9.7961, -9.7964, -9.7964, -9.7964, -9.7964, -9.7964, -9.7964, -9.796, -9.7962, -9.7959, -9.7959, -9.7963, -9.7963, -9.7963, -2.0204, -2.5244, -2.5408, -2.5808, -2.659, -2.6842, -2.7533, -3.1675, -3.1846, -3.3718, -4.7251, -5.5235, -9.5826, -9.5828, -9.5828, -9.5829, -9.5829, -9.5829, -9.5829, -9.5829, -9.5829, -9.5829, -9.5829, -9.5827, -9.5825, -9.5828, -9.5829, -9.5829, -9.5828, -9.5829, -9.5823, -9.5825, -9.5827, -9.5828, -9.5828, -9.5828, -9.5829, -9.5829, -1.8039, -1.8257, -2.2668, -2.3505, -3.0659, -3.2151, -3.4126, -3.4609, -3.8584, -4.0646, -4.1034, -4.2857, -4.639, -4.6708, -4.7493, -6.856, -8.3915, -9.8614, -9.8621, -9.862, -9.8622, -9.8622, -9.8622, -9.8623, -9.8624, -9.8623, -9.8625, -9.8626, -9.8626, -9.8625, -9.8624, -9.8624, -9.862, -9.8623, -2.183, -2.3762, -2.5948, -2.6013, -3.0499, -3.0864, -3.0935, -3.3206, -3.3237, -3.5525, -3.6298, -3.8459, -3.8513, -4.6987, -4.7741, -5.2718, -7.1418, -7.2341, -9.5389, -9.5392, -9.5392, -9.5392, -9.5392, -9.5392, -9.5391, -9.5393, -9.5394, -9.5394, -9.5394, -9.5394, -9.5392, -9.539, -9.5393, -9.5392, -9.5392, -9.5392, -2.3956, -2.5415, -2.722, -2.7677, -2.7798, -2.8943, -3.0082, -3.0927, -3.341, -3.6474, -3.8444, -3.9526, -4.3121, -4.4168, -4.4227, -4.5495, -4.6231, -4.7555, -4.9603, -4.9655, -5.3332, -7.3209, -8.3617, -9.5755, -9.576, -9.5763, -9.5766, -9.5764, -9.5767, -9.5767, -9.5766, -9.5763, -9.5765, -1.6658, -1.8723, -2.7717, -2.806, -3.0091, -3.1319, -3.4706, -3.8615, -4.0553, -4.2403, -4.325, -4.4387, -4.4508, -4.6408, -4.7092, -6.2063, -6.5814, -9.5861, -9.5864, -9.5866, -9.5866, -9.5865, -9.5868, -9.5867, -9.5868, -9.5868, -9.5868, -9.587, -9.5868, -9.5869, -9.5868, -9.5868, -9.5867, -9.5867, -1.5111, -2.0964, -2.5251, -2.7439, -3.1486, -3.2313, -3.6536, -4.1157, -4.7323, -5.1946, -5.5606, -6.3295, -6.4475, -9.3839, -9.384, -9.3841, -9.3839, -9.3842, -9.384, -9.384, -9.3843, -9.3843, -9.3843, -9.3845, -9.3845, -9.3845, -9.3845, -9.3844, -9.3845, -9.3844, -9.3843, -9.3842, -9.3843, -9.3845, -1.9174, -2.1487, -2.2071, -2.5894, -2.7459, -3.1201, -3.5817, -4.371, -4.5906, -9.3155, -9.3154, -9.3147, -9.3155, -9.3154, -9.3154, -9.3154, -9.3156, -9.3155, -9.3157, -9.3157, -9.3158, -9.3158, -9.3157, -9.3158, -9.3158, -9.3159, -9.3159, -9.3156, -9.3158, -9.3156, -9.3154, -9.3156, -9.3157, -9.3157, -9.3158, -9.3158, -9.3158, -1.6768, -2.1218, -3.0354, -3.6023, -3.6977, -3.8378, -3.9381, -4.0359, -4.0367, -4.1495, -4.432, -4.6509, -4.9297, -5.841, -6.437, -7.273, -9.1389, -9.1393, -9.1392, -9.1392, -9.1394, -9.1394, -9.1394, -9.1394, -9.1394, -9.1394, -9.1395, -9.139, -9.1396, -9.1396, -9.1393, -9.1392, -0.8545, -2.6701, -3.1152, -3.1839, -4.1067, -4.2397, -4.2918, -5.4415, -6.5235, -7.9008, -9.3745, -9.3754, -9.3756, -9.3759, -9.376, -9.3762, -9.3767, -9.3767, -9.377, -9.3768, -9.377, -9.3772, -9.3772, -9.3773, -9.3772, -9.3773, -9.3773, -9.377, -9.3772, -9.3773, -9.3768, -9.3772, -9.3772, -9.3771, -9.3772, -1.1848, -1.5997, -3.2298, -5.3863, -5.4888, -9.1924, -9.1922, -9.1927, -9.1927, -9.1927, -9.1926, -9.1927, -9.1927, -9.1927, -9.1927, -9.1927, -9.1928, -9.1928, -9.1928, -9.1927, -9.1927, -9.1929, -9.1929, -9.1929, -9.1928, -9.1929, -9.1927, -9.1929, -9.1929, -9.1929, -9.1928, -9.1929, -9.1928, -9.1929, -1.102, -1.5387, -3.1724, -4.2764, -9.3038, -9.3038, -9.3039, -9.3039, -9.3038, -9.3038, -9.3036, -9.3039, -9.3039, -9.3039, -9.3039, -9.3039, -9.3038, -9.3039, -9.304, -9.3039, -9.3039, -9.3038, -9.3035, -9.304, -9.3037, -9.3039, -9.304, -9.3041, -9.304, -9.3034, -9.3037, -9.3039, -9.3039, -9.3039, -9.304], \"loglift\": [30.0, 29.0, 28.0, 27.0, 26.0, 25.0, 24.0, 23.0, 22.0, 21.0, 20.0, 19.0, 18.0, 17.0, 16.0, 15.0, 14.0, 13.0, 12.0, 11.0, 10.0, 9.0, 8.0, 7.0, 6.0, 5.0, 4.0, 3.0, 2.0, 1.0, 2.5209, 2.5189, 2.5178, 2.5137, 2.5134, 2.5099, 2.5009, 2.4719, 2.4604, 2.3842, 2.2724, 2.1728, -0.3178, -0.3179, -0.3179, -0.318, -0.3181, -0.3181, -0.3182, -0.3182, -0.3182, -0.3182, -0.3182, -0.3182, -0.3183, -0.3183, -0.3183, -0.3183, -0.3183, -0.3183, -0.3183, -0.3184, -0.3184, -0.3186, -0.3185, -0.3185, 2.6001, 2.5996, 2.5948, 2.593, 2.5914, 2.5856, 2.5815, 2.5807, 2.5783, 2.5725, 2.5703, 2.5701, 2.5701, 2.5583, 2.5351, 2.5337, 2.5286, 2.5073, 2.4869, 1.6276, -0.2627, -0.263, -0.263, -0.263, -0.2631, -0.2631, -0.2631, -0.2631, -0.2632, -0.2633, -0.2633, -0.2634, -0.2635, -0.2634, 2.6048, 2.6047, 2.6031, 2.5998, 2.5983, 2.5922, 2.591, 2.5907, 2.586, 2.5829, 2.5819, 2.5746, 2.5685, 2.5053, 2.4518, 2.4201, 2.2245, -0.3916, -0.3919, -0.3921, -0.3921, -0.3921, -0.3921, -0.3922, -0.3922, -0.3922, -0.3922, -0.3922, -0.3923, -0.3923, -0.3925, -0.3924, -0.3929, 2.6305, 2.6297, 2.6277, 2.627, 2.6215, 2.6182, 2.6166, 2.6154, 2.6136, 2.6125, 2.6108, 2.6075, 2.6042, 2.5942, 2.5887, 2.5885, 2.579, 2.573, 2.5576, 2.543, 2.5405, 2.5353, 2.533, 2.517, 2.5094, 2.4826, 2.405, -0.1117, -0.112, -0.112, -0.1121, -0.1122, 2.6895, 2.6879, 2.6857, 2.685, 2.6773, 2.6767, 2.6744, 2.6707, 2.6636, 2.6633, 2.6436, 2.6299, 2.6171, 2.615, 2.5594, 2.5325, 2.5281, 2.4323, 2.3498, 2.0319, 1.7913, -0.1503, -0.1504, -0.1505, -0.1505, -0.1505, -0.1507, -0.1507, -0.1507, -0.1507, -0.1508, -0.1508, -0.1508, -0.1508, 2.7149, 2.7099, 2.7098, 2.7054, 2.7031, 2.7028, 2.7005, 2.7002, 2.6979, 2.6975, 2.6942, 2.6927, 2.6851, 2.6835, 2.6782, 2.6747, 2.6561, 2.6529, 2.6481, 2.6232, 2.6135, 2.5974, 2.58, 2.5644, 2.4197, 2.357, -0.1572, -0.1578, -0.1579, -0.158, 2.7429, 2.7404, 2.7354, 2.7328, 2.7302, 2.7238, 2.7219, 2.7219, 2.7122, 2.6934, 2.6853, 2.6352, 2.624, 2.4827, 2.4698, 2.4338, 1.9181, 1.5845, -0.1375, -0.1381, -0.1381, -0.1382, -0.1383, -0.1383, -0.1384, -0.1384, -0.1386, -0.1387, -0.1387, -0.1387, -0.1387, -0.1387, -0.1388, -0.139, -0.1389, 2.7556, 2.7517, 2.7454, 2.7401, 2.7345, 2.7341, 2.7295, 2.7213, 2.7181, 2.7074, 2.5985, 2.5907, 2.3727, -0.2301, -0.2306, -0.2306, -0.2307, -0.2307, -0.2307, -0.2308, -0.2308, -0.2309, -0.231, -0.231, -0.231, -0.231, -0.231, -0.231, -0.231, -0.231, -0.231, -0.2311, -0.2312, -0.2311, -0.2313, -0.2313, -0.2314, -0.2313, 2.8303, 2.8271, 2.8204, 2.8151, 2.8123, 2.8043, 2.8002, 2.7987, 2.7984, 2.797, 2.794, 2.7902, 2.7881, 2.6929, 2.542, 2.5213, 2.4559, 2.3884, 2.3749, -0.0451, -0.0452, -0.0452, -0.0452, -0.0452, -0.0453, -0.0453, -0.0453, -0.0453, -0.0453, -0.0453, -0.0454, -0.0453, -0.0455, -0.0455, -0.0454, -0.0454, -0.0454, 2.8309, 2.8264, 2.8262, 2.8257, 2.8247, 2.8244, 2.8234, 2.8161, 2.8157, 2.8112, 2.7386, 2.6293, 0.1683, 0.1683, 0.1683, 0.1682, 0.1682, 0.1682, 0.1682, 0.1682, 0.1682, 0.1682, 0.1682, 0.1682, 0.1682, 0.1682, 0.1682, 0.1682, 0.1682, 0.1681, 0.1681, 0.1681, 0.168, 0.1681, 0.168, 0.1676, 0.168, 0.168, 2.8569, 2.8568, 2.8535, 2.8527, 2.8423, 2.839, 2.8339, 2.8325, 2.818, 2.808, 2.8059, 2.7949, 2.7674, 2.7645, 2.7569, 2.2112, 1.2015, -0.1103, -0.1109, -0.1111, -0.1111, -0.1112, -0.1112, -0.1112, -0.1113, -0.1113, -0.1114, -0.1114, -0.1114, -0.1114, -0.1115, -0.1115, -0.1116, -0.1119, 3.1085, 3.1062, 3.1029, 3.1028, 3.0935, 3.0926, 3.0924, 3.0856, 3.0855, 3.0769, 3.0736, 3.0628, 3.0625, 2.9913, 2.9819, 2.9022, 2.1738, 2.1163, 0.2122, 0.2119, 0.2119, 0.2119, 0.2119, 0.2119, 0.2118, 0.2118, 0.2118, 0.2118, 0.2117, 0.2117, 0.2117, 0.2116, 0.2117, 0.2114, 0.2113, 0.2112, 3.1734, 3.1711, 3.1678, 3.1668, 3.1666, 3.164, 3.1612, 3.1588, 3.1508, 3.1378, 3.1272, 3.1204, 3.0926, 3.0826, 3.082, 3.0685, 3.0599, 3.043, 3.0128, 3.012, 2.9427, 2.0799, 1.2793, 0.1756, 0.1749, 0.1748, 0.1746, 0.1745, 0.1744, 0.1744, 0.1744, 0.1741, 0.1742, 3.3078, 3.306, 3.2917, 3.2909, 3.2853, 3.2814, 3.2677, 3.2455, 3.231, 3.2146, 3.2062, 3.1937, 3.1923, 3.1683, 3.1586, 2.7499, 2.5703, 0.1645, 0.1644, 0.1644, 0.1644, 0.1644, 0.1644, 0.1644, 0.1643, 0.1643, 0.1643, 0.1642, 0.1642, 0.1642, 0.1642, 0.1641, 0.1641, 0.1639, 3.3885, 3.3826, 3.3755, 3.3705, 3.3581, 3.3549, 3.334, 3.2994, 3.2238, 3.135, 3.0383, 2.7397, 2.6812, 0.3672, 0.3671, 0.367, 0.367, 0.367, 0.3669, 0.3668, 0.3668, 0.3668, 0.3667, 0.3667, 0.3667, 0.3667, 0.3667, 0.3667, 0.3667, 0.3667, 0.3666, 0.3666, 0.3666, 0.3666, 3.4958, 3.4926, 3.4917, 3.484, 3.4799, 3.4672, 3.4439, 3.3715, 3.3405, 0.4357, 0.4357, 0.4357, 0.4357, 0.4357, 0.4357, 0.4356, 0.4355, 0.4355, 0.4354, 0.4354, 0.4354, 0.4354, 0.4354, 0.4353, 0.4353, 0.4353, 0.4353, 0.4353, 0.4353, 0.4353, 0.4352, 0.4353, 0.435, 0.4347, 0.4348, 0.4352, 0.435, 3.6811, 3.6745, 3.6476, 3.6143, 3.6067, 3.5944, 3.5845, 3.574, 3.574, 3.5607, 3.521, 3.483, 3.4239, 3.1232, 2.8202, 2.2544, 0.612, 0.6119, 0.6118, 0.6118, 0.6118, 0.6117, 0.6117, 0.6117, 0.6117, 0.6116, 0.6116, 0.6116, 0.6115, 0.6115, 0.6115, 0.6111, 3.9221, 3.8882, 3.8661, 3.8617, 3.7678, 3.7469, 3.738, 3.4198, 2.8442, 1.7582, 0.3763, 0.3756, 0.3754, 0.3752, 0.375, 0.3747, 0.3744, 0.3743, 0.3741, 0.3741, 0.374, 0.374, 0.374, 0.3739, 0.3739, 0.3739, 0.3739, 0.3739, 0.3739, 0.3738, 0.3736, 0.3738, 0.3738, 0.3733, 0.3737, 3.9729, 3.9679, 3.9091, 3.4758, 3.4338, 0.5587, 0.5586, 0.5585, 0.5585, 0.5585, 0.5585, 0.5584, 0.5584, 0.5584, 0.5584, 0.5584, 0.5584, 0.5583, 0.5583, 0.5583, 0.5583, 0.5583, 0.5583, 0.5583, 0.5583, 0.5583, 0.5583, 0.5582, 0.5582, 0.5582, 0.5581, 0.5582, 0.5576, 0.5578, 4.0681, 4.0626, 4.0013, 3.8623, 0.4474, 0.4474, 0.4473, 0.4473, 0.4473, 0.4473, 0.4473, 0.4472, 0.4472, 0.4472, 0.4472, 0.4472, 0.4472, 0.4472, 0.4471, 0.4471, 0.4471, 0.4471, 0.4471, 0.4471, 0.447, 0.447, 0.447, 0.447, 0.447, 0.447, 0.4469, 0.4469, 0.4469, 0.4464, 0.4467]}, \"token.table\": {\"Topic\": [9, 4, 12, 8, 4, 5, 5, 15, 12, 4, 9, 16, 1, 16, 14, 6, 14, 15, 5, 2, 17, 11, 10, 16, 4, 7, 6, 7, 6, 14, 13, 12, 18, 8, 5, 13, 19, 16, 5, 10, 4, 2, 2, 12, 13, 5, 9, 10, 2, 10, 6, 3, 12, 2, 4, 13, 1, 7, 4, 4, 16, 1, 6, 17, 7, 7, 14, 6, 15, 3, 17, 8, 17, 6, 4, 13, 20, 6, 14, 15, 5, 17, 11, 13, 8, 18, 17, 14, 2, 12, 11, 12, 11, 3, 20, 9, 9, 6, 9, 4, 16, 6, 7, 18, 18, 13, 10, 1, 3, 17, 6, 13, 9, 16, 20, 2, 12, 6, 11, 12, 7, 4, 17, 13, 9, 15, 8, 8, 19, 4, 7, 18, 13, 13, 2, 9, 13, 3, 14, 12, 6, 19, 4, 2, 17, 3, 9, 4, 3, 3, 10, 11, 17, 11, 2, 8, 13, 15, 14, 11, 2, 10, 17, 6, 17, 1, 13, 5, 18, 14, 14, 5, 6, 18, 3, 9, 5, 17, 5, 11, 4, 16, 15, 5, 8, 14, 4, 12, 8, 4, 14, 17, 14, 7, 9, 3, 5, 7, 11, 14, 4, 5, 4, 2, 4, 12, 17, 13, 10, 2, 7, 10, 6, 14, 14, 5, 15, 3, 9, 16, 4, 6, 4, 5, 9, 2, 6, 12, 2, 5, 13, 20, 4, 10, 3, 7, 18, 11, 13, 11, 4, 15, 10, 3, 13, 5, 2, 5, 6, 1, 15, 6, 7, 15, 11, 3, 2, 15, 6, 17, 9, 13, 9, 18, 13, 6, 1, 7, 13, 6, 7, 12, 11, 7, 5, 4, 8, 9, 3, 1, 6, 14, 13, 6, 7, 9, 2, 19, 5, 6, 8, 11, 12, 2, 1, 1, 9, 4, 19, 10, 7, 3, 3, 8, 1, 12, 15, 2, 12, 12, 11, 1, 8, 4], \"Freq\": [0.9593743841885427, 0.9790403896817857, 0.9424638554525158, 0.9970494507496243, 0.9206461579534123, 0.8162831559993818, 0.3173699637075944, 0.9605482150101307, 0.9885344349116439, 0.9063239586081372, 0.9795328968297617, 0.9785754728539582, 0.9976679310423737, 0.956184373935125, 0.9107491840537585, 0.9802904296727379, 0.8976712848869798, 0.9551448974905943, 0.9090810869246985, 0.9911039902454497, 0.401929521293286, 0.932653149938029, 0.9898345219382156, 0.9851408883799386, 0.9582078731007934, 0.9824476345800389, 0.6502885800843098, 0.9591218766060877, 0.9860597226953461, 0.9637834700978922, 0.8991980866219221, 0.9852739755375672, 0.940867896281643, 0.986501535395194, 0.97690819438871, 0.9581647838378582, 0.9221655758148732, 0.9873808682249148, 0.928978028528052, 0.978527311924572, 0.7801336117278894, 0.9275742555844558, 0.9637128859357813, 0.8308002043227616, 0.9656056957219054, 0.875825647502387, 0.7153821290190381, 0.9866759660107304, 0.996064523865914, 0.9850918414941922, 0.8415896401976835, 0.9962232028806189, 0.3367814937897812, 0.9708862840827202, 0.9407439685139053, 0.3541526432775809, 0.8292301389096195, 0.3658643204990273, 0.9787044690562863, 0.9800427796851708, 0.9221291542348017, 0.6314741491909776, 0.9403300594603166, 0.9880306810415391, 0.9963933695392617, 0.9740067525447739, 0.9917862294318583, 0.9750734852105564, 0.9889562398601989, 0.9941982475582285, 0.8861997603429987, 0.6770391093585715, 0.7457536590294399, 0.981494325819699, 0.9087226556831813, 0.8933412189434858, 0.9829473157498245, 0.9729216383684508, 0.5521234626646134, 0.9799413949089519, 0.8745215728684047, 0.8902797409669917, 0.9659964489957655, 0.9040078593990278, 0.9402935921336384, 0.3426174146584564, 0.3067904093125011, 0.9063441787438647, 0.9881947832260015, 0.9376567123152797, 0.9053304521970416, 0.9671666028900177, 0.9931525226477164, 0.9800821526786916, 0.9888441363288533, 0.9698750502288151, 0.9840866388863768, 0.9745535898257632, 0.974030622286227, 0.894103695432621, 0.9769223701465395, 0.8952484568179654, 0.9803303242439865, 0.9938462678808294, 0.8091667011360946, 0.983412433317379, 0.8133780415647021, 0.9822026016216393, 0.9837349152882061, 0.7982086870372376, 0.9650759941682266, 0.8532442435662193, 0.8093907833328012, 0.8768502763165215, 0.9165857775918049, 0.8879681319204855, 0.9864186126014217, 0.9792764367892522, 0.9724158835094799, 0.9750484721339593, 0.8577573002676034, 0.9915073179950318, 0.9204245097768847, 0.984445589491749, 0.9567070396520889, 0.8351879596386075, 0.9740657472231656, 0.8583664633242823, 0.988665057629463, 0.970110053749961, 0.740258947476491, 0.8467148099807293, 0.9737982440100827, 0.982293549404663, 0.9687887205375381, 0.9619523557178435, 0.9837261943244374, 0.8496576546666657, 0.9902388386956764, 0.9678196957665622, 0.9618541469773417, 0.6586229250281089, 0.9907266472056182, 0.9855394643080195, 0.982646260956594, 0.8911359456618715, 0.8415457918313712, 0.9148585539087226, 0.6763353974756479, 0.9582090042775734, 0.9922000729201615, 0.9522868972174675, 0.9140916771563243, 0.9395101396040462, 0.9762688679418052, 0.9710673357816076, 0.9764675511676092, 0.9237342464160955, 0.8410495310981124, 0.5073731257428472, 0.3323490204684622, 0.9822619615366459, 0.9586174313025111, 0.8503838842559318, 0.8326016440432483, 0.9904664936941348, 0.9142180560838928, 0.9904166413014018, 0.6194672208265654, 0.8651782741470334, 0.9758391344143995, 0.9863006113326808, 0.9494630287938786, 0.9451573710076734, 0.9638397673984146, 0.9962901793670621, 0.9715537277731054, 0.9169114245360551, 0.9822952959566448, 0.9898347592914808, 0.9473614273947195, 0.981768475886446, 0.7279823034338117, 0.979626263967611, 0.9726371818221483, 0.9814215033540002, 0.9913570625772823, 0.8960383114910926, 0.8155216301072905, 0.9521033263773111, 0.9641196499872227, 0.8868383131846955, 0.873644295808706, 0.9871816484850188, 0.9870321082461363, 0.8217628957121615, 0.9966145824643612, 0.9908964435310906, 0.9382102562321153, 0.6811186797727558, 0.9699420258039391, 0.5169971545384261, 0.9780644311543089, 0.972728614080127, 0.9923030475819203, 0.8888329259597123, 0.45773304489398775, 0.8049455374019554, 0.980542695380622, 0.934158505764839, 0.9949729431630286, 0.9759496456424038, 0.9386423775231866, 0.9669769538058682, 0.9288871248917393, 0.9952711462192146, 0.6353502882428415, 0.9689961765471692, 0.9920948250580734, 0.8146016050922108, 0.9476604086019627, 0.9880880237900643, 0.9047463645549536, 0.9330312336035896, 0.9607490776048753, 0.9793478982654528, 0.8680532416596517, 0.9839198850139367, 0.9600537376894779, 0.7375590393011853, 0.9720013472775652, 0.8019831939227734, 0.9847422807912232, 0.9186998104224199, 0.9895462934304222, 0.7144711792486522, 0.8610368013420557, 0.9804224502956588, 0.9792359611999013, 0.8930474919794521, 0.8483055654898023, 0.5395767463249898, 0.9871748784849043, 0.9785508031233482, 0.8560728444689993, 0.7773595105831794, 0.8865429555706664, 0.9900900938742151, 0.9810580245430441, 0.901523470391914, 0.9512749460962874, 0.9248285596682627, 0.9718282453837086, 0.9836582537456205, 0.915827839474006, 0.9749464364637761, 0.9732435927168197, 0.9941128579085567, 0.9637084296650328, 0.8489567863068367, 0.6709287436159321, 0.9324774314040561, 0.9676611313640188, 0.9700270704326676, 0.936101853664945, 0.9433144910902002, 0.9945849599786635, 0.7716024015105827, 0.8898075320480087, 0.9819099755478656, 0.29987178922684177, 0.9745820566506749, 0.9902204241537788, 0.8958102418162898, 0.9460612363955405, 0.8877952046073941, 0.9653219985663581, 0.5883882816757148, 0.9759332385249035, 0.9435462339967886, 0.6932112243303504, 0.855051713450284, 0.8494916016224634, 0.9939274688452127, 0.9629646099961178, 0.574641179339931, 0.9952090515640981, 0.6199610190732121, 0.9723612589459101, 0.9821544554512688, 0.9812090954815444, 0.9934739588554541, 0.9601847533122314, 0.9459928295835034, 0.9367564179874539, 0.9936798849428622, 0.9682914661561364, 0.9694750217891299, 0.9919417667174879, 0.990809734020659, 0.9452050754902619, 0.9894111995455178, 0.9939491032824384, 0.9950035164983942, 0.990316141454034, 0.32523984857489663, 0.5084169280059176, 0.968728289035614, 0.9545624011848143, 0.9529341994962259, 0.9671358814629253, 0.9880320295158175, 0.9808889798379492, 0.9793197549780314], \"Term\": [\"ability\", \"absolute\", \"access\", \"account\", \"account_customer_service\", \"account_month\", \"account_review\", \"action\", \"address\", \"all\", \"amount\", \"annoying\", \"app\", \"app_bad\", \"app_garbage\", \"app_good\", \"app_scam\", \"app_website\", \"app_year\", \"application\", \"artist\", \"asap\", \"asset\", \"available\", \"awful\", \"balance\", \"bank_card\", \"banking\", \"bitcoin\", \"blank\", \"bot\", \"bug\", \"bunch\", \"business\", \"button\", \"buy\", \"cache\", \"card\", \"case\", \"cash\", \"cause\", \"cent\", \"certain\", \"chance\", \"chart\", \"circle\", \"class_action_lawsuit\", \"clear\", \"coin\", \"coinbase\", \"comment\", \"company\", \"concern\", \"confusing\", \"connection\", \"connection_error\", \"connection_issue\", \"connection_trouble\", \"constant\", \"cost\", \"country\", \"couple_month\", \"credit\", \"credit_card\", \"crypto\", \"cryptocurrency\", \"customer\", \"customer_service\", \"datum\", \"day\", \"day_money\", \"death\", \"debit\", \"debit_card\", \"decent\", \"decision\", \"deposit\", \"detail\", \"dev\", \"developer\", \"difference\", \"disappointment\", \"document\", \"dozen\", \"driver_license\", \"dumb\", \"earning\", \"edit\", \"email\", \"email_password\", \"employee\", \"end\", \"error\", \"error_message\", \"exchange\", \"excuse\", \"expensive\", \"experience\", \"explanation\", \"failure\", \"fake\", \"fast\", \"feature\", \"fee\", \"fee_fee\", \"few\", \"few_month\", \"fine\", \"first\", \"first_place\", \"first_time\", \"fix\", \"flat\", \"form\", \"fraud\", \"fraudulent\", \"frustrating\", \"full\", \"function\", \"future\", \"gain\", \"garbage\", \"glad\", \"glitch\", \"good_luck\", \"government\", \"great_app\", \"greedy\", \"guy\", \"hard\", \"headache\", \"hell\", \"high\", \"high_fee\", \"history\", \"hold\", \"horrible\", \"hostage\", \"hour\", \"huge\", \"idea\", \"identification\", \"impossible\", \"info\", \"information\", \"instant\", \"interest\", \"internet\", \"internet_connection\", \"investment\", \"issue\", \"key\", \"kind\", \"language\", \"last_update\", \"least\", \"less\", \"line\", \"loading\", \"location\", \"loser\", \"lot\", \"low\", \"maker\", \"mandatory\", \"many\", \"many_other\", \"market\", \"math\", \"mean\", \"message\", \"minute\", \"mistake\", \"mobile_app\", \"moment\", \"money\", \"money_account\", \"money_money\", \"month\", \"more\", \"most_time\", \"much\", \"much_time\", \"multiple\", \"multiple_time\", \"name\", \"new\", \"new_account\", \"new_phone\", \"new_version\", \"nice\", \"none\", \"note\", \"number\", \"one\", \"opinion\", \"option\", \"other\", \"other_platform\", \"other_review\", \"own\", \"own_money\", \"pain\", \"part\", \"password\", \"password_email\", \"payment_method\", \"person\", \"picture\", \"piece\", \"platform\", \"point\", \"positive\", \"possible\", \"previous\", \"price\", \"privacy\", \"pro\", \"problem\", \"profile\", \"prompt\", \"purchase\", \"pure\", \"question\", \"rate\", \"rating\", \"real_time\", \"reason\", \"recent\", \"reinstall\", \"reply\", \"respect\", \"response\", \"rest\", \"review\", \"reward\", \"rich\", \"ridiculous\", \"right\", \"risk\", \"rule\", \"sale\", \"same\", \"scam\", \"scam_artist\", \"scam_money\", \"scheme\", \"screen\", \"section\", \"security_reason\", \"sell\", \"selling\", \"serious\", \"server\", \"setting\", \"simple\", \"single\", \"slow\", \"small\", \"small_amount\", \"smart\", \"software\", \"solution\", \"sorry\", \"specific\", \"speed\", \"star\", \"start\", \"stock\", \"stupid\", \"sub\", \"such\", \"support\", \"support_help\", \"support_team\", \"support_ticket\", \"sure\", \"suspicious\", \"system\", \"tab\", \"tax\", \"tech_support\", \"technical\", \"terrible\", \"thank\", \"theft\", \"time\", \"tired\", \"total\", \"trade\", \"trading\", \"transaction\", \"trouble\", \"ui\", \"unable_app\", \"update\", \"usd\", \"useless_app\", \"verification\", \"wallet\", \"warning\", \"waste_time\", \"way\", \"website\", \"week\", \"wheel\", \"wifi\", \"work\", \"world\", \"worth\", \"worthless\", \"wrong\", \"year\", \"yesterday\"]}, \"R\": 30, \"lambda.step\": 0.01, \"plot.opts\": {\"xlab\": \"PC1\", \"ylab\": \"PC2\"}, \"topic.order\": [6, 13, 9, 12, 20, 18, 3, 11, 5, 17, 10, 2, 4, 16, 19, 8, 15, 7, 14, 1]};\n",
       "\n",
       "function LDAvis_load_lib(url, callback){\n",
       "  var s = document.createElement('script');\n",
       "  s.src = url;\n",
       "  s.async = true;\n",
       "  s.onreadystatechange = s.onload = callback;\n",
       "  s.onerror = function(){console.warn(\"failed to load library \" + url);};\n",
       "  document.getElementsByTagName(\"head\")[0].appendChild(s);\n",
       "}\n",
       "\n",
       "if(typeof(LDAvis) !== \"undefined\"){\n",
       "   // already loaded: just create the visualization\n",
       "   !function(LDAvis){\n",
       "       new LDAvis(\"#\" + \"ldavis_el31701399868542168646850364280\", ldavis_el31701399868542168646850364280_data);\n",
       "   }(LDAvis);\n",
       "}else if(typeof define === \"function\" && define.amd){\n",
       "   // require.js is available: use it to load d3/LDAvis\n",
       "   require.config({paths: {d3: \"https://d3js.org/d3.v5\"}});\n",
       "   require([\"d3\"], function(d3){\n",
       "      window.d3 = d3;\n",
       "      LDAvis_load_lib(\"https://cdn.jsdelivr.net/gh/bmabey/pyLDAvis@3.3.1/pyLDAvis/js/ldavis.v3.0.0.js\", function(){\n",
       "        new LDAvis(\"#\" + \"ldavis_el31701399868542168646850364280\", ldavis_el31701399868542168646850364280_data);\n",
       "      });\n",
       "    });\n",
       "}else{\n",
       "    // require.js not available: dynamically load d3 & LDAvis\n",
       "    LDAvis_load_lib(\"https://d3js.org/d3.v5.js\", function(){\n",
       "         LDAvis_load_lib(\"https://cdn.jsdelivr.net/gh/bmabey/pyLDAvis@3.3.1/pyLDAvis/js/ldavis.v3.0.0.js\", function(){\n",
       "                 new LDAvis(\"#\" + \"ldavis_el31701399868542168646850364280\", ldavis_el31701399868542168646850364280_data);\n",
       "            })\n",
       "         });\n",
       "}\n",
       "</script>"
      ],
      "text/plain": [
       "PreparedData(topic_coordinates=              x         y  topics  cluster      Freq\n",
       "topic                                               \n",
       "5      0.341180  0.239470       1        1  8.019509\n",
       "12     0.102431 -0.391002       2        1  7.394923\n",
       "8     -0.343791 -0.264937       3        1  7.356428\n",
       "11    -0.132153  0.368609       4        1  7.153455\n",
       "19     0.255159 -0.275201       5        1  6.760516\n",
       "17     0.357153 -0.131704       6        1  6.579663\n",
       "2      0.079886  0.387422       7        1  6.416877\n",
       "10    -0.133296 -0.375878       8        1  6.342194\n",
       "4     -0.371361  0.128715       9        1  5.877538\n",
       "16     0.162567  0.225828      10        1  5.855181\n",
       "9      0.367075  0.050699      11        1  5.710836\n",
       "1     -0.013149  0.206680      12        1  4.417957\n",
       "3     -0.227712 -0.126525      13        1  4.125514\n",
       "15    -0.230417  0.226207      14        1  3.630008\n",
       "18     0.004394 -0.215570      15        1  3.350951\n",
       "7     -0.119904  0.071168      16        1  2.994527\n",
       "14    -0.040591 -0.076856      17        1  2.489822\n",
       "6     -0.284197 -0.014017      18        1  1.966609\n",
       "13     0.056565 -0.006741      19        1  1.863507\n",
       "0      0.170161 -0.026366      20        1  1.693986, topic_info=        Term        Freq       Total Category  logprob  loglift\n",
       "74   account  796.000000  796.000000  Default  30.0000  30.0000\n",
       "23       app  777.000000  777.000000  Default  29.0000  29.0000\n",
       "2     crypto  561.000000  561.000000  Default  28.0000  28.0000\n",
       "8      money  500.000000  500.000000  Default  27.0000  27.0000\n",
       "32      time  441.000000  441.000000  Default  26.0000  26.0000\n",
       "..       ...         ...         ...      ...      ...      ...\n",
       "206     good    0.052709    1.990105  Topic20  -9.3037   0.4469\n",
       "34   useless    0.052698    1.989846  Topic20  -9.3039   0.4469\n",
       "511     code    0.052697    1.989781  Topic20  -9.3039   0.4469\n",
       "759     shib    0.052696    1.990600  Topic20  -9.3039   0.4464\n",
       "101   people    0.052694    1.989986  Topic20  -9.3040   0.4467\n",
       "\n",
       "[721 rows x 6 columns], token_table=      Topic      Freq                      Term\n",
       "term                                           \n",
       "241       9  0.959374                   ability\n",
       "117       4  0.979040                  absolute\n",
       "0        12  0.942464                    access\n",
       "74        8  0.997049                   account\n",
       "61        4  0.920646  account_customer_service\n",
       "...     ...       ...                       ...\n",
       "238      12  0.952934                     worth\n",
       "314      11  0.967136                 worthless\n",
       "92        1  0.988032                     wrong\n",
       "81        8  0.980889                      year\n",
       "370       4  0.979320                 yesterday\n",
       "\n",
       "[314 rows x 3 columns], R=30, lambda_step=0.01, plot_opts={'xlab': 'PC1', 'ylab': 'PC2'}, topic_order=[6, 13, 9, 12, 20, 18, 3, 11, 5, 17, 10, 2, 4, 16, 19, 8, 15, 7, 14, 1])"
      ]
     },
     "execution_count": 91,
     "metadata": {},
     "output_type": "execute_result"
    }
   ],
   "source": [
    "# Visualising the data\n",
    "pyLDAvis.enable_notebook()\n",
    "vis = pyLDAvis.gensim_models.prepare(lda_model, corpus, id2word, mds=\"mmds\", R=30)\n",
    "vis"
   ]
  },
  {
   "cell_type": "code",
   "execution_count": null,
   "metadata": {},
   "outputs": [],
   "source": [
    "# Further preprocessing\n",
    "\n",
    "\n",
    "def pre_process_unseen(unseen_document, useless_words=[\"app\", \"shib\", \"day\", \"time\", \"kraken\", \"hour\", \"money\"]):\n",
    "    words = \" \".join(lemmatization([unseen_document]))\n",
    "    cleaned_words = [\" \".join(gen_words([w])[0])]\n",
    "    cleaned_words = [word for word in cleaned_words if word not in useless_words]\n",
    "    return cleaned_words\n"
   ]
  },
  {
   "cell_type": "code",
   "execution_count": null,
   "metadata": {},
   "outputs": [
    {
     "name": "stdout",
     "output_type": "stream",
     "text": [
      "0.029*\"bank\" + 0.024*\"platform\" + 0.020*\"problem\" + 0.020*\"code\" + 0.020*\"deposit\"\n",
      "0.071*\"account\" + 0.038*\"promise\" + 0.035*\"company\" + 0.033*\"star\" + 0.026*\"update\"\n",
      "0.048*\"fee\" + 0.033*\"coin\" + 0.030*\"transaction\" + 0.028*\"verification\" + 0.023*\"shiba\"\n",
      "0.049*\"shib\" + 0.028*\"option\" + 0.025*\"error\" + 0.024*\"good\" + 0.022*\"people\"\n",
      "0.031*\"money\" + 0.021*\"website\" + 0.021*\"portfolio\" + 0.021*\"way\" + 0.019*\"hour\"\n",
      "0.054*\"app\" + 0.041*\"crypto\" + 0.035*\"kraken\" + 0.032*\"day\" + 0.031*\"time\"\n"
     ]
    }
   ],
   "source": [
    "labels = {1: \"transaction\", 2: \"trust\", 3: \"fee\", 4: \"idk\", 5: \"idk\", 6: \"app\"}\n",
    "for i in range(len(lda_model.get_topics())):\n",
    "    print(lda_model.print_topic(i, 5))"
   ]
  },
  {
   "cell_type": "code",
   "execution_count": null,
   "metadata": {},
   "outputs": [
    {
     "name": "stdout",
     "output_type": "stream",
     "text": [
      "Score: 0.22350287437438965\t Topic: 0.029*\"bank\" + 0.024*\"platform\" + 0.020*\"problem\" + 0.020*\"code\" + 0.020*\"deposit\"\n",
      "Score: 0.18693907558918\t Topic: 0.031*\"money\" + 0.021*\"website\" + 0.021*\"portfolio\" + 0.021*\"way\" + 0.019*\"hour\"\n",
      "Score: 0.16559089720249176\t Topic: 0.054*\"app\" + 0.041*\"crypto\" + 0.035*\"kraken\" + 0.032*\"day\" + 0.031*\"time\"\n",
      "Score: 0.14564518630504608\t Topic: 0.071*\"account\" + 0.038*\"promise\" + 0.035*\"company\" + 0.033*\"star\" + 0.026*\"update\"\n",
      "Score: 0.14540106058120728\t Topic: 0.049*\"shib\" + 0.028*\"option\" + 0.025*\"error\" + 0.024*\"good\" + 0.022*\"people\"\n",
      "Score: 0.13292092084884644\t Topic: 0.048*\"fee\" + 0.033*\"coin\" + 0.030*\"transaction\" + 0.028*\"verification\" + 0.023*\"shiba\"\n"
     ]
    }
   ],
   "source": [
    "unseen_document = \"The fee is too high\"\n",
    "bow_vector = id2word.doc2bow(pre_process_unseen(unseen_document))\n",
    "for index, score in sorted(lda_model[bow_vector], key=lambda tup: -1*tup[1]):\n",
    "    # lda_mode[bow_vector] % gets the topic probability for a document\n",
    "    print(\"Score: {}\\t Topic: {}\".format(score, lda_model.print_topic(index, 5)))\n",
    "# TODO: Think about how to classify using "
   ]
  },
  {
   "cell_type": "code",
   "execution_count": null,
   "metadata": {},
   "outputs": [
    {
     "ename": "NameError",
     "evalue": "name 'csv_file' is not defined",
     "output_type": "error",
     "traceback": [
      "\u001b[0;31m---------------------------------------------------------------------------\u001b[0m",
      "\u001b[0;31mNameError\u001b[0m                                 Traceback (most recent call last)",
      "\u001b[1;32m/home/UW2022/lda_crypto.ipynb Cell 14\u001b[0m in \u001b[0;36m<cell line: 2>\u001b[0;34m()\u001b[0m\n\u001b[1;32m      <a href='vscode-notebook-cell://wsl%2Bubuntu-20.04/home/UW2022/lda_crypto.ipynb#ch0000013vscode-remote?line=0'>1</a>\u001b[0m \u001b[39m# Save the model into memory\u001b[39;00m\n\u001b[0;32m----> <a href='vscode-notebook-cell://wsl%2Bubuntu-20.04/home/UW2022/lda_crypto.ipynb#ch0000013vscode-remote?line=1'>2</a>\u001b[0m lda_model\u001b[39m.\u001b[39msave(\u001b[39mf\u001b[39m\u001b[39m\"\u001b[39m\u001b[39mmodels/\u001b[39m\u001b[39m{\u001b[39;00mcsv_file[:\u001b[39m-\u001b[39m\u001b[39m4\u001b[39m]\u001b[39m}\u001b[39;00m\u001b[39m.model\u001b[39m\u001b[39m\"\u001b[39m)\n",
      "\u001b[0;31mNameError\u001b[0m: name 'csv_file' is not defined"
     ]
    }
   ],
   "source": [
    "# Save the model into memory\n",
    "lda_model.save(f\"models/{csv_file[:-4]}.model\");"
   ]
  }
 ],
 "metadata": {
  "kernelspec": {
   "display_name": "Python 3.9.12 ('base')",
   "language": "python",
   "name": "python3"
  },
  "language_info": {
   "codemirror_mode": {
    "name": "ipython",
    "version": 3
   },
   "file_extension": ".py",
   "mimetype": "text/x-python",
   "name": "python",
   "nbconvert_exporter": "python",
   "pygments_lexer": "ipython3",
   "version": "3.9.12"
  },
  "orig_nbformat": 4,
  "vscode": {
   "interpreter": {
    "hash": "2f394aca7ca06fed1e6064aef884364492d7cdda3614a461e02e6407fc40ba69"
   }
  }
 },
 "nbformat": 4,
 "nbformat_minor": 2
}
