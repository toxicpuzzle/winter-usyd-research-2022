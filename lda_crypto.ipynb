{
 "cells": [
  {
   "cell_type": "code",
   "execution_count": 17,
   "metadata": {},
   "outputs": [],
   "source": [
    "import numpy as np\n",
    "import json\n",
    "import glob\n",
    "import pandas as pd\n",
    "import csv\n",
    "\n",
    "# Gensim\n",
    "import gensim\n",
    "import gensim.corpora as corpora\n",
    "from gensim.utils import simple_preprocess\n",
    "from gensim.models import CoherenceModel\n",
    "\n",
    "# Spacy\n",
    "import spacy\n",
    "from nltk.corpus import stopwords\n",
    "\n",
    "# Vis\n",
    "import pyLDAvis\n",
    "import pyLDAvis.gensim_models\n",
    "import warnings\n",
    "warnings.filterwarnings(\"ignore\", category=DeprecationWarning)\n"
   ]
  },
  {
   "cell_type": "code",
   "execution_count": 18,
   "metadata": {},
   "outputs": [],
   "source": [
    "all_files = [\"coinbase.csv\", \"binance.csv\", \"ftx.csv\", \"kraken.csv\"]"
   ]
  },
  {
   "cell_type": "code",
   "execution_count": 19,
   "metadata": {},
   "outputs": [
    {
     "data": {
      "text/plain": [
       "5543"
      ]
     },
     "execution_count": 19,
     "metadata": {},
     "output_type": "execute_result"
    }
   ],
   "source": [
    "def load_data(file):\n",
    "    with open(file, \"r\", encoding=\"utf-8\") as f:\n",
    "        data = pd.read_csv(file)\n",
    "        # print(data)\n",
    "        # data = json.load(f)\n",
    "    return (data);\n",
    "\n",
    "def write_data(file, data):\n",
    "    with open(file, \"w\", encoding=\"utf-8\") as f:\n",
    "        json.dump(data, f, indent=4);\n",
    "\n",
    "# Combine all the csv files into one\n",
    "\n",
    "li = []\n",
    "for filename in all_files:\n",
    "    df = load_data(filename)\n",
    "    li.append(df)\n",
    "\n",
    "frame = pd.concat(li, axis=0, ignore_index=True)\n",
    "data = frame.loc[:, [\"content\", \"score\"]]\n",
    "data = data.loc[(data.score <= 2)] # Grab only poor reviews\n",
    "content = json.loads(data.loc[:, \"content\"].to_json())\n",
    "\n",
    "# Prefilter step\n",
    "\n",
    "# Remove reviews with <= 50 chars\n",
    "data = [content[key] for key in content if len(content[key]) > 50];\n",
    "len(data)\n",
    "\n",
    "## Break each sentence into its own document\n",
    "\n",
    "#"
   ]
  },
  {
   "cell_type": "code",
   "execution_count": 20,
   "metadata": {},
   "outputs": [
    {
     "name": "stdout",
     "output_type": "stream",
     "text": [
      "['i', 'me', 'my', 'myself', 'we', 'our', 'ours', 'ourselves', 'you', \"you're\", \"you've\", \"you'll\", \"you'd\", 'your', 'yours', 'yourself', 'yourselves', 'he', 'him', 'his', 'himself', 'she', \"she's\", 'her', 'hers', 'herself', 'it', \"it's\", 'its', 'itself', 'they', 'them', 'their', 'theirs', 'themselves', 'what', 'which', 'who', 'whom', 'this', 'that', \"that'll\", 'these', 'those', 'am', 'is', 'are', 'was', 'were', 'be', 'been', 'being', 'have', 'has', 'had', 'having', 'do', 'does', 'did', 'doing', 'a', 'an', 'the', 'and', 'but', 'if', 'or', 'because', 'as', 'until', 'while', 'of', 'at', 'by', 'for', 'with', 'about', 'against', 'between', 'into', 'through', 'during', 'before', 'after', 'above', 'below', 'to', 'from', 'up', 'down', 'in', 'out', 'on', 'off', 'over', 'under', 'again', 'further', 'then', 'once', 'here', 'there', 'when', 'where', 'why', 'how', 'all', 'any', 'both', 'each', 'few', 'more', 'most', 'other', 'some', 'such', 'no', 'nor', 'not', 'only', 'own', 'same', 'so', 'than', 'too', 'very', 's', 't', 'can', 'will', 'just', 'don', \"don't\", 'should', \"should've\", 'now', 'd', 'll', 'm', 'o', 're', 've', 'y', 'ain', 'aren', \"aren't\", 'couldn', \"couldn't\", 'didn', \"didn't\", 'doesn', \"doesn't\", 'hadn', \"hadn't\", 'hasn', \"hasn't\", 'haven', \"haven't\", 'isn', \"isn't\", 'ma', 'mightn', \"mightn't\", 'mustn', \"mustn't\", 'needn', \"needn't\", 'shan', \"shan't\", 'shouldn', \"shouldn't\", 'wasn', \"wasn't\", 'weren', \"weren't\", 'won', \"won't\", 'wouldn', \"wouldn't\"]\n"
     ]
    }
   ],
   "source": [
    "# Stop words are basically words that are not really useful in the topic model\n",
    "# i.e. words that you want to eliminate from consideration\n",
    "stopwords = stopwords.words(\"english\")\n",
    "print(stopwords)"
   ]
  },
  {
   "cell_type": "code",
   "execution_count": 21,
   "metadata": {},
   "outputs": [
    {
     "name": "stdout",
     "output_type": "stream",
     "text": [
      "DO NOT RECOMMEND - They have no problem taking your money to buy crypto, but then mistaken\n"
     ]
    }
   ],
   "source": [
    "# data = load_data(\"ushmm_dn.json\")[\"texts\"]\n",
    "print(data[0][0:90]) # Prints out first text, char 0-89"
   ]
  },
  {
   "cell_type": "code",
   "execution_count": 22,
   "metadata": {},
   "outputs": [
    {
     "name": "stdout",
     "output_type": "stream",
     "text": [
      "problem money crypto suspicious customer service flat problem problem money access smart g\n"
     ]
    }
   ],
   "source": [
    "# Reducing words to their root form (lemma) using spacy or nltk to grab roots\n",
    "# Specify allowed_postags for spacy\n",
    "\n",
    "# Takes a list of texts i.e. [text1, text2...] and returns lemmatised [text1..]\n",
    "# Allowed_post_tages -> Basically default arguments in python \n",
    "# This is a list initalised that is used to filter tokens \n",
    "# pos_ tag marks category of word token belongs to i.e. only append nouns,adj,verbs,and adverbs \n",
    "# e.g. conjunctions (but, and, because), and pronouns (he/she) is ignored\n",
    "def lemmatization(texts, allowed_postags=[\"NOUN\", \"ADJ\"]):\n",
    "\n",
    "    # Spacy load creates an an nlp parser i.e. function pointer \n",
    "    spacy.load\n",
    "    nlp = spacy.load(\"en_core_web_sm\", disable=[\"parser\", \"ner\"])\n",
    "    texts_out = []\n",
    "\n",
    "    for text in texts:\n",
    "        doc = nlp(text) # Create document from the raw text/string\n",
    "        new_text = []\n",
    "        for token in doc:\n",
    "            if token.pos_ in allowed_postags and token.pos_ not in stopwords:\n",
    "               new_text.append(token.lemma_) # Appends only lemma to new_text\n",
    "        final = \" \".join(new_text)\n",
    "        texts_out.append(final)\n",
    "    return (texts_out);\n",
    "\n",
    "lemmatized_texts = lemmatization(data)\n",
    "print(lemmatized_texts[0][0:90])"
   ]
  },
  {
   "cell_type": "code",
   "execution_count": 23,
   "metadata": {},
   "outputs": [
    {
     "name": "stdout",
     "output_type": "stream",
     "text": [
      "['problem', 'money', 'crypto', 'suspicious', 'customer', 'service', 'flat', 'problem', 'problem', 'money', 'access', 'smart', 'guy', 'form', 'theft', 'good', 'luck', 'clown']\n"
     ]
    }
   ],
   "source": [
    "# Simple preprocess converts documents to list of lower case tokens ignoring ones\n",
    "# which are too short or too long.\n",
    "def gen_words(texts):\n",
    "    final = []\n",
    "    for text in texts:\n",
    "        new = gensim.utils.simple_preprocess(text, deacc=True);\n",
    "        final.append(new)\n",
    "    return (final)\n",
    "\n",
    "data_words = gen_words(lemmatized_texts)\n",
    "\n",
    "print(data_words[0][0:20])\n"
   ]
  },
  {
   "cell_type": "code",
   "execution_count": 24,
   "metadata": {},
   "outputs": [],
   "source": [
    "# BIGRAMS AND TRIGRAMS\n",
    "\n",
    "# min_count - ignore all words/bigrams with total collected count lower than this value.\n",
    "# threshold - score for forming phrases play around with this -> related to scoring function\n",
    "bigrams_phrases = gensim.models.Phrases(data_words, min_count=5, threshold=1) \n",
    "\n",
    "# First arg checks ensures no overlap between bigraph phrases and trigram phrases.\n",
    "trigram_phrases = gensim.models.Phrases(bigrams_phrases[data_words], threshold=1)\n",
    "\n",
    "# Create function pointer i.e. phraser that converts document to list of bigram\n",
    "bigram = gensim.models.phrases.Phraser(bigrams_phrases)\n",
    "trigram = gensim.models.phrases.Phraser(trigram_phrases)\n",
    "\n",
    "def make_bigrams(texts):\n",
    "    return([bigram[doc] for doc in texts])\n",
    "\n",
    "def make_trigrams(texts):\n",
    "    return ([trigram[bigram[doc]] for doc in texts])\n",
    "\n",
    "data_bigrams = make_bigrams(data_words)\n",
    "data_bigrams_trigrams = make_trigrams(data_bigrams)\n",
    "\n",
    "# print(data_bigrams_trigrams[0])\n",
    "\n",
    "# new_words = []\n",
    "# for word in data_bigrams_trigrams[0]:\n",
    "#     if '_' in word:\n",
    "#         new_words.append(word)\n",
    "# print(data_bigrams)\n"
   ]
  },
  {
   "cell_type": "code",
   "execution_count": 33,
   "metadata": {},
   "outputs": [
    {
     "name": "stdout",
     "output_type": "stream",
     "text": [
      "[(0, 1), (1, 1), (2, 1), (3, 1), (4, 1), (5, 1), (6, 1), (7, 1), (8, 2), (9, 3), (10, 1), (11, 1), (12, 1)]\n"
     ]
    }
   ],
   "source": [
    "# TF-IDF Removal - to remove words that are not important to the topic\n",
    "from gensim.models import TfidfModel\n",
    "\n",
    "id2word = corpora.Dictionary(data_bigrams_trigrams)\n",
    "\n",
    "texts = data_bigrams_trigrams\n",
    "\n",
    "corpus = [id2word.doc2bow(text) for text in texts]\n",
    "print(corpus[0][0:20])\n",
    "\n",
    "tfidf = TfidfModel(corpus, id2word=id2word)\n",
    "\n",
    "# Goes through words and looks at words that occur too frequentely and removes them\n",
    "# Corpus becomes new corpus where those irrelevant words are removed\n",
    "# low_value = 0.03\n",
    "low_value = 0.2 # TODO\n",
    "words = []\n",
    "words_missing_in_tfidf = []\n",
    "for i in range(0, len(corpus)):\n",
    "    bow = corpus[i]\n",
    "    low_value_words = []\n",
    "    tfidf_ids = [id for id, value in tfidf[bow]]\n",
    "    bow_ids = [id for id, value in bow]\n",
    "    low_value_words = [id for id, value in tfidf[bow] if value < low_value]\n",
    "    drops = low_value_words + words_missing_in_tfidf\n",
    "    for item in drops:\n",
    "        words.append(id2word[item])\n",
    "    words_missing_in_tfidf = [id for id in bow_ids if id not in tfidf_ids]\n",
    "\n",
    "    new_bow = [b for b in bow if b[0] not in low_value_words and b[0] not in words_missing_in_tfidf]\n",
    "    corpus[i] = new_bow\n",
    "\n",
    "\n"
   ]
  },
  {
   "cell_type": "code",
   "execution_count": 34,
   "metadata": {},
   "outputs": [],
   "source": [
    "# id2word = corpora.Dictionary(data_words)\n",
    "# corpus = []\n",
    "# for text in data_words:\n",
    "#     new = id2word.doc2bow(text) # Create a bag of words all (word: f pairs) for 1 doc\n",
    "#     corpus.append(new)\n",
    "\n",
    "# print(corpus[0][0:20])\n",
    "# #(0,2) - 0 = index of word in the dictionary, 2 = frequency of word in that text\n",
    "\n",
    "# word = id2word[[0][:1][0]] # i.e. text 1 -> first tuple -> first value in tuple\n",
    "# print(word) # i.e. able is the first element in teh dictionary "
   ]
  },
  {
   "cell_type": "code",
   "execution_count": 35,
   "metadata": {},
   "outputs": [],
   "source": [
    "lda_model = gensim.models.LdaModel(corpus=corpus\n",
    "                                    ,id2word=id2word\n",
    "                                    ,num_topics=10\n",
    "                                    ,random_state=100\n",
    "                                    ,update_every=1\n",
    "                                    ,chunksize=100\n",
    "                                    ,passes=10\n",
    "                                    ,alpha=\"auto\")"
   ]
  },
  {
   "cell_type": "markdown",
   "metadata": {},
   "source": [
    "### Idea\n",
    "I think I can separate the review data set into one star vs 5 star reviews and look at if there are any differences in the topics that are mentioned."
   ]
  },
  {
   "cell_type": "code",
   "execution_count": 36,
   "metadata": {},
   "outputs": [
    {
     "name": "stderr",
     "output_type": "stream",
     "text": [
      "/root/miniconda3/lib/python3.9/site-packages/pyLDAvis/_prepare.py:246: FutureWarning: In a future version of pandas all arguments of DataFrame.drop except for the argument 'labels' will be keyword-only.\n",
      "  default_term_info = default_term_info.sort_values(\n",
      "/root/miniconda3/lib/python3.9/site-packages/past/builtins/misc.py:45: DeprecationWarning: the imp module is deprecated in favour of importlib; see the module's documentation for alternative uses\n",
      "  from imp import reload\n",
      "/root/miniconda3/lib/python3.9/site-packages/past/builtins/misc.py:45: DeprecationWarning: the imp module is deprecated in favour of importlib; see the module's documentation for alternative uses\n",
      "  from imp import reload\n",
      "/root/miniconda3/lib/python3.9/site-packages/past/builtins/misc.py:45: DeprecationWarning: the imp module is deprecated in favour of importlib; see the module's documentation for alternative uses\n",
      "  from imp import reload\n",
      "/root/miniconda3/lib/python3.9/site-packages/past/builtins/misc.py:45: DeprecationWarning: the imp module is deprecated in favour of importlib; see the module's documentation for alternative uses\n",
      "  from imp import reload\n",
      "/root/miniconda3/lib/python3.9/site-packages/past/builtins/misc.py:45: DeprecationWarning: the imp module is deprecated in favour of importlib; see the module's documentation for alternative uses\n",
      "  from imp import reload\n",
      "/root/miniconda3/lib/python3.9/site-packages/past/builtins/misc.py:45: DeprecationWarning: the imp module is deprecated in favour of importlib; see the module's documentation for alternative uses\n",
      "  from imp import reload\n",
      "/root/miniconda3/lib/python3.9/site-packages/past/builtins/misc.py:45: DeprecationWarning: the imp module is deprecated in favour of importlib; see the module's documentation for alternative uses\n",
      "  from imp import reload\n",
      "/root/miniconda3/lib/python3.9/site-packages/past/builtins/misc.py:45: DeprecationWarning: the imp module is deprecated in favour of importlib; see the module's documentation for alternative uses\n",
      "  from imp import reload\n"
     ]
    },
    {
     "data": {
      "text/html": [
       "\n",
       "<link rel=\"stylesheet\" type=\"text/css\" href=\"https://cdn.jsdelivr.net/gh/bmabey/pyLDAvis@3.3.1/pyLDAvis/js/ldavis.v1.0.0.css\">\n",
       "\n",
       "\n",
       "<div id=\"ldavis_el161811399049167162242272135061\"></div>\n",
       "<script type=\"text/javascript\">\n",
       "\n",
       "var ldavis_el161811399049167162242272135061_data = {\"mdsDat\": {\"x\": [-0.19104465589177472, 0.15721741311718215, 0.18529837537721439, -0.23331210273428524, -0.3593555442612808, 0.1567934625528648, 0.40794742228633807, -0.32720359665731746, 0.2308731064175203, -0.027213880206461528], \"y\": [0.36867679954624305, -0.40373709642075584, 0.40113871622154246, -0.35700403369303757, 0.1480246794098509, 0.20952876928834097, -0.11503284655781372, -0.09786263055610103, -0.015732824317700175, -0.1379995329205689], \"topics\": [1, 2, 3, 4, 5, 6, 7, 8, 9, 10], \"cluster\": [1, 1, 1, 1, 1, 1, 1, 1, 1, 1], \"Freq\": [14.625014600327058, 14.541125561996152, 13.137399483847348, 10.449553614860353, 10.295315611161929, 10.082512691392873, 7.773631149795951, 7.750843204866589, 6.505895399885149, 4.838708681866603]}, \"tinfo\": {\"Term\": [\"account\", \"app\", \"shib\", \"crypto\", \"fee\", \"money\", \"bank\", \"kraken\", \"promise\", \"time\", \"exchange\", \"star\", \"day\", \"company\", \"verification\", \"option\", \"platform\", \"website\", \"coin\", \"update\", \"portfolio\", \"transaction\", \"people\", \"terrible\", \"error\", \"way\", \"good\", \"word\", \"deposit\", \"useless\", \"account\", \"app\", \"crypto\", \"good\", \"price\", \"bad\", \"screen\", \"login\", \"liar\", \"market\", \"service\", \"week\", \"easy\", \"thing\", \"disappointed\", \"user\", \"bug\", \"big\", \"order\", \"last\", \"coinbase\", \"minute\", \"old\", \"response\", \"unusable\", \"ceo\", \"multiple\", \"responsive\", \"fee_high\", \"open\", \"fee\", \"coin\", \"hour\", \"code\", \"shiba\", \"customer\", \"issue\", \"credit_card\", \"limited\", \"transfer\", \"well\", \"purchase\", \"datum\", \"high_fee\", \"number\", \"process\", \"euro\", \"same\", \"bank_account\", \"information\", \"trade\", \"trading\", \"debit_card\", \"help\", \"several\", \"amount\", \"profit\", \"desktop\", \"minimum\", \"fingerprint\", \"time\", \"website\", \"update\", \"portfolio\", \"word\", \"new\", \"password\", \"currency\", \"inu\", \"business\", \"application\", \"difficult\", \"one\", \"wrong\", \"page\", \"credential\", \"basic\", \"great_app\", \"shibarmy\", \"app_slow\", \"experience\", \"blockfolio\", \"advice\", \"regular\", \"complete\", \"device\", \"own\", \"link\", \"registration\", \"usd\", \"money\", \"kraken\", \"promise\", \"day\", \"company\", \"problem\", \"review\", \"waste_time\", \"whole\", \"interface\", \"scam\", \"like\", \"buggy\", \"first\", \"crash\", \"error_message\", \"asset\", \"horrible\", \"charge\", \"month\", \"half\", \"simple\", \"funding\", \"absolute\", \"other_app\", \"system\", \"ticket\", \"pro\", \"reply\", \"nice\", \"shib\", \"option\", \"transaction\", \"error\", \"way\", \"slow\", \"support\", \"address\", \"site\", \"bitcoin\", \"community\", \"impossible\", \"functionality\", \"few\", \"reason\", \"name\", \"glitch\", \"high\", \"rating\", \"invalid\", \"sorry\", \"section\", \"less\", \"design\", \"bad_experience\", \"stupid\", \"free\", \"full\", \"requirement\", \"example\", \"verification\", \"platform\", \"terrible\", \"deposit\", \"useless\", \"guy\", \"able\", \"phone\", \"other\", \"today\", \"feature\", \"investor\", \"app_good\", \"message\", \"customer_service\", \"careful\", \"function\", \"pro_app\", \"fine\", \"attempt\", \"few_day\", \"cryptocurrency\", \"username\", \"load\", \"sure\", \"next\", \"long\", \"document\", \"mobile_app\", \"button\", \"exchange\", \"star\", \"people\", \"second\", \"great\", \"lie\", \"poor\", \"card\", \"top\", \"server\", \"use\", \"usable\", \"security\", \"annoying\", \"money_bank\", \"everytime\", \"deal\", \"only\", \"uninstall\", \"detail\", \"several_time\", \"functional\", \"product\", \"extra\", \"place\", \"fee_crypto\", \"stuff\", \"visa\", \"tweet\", \"date\", \"more\", \"bad_app\", \"email\", \"many\", \"much\", \"false\", \"wallet\", \"browser\", \"lot\", \"list\", \"ridiculous\", \"different\", \"year\", \"user_friendly\", \"track\", \"fake\", \"right\", \"keep\", \"able_crypto\", \"enough\", \"job\", \"good_app\", \"entire\", \"mind\", \"card_payment\", \"cash\", \"suck\", \"app_bad\", \"disaster\", \"blank\", \"available\", \"withdrawal\", \"unable\", \"garbage\", \"web\", \"version\", \"fund\", \"joke\", \"info\", \"ftx\", \"clear\", \"shame\", \"identity\", \"app_unusable\", \"part\", \"cost\", \"total\", \"value\", \"pain\", \"picture\", \"android\", \"late_update\", \"app_useless\", \"unreliable\", \"hope\", \"trustworthy\", \"step\", \"crypto_purchase\", \"thousand\", \"phone_number\", \"bank\", \"payment\", \"trust\", \"listing\", \"frustrating\", \"pin\", \"developer\", \"possible\", \"bit\", \"huge\", \"such\", \"little\", \"end\", \"verification_process\", \"period\", \"bank_transfer\", \"wire\", \"action\", \"future\", \"most\", \"trouble\", \"lag\", \"customer_care\", \"couple\", \"photo\", \"world\", \"app_fine\", \"quick\", \"management\", \"email_password\"], \"Freq\": [419.0, 354.0, 276.0, 266.0, 256.0, 212.0, 155.0, 207.0, 201.0, 220.0, 170.0, 170.0, 187.0, 186.0, 157.0, 159.0, 150.0, 169.0, 177.0, 167.0, 167.0, 143.0, 125.0, 140.0, 140.0, 132.0, 157.0, 143.0, 124.0, 120.0, 418.98671726850176, 353.1372894834697, 265.77423063871356, 156.80161862812173, 139.19077405922224, 134.16094934957718, 101.62448362461922, 96.39474674912282, 94.9812636069101, 93.75070060825927, 93.51435702550582, 86.04168251339836, 77.01481490889255, 73.20274404199391, 73.18811098884485, 69.18193930216266, 68.2184144018851, 67.9530466583864, 62.74400543325788, 58.32326469454569, 58.08114233531811, 50.60683469072884, 47.95355739646379, 47.755515655848036, 46.497938505660336, 43.160062311174904, 43.02815545687417, 42.566974663525485, 39.589629912398124, 38.302996031871515, 255.6837294176923, 177.0853877610206, 140.08495907250088, 122.52555685160925, 122.04877138333555, 113.96395835397908, 97.91033664598446, 88.59419174429225, 81.0185377055546, 79.2720514031946, 77.68742346033895, 75.25213241239743, 74.42148648810424, 66.87424139488269, 63.614776351450615, 63.05694605065841, 62.54711164788433, 59.16659054090158, 58.41158615188496, 56.79586149322424, 53.91629728267372, 53.41799577375594, 46.98999189176371, 46.97354144228395, 44.78138489189793, 44.71369101472211, 44.59636359635723, 42.35143700175986, 41.8294266757488, 40.664983737335376, 219.15100619919218, 168.78493358254423, 166.40577819247244, 166.1629809629734, 142.8829680405806, 116.84416470178095, 104.22341491808105, 97.30277438086087, 101.8120269962683, 84.04447080348461, 81.65771702872598, 80.12579406982815, 69.15622176112635, 67.51266774799228, 65.29413585731594, 51.826028256556185, 46.181849474256666, 44.08761261229465, 46.14902344932233, 42.594580175680235, 39.54227811844843, 38.86154978471966, 38.353406763903244, 36.86134815766949, 36.53992143910883, 34.443540478497546, 32.59452288339765, 32.11036827232285, 31.92431024596819, 31.40968686461438, 211.95729695681067, 206.2166905612691, 200.74013610271217, 186.98899685268685, 185.16052661593412, 114.82742023734254, 91.80665775395495, 79.68557412861871, 73.11214098244112, 53.107693495236745, 51.6358170417929, 52.54902823917677, 50.576221711090234, 48.42672564784233, 48.214946872175446, 47.63206987394572, 47.07518318194737, 45.05101105887732, 44.85490026904677, 43.998486766976676, 43.01192559304008, 38.040892231498, 37.64981757632524, 35.55055680566654, 33.9271466941722, 33.573827463388, 33.11553638436103, 32.33152539948371, 31.110399883378587, 30.21624757901396, 275.18441515413105, 158.1065996679146, 142.81155571004948, 139.72418501156253, 131.58424697971026, 118.67955313106955, 82.68994010303443, 70.77512239855623, 68.15568779037407, 66.58123380735962, 62.98195872606822, 62.45670401845534, 53.41035229994026, 51.350403077627355, 46.599492163430966, 41.21599661187495, 40.95899303326382, 40.47498480266582, 39.678701469623924, 38.638463550619775, 36.999223153299404, 36.395884112165135, 36.099979206824415, 33.68581075559635, 33.090407886447075, 32.24962237892719, 29.403196220156417, 27.791573570329856, 25.790929464833447, 24.824093767154004, 157.0758518350905, 149.95796437382444, 139.54135687283556, 123.24075446820481, 119.36515809453162, 103.75162116457246, 90.86654211155964, 81.95917812935556, 80.8058232098668, 71.16097593412016, 54.81819295192524, 51.65041233096642, 47.40761398179424, 46.07958335646262, 41.42525974504002, 41.005705738634234, 40.32565218354859, 37.90423362713595, 37.26256920910642, 36.82286475492435, 36.414598463533636, 35.86362389109127, 35.46992032381777, 35.45100161305933, 34.20470187109917, 33.804326394979014, 33.33408512722959, 31.545885250388203, 27.44858904409721, 27.43543768531295, 169.841840669476, 169.47667241032985, 124.67841917426252, 83.89767957997563, 75.12656334428452, 71.05797521255522, 61.60406535973284, 56.93782754559813, 47.390201988624995, 44.287627045445774, 40.92696171409248, 40.600702759147644, 39.78257608764002, 38.86245624162241, 34.25440061083733, 32.234863540979106, 29.433272456517855, 29.192884528108152, 29.005111831814546, 27.11900600136218, 26.296088932458133, 25.88340497626634, 24.366953610885297, 22.17729931557139, 21.775635499182624, 21.664892491947533, 21.49972394237736, 21.2936527688839, 23.839799683660583, 20.54898215492326, 103.8136757411341, 95.57473278788787, 90.21556919435677, 87.6927465180503, 67.63311740207293, 64.89889726466791, 59.70684936848395, 48.706167373530135, 48.28535499605164, 46.91036653135928, 46.71496751570117, 42.01240596517014, 41.54585697147263, 41.29747173577387, 39.64527962726588, 37.243064220524204, 37.20202011997614, 36.538802197025916, 36.31628127917927, 35.49378906709717, 33.37735353617509, 30.501324736804424, 28.161187145100136, 26.414187972736833, 27.01164409829948, 26.03690280840789, 25.73080431507456, 25.632988912218423, 24.278010833584794, 23.680581832390185, 79.10183711277242, 76.295433267362, 74.24034453012628, 71.11274329263289, 68.90980986962747, 64.09908495396382, 62.42776732489942, 62.35852476410228, 61.370985184600436, 50.2053438700855, 49.2418427643416, 43.013903486904276, 35.185544968563775, 35.170091959688556, 33.57734126926524, 33.50969244230602, 33.28785297120427, 29.757059840343185, 29.294783887056944, 29.129399849933282, 28.98968113695276, 28.747452221646657, 28.451187450098217, 27.927130508074185, 26.041853076376825, 24.954013824080437, 23.326335525196196, 21.905211341059093, 21.422924714078025, 19.08379742059335, 154.8141796735362, 52.41442910551362, 48.91496806366988, 46.441704679224955, 45.259816623772046, 39.570382282051966, 33.40765147011383, 31.37699536116681, 29.95789719479865, 28.72713671990477, 27.69945201585168, 27.608969999034823, 27.502238226024854, 25.33025880641957, 25.33594683684147, 24.39983249534496, 23.155119027827514, 22.30328759665016, 21.923961391404852, 21.891755901700787, 21.855894370791848, 20.89882437080189, 19.28269252274205, 18.817413173616615, 17.681731321450222, 16.10272791878842, 15.925510750120038, 14.809779337538975, 13.42259109880695, 12.98302103143418], \"Total\": [419.0, 354.0, 276.0, 266.0, 256.0, 212.0, 155.0, 207.0, 201.0, 220.0, 170.0, 170.0, 187.0, 186.0, 157.0, 159.0, 150.0, 169.0, 177.0, 167.0, 167.0, 143.0, 125.0, 140.0, 140.0, 132.0, 157.0, 143.0, 124.0, 120.0, 419.872003420286, 354.0225239872886, 266.6595243000424, 157.6868988688244, 140.07605734033257, 135.04623156763535, 102.50987467323532, 97.28004102677457, 95.86670909085926, 94.63602697876323, 94.39967475776717, 86.92698318757483, 77.90017941183959, 74.08803697504621, 74.07340439927741, 70.06718096883117, 69.10367530604437, 68.83842064723751, 63.62942172140257, 59.20857260569225, 58.96645443168005, 51.49215347072797, 48.83896937772609, 48.64083147508446, 47.383199014720134, 44.045541737818645, 43.91354958692862, 43.45269739072292, 40.47510899937604, 39.18821634222327, 256.5731220667956, 177.97458245095376, 140.9744117050652, 123.41490099909338, 122.93872733505054, 114.85327501039092, 98.79952871274367, 89.48401582062306, 81.90827232015339, 80.16139404581848, 78.57661812727989, 76.14136324185748, 75.31059530723097, 67.76371056952063, 64.50405437809832, 63.946155473469545, 63.43655281689587, 60.05581367520204, 59.300820330760615, 57.685035265856186, 54.80547881441434, 54.30735698416851, 47.87929913063151, 47.86272419206382, 45.67076243781489, 45.60293213538689, 45.48575052322252, 43.2406959174639, 42.71996287816327, 41.55529770677521, 220.02912332188953, 169.66322639245502, 167.28379884924377, 167.04100721662397, 143.76141290873244, 117.72227859872703, 105.1014505046185, 98.18109338632433, 102.7730421895656, 84.92281945881848, 82.53581038342342, 81.00406774247371, 70.03431910841098, 68.39075996252214, 66.17231536139151, 52.70423634090842, 47.06019930181668, 44.965659173704395, 47.08667758070028, 43.47289084595332, 40.42034781314762, 39.73961287371856, 39.231810437087084, 37.74003116878713, 37.41819723951683, 35.321631836991315, 33.4726736682093, 32.988485406720095, 32.80254310772775, 32.28842754891962, 212.8532347270346, 207.1175836645219, 201.63698657268026, 187.88499694398388, 186.05657227773298, 115.72340011651394, 92.70265194837437, 80.58172922459336, 74.00817905399487, 54.00388812676694, 52.53175463938182, 53.478979267479566, 51.47220895297315, 49.322943203986526, 49.111088305758585, 48.5281983025817, 47.97111135208585, 45.94695170364753, 45.7511690718123, 44.89439748701651, 43.90817887149472, 38.93686500233438, 38.5490034179474, 36.44659006938875, 34.823169413690216, 34.469827382103496, 34.01141868943075, 33.22766004731247, 32.006418103610834, 31.112288179723656, 276.0861904494466, 159.00723489143994, 143.7121082654368, 140.6248064017294, 132.48486819463434, 119.58018187065535, 83.59044268534423, 71.67583881303212, 69.05640244327712, 67.48194890064806, 63.88502373138418, 63.35763356134421, 54.31122445646897, 52.251276446559665, 47.5000036133955, 42.11655093132113, 41.86003912131859, 41.375568538576914, 40.57931904287514, 39.539099227137655, 37.90014747125243, 37.29692164108659, 37.00063361847962, 34.58660839837815, 33.99100329180546, 33.150290792486096, 30.30381824106569, 28.692321112370976, 26.693514356314715, 25.724833967790907, 157.9622856437014, 150.84440444191478, 140.4277512478885, 124.12721019214086, 120.25154755260981, 104.63798205040433, 91.75289279495253, 82.84557249579119, 81.69221025522099, 72.04736573852297, 55.70461000041795, 52.53730899808082, 48.294031527504146, 46.96591062355077, 42.31156747169851, 41.89251315849208, 41.21216030665801, 38.791112032055345, 38.1489330823017, 37.709306299817754, 37.3010222371687, 36.750131019089935, 36.35646143008326, 36.33756714478238, 35.09107103325784, 34.69086073914643, 34.22064131958797, 32.43262231235507, 28.33515479445932, 28.3217217919356, 170.73964869049976, 170.37446257615895, 125.5762265254334, 84.79573316565639, 76.02435984116579, 71.95612549075481, 62.501951688036804, 57.83564939302441, 48.28809784644161, 45.19112653847444, 41.82491269167294, 41.49881669335512, 40.68049336331744, 39.760217494196716, 35.152625668257826, 33.13264781197377, 30.33144264246259, 30.09077342281357, 29.902944075334048, 28.01685729705971, 27.194036532888017, 26.781413970992006, 25.26480213712922, 23.076805042932307, 22.673479760992546, 22.563383784843687, 22.39765597979742, 22.192007753086145, 24.8673869674134, 21.44678063226407, 104.70025139138848, 96.46134362041087, 91.10213708477224, 88.57934230667563, 68.51974962095247, 65.78562993492257, 60.59341524475136, 49.592880320607364, 49.17198334289302, 47.79697392704339, 47.60157765380992, 42.899067081723175, 42.432334399387074, 42.18429486605429, 40.5319275889942, 38.12965641721005, 38.088659688504585, 37.425361777417784, 37.20317397724076, 36.38037034757276, 34.26415335297127, 31.3878611053107, 29.04781400532319, 27.301558627127218, 27.928430668979733, 26.9235693534163, 26.617426284999617, 26.51957013086913, 25.1654140809892, 24.56727927780954, 79.99590803935699, 77.18969441605807, 75.13440775032994, 72.00681357631277, 69.80413560694124, 64.99327859834541, 63.32182082017869, 63.25266827111081, 62.26505798415178, 51.09934122662489, 50.13603766247926, 43.90799830189274, 36.07961516680478, 36.064281097169854, 34.47143245171526, 34.4037402651249, 34.18189986250697, 30.651083801577737, 30.189094715906137, 30.02372493699482, 29.883955092702546, 29.641424029022957, 29.345276848044307, 28.821236585955933, 26.93617547620736, 25.861842334789806, 24.220522776246984, 22.80006871448197, 22.31724812426316, 19.97804761659731, 155.7179070573206, 53.318345405562276, 49.8188163131397, 47.35390575725019, 46.1635197480996, 40.47490964097051, 34.31143864588511, 32.280732272011626, 30.861690637348378, 29.630894416537025, 28.60320538242787, 28.512807570194, 28.4060044702503, 26.234144229105414, 26.2402181852735, 25.304025154444307, 24.06108671920659, 23.20703014533777, 22.827671329277162, 22.79552833506543, 22.759653099311468, 21.802899118874446, 20.1913309656756, 19.72139080855836, 18.585427186160896, 17.006490002746563, 16.829824610204174, 15.713484489763115, 14.326393508067158, 13.88670201874271], \"Category\": [\"Default\", \"Default\", \"Default\", \"Default\", \"Default\", \"Default\", \"Default\", \"Default\", \"Default\", \"Default\", \"Default\", \"Default\", \"Default\", \"Default\", \"Default\", \"Default\", \"Default\", \"Default\", \"Default\", \"Default\", \"Default\", \"Default\", \"Default\", \"Default\", \"Default\", \"Default\", \"Default\", \"Default\", \"Default\", \"Default\", \"Topic1\", \"Topic1\", \"Topic1\", \"Topic1\", \"Topic1\", \"Topic1\", \"Topic1\", \"Topic1\", \"Topic1\", \"Topic1\", \"Topic1\", \"Topic1\", \"Topic1\", \"Topic1\", \"Topic1\", \"Topic1\", \"Topic1\", \"Topic1\", \"Topic1\", \"Topic1\", \"Topic1\", \"Topic1\", \"Topic1\", \"Topic1\", \"Topic1\", \"Topic1\", \"Topic1\", \"Topic1\", \"Topic1\", \"Topic1\", \"Topic2\", \"Topic2\", \"Topic2\", \"Topic2\", \"Topic2\", \"Topic2\", \"Topic2\", \"Topic2\", \"Topic2\", \"Topic2\", \"Topic2\", \"Topic2\", \"Topic2\", \"Topic2\", \"Topic2\", \"Topic2\", \"Topic2\", \"Topic2\", \"Topic2\", \"Topic2\", \"Topic2\", \"Topic2\", \"Topic2\", \"Topic2\", \"Topic2\", \"Topic2\", \"Topic2\", \"Topic2\", \"Topic2\", \"Topic2\", \"Topic3\", \"Topic3\", \"Topic3\", \"Topic3\", \"Topic3\", \"Topic3\", \"Topic3\", \"Topic3\", \"Topic3\", \"Topic3\", \"Topic3\", \"Topic3\", \"Topic3\", \"Topic3\", \"Topic3\", \"Topic3\", \"Topic3\", \"Topic3\", \"Topic3\", \"Topic3\", \"Topic3\", \"Topic3\", \"Topic3\", \"Topic3\", \"Topic3\", \"Topic3\", \"Topic3\", \"Topic3\", \"Topic3\", \"Topic3\", \"Topic4\", \"Topic4\", \"Topic4\", \"Topic4\", \"Topic4\", \"Topic4\", \"Topic4\", \"Topic4\", \"Topic4\", \"Topic4\", \"Topic4\", \"Topic4\", \"Topic4\", \"Topic4\", \"Topic4\", \"Topic4\", \"Topic4\", \"Topic4\", \"Topic4\", \"Topic4\", \"Topic4\", \"Topic4\", \"Topic4\", \"Topic4\", \"Topic4\", \"Topic4\", \"Topic4\", \"Topic4\", \"Topic4\", \"Topic4\", \"Topic5\", \"Topic5\", \"Topic5\", \"Topic5\", \"Topic5\", \"Topic5\", \"Topic5\", \"Topic5\", \"Topic5\", \"Topic5\", \"Topic5\", \"Topic5\", \"Topic5\", \"Topic5\", \"Topic5\", \"Topic5\", \"Topic5\", \"Topic5\", \"Topic5\", \"Topic5\", \"Topic5\", \"Topic5\", \"Topic5\", \"Topic5\", \"Topic5\", \"Topic5\", \"Topic5\", \"Topic5\", \"Topic5\", \"Topic5\", \"Topic6\", \"Topic6\", \"Topic6\", \"Topic6\", \"Topic6\", \"Topic6\", \"Topic6\", \"Topic6\", \"Topic6\", \"Topic6\", \"Topic6\", \"Topic6\", \"Topic6\", \"Topic6\", \"Topic6\", \"Topic6\", \"Topic6\", \"Topic6\", \"Topic6\", \"Topic6\", \"Topic6\", \"Topic6\", \"Topic6\", \"Topic6\", \"Topic6\", \"Topic6\", \"Topic6\", \"Topic6\", \"Topic6\", \"Topic6\", \"Topic7\", \"Topic7\", \"Topic7\", \"Topic7\", \"Topic7\", \"Topic7\", \"Topic7\", \"Topic7\", \"Topic7\", \"Topic7\", \"Topic7\", \"Topic7\", \"Topic7\", \"Topic7\", \"Topic7\", \"Topic7\", \"Topic7\", \"Topic7\", \"Topic7\", \"Topic7\", \"Topic7\", \"Topic7\", \"Topic7\", \"Topic7\", \"Topic7\", \"Topic7\", \"Topic7\", \"Topic7\", \"Topic7\", \"Topic7\", \"Topic8\", \"Topic8\", \"Topic8\", \"Topic8\", \"Topic8\", \"Topic8\", \"Topic8\", \"Topic8\", \"Topic8\", \"Topic8\", \"Topic8\", \"Topic8\", \"Topic8\", \"Topic8\", \"Topic8\", \"Topic8\", \"Topic8\", \"Topic8\", \"Topic8\", \"Topic8\", \"Topic8\", \"Topic8\", \"Topic8\", \"Topic8\", \"Topic8\", \"Topic8\", \"Topic8\", \"Topic8\", \"Topic8\", \"Topic8\", \"Topic9\", \"Topic9\", \"Topic9\", \"Topic9\", \"Topic9\", \"Topic9\", \"Topic9\", \"Topic9\", \"Topic9\", \"Topic9\", \"Topic9\", \"Topic9\", \"Topic9\", \"Topic9\", \"Topic9\", \"Topic9\", \"Topic9\", \"Topic9\", \"Topic9\", \"Topic9\", \"Topic9\", \"Topic9\", \"Topic9\", \"Topic9\", \"Topic9\", \"Topic9\", \"Topic9\", \"Topic9\", \"Topic9\", \"Topic9\", \"Topic10\", \"Topic10\", \"Topic10\", \"Topic10\", \"Topic10\", \"Topic10\", \"Topic10\", \"Topic10\", \"Topic10\", \"Topic10\", \"Topic10\", \"Topic10\", \"Topic10\", \"Topic10\", \"Topic10\", \"Topic10\", \"Topic10\", \"Topic10\", \"Topic10\", \"Topic10\", \"Topic10\", \"Topic10\", \"Topic10\", \"Topic10\", \"Topic10\", \"Topic10\", \"Topic10\", \"Topic10\", \"Topic10\", \"Topic10\"], \"logprob\": [30.0, 29.0, 28.0, 27.0, 26.0, 25.0, 24.0, 23.0, 22.0, 21.0, 20.0, 19.0, 18.0, 17.0, 16.0, 15.0, 14.0, 13.0, 12.0, 11.0, 10.0, 9.0, 8.0, 7.0, 6.0, 5.0, 4.0, 3.0, 2.0, 1.0, -2.4785, -2.6495, -2.9337, -3.4614, -3.5805, -3.6173, -3.8951, -3.9479, -3.9627, -3.9757, -3.9783, -4.0615, -4.1724, -4.2231, -4.2233, -4.2796, -4.2937, -4.2976, -4.3773, -4.4504, -4.4545, -4.5923, -4.6461, -4.6503, -4.677, -4.7515, -4.7545, -4.7653, -4.8378, -4.8708, -2.9667, -3.334, -3.5684, -3.7023, -3.7062, -3.7747, -3.9266, -4.0266, -4.1159, -4.1377, -4.1579, -4.1898, -4.2009, -4.3078, -4.3578, -4.3666, -4.3747, -4.4303, -4.4431, -4.4712, -4.5232, -4.5325, -4.6607, -4.661, -4.7088, -4.7103, -4.713, -4.7646, -4.777, -4.8053, -3.0193, -3.2805, -3.2947, -3.2961, -3.4471, -3.6483, -3.7626, -3.8313, -3.786, -3.9778, -4.0066, -4.0255, -4.1727, -4.1968, -4.2302, -4.4612, -4.5765, -4.6229, -4.5772, -4.6574, -4.7317, -4.7491, -4.7623, -4.8019, -4.8107, -4.8698, -4.925, -4.9399, -4.9457, -4.962, -2.8238, -2.8513, -2.8782, -2.9491, -2.959, -3.4368, -3.6605, -3.8021, -3.8882, -4.2079, -4.236, -4.2185, -4.2567, -4.3001, -4.3045, -4.3167, -4.3285, -4.3724, -4.3768, -4.396, -4.4187, -4.5415, -4.5519, -4.6092, -4.656, -4.6665, -4.6802, -4.7042, -4.7427, -4.7718, -2.5479, -3.1021, -3.2038, -3.2257, -3.2857, -3.3889, -3.7502, -3.9058, -3.9435, -3.9669, -4.0225, -4.0309, -4.1873, -4.2267, -4.3237, -4.4465, -4.4528, -4.4646, -4.4845, -4.5111, -4.5544, -4.5709, -4.579, -4.6483, -4.6661, -4.6918, -4.7842, -4.8406, -4.9153, -4.9535, -3.0877, -3.1341, -3.2061, -3.3303, -3.3623, -3.5024, -3.6351, -3.7382, -3.7524, -3.8795, -4.1404, -4.1999, -4.2857, -4.3141, -4.4206, -4.4307, -4.4475, -4.5094, -4.5265, -4.5383, -4.5495, -4.5647, -4.5758, -4.5763, -4.6121, -4.6239, -4.6379, -4.693, -4.8321, -4.8326, -2.7495, -2.7517, -3.0586, -3.4548, -3.5652, -3.6209, -3.7636, -3.8424, -4.026, -4.0937, -4.1726, -4.1806, -4.2009, -4.2243, -4.3506, -4.4113, -4.5023, -4.5105, -4.5169, -4.5841, -4.615, -4.6308, -4.6911, -4.7853, -4.8036, -4.8087, -4.8163, -4.826, -4.713, -4.8616, -3.2388, -3.3215, -3.3792, -3.4076, -3.6673, -3.7086, -3.792, -3.9956, -4.0043, -4.0332, -4.0374, -4.1435, -4.1546, -4.1606, -4.2015, -4.264, -4.2651, -4.2831, -4.2892, -4.3121, -4.3736, -4.4637, -4.5435, -4.6075, -4.5852, -4.6219, -4.6338, -4.6376, -4.6919, -4.7168, -3.3356, -3.3717, -3.399, -3.4421, -3.4736, -3.5459, -3.5723, -3.5734, -3.5894, -3.7902, -3.8096, -3.9448, -4.1457, -4.1462, -4.1925, -4.1945, -4.2012, -4.3133, -4.3289, -4.3346, -4.3394, -4.3478, -4.3582, -4.3768, -4.4466, -4.4893, -4.5568, -4.6196, -4.6419, -4.7575, -2.3681, -3.4511, -3.5202, -3.5721, -3.5979, -3.7322, -3.9015, -3.9642, -4.0105, -4.0524, -4.0889, -4.0921, -4.096, -4.1783, -4.1781, -4.2157, -4.2681, -4.3056, -4.3227, -4.3242, -4.3258, -4.3706, -4.4511, -4.4755, -4.5378, -4.6313, -4.6424, -4.715, -4.8133, -4.8466], \"loglift\": [30.0, 29.0, 28.0, 27.0, 26.0, 25.0, 24.0, 23.0, 22.0, 21.0, 20.0, 19.0, 18.0, 17.0, 16.0, 15.0, 14.0, 13.0, 12.0, 11.0, 10.0, 9.0, 8.0, 7.0, 6.0, 5.0, 4.0, 3.0, 2.0, 1.0, 1.9203, 1.9199, 1.9191, 1.9168, 1.9161, 1.9159, 1.9138, 1.9133, 1.9132, 1.913, 1.913, 1.9122, 1.911, 1.9104, 1.9104, 1.9097, 1.9095, 1.9095, 1.9084, 1.9074, 1.9073, 1.9051, 1.9041, 1.9041, 1.9036, 1.9021, 1.9021, 1.9018, 1.9003, 1.8996, 1.9247, 1.9232, 1.9219, 1.921, 1.9209, 1.9204, 1.9191, 1.9182, 1.9173, 1.917, 1.9168, 1.9164, 1.9163, 1.915, 1.9143, 1.9142, 1.9141, 1.9133, 1.9131, 1.9127, 1.9118, 1.9117, 1.9094, 1.9094, 1.9085, 1.9085, 1.9084, 1.9074, 1.9071, 1.9065, 2.0257, 2.0245, 2.0244, 2.0244, 2.0236, 2.0222, 2.0213, 2.0207, 2.0203, 2.0193, 2.019, 2.0188, 2.0171, 2.0168, 2.0163, 2.0129, 2.0109, 2.01, 2.0096, 2.0093, 2.0077, 2.0074, 2.0071, 2.0061, 2.006, 2.0045, 2.0031, 2.0027, 2.0026, 2.0021, 2.2544, 2.2543, 2.2542, 2.2538, 2.2538, 2.2508, 2.2489, 2.2474, 2.2464, 2.2419, 2.2414, 2.2411, 2.2411, 2.2403, 2.2402, 2.24, 2.2398, 2.2389, 2.2388, 2.2385, 2.238, 2.2353, 2.235, 2.2337, 2.2325, 2.2323, 2.2319, 2.2313, 2.2302, 2.2294, 2.2702, 2.2678, 2.2672, 2.2671, 2.2667, 2.2659, 2.2626, 2.2608, 2.2604, 2.26, 2.2592, 2.2592, 2.2568, 2.2561, 2.2543, 2.2519, 2.2517, 2.2515, 2.251, 2.2504, 2.2494, 2.249, 2.2488, 2.2471, 2.2466, 2.2459, 2.2433, 2.2416, 2.2391, 2.2378, 2.2887, 2.2885, 2.288, 2.2872, 2.287, 2.2859, 2.2847, 2.2836, 2.2835, 2.282, 2.2783, 2.2773, 2.2758, 2.2753, 2.2732, 2.273, 2.2726, 2.2712, 2.2709, 2.2706, 2.2703, 2.2699, 2.2697, 2.2697, 2.2688, 2.2685, 2.2681, 2.2666, 2.2626, 2.2626, 2.5492, 2.5491, 2.5473, 2.5438, 2.5426, 2.5419, 2.54, 2.5388, 2.5357, 2.5342, 2.5327, 2.5326, 2.5321, 2.5316, 2.5285, 2.527, 2.5244, 2.5241, 2.5239, 2.5219, 2.5209, 2.5203, 2.5182, 2.5147, 2.514, 2.5138, 2.5135, 2.5131, 2.5122, 2.5117, 2.5489, 2.5481, 2.5476, 2.5473, 2.5443, 2.5438, 2.5426, 2.5393, 2.5392, 2.5386, 2.5386, 2.5365, 2.5363, 2.5361, 2.5353, 2.5338, 2.5338, 2.5334, 2.5332, 2.5327, 2.5311, 2.5287, 2.5264, 2.5243, 2.524, 2.5239, 2.5235, 2.5234, 2.5215, 2.5206, 2.7212, 2.7208, 2.7205, 2.72, 2.7196, 2.7186, 2.7182, 2.7182, 2.718, 2.7148, 2.7145, 2.7119, 2.7074, 2.7074, 2.7062, 2.7061, 2.706, 2.7029, 2.7024, 2.7022, 2.7021, 2.7018, 2.7015, 2.7009, 2.6987, 2.6967, 2.6948, 2.6924, 2.6916, 2.6867, 3.0227, 3.0114, 3.0102, 3.0091, 3.0088, 3.0059, 3.0018, 3.0001, 2.9988, 2.9975, 2.9964, 2.9963, 2.9962, 2.9935, 2.9935, 2.9921, 2.9901, 2.9888, 2.9881, 2.9881, 2.988, 2.9862, 2.9825, 2.9816, 2.9787, 2.9739, 2.9733, 2.9693, 2.9634, 2.9612]}, \"token.table\": {\"Topic\": [6, 8, 4, 1, 10, 5, 3, 2, 9, 7, 1, 8, 10, 6, 3, 9, 9, 3, 4, 6, 9, 1, 8, 5, 10, 2, 10, 3, 1, 10, 5, 8, 3, 8, 1, 4, 3, 6, 7, 8, 6, 8, 1, 4, 9, 2, 2, 1, 5, 4, 3, 9, 10, 4, 3, 2, 1, 9, 6, 3, 2, 10, 6, 7, 2, 4, 7, 2, 6, 5, 2, 7, 10, 3, 8, 3, 1, 8, 6, 1, 8, 10, 10, 8, 8, 5, 4, 2, 7, 5, 7, 3, 7, 8, 8, 6, 2, 7, 1, 5, 6, 6, 2, 4, 5, 10, 9, 5, 6, 7, 5, 9, 4, 10, 9, 5, 1, 8, 7, 3, 6, 4, 2, 5, 2, 9, 4, 2, 10, 9, 5, 9, 2, 4, 3, 5, 6, 2, 8, 9, 8, 4, 10, 1, 9, 5, 1, 7, 4, 2, 3, 8, 10, 10, 6, 1, 6, 8, 10, 8, 1, 6, 8, 2, 1, 6, 4, 7, 4, 8, 10, 8, 1, 5, 3, 6, 4, 2, 1, 3, 7, 1, 5, 1, 6, 4, 3, 3, 9, 9, 3, 10, 7, 10, 6, 9, 10, 9, 10, 7, 6, 7, 3, 10, 1, 4, 6, 4, 2, 7, 2, 4, 2, 10, 5, 5, 3, 3, 4, 5, 1, 1, 4, 8, 8, 2, 4, 1, 7, 5, 7, 7, 1, 2, 7, 9, 5, 2, 3, 4, 5, 5, 5, 7, 9, 7, 5, 10, 8, 5, 6, 4, 6, 1, 9, 4, 3, 6, 7, 9, 8, 2, 2, 5, 2, 10, 10, 9, 7, 9, 7, 9, 1, 3, 7, 3, 7, 6, 1, 8, 6, 9, 6, 10, 9, 7, 8, 4, 5, 9, 3, 1, 2, 4, 10, 9, 3, 10, 3, 8], \"Freq\": [0.9917943426957112, 0.9676593728810126, 0.9877467255911044, 0.9979231684580476, 0.9479885992400341, 0.9905708977498672, 0.9686017437542822, 0.9867786541971273, 0.9704204115566215, 0.980879946285312, 0.9971116979344362, 0.9804080485352836, 0.9506932110450492, 0.9732051459243535, 0.9891221670160143, 0.9704893300298346, 0.9541569549672195, 0.9935081465737806, 0.9797563299095087, 0.9811901525268529, 0.9875505127228881, 0.9922527896151522, 0.9952173212284257, 0.97084512971571, 0.9953896949240634, 0.9780640415511107, 0.948465702729699, 0.9774714234630164, 0.9878204549239443, 0.9720789555091459, 0.9928581063751193, 0.9769091533745076, 0.9813885234345677, 0.988045051693418, 0.9840287032324049, 0.9908259435027439, 0.989133433572987, 0.9533318700873634, 0.9855513095851017, 0.9667567905986588, 0.9786951631401193, 0.9656966228625585, 0.9762622572781091, 0.9835814234466175, 0.9773408965796783, 0.9966381612290365, 0.9945240357497547, 0.9836100976225423, 0.986146616535584, 0.9943212310922519, 0.9888236935403404, 0.9882646403555669, 0.9634208958404037, 0.977376019467516, 0.9866379556976561, 0.9945910359947043, 0.9975267176307556, 0.964909372664575, 0.9795883443599078, 0.9879702563336002, 0.992570738533022, 0.9409978981722001, 0.969002153546408, 0.9791679394719065, 0.9825974645149946, 0.9952896880624921, 0.9561035504259651, 0.981635087676775, 0.9909189114103506, 0.9830394356213993, 0.9713072167054829, 0.9637055189210524, 0.9617783836049559, 0.9625829337927924, 0.9790422696136855, 0.9876047244236448, 0.9855089096014618, 0.9536898507913051, 0.9866608901312841, 0.9884444500816801, 0.9879021818802486, 0.9361474007618267, 0.9857070898275924, 0.9620572760973871, 0.9639279566740833, 0.9955569261375943, 0.989115641605149, 0.9931182764902762, 0.9658147511058732, 0.9718235706127999, 0.9956679734544814, 0.9896005889140099, 0.9533382094735814, 0.9703732862197999, 0.9880577272620215, 0.9873509571216339, 0.9977662427686156, 0.9750310596045384, 0.9882616993228267, 0.9760527104473817, 0.9651210031484795, 0.9698829563641264, 0.9866371380445033, 0.9731779346882203, 0.9569751167759168, 0.9747956881440458, 0.9784861957075078, 0.9758708572353013, 0.970587314578067, 0.9708225274498805, 0.9758572105565411, 0.9791253504233178, 0.9857582980292613, 0.9637426298399675, 0.986017801284239, 0.9794544119075945, 0.9956439065404171, 0.9876429584032702, 0.986525899812824, 0.978524518678265, 0.9939029591559113, 0.9793164076753748, 0.9819750294905514, 0.9667540873234313, 0.9887298000197744, 0.9652446771059136, 0.9793903258315099, 0.993088024321011, 0.9787082223145811, 0.970076865792125, 0.9785719023102446, 0.9796826980475346, 0.9881245584283856, 0.9814108175987173, 0.9924781618496831, 0.9863654145472377, 0.9897728108209645, 0.9919075655201932, 0.9631056591432852, 0.9801958035075821, 0.9886343977127712, 0.9946041101641466, 0.9631746624842479, 0.9795878780300801, 0.9783605528400081, 0.9729563112676032, 0.9909592276706002, 0.9867123822435706, 0.9910435974276189, 0.9889111039163024, 0.9700354413204212, 0.9833258497021197, 0.9714087838035853, 0.9820148342483795, 0.963190514668937, 0.9868416890734836, 0.9643302617216215, 0.9761656280016126, 0.9074160913337841, 0.9934596228467146, 0.9932792299183697, 0.9794337933465636, 0.9523265816101074, 0.9831469217279847, 0.990442165697969, 0.9528799188095348, 0.9959914411066912, 0.9672108229087812, 0.980077748291974, 0.9933118461313831, 0.9651015618777433, 0.9924146012817079, 0.9791966353091041, 0.9734890225664046, 0.993864554718746, 0.980085223473085, 0.9642492325444404, 0.9921856946364372, 0.9828217223169187, 0.9852312534543259, 0.9637505687379045, 0.9696792440909583, 0.9936654775983771, 0.9901080081450613, 0.9915266063550197, 0.9763614447636522, 0.9858788194545025, 0.9822838999211518, 0.9606117796145897, 0.9863239668854608, 0.9895201208039456, 0.9752740750761417, 0.9954113406543817, 0.9527359804512018, 0.9897933894314733, 0.9510438839987162, 0.9685007409139986, 0.9659028005637834, 0.9882665669872235, 0.9702965857869245, 0.9944021493867217, 0.9919690237747747, 0.9937679541450923, 0.9603251790814529, 0.9923180494885135, 0.9630530694739137, 0.9796058429208835, 0.9937488864327733, 0.9852038724382407, 0.949938173658979, 0.9893208198691913, 0.9968409239618811, 0.9850099447493208, 0.95459412645057, 0.9857237859939678, 0.9894736089398003, 0.9755341192573973, 0.980391347175167, 0.968555740903188, 0.9740193686354882, 0.9868252360074742, 0.9895818345486748, 0.9924203684187409, 0.9873622328615873, 0.9714177475025946, 0.9824194593230863, 0.9898774628216362, 0.995026092121753, 0.9906158820031445, 0.9652271130157323, 0.9832722440890784, 0.9736424685616024, 0.9957661426398687, 0.9853130886805711, 0.9560919714348413, 0.9793204350685785, 0.9960657559594764, 0.9923642666928527, 0.9769217613870109, 0.9759388691853284, 0.9847023243913575, 0.9951481770509187, 0.9762494995056364, 0.9919326960427267, 0.9496079094773319, 0.9375981137910994, 0.9653007329653102, 0.9789112662597443, 0.9768036819792915, 0.9929364809375779, 0.9689074456512379, 0.9863698945487779, 0.9969539407696317, 0.9853142690848635, 0.9409762298232883, 0.9702623786832787, 0.9953227858823762, 0.9854628170261754, 0.9733247341707718, 0.9654232249447505, 0.9868763313112541, 0.9853029508757345, 0.9759267057583078, 0.9950448972321697, 0.9855118032858229, 0.966622817316383, 0.983564115454029, 0.9666751376938665, 0.9651194969318636, 0.9849016211840046, 0.9698041746973384, 0.971505851821913, 0.9708082391336552, 0.9923256235327323, 0.9879799779101897, 0.9600963054962169, 0.9802770014667077, 0.9895922540866906, 0.9847691750392257, 0.9719256924925563, 0.962689949001449, 0.9787582127342517, 0.9939081304136614, 0.9529565661327655, 0.9847172104598105, 0.9462866196538536, 0.9902066050848196, 0.9927808793607296, 0.9963401994413277, 0.9884801151113849, 0.996090924317796, 0.9893360708771574, 0.9926617085206458, 0.9863774643980996, 0.9559002994507483, 0.984587393109169, 0.9947036350483295, 0.9408172995965649, 0.9942863632055519, 0.9898112039908575], \"Term\": [\"able\", \"able_crypto\", \"absolute\", \"account\", \"action\", \"address\", \"advice\", \"amount\", \"android\", \"annoying\", \"app\", \"app_bad\", \"app_fine\", \"app_good\", \"app_slow\", \"app_unusable\", \"app_useless\", \"application\", \"asset\", \"attempt\", \"available\", \"bad\", \"bad_app\", \"bad_experience\", \"bank\", \"bank_account\", \"bank_transfer\", \"basic\", \"big\", \"bit\", \"bitcoin\", \"blank\", \"blockfolio\", \"browser\", \"bug\", \"buggy\", \"business\", \"button\", \"card\", \"card_payment\", \"careful\", \"cash\", \"ceo\", \"charge\", \"clear\", \"code\", \"coin\", \"coinbase\", \"community\", \"company\", \"complete\", \"cost\", \"couple\", \"crash\", \"credential\", \"credit_card\", \"crypto\", \"crypto_purchase\", \"cryptocurrency\", \"currency\", \"customer\", \"customer_care\", \"customer_service\", \"date\", \"datum\", \"day\", \"deal\", \"debit_card\", \"deposit\", \"design\", \"desktop\", \"detail\", \"developer\", \"device\", \"different\", \"difficult\", \"disappointed\", \"disaster\", \"document\", \"easy\", \"email\", \"email_password\", \"end\", \"enough\", \"entire\", \"error\", \"error_message\", \"euro\", \"everytime\", \"example\", \"exchange\", \"experience\", \"extra\", \"fake\", \"false\", \"feature\", \"fee\", \"fee_crypto\", \"fee_high\", \"few\", \"few_day\", \"fine\", \"fingerprint\", \"first\", \"free\", \"frustrating\", \"ftx\", \"full\", \"function\", \"functional\", \"functionality\", \"fund\", \"funding\", \"future\", \"garbage\", \"glitch\", \"good\", \"good_app\", \"great\", \"great_app\", \"guy\", \"half\", \"help\", \"high\", \"high_fee\", \"hope\", \"horrible\", \"hour\", \"huge\", \"identity\", \"impossible\", \"info\", \"information\", \"interface\", \"inu\", \"invalid\", \"investor\", \"issue\", \"job\", \"joke\", \"keep\", \"kraken\", \"lag\", \"last\", \"late_update\", \"less\", \"liar\", \"lie\", \"like\", \"limited\", \"link\", \"list\", \"listing\", \"little\", \"load\", \"login\", \"long\", \"lot\", \"management\", \"many\", \"market\", \"message\", \"mind\", \"minimum\", \"minute\", \"mobile_app\", \"money\", \"money_bank\", \"month\", \"more\", \"most\", \"much\", \"multiple\", \"name\", \"new\", \"next\", \"nice\", \"number\", \"old\", \"one\", \"only\", \"open\", \"option\", \"order\", \"other\", \"other_app\", \"own\", \"page\", \"pain\", \"part\", \"password\", \"payment\", \"people\", \"period\", \"phone\", \"phone_number\", \"photo\", \"picture\", \"pin\", \"place\", \"platform\", \"poor\", \"portfolio\", \"possible\", \"price\", \"pro\", \"pro_app\", \"problem\", \"process\", \"product\", \"profit\", \"promise\", \"purchase\", \"quick\", \"rating\", \"reason\", \"registration\", \"regular\", \"reply\", \"requirement\", \"response\", \"responsive\", \"review\", \"ridiculous\", \"right\", \"same\", \"scam\", \"screen\", \"second\", \"section\", \"security\", \"server\", \"service\", \"several\", \"several_time\", \"shame\", \"shib\", \"shiba\", \"shibarmy\", \"simple\", \"site\", \"slow\", \"sorry\", \"star\", \"step\", \"stuff\", \"stupid\", \"such\", \"suck\", \"support\", \"sure\", \"system\", \"terrible\", \"thing\", \"thousand\", \"ticket\", \"time\", \"today\", \"top\", \"total\", \"track\", \"trade\", \"trading\", \"transaction\", \"transfer\", \"trouble\", \"trust\", \"trustworthy\", \"tweet\", \"unable\", \"uninstall\", \"unreliable\", \"unusable\", \"update\", \"usable\", \"usd\", \"use\", \"useless\", \"user\", \"user_friendly\", \"username\", \"value\", \"verification\", \"verification_process\", \"version\", \"visa\", \"wallet\", \"waste_time\", \"way\", \"web\", \"website\", \"week\", \"well\", \"whole\", \"wire\", \"withdrawal\", \"word\", \"world\", \"wrong\", \"year\"]}, \"R\": 30, \"lambda.step\": 0.01, \"plot.opts\": {\"xlab\": \"PC1\", \"ylab\": \"PC2\"}, \"topic.order\": [6, 3, 5, 9, 4, 7, 8, 10, 1, 2]};\n",
       "\n",
       "function LDAvis_load_lib(url, callback){\n",
       "  var s = document.createElement('script');\n",
       "  s.src = url;\n",
       "  s.async = true;\n",
       "  s.onreadystatechange = s.onload = callback;\n",
       "  s.onerror = function(){console.warn(\"failed to load library \" + url);};\n",
       "  document.getElementsByTagName(\"head\")[0].appendChild(s);\n",
       "}\n",
       "\n",
       "if(typeof(LDAvis) !== \"undefined\"){\n",
       "   // already loaded: just create the visualization\n",
       "   !function(LDAvis){\n",
       "       new LDAvis(\"#\" + \"ldavis_el161811399049167162242272135061\", ldavis_el161811399049167162242272135061_data);\n",
       "   }(LDAvis);\n",
       "}else if(typeof define === \"function\" && define.amd){\n",
       "   // require.js is available: use it to load d3/LDAvis\n",
       "   require.config({paths: {d3: \"https://d3js.org/d3.v5\"}});\n",
       "   require([\"d3\"], function(d3){\n",
       "      window.d3 = d3;\n",
       "      LDAvis_load_lib(\"https://cdn.jsdelivr.net/gh/bmabey/pyLDAvis@3.3.1/pyLDAvis/js/ldavis.v3.0.0.js\", function(){\n",
       "        new LDAvis(\"#\" + \"ldavis_el161811399049167162242272135061\", ldavis_el161811399049167162242272135061_data);\n",
       "      });\n",
       "    });\n",
       "}else{\n",
       "    // require.js not available: dynamically load d3 & LDAvis\n",
       "    LDAvis_load_lib(\"https://d3js.org/d3.v5.js\", function(){\n",
       "         LDAvis_load_lib(\"https://cdn.jsdelivr.net/gh/bmabey/pyLDAvis@3.3.1/pyLDAvis/js/ldavis.v3.0.0.js\", function(){\n",
       "                 new LDAvis(\"#\" + \"ldavis_el161811399049167162242272135061\", ldavis_el161811399049167162242272135061_data);\n",
       "            })\n",
       "         });\n",
       "}\n",
       "</script>"
      ],
      "text/plain": [
       "PreparedData(topic_coordinates=              x         y  topics  cluster       Freq\n",
       "topic                                                \n",
       "5     -0.191045  0.368677       1        1  14.625015\n",
       "2      0.157217 -0.403737       2        1  14.541126\n",
       "4      0.185298  0.401139       3        1  13.137399\n",
       "8     -0.233312 -0.357004       4        1  10.449554\n",
       "3     -0.359356  0.148025       5        1  10.295316\n",
       "6      0.156793  0.209529       6        1  10.082513\n",
       "7      0.407947 -0.115033       7        1   7.773631\n",
       "9     -0.327204 -0.097863       8        1   7.750843\n",
       "0      0.230873 -0.015733       9        1   6.505895\n",
       "1     -0.027214 -0.138000      10        1   4.838709, topic_info=                Term        Freq       Total Category  logprob  loglift\n",
       "74           account  419.000000  419.000000  Default  30.0000  30.0000\n",
       "23               app  354.000000  354.000000  Default  29.0000  29.0000\n",
       "759             shib  276.000000  276.000000  Default  28.0000  28.0000\n",
       "2             crypto  266.000000  266.000000  Default  27.0000  27.0000\n",
       "97               fee  256.000000  256.000000  Default  26.0000  26.0000\n",
       "...              ...         ...         ...      ...      ...      ...\n",
       "363            world   16.102728   17.006490  Topic10  -4.6313   2.9739\n",
       "1881        app_fine   15.925511   16.829825  Topic10  -4.6424   2.9733\n",
       "1150           quick   14.809779   15.713484  Topic10  -4.7150   2.9693\n",
       "2202      management   13.422591   14.326394  Topic10  -4.8133   2.9634\n",
       "375   email_password   12.983021   13.886702  Topic10  -4.8466   2.9612\n",
       "\n",
       "[330 rows x 6 columns], token_table=      Topic      Freq         Term\n",
       "term                              \n",
       "447       6  0.991794         able\n",
       "621       8  0.967659  able_crypto\n",
       "117       4  0.987747     absolute\n",
       "74        1  0.997923      account\n",
       "47       10  0.947989       action\n",
       "...     ...       ...          ...\n",
       "667       9  0.984587   withdrawal\n",
       "1291      3  0.994704         word\n",
       "363      10  0.940817        world\n",
       "92        3  0.994286        wrong\n",
       "81        8  0.989811         year\n",
       "\n",
       "[300 rows x 3 columns], R=30, lambda_step=0.01, plot_opts={'xlab': 'PC1', 'ylab': 'PC2'}, topic_order=[6, 3, 5, 9, 4, 7, 8, 10, 1, 2])"
      ]
     },
     "execution_count": 36,
     "metadata": {},
     "output_type": "execute_result"
    }
   ],
   "source": [
    "# Visualising the data\n",
    "pyLDAvis.enable_notebook()\n",
    "vis = pyLDAvis.gensim_models.prepare(lda_model, corpus, id2word, mds=\"mmds\", R=30)\n",
    "vis"
   ]
  },
  {
   "cell_type": "code",
   "execution_count": 29,
   "metadata": {},
   "outputs": [
    {
     "ename": "NameError",
     "evalue": "name 'csv_file' is not defined",
     "output_type": "error",
     "traceback": [
      "\u001b[0;31m---------------------------------------------------------------------------\u001b[0m",
      "\u001b[0;31mNameError\u001b[0m                                 Traceback (most recent call last)",
      "\u001b[1;32m/home/UW2022/lda_crypto.ipynb Cell 14'\u001b[0m in \u001b[0;36m<cell line: 2>\u001b[0;34m()\u001b[0m\n\u001b[1;32m      <a href='vscode-notebook-cell://wsl%2Bubuntu-20.04/home/UW2022/lda_crypto.ipynb#ch0000013vscode-remote?line=0'>1</a>\u001b[0m \u001b[39m# Save the model into memory\u001b[39;00m\n\u001b[0;32m----> <a href='vscode-notebook-cell://wsl%2Bubuntu-20.04/home/UW2022/lda_crypto.ipynb#ch0000013vscode-remote?line=1'>2</a>\u001b[0m lda_model\u001b[39m.\u001b[39msave(\u001b[39mf\u001b[39m\u001b[39m\"\u001b[39m\u001b[39mmodels/\u001b[39m\u001b[39m{\u001b[39;00mcsv_file[:\u001b[39m-\u001b[39m\u001b[39m4\u001b[39m]\u001b[39m}\u001b[39;00m\u001b[39m.model\u001b[39m\u001b[39m\"\u001b[39m)\n",
      "\u001b[0;31mNameError\u001b[0m: name 'csv_file' is not defined"
     ]
    }
   ],
   "source": [
    "# Save the model into memory\n",
    "lda_model.save(f\"models/{csv_file[:-4]}.model\");"
   ]
  }
 ],
 "metadata": {
  "kernelspec": {
   "display_name": "Python 3.9.12 ('base')",
   "language": "python",
   "name": "python3"
  },
  "language_info": {
   "codemirror_mode": {
    "name": "ipython",
    "version": 3
   },
   "file_extension": ".py",
   "mimetype": "text/x-python",
   "name": "python",
   "nbconvert_exporter": "python",
   "pygments_lexer": "ipython3",
   "version": "3.9.12"
  },
  "orig_nbformat": 4,
  "vscode": {
   "interpreter": {
    "hash": "2f394aca7ca06fed1e6064aef884364492d7cdda3614a461e02e6407fc40ba69"
   }
  }
 },
 "nbformat": 4,
 "nbformat_minor": 2
}
