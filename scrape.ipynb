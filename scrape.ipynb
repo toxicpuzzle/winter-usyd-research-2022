{
 "cells": [
  {
   "cell_type": "code",
   "execution_count": 1,
   "metadata": {},
   "outputs": [],
   "source": [
    "from google_play_scraper import app\n",
    "import google_play_scraper\n",
    "import pandas as pd"
   ]
  },
  {
   "cell_type": "markdown",
   "metadata": {},
   "source": []
  },
  {
   "cell_type": "code",
   "execution_count": 2,
   "metadata": {},
   "outputs": [],
   "source": [
    "result,continuation_token = google_play_scraper.reviews(\n",
    "    'com.halfbrick.fruitninjafree',\n",
    "    lang='en',\n",
    "    country='us',\n",
    "    count=100,\n",
    "    sort=google_play_scraper.Sort.NEWEST\n",
    ")"
   ]
  },
  {
   "cell_type": "code",
   "execution_count": 3,
   "metadata": {},
   "outputs": [
    {
     "name": "stdout",
     "output_type": "stream",
     "text": [
      "                               reviewId                     userName  \\\n",
      "0  4aea4317-c8a0-4d6d-83f4-006831643ad0                    Arsh Arsh   \n",
      "1  62bb0d46-092f-4e7d-bb53-2cf5acf0ab23                       Nick H   \n",
      "2  cc7555dc-87af-4907-85e9-d934f2b56a4a                 Thomas Smith   \n",
      "3  d44a09d1-06e2-4864-bb51-4e7d598df749                Tiffany Bandy   \n",
      "4  90896212-cc73-415c-a912-690656130de7              Jaymee Lampkins   \n",
      "5  315302be-becb-42af-8f20-bfbdf29ee160             Mopelola Adeseye   \n",
      "6  4c073585-739e-4e32-8bc7-6d5750213287                     SimpliOP   \n",
      "7  3e23faaf-9fd1-49ac-86fe-81a834bc5284                Ceyanee Brown   \n",
      "8  61695e1c-14f5-4a87-9a84-94839ec57895             Vansh kumar pb05   \n",
      "9  a66f7a4b-d47d-4c22-aaf8-bd33af654eaa  Krishnapriya NS Chakkaramol   \n",
      "\n",
      "                                           userImage  \\\n",
      "0  https://play-lh.googleusercontent.com/a/AATXAJ...   \n",
      "1  https://play-lh.googleusercontent.com/a/AATXAJ...   \n",
      "2  https://play-lh.googleusercontent.com/a/AATXAJ...   \n",
      "3  https://play-lh.googleusercontent.com/a/AATXAJ...   \n",
      "4  https://play-lh.googleusercontent.com/a-/AOh14...   \n",
      "5  https://play-lh.googleusercontent.com/a-/AOh14...   \n",
      "6  https://play-lh.googleusercontent.com/a-/AOh14...   \n",
      "7  https://play-lh.googleusercontent.com/a-/AOh14...   \n",
      "8  https://play-lh.googleusercontent.com/a-/AOh14...   \n",
      "9  https://play-lh.googleusercontent.com/a-/AOh14...   \n",
      "\n",
      "                                             content  score  thumbsUpCount  \\\n",
      "0                                          Nice game      1              0   \n",
      "1           Great game.. blade power ups do not show      4              0   \n",
      "2  Its a a very fun game i recomend getting this ...      5              0   \n",
      "3                                           The Best      5              0   \n",
      "4                                             Greatt      5              0   \n",
      "5  I thoroughly enjoy playing this game as it giv...      4              0   \n",
      "6  I used to play this game back then, but it act...      1              0   \n",
      "7  This game is super cool and I think you will r...      5              0   \n",
      "8                                              Osham      5              0   \n",
      "9                                               Nice      5              0   \n",
      "\n",
      "  reviewCreatedVersion                  at replyContent repliedAt  \n",
      "0                 None 2022-06-29 10:59:58         None      None  \n",
      "1               3.14.0 2022-06-29 08:51:32         None      None  \n",
      "2               3.14.0 2022-06-29 07:02:37         None      None  \n",
      "3               3.14.0 2022-06-29 06:29:02         None      None  \n",
      "4                 None 2022-06-29 04:55:14         None      None  \n",
      "5               3.14.0 2022-06-29 04:44:54         None      None  \n",
      "6                3.3.0 2022-06-29 04:26:35         None      None  \n",
      "7               3.14.0 2022-06-29 04:08:32         None      None  \n",
      "8                 None 2022-06-29 03:47:57         None      None  \n",
      "9                 None 2022-06-29 03:39:13         None      None  \n"
     ]
    }
   ],
   "source": [
    "frame = pd.DataFrame(result)\n",
    "frame.style\n",
    "print(frame.head(10))"
   ]
  }
 ],
 "metadata": {
  "kernelspec": {
   "display_name": "Python 3.9.12 ('base')",
   "language": "python",
   "name": "python3"
  },
  "language_info": {
   "codemirror_mode": {
    "name": "ipython",
    "version": 3
   },
   "file_extension": ".py",
   "mimetype": "text/x-python",
   "name": "python",
   "nbconvert_exporter": "python",
   "pygments_lexer": "ipython3",
   "version": "3.9.12"
  },
  "orig_nbformat": 4,
  "vscode": {
   "interpreter": {
    "hash": "2f394aca7ca06fed1e6064aef884364492d7cdda3614a461e02e6407fc40ba69"
   }
  }
 },
 "nbformat": 4,
 "nbformat_minor": 2
}
