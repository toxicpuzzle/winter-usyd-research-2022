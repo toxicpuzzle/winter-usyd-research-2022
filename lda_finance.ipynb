{
 "cells": [
  {
   "cell_type": "code",
   "execution_count": 2,
   "metadata": {},
   "outputs": [],
   "source": [
    "import numpy as np\n",
    "import json\n",
    "import glob\n",
    "import pandas as pd\n",
    "import csv\n",
    "\n",
    "# Gensim\n",
    "import gensim\n",
    "import gensim.corpora as corpora\n",
    "from gensim.utils import simple_preprocess\n",
    "from gensim.models import CoherenceModel\n",
    "\n",
    "# Spacy\n",
    "import spacy\n",
    "from nltk.corpus import stopwords\n",
    "\n",
    "# Vis\n",
    "import pyLDAvis\n",
    "import pyLDAvis.gensim_models\n",
    "import warnings\n",
    "warnings.filterwarnings(\"ignore\", category=DeprecationWarning)\n"
   ]
  },
  {
   "cell_type": "code",
   "execution_count": 3,
   "metadata": {},
   "outputs": [],
   "source": [
    "all_files = [\"coinbase.csv\", \"binance.csv\", \"ftx.csv\", \"kraken.csv\"]"
   ]
  },
  {
   "cell_type": "code",
   "execution_count": 8,
   "metadata": {},
   "outputs": [
    {
     "data": {
      "text/plain": [
       "5543"
      ]
     },
     "execution_count": 8,
     "metadata": {},
     "output_type": "execute_result"
    }
   ],
   "source": [
    "def load_data(file):\n",
    "    with open(file, \"r\", encoding=\"utf-8\") as f:\n",
    "        data = pd.read_csv(file)\n",
    "        # print(data)\n",
    "        # data = json.load(f)\n",
    "    return (data);\n",
    "\n",
    "def write_data(file, data):\n",
    "    with open(file, \"w\", encoding=\"utf-8\") as f:\n",
    "        json.dump(data, f, indent=4);\n",
    "\n",
    "# Combine all the csv files into one\n",
    "\n",
    "li = []\n",
    "for filename in all_files:\n",
    "    df = load_data(filename)\n",
    "    li.append(df)\n",
    "\n",
    "frame = pd.concat(li, axis=0, ignore_index=True)\n",
    "data = frame.loc[:, [\"content\", \"score\"]]\n",
    "data = data.loc[(data.score <= 2)] # Grab only poor reviews\n",
    "content = json.loads(data.loc[:, \"content\"].to_json())\n",
    "\n",
    "# Prefilter step\n",
    "\n",
    "# Remove reviews with <= 50 chars\n",
    "data = [content[key] for key in content if len(content[key]) > 50];\n",
    "len(data)\n",
    "\n"
   ]
  },
  {
   "cell_type": "code",
   "execution_count": 9,
   "metadata": {},
   "outputs": [
    {
     "name": "stdout",
     "output_type": "stream",
     "text": [
      "['i', 'me', 'my', 'myself', 'we', 'our', 'ours', 'ourselves', 'you', \"you're\", \"you've\", \"you'll\", \"you'd\", 'your', 'yours', 'yourself', 'yourselves', 'he', 'him', 'his', 'himself', 'she', \"she's\", 'her', 'hers', 'herself', 'it', \"it's\", 'its', 'itself', 'they', 'them', 'their', 'theirs', 'themselves', 'what', 'which', 'who', 'whom', 'this', 'that', \"that'll\", 'these', 'those', 'am', 'is', 'are', 'was', 'were', 'be', 'been', 'being', 'have', 'has', 'had', 'having', 'do', 'does', 'did', 'doing', 'a', 'an', 'the', 'and', 'but', 'if', 'or', 'because', 'as', 'until', 'while', 'of', 'at', 'by', 'for', 'with', 'about', 'against', 'between', 'into', 'through', 'during', 'before', 'after', 'above', 'below', 'to', 'from', 'up', 'down', 'in', 'out', 'on', 'off', 'over', 'under', 'again', 'further', 'then', 'once', 'here', 'there', 'when', 'where', 'why', 'how', 'all', 'any', 'both', 'each', 'few', 'more', 'most', 'other', 'some', 'such', 'no', 'nor', 'not', 'only', 'own', 'same', 'so', 'than', 'too', 'very', 's', 't', 'can', 'will', 'just', 'don', \"don't\", 'should', \"should've\", 'now', 'd', 'll', 'm', 'o', 're', 've', 'y', 'ain', 'aren', \"aren't\", 'couldn', \"couldn't\", 'didn', \"didn't\", 'doesn', \"doesn't\", 'hadn', \"hadn't\", 'hasn', \"hasn't\", 'haven', \"haven't\", 'isn', \"isn't\", 'ma', 'mightn', \"mightn't\", 'mustn', \"mustn't\", 'needn', \"needn't\", 'shan', \"shan't\", 'shouldn', \"shouldn't\", 'wasn', \"wasn't\", 'weren', \"weren't\", 'won', \"won't\", 'wouldn', \"wouldn't\"]\n"
     ]
    }
   ],
   "source": [
    "# Stop words are basically words that are not really useful in the topic model\n",
    "# i.e. words that you want to eliminate from consideration\n",
    "stopwords = stopwords.words(\"english\")\n",
    "print(stopwords)"
   ]
  },
  {
   "cell_type": "code",
   "execution_count": 10,
   "metadata": {},
   "outputs": [
    {
     "name": "stdout",
     "output_type": "stream",
     "text": [
      "DO NOT RECOMMEND - They have no problem taking your money to buy crypto, but then mistaken\n"
     ]
    }
   ],
   "source": [
    "# data = load_data(\"ushmm_dn.json\")[\"texts\"]\n",
    "print(data[0][0:90]) # Prints out first text, char 0-89"
   ]
  },
  {
   "cell_type": "code",
   "execution_count": 11,
   "metadata": {},
   "outputs": [
    {
     "name": "stdout",
     "output_type": "stream",
     "text": [
      "recommend problem take money buy crypto then mistakenly call suspicious then prevent send \n"
     ]
    }
   ],
   "source": [
    "# Reducing words to their root form (lemma) using spacy or nltk to grab roots\n",
    "# Specify allowed_postags for spacy\n",
    "\n",
    "# Takes a list of texts i.e. [text1, text2...] and returns lemmatised [text1..]\n",
    "# Allowed_post_tages -> Basically default arguments in python \n",
    "# This is a list initalised that is used to filter tokens \n",
    "# pos_ tag marks category of word token belongs to i.e. only append nouns,adj,verbs,and adverbs \n",
    "# e.g. conjunctions (but, and, because), and pronouns (he/she) is ignored\n",
    "def lemmatization(texts, allowed_postags=[\"NOUN\", \"ADJ\", \"VERB\", \"ADV\"]):\n",
    "\n",
    "    # Spacy load creates an an nlp parser i.e. function pointer \n",
    "    spacy.load\n",
    "    nlp = spacy.load(\"en_core_web_sm\", disable=[\"parser\", \"ner\"])\n",
    "    texts_out = []\n",
    "\n",
    "    for text in texts:\n",
    "        doc = nlp(text) # Create document from the raw text/string\n",
    "        new_text = []\n",
    "        for token in doc:\n",
    "            if token.pos_ in allowed_postags and token.pos_ not in stopwords:\n",
    "               new_text.append(token.lemma_) # Appends only lemma to new_text\n",
    "        final = \" \".join(new_text)\n",
    "        texts_out.append(final)\n",
    "    return (texts_out);\n",
    "\n",
    "lemmatized_texts = lemmatization(data)\n",
    "print(lemmatized_texts[0][0:90])"
   ]
  },
  {
   "cell_type": "code",
   "execution_count": 12,
   "metadata": {},
   "outputs": [
    {
     "name": "stdout",
     "output_type": "stream",
     "text": [
      "['recommend', 'problem', 'take', 'money', 'buy', 'crypto', 'then', 'mistakenly', 'call', 'suspicious', 'then', 'prevent', 'send', 'customer', 'service', 'say', 'just', 'flat', 'out', 'help']\n"
     ]
    }
   ],
   "source": [
    "# Simple preprocess converts documents to list of lower case tokens ignoring ones\n",
    "# which are too short or too long.\n",
    "def gen_words(texts):\n",
    "    final = []\n",
    "    for text in texts:\n",
    "        new = gensim.utils.simple_preprocess(text, deacc=True);\n",
    "        final.append(new)\n",
    "    return (final)\n",
    "\n",
    "data_words = gen_words(lemmatized_texts)\n",
    "\n",
    "print(data_words[0][0:20])\n"
   ]
  },
  {
   "cell_type": "code",
   "execution_count": 13,
   "metadata": {},
   "outputs": [],
   "source": [
    "# BIGRAMS AND TRIGRAMS\n",
    "\n",
    "# min_count - ignore all words/bigrams with total collected count lower than this value.\n",
    "# threshold - score for forming phrases play around with this -> related to scoring function\n",
    "bigrams_phrases = gensim.models.Phrases(data_words, min_count=5, threshold=1) \n",
    "\n",
    "# First arg checks ensures no overlap between bigraph phrases and trigram phrases.\n",
    "trigram_phrases = gensim.models.Phrases(bigrams_phrases[data_words], threshold=1)\n",
    "\n",
    "# Create function pointer i.e. phraser that converts document to list of bigram\n",
    "bigram = gensim.models.phrases.Phraser(bigrams_phrases)\n",
    "trigram = gensim.models.phrases.Phraser(trigram_phrases)\n",
    "\n",
    "def make_bigrams(texts):\n",
    "    return([bigram[doc] for doc in texts])\n",
    "\n",
    "def make_trigrams(texts):\n",
    "    return ([trigram[bigram[doc]] for doc in texts])\n",
    "\n",
    "data_bigrams = make_bigrams(data_words)\n",
    "data_bigrams_trigrams = make_trigrams(data_bigrams)\n",
    "\n",
    "# print(data_bigrams_trigrams[0])\n",
    "\n",
    "# new_words = []\n",
    "# for word in data_bigrams_trigrams[0]:\n",
    "#     if '_' in word:\n",
    "#         new_words.append(word)\n",
    "# print(data_bigrams)\n"
   ]
  },
  {
   "cell_type": "code",
   "execution_count": 14,
   "metadata": {},
   "outputs": [
    {
     "name": "stdout",
     "output_type": "stream",
     "text": [
      "[(0, 1), (1, 1), (2, 1), (3, 1), (4, 1), (5, 1), (6, 1), (7, 1), (8, 1), (9, 1), (10, 1), (11, 1), (12, 1), (13, 1), (14, 1), (15, 1), (16, 1), (17, 1), (18, 1), (19, 2)]\n"
     ]
    }
   ],
   "source": [
    "# TF-IDF Removal - to remove words that are not important to the topic\n",
    "from gensim.models import TfidfModel\n",
    "\n",
    "id2word = corpora.Dictionary(data_bigrams_trigrams)\n",
    "\n",
    "texts = data_bigrams_trigrams\n",
    "\n",
    "corpus = [id2word.doc2bow(text) for text in texts]\n",
    "print(corpus[0][0:20])\n",
    "\n",
    "tfidf = TfidfModel(corpus, id2word=id2word)\n",
    "\n",
    "# Goes through words and looks at words that occur too frequentely and removes them\n",
    "# Corpus becomes new corpus where those irrelevant words are removed\n",
    "low_value = 0.03\n",
    "words = []\n",
    "words_missing_in_tfidf = []\n",
    "for i in range(0, len(corpus)):\n",
    "    bow = corpus[i]\n",
    "    low_value_words = []\n",
    "    tfidf_ids = [id for id, value in tfidf[bow]]\n",
    "    bow_ids = [id for id, value in bow]\n",
    "    low_value_words = [id for id, value in tfidf[bow] if value < low_value]\n",
    "    drops = low_value_words + words_missing_in_tfidf\n",
    "    for item in drops:\n",
    "        words.append(id2word[item])\n",
    "    words_missing_in_tfidf = [id for id in bow_ids if id not in tfidf_ids]\n",
    "\n",
    "    new_bow = [b for b in bow if b[0] not in low_value_words and b[0] not in words_missing_in_tfidf]\n",
    "    corpus[i] = new_bow\n",
    "\n",
    "\n"
   ]
  },
  {
   "cell_type": "code",
   "execution_count": 54,
   "metadata": {},
   "outputs": [],
   "source": [
    "# id2word = corpora.Dictionary(data_words)\n",
    "# corpus = []\n",
    "# for text in data_words:\n",
    "#     new = id2word.doc2bow(text) # Create a bag of words all (word: f pairs) for 1 doc\n",
    "#     corpus.append(new)\n",
    "\n",
    "# print(corpus[0][0:20])\n",
    "# #(0,2) - 0 = index of word in the dictionary, 2 = frequency of word in that text\n",
    "\n",
    "# word = id2word[[0][:1][0]] # i.e. text 1 -> first tuple -> first value in tuple\n",
    "# print(word) # i.e. able is the first element in teh dictionary "
   ]
  },
  {
   "cell_type": "code",
   "execution_count": 15,
   "metadata": {},
   "outputs": [],
   "source": [
    "lda_model = gensim.models.LdaModel(corpus=corpus\n",
    "                                    ,id2word=id2word\n",
    "                                    ,num_topics=10\n",
    "                                    ,random_state=100\n",
    "                                    ,update_every=1\n",
    "                                    ,chunksize=100\n",
    "                                    ,passes=10\n",
    "                                    ,alpha=\"auto\")"
   ]
  },
  {
   "cell_type": "markdown",
   "metadata": {},
   "source": [
    "### Idea\n",
    "I think I can separate the review data set into one star vs 5 star reviews and look at if there are any differences in the topics that are mentioned."
   ]
  },
  {
   "cell_type": "code",
   "execution_count": 16,
   "metadata": {},
   "outputs": [
    {
     "name": "stderr",
     "output_type": "stream",
     "text": [
      "/root/miniconda3/lib/python3.9/site-packages/pyLDAvis/_prepare.py:246: FutureWarning: In a future version of pandas all arguments of DataFrame.drop except for the argument 'labels' will be keyword-only.\n",
      "  default_term_info = default_term_info.sort_values(\n",
      "/root/miniconda3/lib/python3.9/site-packages/past/builtins/misc.py:45: DeprecationWarning: the imp module is deprecated in favour of importlib; see the module's documentation for alternative uses\n",
      "  from imp import reload\n",
      "/root/miniconda3/lib/python3.9/site-packages/past/builtins/misc.py:45: DeprecationWarning: the imp module is deprecated in favour of importlib; see the module's documentation for alternative uses\n",
      "  from imp import reload\n",
      "/root/miniconda3/lib/python3.9/site-packages/past/builtins/misc.py:45: DeprecationWarning: the imp module is deprecated in favour of importlib; see the module's documentation for alternative uses\n",
      "  from imp import reload\n",
      "/root/miniconda3/lib/python3.9/site-packages/past/builtins/misc.py:45: DeprecationWarning: the imp module is deprecated in favour of importlib; see the module's documentation for alternative uses\n",
      "  from imp import reload\n",
      "/root/miniconda3/lib/python3.9/site-packages/past/builtins/misc.py:45: DeprecationWarning: the imp module is deprecated in favour of importlib; see the module's documentation for alternative uses\n",
      "  from imp import reload\n",
      "/root/miniconda3/lib/python3.9/site-packages/past/builtins/misc.py:45: DeprecationWarning: the imp module is deprecated in favour of importlib; see the module's documentation for alternative uses\n",
      "  from imp import reload\n",
      "/root/miniconda3/lib/python3.9/site-packages/past/builtins/misc.py:45: DeprecationWarning: the imp module is deprecated in favour of importlib; see the module's documentation for alternative uses\n",
      "  from imp import reload\n",
      "/root/miniconda3/lib/python3.9/site-packages/past/builtins/misc.py:45: DeprecationWarning: the imp module is deprecated in favour of importlib; see the module's documentation for alternative uses\n",
      "  from imp import reload\n"
     ]
    },
    {
     "data": {
      "text/html": [
       "\n",
       "<link rel=\"stylesheet\" type=\"text/css\" href=\"https://cdn.jsdelivr.net/gh/bmabey/pyLDAvis@3.3.1/pyLDAvis/js/ldavis.v1.0.0.css\">\n",
       "\n",
       "\n",
       "<div id=\"ldavis_el16181139904920796736893880168\"></div>\n",
       "<script type=\"text/javascript\">\n",
       "\n",
       "var ldavis_el16181139904920796736893880168_data = {\"mdsDat\": {\"x\": [-0.399538368901313, -0.09232855418946044, -0.37259931926675915, 0.24611998467789153, 0.3907755046805681, 0.3528220933411059, 0.1622734039542312, -0.059589195678563515, -0.24242231358088856, 0.014486764963187952], \"y\": [-0.24517137764641053, 0.41579833583618236, 0.2569324784669773, -0.3407233894647246, -0.08832069656437186, 0.17248078162748462, 0.3193337342143225, -0.3957830506375988, 0.0021313039801302866, -0.09667811981199137], \"topics\": [1, 2, 3, 4, 5, 6, 7, 8, 9, 10], \"cluster\": [1, 1, 1, 1, 1, 1, 1, 1, 1, 1], \"Freq\": [21.44800615425317, 18.37788763489967, 16.832045946073816, 8.989386891280692, 8.222511922614707, 6.960292084375235, 5.661957319126234, 5.2807232112491675, 5.084335392902039, 3.1428534432252726]}, \"tinfo\": {\"Term\": [\"app\", \"use\", \"lie\", \"just\", \"go\", \"time\", \"so\", \"account\", \"get\", \"say\", \"now\", \"list\", \"then\", \"try\", \"fee\", \"update\", \"make\", \"even\", \"platform\", \"bank\", \"star\", \"shib\", \"log\", \"buy\", \"kraken\", \"work\", \"website\", \"good\", \"very\", \"deposit\", \"go\", \"so\", \"account\", \"say\", \"now\", \"then\", \"even\", \"buy\", \"money\", \"day\", \"want\", \"never\", \"price\", \"tell\", \"back\", \"keep\", \"lose\", \"see\", \"code\", \"find\", \"know\", \"review\", \"phone\", \"seem\", \"pay\", \"reason\", \"put\", \"market\", \"else\", \"great\", \"company\", \"still\", \"get\", \"fee\", \"option\", \"need\", \"sign\", \"give\", \"more\", \"exchange\", \"way\", \"well\", \"use_app\", \"people\", \"trust\", \"trade\", \"think\", \"app\", \"again\", \"wallet\", \"at_all\", \"coinbase\", \"process\", \"big\", \"thing\", \"set\", \"much\", \"trading\", \"come\", \"play\", \"whole\", \"joke\", \"make\", \"crypto\", \"still\", \"just\", \"time\", \"try\", \"update\", \"log\", \"work\", \"take\", \"login\", \"also\", \"fail\", \"slow\", \"other\", \"download\", \"useless\", \"terrible\", \"transfer\", \"look\", \"use\", \"help\", \"really\", \"customer\", \"do\", \"second\", \"same\", \"first\", \"load\", \"withdrawal\", \"instead\", \"credit_card\", \"order\", \"only\", \"bank\", \"problem\", \"bad\", \"hour\", \"wait\", \"show\", \"error\", \"add\", \"fix\", \"always\", \"buy_crypto\", \"card\", \"amount\", \"check\", \"clear\", \"accept\", \"information\", \"instal\", \"hope\", \"experience\", \"extremely\", \"unable\", \"fine\", \"bug\", \"asset\", \"decide\", \"wrong\", \"token\", \"shame\", \"connect\", \"issue\", \"list\", \"deposit\", \"support\", \"start\", \"ask\", \"email\", \"password\", \"fund\", \"provide\", \"info\", \"hold\", \"verify\", \"datum\", \"create_account\", \"attempt\", \"able\", \"click\", \"suck\", \"about\", \"security\", \"frustrating\", \"reset_password\", \"minute\", \"reply\", \"several_time\", \"register\", \"pin\", \"contact_support\", \"finally\", \"refuse\", \"already\", \"kraken\", \"coin\", \"promise\", \"open\", \"withdraw\", \"service\", \"charge\", \"word\", \"available\", \"buy_sell\", \"payment\", \"here\", \"one\", \"response\", \"cost\", \"guess\", \"rate\", \"high_fee\", \"remove\", \"anymore\", \"month\", \"around\", \"right\", \"value\", \"name\", \"convert\", \"old\", \"expensive\", \"uninstall\", \"shibarmy\", \"make_promise\", \"shib\", \"very\", \"let\", \"waste_time\", \"there\", \"require\", \"upload\", \"today\", \"exist\", \"quite\", \"break\", \"just_get\", \"horrible\", \"system\", \"force\", \"wish\", \"trust_app\", \"make_account\", \"let_buy\", \"credential\", \"nice\", \"function\", \"app_now\", \"bad_app\", \"absolute\", \"far\", \"terrible_app\", \"update_app\", \"write\", \"job\", \"lie\", \"good\", \"purchase\", \"transaction\", \"site\", \"shiba\", \"promise_list\", \"application\", \"app_work\", \"follow\", \"false\", \"enough\", \"functionality\", \"sorry\", \"compare\", \"miss\", \"long\", \"lot\", \"lose_money\", \"chart\", \"several\", \"maybe\", \"almost\", \"apparently\", \"ceo\", \"such\", \"fake\", \"marketing\", \"mobile_app\", \"absolutely\", \"star\", \"new\", \"crash\", \"verification\", \"guy\", \"portfolio\", \"send\", \"download_app\", \"yet\", \"feel\", \"year\", \"however\", \"get_verify\", \"completely\", \"understand\", \"own\", \"verification_process\", \"create\", \"least\", \"away\", \"keep_crash\", \"stay_away\", \"deposit_money\", \"deal\", \"correct\", \"launch\", \"obviously\", \"allow_buy\", \"very_disappointed\", \"choose\", \"platform\", \"website\", \"delete\", \"receive\", \"message\", \"top\", \"web\", \"stick\", \"keep_say\", \"server\", \"developer\", \"button\", \"want_buy\", \"simply\", \"time_try\", \"forever\", \"as_far\", \"too_much\", \"run\", \"use_good\", \"device\", \"few_day\", \"waste\", \"open_app\", \"same_problem\", \"unreliable\", \"withdraw_fund\", \"disappear\", \"perfect\", \"account_verify\"], \"Freq\": [1441.0, 598.0, 352.0, 565.0, 578.0, 497.0, 550.0, 543.0, 483.0, 515.0, 513.0, 308.0, 502.0, 410.0, 408.0, 377.0, 466.0, 422.0, 176.0, 254.0, 200.0, 204.0, 323.0, 368.0, 205.0, 310.0, 153.0, 181.0, 183.0, 210.0, 577.9527171238977, 549.5665756222891, 543.0776641901988, 514.8548088202026, 512.3659541269033, 501.13933671254193, 421.7828084218154, 367.14078237486075, 301.7888311526501, 262.616359951838, 255.95032325516496, 230.76369547168395, 224.48723427748746, 194.525527033996, 193.38680877082652, 190.35334901090536, 177.6557646800161, 173.5287163041035, 173.06811555648395, 162.3930618688256, 145.31230355872174, 141.33012041200445, 140.07943809000096, 134.8607088655799, 132.22641035786506, 128.2985985844112, 124.89833925102072, 119.7273198511112, 116.1723437023431, 114.98483663141354, 261.7092165137066, 161.45670769579175, 483.01429273845065, 407.63941759370675, 274.4048627574214, 267.39267996516514, 266.6027518803576, 253.12209328477405, 248.78875742638832, 269.6528063262122, 222.1981251839304, 211.08946168739402, 208.6869033362953, 204.58278516876692, 186.2464820220222, 183.6069077281179, 171.43288510373526, 1433.492788656879, 144.6506061299783, 119.92462704194712, 116.76788929366624, 116.01602793357522, 108.62717081353608, 103.57620818909338, 102.63119940317034, 87.52842400799774, 87.23896415088716, 86.63148434383484, 84.42151065811828, 83.93471616944744, 80.6308165635243, 77.5062298557071, 431.6046517459739, 345.9902430232919, 109.99862472941007, 564.4132126455779, 496.1000549072438, 409.3586869658232, 376.8466061208606, 322.41873340734884, 309.13988187976605, 286.4234151873968, 235.6442801350929, 216.78421800615524, 207.36994419865695, 168.07745677364323, 162.9004001783712, 160.50614388733325, 157.38733603181174, 152.46624895826184, 150.19424640082232, 147.32017918063045, 594.8287929050134, 140.93218229597622, 140.00703250529315, 135.94202836710693, 135.48496973890576, 115.15224222758717, 113.34687046379818, 112.63403866598667, 109.1268954213878, 104.37735873350067, 102.97475423900505, 100.60225621635396, 100.00830948622311, 280.42252649112135, 253.41517247811188, 198.19391439958247, 196.40158244031775, 176.33964189363596, 165.83504427895502, 160.722529930704, 157.3960294519502, 136.32925047082722, 110.80224092363727, 104.69705242995813, 103.7257575467932, 94.86984055162064, 93.73774897306463, 93.43512951369019, 92.01039371707321, 88.89871484445102, 83.86072642850996, 79.9750094649779, 71.75320846689014, 70.45287480915057, 68.77225637694794, 67.85581876697219, 67.22924646420529, 67.11850293432744, 66.75814242635123, 64.71638355600399, 60.88724757687363, 60.672701240213186, 60.58543426380769, 57.78412827399876, 178.993724594598, 307.67251349812346, 209.77441061048498, 198.82758367707874, 167.96735595557914, 165.5627946188403, 157.11602805506806, 154.85713121935157, 117.35586597980185, 103.77619125814084, 90.20150430768945, 89.07001761794267, 88.20150397132076, 80.83323502311075, 75.23440788608956, 75.15206170179276, 72.32566800788702, 61.65551250368006, 59.71248186659592, 58.84534105604012, 58.709298397315074, 55.24057329232426, 51.137076366987905, 51.0928458670067, 49.92936430352725, 49.93126169485878, 49.229850373592804, 48.28318098988024, 47.68851516640028, 47.12490301463387, 45.78133413488507, 108.2125379828749, 205.07590967374148, 185.92166105227605, 162.9546447017529, 154.05727999636684, 143.5248526986947, 130.60172702670607, 115.33417364512826, 107.63975487894001, 88.98099514801781, 83.81216912001761, 83.78019882085312, 77.43780400633183, 72.22334671958764, 71.99172443946613, 67.54293551910921, 66.0923973741596, 63.82206463887215, 57.73948178889442, 56.34052746791422, 54.610010696694125, 53.94490668245653, 53.22338777682023, 50.28576892751094, 49.615717128878835, 49.52888985606857, 44.799437231601914, 44.78615179617133, 40.73440100620829, 39.76454138384771, 41.49410665806886, 40.01565032250759, 203.398770798218, 182.10952571317148, 165.31272525269998, 129.24419136443106, 111.12789174870389, 88.47297110620583, 81.92924734986337, 81.27352262402715, 67.32721714759667, 57.993672531965096, 55.66249075842307, 55.181622106626925, 53.79506272844332, 50.55828104568247, 48.50461177115878, 48.351002786525285, 47.965260990817235, 47.068400170052605, 45.86787976181009, 44.47627177466121, 43.39071764579959, 42.85359601414264, 40.36116010158962, 38.2161700359541, 37.66563223165844, 35.38142357456436, 34.158562142838555, 34.10891198394255, 33.67453346637936, 31.143200973306893, 351.3124500549266, 180.16851226531693, 150.4606731318184, 147.92598242632084, 81.07505895920922, 74.51900735810158, 67.4676171993303, 66.54986099155614, 62.6929417476092, 58.32340854408782, 54.792254021887494, 54.66034957137174, 52.36261716451523, 50.25293522690977, 50.0046075808556, 49.708265328777436, 47.0950749197899, 46.0516437244578, 44.58927537006204, 40.922620403277605, 40.384368623038135, 37.39285961753632, 36.32995461278481, 36.08699785722887, 35.963259470330854, 34.275471569138624, 33.48524994756804, 35.71285276989027, 32.45362701113062, 32.039577554925394, 199.65332596499815, 145.72014310575213, 145.53598346269712, 141.50735040801789, 138.67336777856403, 124.26233449960874, 123.64107743000004, 76.44801147138476, 73.74606181629346, 65.8020494391133, 65.38880973121303, 58.37998582160942, 58.35977200249551, 52.76705716134172, 51.38964460081966, 46.74792822880501, 44.30005808768868, 43.99028585074153, 38.96981522089384, 37.21450099347882, 36.928438198499855, 36.29836978687139, 35.34137352581472, 34.61794269933151, 33.371261985259146, 32.46396806909139, 31.7642615122449, 31.537750340971225, 29.53060855173816, 29.25746250950125, 175.22425561283663, 152.85900271532395, 94.3422007969415, 74.12136400414924, 54.907689006341876, 51.21595701317527, 49.58604037488354, 48.92687044290199, 44.88046025217674, 42.63062095341242, 41.15514077034957, 39.35341878857359, 38.70958297271407, 37.76024491059515, 37.206605868930325, 34.84789709539176, 33.940741601068744, 33.230399899625624, 33.05685995872591, 32.78051819689102, 32.50406873878331, 31.20660591187756, 29.826393393472355, 28.71371674804117, 28.12759238595467, 25.839106165117137, 25.08460670040633, 22.565799397380438, 22.233780953905868, 19.736687052609238], \"Total\": [1441.0, 598.0, 352.0, 565.0, 578.0, 497.0, 550.0, 543.0, 483.0, 515.0, 513.0, 308.0, 502.0, 410.0, 408.0, 377.0, 466.0, 422.0, 176.0, 254.0, 200.0, 204.0, 323.0, 368.0, 205.0, 310.0, 153.0, 181.0, 183.0, 210.0, 578.8464156844401, 550.4603015975557, 543.9713641854495, 515.7485230744569, 513.2595646782003, 502.03304959058227, 422.7518062366774, 368.03453943488375, 302.6825629340909, 263.51008554221863, 256.84400025577634, 231.65736578212983, 225.38099487199827, 195.41923175829942, 194.28049088879843, 191.24703228819817, 178.5493761168973, 174.42235059742507, 173.96201183720896, 163.28675179235032, 146.20598608249264, 142.22383716559955, 140.97320155784146, 135.75440644371378, 133.12020045837784, 129.1922922432725, 125.79203976032773, 120.62105235660009, 117.06611417065379, 115.87854749931158, 265.6838282592317, 272.2445607000179, 483.91687947175507, 408.54227833803554, 275.30765264688836, 268.29530637072173, 267.50540635653283, 254.02473244030375, 249.6913544023721, 270.7228010418659, 223.10083243472016, 211.99204965076947, 209.58954232772743, 205.48538895677714, 187.14913852553016, 184.50952809241733, 172.3355166027916, 1441.9435293248623, 145.5531756193317, 120.82727545228596, 117.67063008908528, 116.91871256480395, 109.52982967193162, 104.47893720575053, 103.53380924027657, 88.43111086913754, 88.14170640411427, 87.53418221504589, 85.32411501437164, 84.83741223047835, 81.53352589469411, 78.40888956748537, 466.6222274864975, 402.76442709052094, 272.2445607000179, 565.3139442013002, 497.0049624380545, 410.259440321206, 377.74721382699494, 323.3194631233028, 310.0405746926532, 287.32411964096616, 236.5449929227194, 217.68497758057183, 208.2707338894692, 168.978227896931, 163.80116773784462, 161.40686217413204, 158.28812304424835, 153.36697993622596, 151.09503777089634, 148.22086140842313, 598.5034261386945, 141.8328968429767, 140.90775679588432, 136.8428923371795, 136.38566927675652, 116.05326800843224, 114.24765091036323, 113.53477229509366, 110.02773457465901, 105.27824400857688, 103.87549786967062, 101.50343061025382, 100.90919054959649, 300.9928852173581, 254.3148255149986, 199.09350133803596, 197.30115596591102, 177.23947211192697, 166.7347614507701, 161.62210722514882, 158.29567245227028, 137.22876602558162, 111.70173462268478, 105.59657206183904, 104.62562935375306, 95.76949181967281, 94.63742929660565, 94.33480781659716, 92.91000012656129, 89.79831776263069, 84.76025974178847, 80.87458868840048, 72.6528327024313, 71.35240081014071, 69.67199817243153, 68.75535868301941, 68.12891152449356, 68.01802392824335, 67.65766881263579, 65.61597485694777, 61.7867583361286, 61.5722668690925, 61.485039922355625, 58.68369254061319, 181.86651646213951, 308.57334960082426, 210.6751844214358, 199.7282219295533, 168.8680931006815, 166.4634695163388, 158.01664105056287, 155.75780929847886, 118.25660484391472, 104.67708038233265, 91.10217367091953, 89.97072504634737, 89.10215876252936, 81.73378583840125, 76.1351978291767, 76.05279930187548, 73.2263543641056, 62.55615774709364, 60.61314922702932, 59.746137783113284, 59.61008265361314, 56.14127907985245, 52.0376177121157, 51.993661475648594, 50.8299909017517, 50.83224535281372, 50.1305188547869, 49.18491403567828, 48.58918983048394, 48.02573914214599, 46.6821797012083, 116.57064641689706, 205.99297657569545, 186.83225711237296, 163.86552762388638, 154.96792127953316, 144.4356925828884, 131.51249427712972, 116.24495910259922, 108.55066715955459, 89.89162904418389, 84.72313361346896, 84.69146530340203, 78.34838950208, 73.13395360093767, 72.90236164236502, 68.45359349388707, 67.00311038560662, 64.73276423886578, 58.65047964457196, 57.25117106037484, 55.52059741242234, 54.855457597636, 54.13414006844791, 51.19648781376477, 50.526318285028104, 50.43957395246113, 45.71048552551647, 45.69695862061169, 41.64830583799858, 40.6752465998135, 42.45898205999188, 40.950231537317144, 204.3094209842046, 183.01990162538166, 166.22310266059202, 130.15458384228685, 112.03819801708299, 89.3833948578089, 82.83969938034373, 82.18385308477869, 68.23782810665227, 58.90440641394771, 56.57270615478102, 56.09204016267716, 54.70536082011331, 51.46864573483603, 49.414852590304285, 49.26136151215227, 48.87565906511728, 47.978786268243546, 46.77872396199937, 45.386774115096166, 44.30105800719075, 43.7639254878273, 41.27143734345488, 39.126495041591376, 38.576037154447825, 36.29196185022487, 35.069159542334184, 35.01907121474985, 34.58484889927643, 32.05371692602116, 352.23178848893144, 181.08766427280702, 151.37991038416948, 148.84507984622508, 81.99442532786749, 75.47312893265274, 68.3922545872312, 67.46891688463472, 63.612280818659116, 59.24252053971562, 55.71137353661867, 55.57953343338353, 53.28222053863564, 51.17275239335516, 50.924070238484866, 50.627496845185455, 48.014273679680365, 46.97068189695443, 45.508404506494834, 41.841837905485676, 41.303566730324796, 38.31205555845078, 37.24913034153188, 37.006527221966834, 36.882730293988736, 35.19473278659358, 34.40430159555659, 36.70708906712246, 33.373027331803286, 32.95860306831594, 200.56230895534398, 146.6291162055322, 146.44507867062902, 142.41641516149554, 139.582380023459, 125.17118323873426, 124.55003957278576, 77.35702425547844, 74.65509363142587, 66.71109087604258, 66.29769661168162, 59.28921643650643, 59.26921994553409, 53.67602222409729, 52.29882217217529, 47.65693321130609, 45.20961523120366, 44.89930627189283, 39.878981229981584, 38.12350532092754, 37.83759323787477, 37.20737464660045, 36.25058363703813, 35.52711350035759, 34.28017866448643, 33.373089749061464, 32.6734471631764, 32.451254977233845, 30.439708698741384, 30.166554270568405, 176.1418434225202, 153.77669635143494, 95.25965575729556, 75.03895824742021, 55.825215517325326, 52.13356039098501, 50.50389635105852, 49.84442646470938, 45.79808218162346, 43.55185356493303, 42.07273326130956, 40.27091195899146, 39.62728839631547, 38.67807257809118, 38.12454134168723, 35.765555907126924, 34.86070016944866, 34.14803888779628, 33.97440335765202, 33.697921723171554, 33.42159709383269, 32.124252047890224, 30.744039165544258, 29.631203998838995, 29.045379446638353, 26.756625380882166, 26.002426017830295, 23.48327007537042, 23.151764849372164, 20.654989979125645], \"Category\": [\"Default\", \"Default\", \"Default\", \"Default\", \"Default\", \"Default\", \"Default\", \"Default\", \"Default\", \"Default\", \"Default\", \"Default\", \"Default\", \"Default\", \"Default\", \"Default\", \"Default\", \"Default\", \"Default\", \"Default\", \"Default\", \"Default\", \"Default\", \"Default\", \"Default\", \"Default\", \"Default\", \"Default\", \"Default\", \"Default\", \"Topic1\", \"Topic1\", \"Topic1\", \"Topic1\", \"Topic1\", \"Topic1\", \"Topic1\", \"Topic1\", \"Topic1\", \"Topic1\", \"Topic1\", \"Topic1\", \"Topic1\", \"Topic1\", \"Topic1\", \"Topic1\", \"Topic1\", \"Topic1\", \"Topic1\", \"Topic1\", \"Topic1\", \"Topic1\", \"Topic1\", \"Topic1\", \"Topic1\", \"Topic1\", \"Topic1\", \"Topic1\", \"Topic1\", \"Topic1\", \"Topic1\", \"Topic1\", \"Topic2\", \"Topic2\", \"Topic2\", \"Topic2\", \"Topic2\", \"Topic2\", \"Topic2\", \"Topic2\", \"Topic2\", \"Topic2\", \"Topic2\", \"Topic2\", \"Topic2\", \"Topic2\", \"Topic2\", \"Topic2\", \"Topic2\", \"Topic2\", \"Topic2\", \"Topic2\", \"Topic2\", \"Topic2\", \"Topic2\", \"Topic2\", \"Topic2\", \"Topic2\", \"Topic2\", \"Topic2\", \"Topic2\", \"Topic2\", \"Topic2\", \"Topic2\", \"Topic2\", \"Topic3\", \"Topic3\", \"Topic3\", \"Topic3\", \"Topic3\", \"Topic3\", \"Topic3\", \"Topic3\", \"Topic3\", \"Topic3\", \"Topic3\", \"Topic3\", \"Topic3\", \"Topic3\", \"Topic3\", \"Topic3\", \"Topic3\", \"Topic3\", \"Topic3\", \"Topic3\", \"Topic3\", \"Topic3\", \"Topic3\", \"Topic3\", \"Topic3\", \"Topic3\", \"Topic3\", \"Topic3\", \"Topic3\", \"Topic3\", \"Topic3\", \"Topic4\", \"Topic4\", \"Topic4\", \"Topic4\", \"Topic4\", \"Topic4\", \"Topic4\", \"Topic4\", \"Topic4\", \"Topic4\", \"Topic4\", \"Topic4\", \"Topic4\", \"Topic4\", \"Topic4\", \"Topic4\", \"Topic4\", \"Topic4\", \"Topic4\", \"Topic4\", \"Topic4\", \"Topic4\", \"Topic4\", \"Topic4\", \"Topic4\", \"Topic4\", \"Topic4\", \"Topic4\", \"Topic4\", \"Topic4\", \"Topic4\", \"Topic5\", \"Topic5\", \"Topic5\", \"Topic5\", \"Topic5\", \"Topic5\", \"Topic5\", \"Topic5\", \"Topic5\", \"Topic5\", \"Topic5\", \"Topic5\", \"Topic5\", \"Topic5\", \"Topic5\", \"Topic5\", \"Topic5\", \"Topic5\", \"Topic5\", \"Topic5\", \"Topic5\", \"Topic5\", \"Topic5\", \"Topic5\", \"Topic5\", \"Topic5\", \"Topic5\", \"Topic5\", \"Topic5\", \"Topic5\", \"Topic5\", \"Topic6\", \"Topic6\", \"Topic6\", \"Topic6\", \"Topic6\", \"Topic6\", \"Topic6\", \"Topic6\", \"Topic6\", \"Topic6\", \"Topic6\", \"Topic6\", \"Topic6\", \"Topic6\", \"Topic6\", \"Topic6\", \"Topic6\", \"Topic6\", \"Topic6\", \"Topic6\", \"Topic6\", \"Topic6\", \"Topic6\", \"Topic6\", \"Topic6\", \"Topic6\", \"Topic6\", \"Topic6\", \"Topic6\", \"Topic6\", \"Topic6\", \"Topic7\", \"Topic7\", \"Topic7\", \"Topic7\", \"Topic7\", \"Topic7\", \"Topic7\", \"Topic7\", \"Topic7\", \"Topic7\", \"Topic7\", \"Topic7\", \"Topic7\", \"Topic7\", \"Topic7\", \"Topic7\", \"Topic7\", \"Topic7\", \"Topic7\", \"Topic7\", \"Topic7\", \"Topic7\", \"Topic7\", \"Topic7\", \"Topic7\", \"Topic7\", \"Topic7\", \"Topic7\", \"Topic7\", \"Topic7\", \"Topic8\", \"Topic8\", \"Topic8\", \"Topic8\", \"Topic8\", \"Topic8\", \"Topic8\", \"Topic8\", \"Topic8\", \"Topic8\", \"Topic8\", \"Topic8\", \"Topic8\", \"Topic8\", \"Topic8\", \"Topic8\", \"Topic8\", \"Topic8\", \"Topic8\", \"Topic8\", \"Topic8\", \"Topic8\", \"Topic8\", \"Topic8\", \"Topic8\", \"Topic8\", \"Topic8\", \"Topic8\", \"Topic8\", \"Topic8\", \"Topic9\", \"Topic9\", \"Topic9\", \"Topic9\", \"Topic9\", \"Topic9\", \"Topic9\", \"Topic9\", \"Topic9\", \"Topic9\", \"Topic9\", \"Topic9\", \"Topic9\", \"Topic9\", \"Topic9\", \"Topic9\", \"Topic9\", \"Topic9\", \"Topic9\", \"Topic9\", \"Topic9\", \"Topic9\", \"Topic9\", \"Topic9\", \"Topic9\", \"Topic9\", \"Topic9\", \"Topic9\", \"Topic9\", \"Topic9\", \"Topic10\", \"Topic10\", \"Topic10\", \"Topic10\", \"Topic10\", \"Topic10\", \"Topic10\", \"Topic10\", \"Topic10\", \"Topic10\", \"Topic10\", \"Topic10\", \"Topic10\", \"Topic10\", \"Topic10\", \"Topic10\", \"Topic10\", \"Topic10\", \"Topic10\", \"Topic10\", \"Topic10\", \"Topic10\", \"Topic10\", \"Topic10\", \"Topic10\", \"Topic10\", \"Topic10\", \"Topic10\", \"Topic10\", \"Topic10\"], \"logprob\": [30.0, 29.0, 28.0, 27.0, 26.0, 25.0, 24.0, 23.0, 22.0, 21.0, 20.0, 19.0, 18.0, 17.0, 16.0, 15.0, 14.0, 13.0, 12.0, 11.0, 10.0, 9.0, 8.0, 7.0, 6.0, 5.0, 4.0, 3.0, 2.0, 1.0, -3.3691, -3.4194, -3.4313, -3.4847, -3.4895, -3.5117, -3.6841, -3.8228, -4.0188, -4.1579, -4.1836, -4.2872, -4.3148, -4.458, -4.4639, -4.4797, -4.5487, -4.5722, -4.5749, -4.6386, -4.7497, -4.7775, -4.7864, -4.8243, -4.8441, -4.8742, -4.9011, -4.9434, -4.9735, -4.9838, -4.1613, -4.6443, -3.394, -3.5637, -3.9595, -3.9854, -3.9883, -4.0402, -4.0575, -3.977, -4.1705, -4.2218, -4.2333, -4.2531, -4.347, -4.3613, -4.4299, -2.3062, -4.5998, -4.7872, -4.8139, -4.8204, -4.8862, -4.9338, -4.9429, -5.1021, -5.1054, -5.1124, -5.1383, -5.144, -5.1842, -5.2237, -3.5066, -3.7277, -4.8736, -3.1504, -3.2794, -3.4716, -3.5544, -3.7104, -3.7524, -3.8288, -4.0239, -4.1073, -4.1517, -4.3618, -4.3931, -4.4079, -4.4275, -4.4593, -4.4743, -4.4936, -3.098, -4.5379, -4.5445, -4.574, -4.5774, -4.74, -4.7558, -4.7621, -4.7937, -4.8382, -4.8517, -4.8751, -4.881, -3.8499, -3.324, -3.5697, -3.5788, -3.6866, -3.748, -3.7793, -3.8002, -3.9439, -4.1512, -4.2079, -4.2172, -4.3065, -4.3185, -4.3217, -4.3371, -4.3715, -4.4298, -4.4773, -4.5858, -4.604, -4.6282, -4.6416, -4.6509, -4.6525, -4.6579, -4.689, -4.75, -4.7535, -4.7549, -4.8023, -3.6716, -3.0408, -3.4238, -3.4774, -3.646, -3.6605, -3.7128, -3.7273, -4.0046, -4.1276, -4.2678, -4.2804, -4.2902, -4.3774, -4.4492, -4.4503, -4.4886, -4.6483, -4.6803, -4.6949, -4.6972, -4.7581, -4.8353, -4.8362, -4.8592, -4.8592, -4.8733, -4.8927, -4.9051, -4.917, -4.9459, -4.0857, -3.2798, -3.3778, -3.5097, -3.5658, -3.6367, -3.731, -3.8553, -3.9244, -4.1147, -4.1746, -4.175, -4.2537, -4.3234, -4.3266, -4.3904, -4.4121, -4.4471, -4.5472, -4.5717, -4.6029, -4.6152, -4.6287, -4.6854, -4.6989, -4.7006, -4.801, -4.8013, -4.8961, -4.9202, -4.8776, -4.9139, -3.0815, -3.1921, -3.2889, -3.535, -3.686, -3.914, -3.9909, -3.9989, -4.1871, -4.3364, -4.3774, -4.3861, -4.4115, -4.4736, -4.5151, -4.5182, -4.5262, -4.5451, -4.5709, -4.6018, -4.6265, -4.6389, -4.6988, -4.7535, -4.768, -4.8305, -4.8657, -4.8672, -4.88, -4.9581, -2.4653, -3.1331, -3.3133, -3.3303, -3.9316, -4.0159, -4.1154, -4.1291, -4.1888, -4.261, -4.3235, -4.3259, -4.3688, -4.4099, -4.4149, -4.4208, -4.4748, -4.4972, -4.5295, -4.6153, -4.6286, -4.7055, -4.7344, -4.7411, -4.7445, -4.7926, -4.8159, -4.7515, -4.8472, -4.86, -2.9925, -3.3074, -3.3087, -3.3368, -3.357, -3.4667, -3.4717, -3.9525, -3.9885, -4.1025, -4.1088, -4.2221, -4.2225, -4.3232, -4.3497, -4.4443, -4.4981, -4.5051, -4.6263, -4.6724, -4.6801, -4.6973, -4.7241, -4.7447, -4.7814, -4.809, -4.8308, -4.8379, -4.9037, -4.913, -2.642, -2.7786, -3.2611, -3.5024, -3.8024, -3.872, -3.9044, -3.9177, -4.0041, -4.0555, -4.0907, -4.1355, -4.152, -4.1768, -4.1916, -4.2571, -4.2835, -4.3046, -4.3098, -4.3182, -4.3267, -4.3674, -4.4127, -4.4507, -4.4713, -4.5562, -4.5858, -4.6916, -4.7065, -4.8256], \"loglift\": [30.0, 29.0, 28.0, 27.0, 26.0, 25.0, 24.0, 23.0, 22.0, 21.0, 20.0, 19.0, 18.0, 17.0, 16.0, 15.0, 14.0, 13.0, 12.0, 11.0, 10.0, 9.0, 8.0, 7.0, 6.0, 5.0, 4.0, 3.0, 2.0, 1.0, 1.538, 1.5379, 1.5379, 1.5378, 1.5378, 1.5378, 1.5372, 1.5371, 1.5366, 1.5361, 1.5361, 1.5357, 1.5356, 1.535, 1.5349, 1.5349, 1.5345, 1.5344, 1.5344, 1.5341, 1.5334, 1.5332, 1.5332, 1.5329, 1.5328, 1.5326, 1.5324, 1.5321, 1.5319, 1.5318, 1.5245, 1.0171, 1.6922, 1.6918, 1.6907, 1.6907, 1.6906, 1.6905, 1.6904, 1.6901, 1.69, 1.6898, 1.6897, 1.6896, 1.6892, 1.6891, 1.6888, 1.6881, 1.6878, 1.6865, 1.6863, 1.6863, 1.6857, 1.6853, 1.6853, 1.6838, 1.6837, 1.6837, 1.6834, 1.6833, 1.6829, 1.6824, 1.616, 1.5421, 0.7878, 1.7803, 1.7801, 1.7797, 1.7795, 1.7791, 1.779, 1.7787, 1.7781, 1.7777, 1.7776, 1.7765, 1.7764, 1.7763, 1.7762, 1.776, 1.7759, 1.7758, 1.7757, 1.7755, 1.7755, 1.7753, 1.7753, 1.7741, 1.774, 1.7739, 1.7737, 1.7733, 1.7732, 1.773, 1.7729, 1.7111, 2.4056, 2.4046, 2.4046, 2.404, 2.4037, 2.4035, 2.4034, 2.4025, 2.401, 2.4006, 2.4005, 2.3997, 2.3996, 2.3995, 2.3994, 2.3991, 2.3985, 2.3979, 2.3967, 2.3964, 2.3961, 2.396, 2.3958, 2.3958, 2.3957, 2.3953, 2.3945, 2.3944, 2.3944, 2.3937, 2.3932, 2.4954, 2.494, 2.4938, 2.4929, 2.4929, 2.4926, 2.4925, 2.4906, 2.4897, 2.4884, 2.4882, 2.4881, 2.4872, 2.4864, 2.4864, 2.4859, 2.4838, 2.4833, 2.4831, 2.4831, 2.4821, 2.4808, 2.4808, 2.4804, 2.4804, 2.4802, 2.4798, 2.4796, 2.4794, 2.4788, 2.4239, 2.6605, 2.6601, 2.6594, 2.6591, 2.6586, 2.658, 2.6571, 2.6565, 2.6548, 2.6541, 2.6541, 2.6533, 2.6524, 2.6524, 2.6516, 2.6513, 2.6508, 2.6493, 2.6489, 2.6484, 2.6482, 2.648, 2.647, 2.6468, 2.6467, 2.6448, 2.6448, 2.6428, 2.6423, 2.642, 2.6419, 2.8669, 2.8664, 2.8659, 2.8644, 2.8632, 2.8612, 2.8603, 2.8603, 2.858, 2.8558, 2.8552, 2.855, 2.8546, 2.8536, 2.8528, 2.8527, 2.8526, 2.8522, 2.8517, 2.8511, 2.8506, 2.8504, 2.8491, 2.8479, 2.8475, 2.846, 2.8451, 2.8451, 2.8447, 2.8426, 2.9385, 2.936, 2.935, 2.9349, 2.9298, 2.9284, 2.9275, 2.9274, 2.9265, 2.9255, 2.9245, 2.9244, 2.9237, 2.923, 2.9229, 2.9228, 2.9218, 2.9213, 2.9207, 2.9189, 2.9186, 2.9168, 2.9161, 2.9159, 2.9159, 2.9146, 2.914, 2.9136, 2.9132, 2.9128, 2.9745, 2.9728, 2.9728, 2.9726, 2.9725, 2.9717, 2.9717, 2.9672, 2.9668, 2.9653, 2.9652, 2.9636, 2.9635, 2.9619, 2.9615, 2.9597, 2.9587, 2.9586, 2.9559, 2.9549, 2.9547, 2.9543, 2.9536, 2.9531, 2.9521, 2.9514, 2.9508, 2.9505, 2.9487, 2.9484, 3.4548, 3.4541, 3.4504, 3.4477, 3.4435, 3.4423, 3.4417, 3.4415, 3.4398, 3.4387, 3.438, 3.437, 3.4366, 3.436, 3.4357, 3.434, 3.4333, 3.4328, 3.4327, 3.4324, 3.4322, 3.4311, 3.4297, 3.4286, 3.4279, 3.4251, 3.4241, 3.4202, 3.4196, 3.4146]}, \"token.table\": {\"Topic\": [5, 5, 7, 8, 4, 1, 10, 4, 2, 9, 8, 3, 5, 3, 4, 4, 6, 2, 3, 7, 8, 8, 8, 6, 10, 5, 4, 2, 5, 6, 9, 1, 4, 7, 4, 2, 7, 4, 10, 1, 4, 6, 4, 8, 6, 8, 4, 9, 4, 5, 1, 6, 2, 2, 1, 2, 8, 9, 4, 5, 6, 9, 6, 9, 9, 5, 7, 3, 1, 2, 3, 5, 1, 9, 4, 10, 5, 9, 10, 10, 10, 3, 3, 9, 1, 5, 8, 4, 1, 2, 7, 6, 4, 4, 3, 8, 8, 7, 2, 9, 10, 5, 1, 4, 3, 4, 8, 7, 10, 5, 7, 8, 5, 2, 9, 2, 1, 8, 1, 6, 9, 3, 6, 6, 5, 4, 7, 4, 9, 5, 4, 4, 3, 1, 4, 7, 2, 3, 7, 1, 9, 10, 1, 6, 9, 9, 7, 7, 8, 5, 3, 3, 3, 8, 3, 1, 8, 8, 2, 3, 7, 6, 1, 8, 8, 10, 5, 8, 8, 1, 6, 2, 2, 6, 2, 1, 9, 7, 1, 9, 6, 6, 2, 3, 6, 10, 2, 3, 3, 9, 5, 1, 6, 2, 10, 1, 5, 10, 2, 9, 1, 4, 2, 6, 8, 5, 8, 1, 7, 6, 3, 1, 10, 5, 5, 6, 5, 7, 5, 6, 1, 6, 10, 3, 10, 1, 3, 5, 1, 1, 9, 10, 6, 2, 8, 5, 4, 7, 8, 6, 4, 2, 10, 8, 3, 1, 8, 9, 5, 9, 10, 1, 2, 8, 5, 5, 7, 3, 1, 3, 7, 1, 7, 2, 2, 3, 10, 7, 4, 10, 10, 2, 2, 8, 3, 2, 7, 3, 4, 9, 6, 10, 3, 7, 7, 1, 3, 2, 10, 3, 6, 9, 9, 5, 7, 9, 4, 2, 1, 10, 10, 7, 2, 10, 10, 2, 2, 7, 6, 10, 3, 6, 3, 7, 4, 9, 9], \"Freq\": [0.9832525547017162, 0.9875115311081385, 0.9850674875663996, 0.9709149363421452, 0.9911098806467519, 0.9982143100732811, 0.968289019758054, 0.9910458567750106, 0.996199494672803, 0.986094375162057, 0.9664655166421663, 0.0686279114502739, 0.9264768045786976, 0.996853353923707, 0.9943504599610518, 0.9932645117122966, 0.99062334634919, 0.9937975869768979, 0.005548067477889172, 0.9691932865610141, 0.9903748016769819, 0.9728013597187967, 0.9930498827269374, 0.9790494488872661, 0.9753103017075094, 0.9972157884388364, 0.9902794638925992, 0.994300786113089, 0.9861569947255114, 0.9900810670174235, 0.9705298526074725, 0.993409060874098, 0.9934052288769366, 0.9712088946276963, 0.9948299297442215, 0.9954159448922479, 0.9898766349763416, 0.985033026991238, 0.9684409441662097, 0.9971890153666765, 0.9940203049901117, 0.9914647442483879, 0.9919651675596054, 0.9760665686365251, 0.9892902099823494, 0.9798804749593635, 0.9858503149845574, 0.9613295486085218, 0.9902055739390626, 0.9911094644056926, 0.9944699890105364, 0.9955454313658889, 0.9921422966037644, 0.9844813507394877, 0.9861345408812865, 0.011291616880320075, 0.9818539595488477, 0.9874055081564186, 0.9883495310023305, 0.9878740552674478, 0.9844568370397234, 0.9626554261278496, 0.9933737080738124, 0.9969607809653335, 0.9799705976202175, 0.9850897106523092, 0.9694454135123274, 0.9950402601446363, 0.13903909142257503, 0.859062957718053, 0.9938404375793035, 0.9910222458084587, 0.9980642655814519, 0.9851630642508492, 0.9906124254300772, 0.9867766081319364, 0.99679514023785, 0.965501696481367, 0.9745028863552335, 0.9873854893095314, 0.9794206652727944, 0.9898400668918911, 0.9974792758582154, 0.9824576466256414, 0.9908930592067005, 0.9935662405946374, 0.9895728985548584, 0.9918148586616544, 0.9982216368432107, 0.9973301065182384, 0.9818600893229249, 0.9844338004883002, 0.9810461765156401, 0.9903548313517807, 0.9938986440113876, 0.959182383294246, 0.9872310896059475, 0.9644008815076811, 0.9986726506244554, 0.9893407397974668, 0.9650030124837082, 0.9786418874447717, 0.9921196803890945, 0.9834297730694304, 0.9952897928600789, 0.9937177822255387, 0.9790265416056589, 0.9916046984143856, 0.978595162644337, 0.979671302496882, 0.982544402054615, 0.9759353021388084, 0.9893739140780061, 0.998105295535969, 0.9785855129070291, 0.9959660131103787, 0.9985377542962941, 0.993993714165044, 0.9924183766687549, 0.9850288982133267, 0.9958276967095624, 0.9941276187575947, 0.9827898249006867, 0.9889092186711186, 0.989210656623615, 0.9910143530795951, 0.9871061846674819, 0.9930067941573182, 0.9782554650914123, 0.9879017851439987, 0.9910304694192241, 0.9891858653925257, 0.9915716613867008, 0.010997076531217084, 0.9842383495439291, 0.967126529242986, 0.9947851631397808, 0.997675726532526, 0.9805312810960336, 0.9934794685529083, 0.9778634641847053, 0.982573895158787, 0.9917514589189789, 0.9951795610112437, 0.9588563792149308, 0.9779587842299052, 0.9926418010432073, 0.983353031120901, 0.9965029036867575, 0.9981419341574185, 0.9906593135028001, 0.9959190111521384, 0.9976960284976422, 0.9788755800733979, 0.991763228220223, 0.9969231137691704, 0.9888283381496648, 0.9793343026383151, 0.9258024469323006, 0.07286408147152366, 0.9795996034003179, 0.9767954538559516, 0.9948512109249052, 0.9807369888189859, 0.9657534543807225, 0.9852178713565518, 0.9808887959138254, 0.9876056118850931, 0.9588581725549711, 0.9977449545574267, 0.9844052417917873, 0.9972311640343863, 0.9870469219318293, 0.9912851374820211, 0.995172087099683, 0.9971623359356159, 0.995709472839962, 0.9706314461614085, 0.9975459499152441, 0.9793885487560252, 0.9847482493003961, 0.9844948406984094, 0.0664467533362367, 0.9302545467073139, 0.9937540539258625, 0.9786979969202829, 0.9952502132275793, 0.9909900124592752, 0.9951089009381981, 0.9862153695792107, 0.9951346946782831, 0.9915850452859851, 0.991835478333916, 0.9976378419933339, 0.9502515312821433, 0.9930965492229233, 0.9759089944770716, 0.993517477730824, 0.9901292105869125, 0.9906433477064724, 0.9938726205695267, 0.9945075990392106, 0.9951626906248409, 0.9947180615933268, 0.979643095616106, 0.9935317227051078, 0.9908844550068264, 0.993703578049638, 0.9846462010398332, 0.9886801645583702, 0.9935577940027867, 0.990771181294412, 0.9861544153638896, 0.9853867213233267, 0.9774484908472287, 0.9781459306910002, 0.9836712364683289, 0.9845229098759384, 0.9800602380021307, 0.9876223263274829, 0.9913949926398444, 0.9766294942317688, 0.9713194858083488, 0.9890794173847642, 0.9640087522850612, 0.9985486665671967, 0.9909242710135857, 0.9897654452660591, 0.9975785752457844, 0.9944428585157818, 0.9955837864470182, 0.9873288156585516, 0.9961030753773876, 0.9951248959229347, 0.9684393665361658, 0.9836276098559621, 0.9921112530305235, 0.9935909906753354, 0.9937311604892527, 0.9656378464766199, 0.9961508531485598, 0.9981106686275372, 0.9824688115799424, 0.9878720373502086, 0.994210923447915, 0.9991637878404314, 0.9770824835775798, 0.9971963378449678, 0.9948593420773459, 0.967550125262311, 0.9830587585292561, 0.5913800429511736, 0.4040484765504913, 0.9660536480319952, 0.9898842209182576, 0.9963539357507014, 0.9908945392258722, 0.9953915472093998, 0.9978547057291786, 0.9910868693065849, 0.9695128267604037, 0.9979422677622026, 0.9907335352097979, 0.9948441070197879, 0.9922504853954754, 0.997977962970179, 0.970503478806246, 0.9855950647196177, 0.9907057690386942, 0.9663805323764415, 0.97825660893897, 0.997238472735337, 0.9938974443865419, 0.994322420014836, 0.9927526556328293, 0.9938597712253247, 0.9820839435852796, 0.996930136890403, 0.9890138209226452, 0.975165364759088, 0.9833990779095463, 0.9717219428791353, 0.9980219210105488, 0.97089953618414, 0.9898635631632559, 0.005012502634036373, 0.9941463557505473, 0.9971871577122604, 0.9792888793289692, 0.9918621623690094, 0.989583284456646, 0.9970760732811359, 0.9732442927236244, 0.9876303921494565, 0.9944273731090225, 0.9855547665356086, 0.9955932317629697, 0.9931532392070477, 0.9967139576749473, 0.9841702921975909, 0.9757989130335832, 0.9911291342325222, 0.9950657627642772, 0.9900226242435657, 0.9949491934092543, 0.9953203450204677, 0.993456361799155, 0.974394505684925, 0.9969834839637136, 0.9614487503149547, 0.987858422026181, 0.9949270955769881, 0.9966437467299732, 0.9830894476081211, 0.9872665542372603, 0.9804262187375457, 0.9912250644991475], \"Term\": [\"able\", \"about\", \"absolute\", \"absolutely\", \"accept\", \"account\", \"account_verify\", \"add\", \"again\", \"allow_buy\", \"almost\", \"already\", \"already\", \"also\", \"always\", \"amount\", \"anymore\", \"app\", \"app\", \"app_now\", \"app_work\", \"apparently\", \"application\", \"around\", \"as_far\", \"ask\", \"asset\", \"at_all\", \"attempt\", \"available\", \"away\", \"back\", \"bad\", \"bad_app\", \"bank\", \"big\", \"break\", \"bug\", \"button\", \"buy\", \"buy_crypto\", \"buy_sell\", \"card\", \"ceo\", \"charge\", \"chart\", \"check\", \"choose\", \"clear\", \"click\", \"code\", \"coin\", \"coinbase\", \"come\", \"company\", \"company\", \"compare\", \"completely\", \"connect\", \"contact_support\", \"convert\", \"correct\", \"cost\", \"crash\", \"create\", \"create_account\", \"credential\", \"credit_card\", \"crypto\", \"crypto\", \"customer\", \"datum\", \"day\", \"deal\", \"decide\", \"delete\", \"deposit\", \"deposit_money\", \"developer\", \"device\", \"disappear\", \"do\", \"download\", \"download_app\", \"else\", \"email\", \"enough\", \"error\", \"even\", \"exchange\", \"exist\", \"expensive\", \"experience\", \"extremely\", \"fail\", \"fake\", \"false\", \"far\", \"fee\", \"feel\", \"few_day\", \"finally\", \"find\", \"fine\", \"first\", \"fix\", \"follow\", \"force\", \"forever\", \"frustrating\", \"function\", \"functionality\", \"fund\", \"get\", \"get_verify\", \"give\", \"go\", \"good\", \"great\", \"guess\", \"guy\", \"help\", \"here\", \"high_fee\", \"hold\", \"hope\", \"horrible\", \"hour\", \"however\", \"info\", \"information\", \"instal\", \"instead\", \"issue\", \"issue\", \"job\", \"joke\", \"just\", \"just_get\", \"keep\", \"keep_crash\", \"keep_say\", \"know\", \"kraken\", \"launch\", \"least\", \"let\", \"let_buy\", \"lie\", \"list\", \"load\", \"log\", \"login\", \"long\", \"look\", \"lose\", \"lose_money\", \"lot\", \"make\", \"make\", \"make_account\", \"make_promise\", \"market\", \"marketing\", \"maybe\", \"message\", \"minute\", \"miss\", \"mobile_app\", \"money\", \"month\", \"more\", \"much\", \"name\", \"need\", \"never\", \"new\", \"nice\", \"now\", \"obviously\", \"old\", \"one\", \"only\", \"only\", \"open\", \"open_app\", \"option\", \"order\", \"other\", \"own\", \"password\", \"pay\", \"payment\", \"people\", \"perfect\", \"phone\", \"pin\", \"platform\", \"play\", \"portfolio\", \"price\", \"problem\", \"process\", \"promise\", \"promise_list\", \"provide\", \"purchase\", \"put\", \"quite\", \"rate\", \"really\", \"reason\", \"receive\", \"refuse\", \"register\", \"remove\", \"reply\", \"require\", \"reset_password\", \"response\", \"review\", \"right\", \"run\", \"same\", \"same_problem\", \"say\", \"second\", \"security\", \"see\", \"seem\", \"send\", \"server\", \"service\", \"set\", \"several\", \"several_time\", \"shame\", \"shib\", \"shiba\", \"shibarmy\", \"show\", \"sign\", \"simply\", \"site\", \"slow\", \"so\", \"sorry\", \"star\", \"start\", \"stay_away\", \"stick\", \"still\", \"still\", \"such\", \"suck\", \"support\", \"system\", \"take\", \"tell\", \"terrible\", \"terrible_app\", \"then\", \"there\", \"thing\", \"think\", \"time\", \"time_try\", \"today\", \"token\", \"too_much\", \"top\", \"trade\", \"trading\", \"transaction\", \"transfer\", \"trust\", \"trust_app\", \"try\", \"unable\", \"understand\", \"uninstall\", \"unreliable\", \"update\", \"update_app\", \"upload\", \"use\", \"use\", \"use_app\", \"use_good\", \"useless\", \"value\", \"verification\", \"verification_process\", \"verify\", \"very\", \"very_disappointed\", \"wait\", \"wallet\", \"want\", \"want_buy\", \"waste\", \"waste_time\", \"way\", \"web\", \"website\", \"well\", \"whole\", \"wish\", \"withdraw\", \"withdraw_fund\", \"withdrawal\", \"word\", \"work\", \"write\", \"wrong\", \"year\", \"yet\"]}, \"R\": 30, \"lambda.step\": 0.01, \"plot.opts\": {\"xlab\": \"PC1\", \"ylab\": \"PC2\"}, \"topic.order\": [5, 1, 4, 8, 10, 7, 2, 9, 6, 3]};\n",
       "\n",
       "function LDAvis_load_lib(url, callback){\n",
       "  var s = document.createElement('script');\n",
       "  s.src = url;\n",
       "  s.async = true;\n",
       "  s.onreadystatechange = s.onload = callback;\n",
       "  s.onerror = function(){console.warn(\"failed to load library \" + url);};\n",
       "  document.getElementsByTagName(\"head\")[0].appendChild(s);\n",
       "}\n",
       "\n",
       "if(typeof(LDAvis) !== \"undefined\"){\n",
       "   // already loaded: just create the visualization\n",
       "   !function(LDAvis){\n",
       "       new LDAvis(\"#\" + \"ldavis_el16181139904920796736893880168\", ldavis_el16181139904920796736893880168_data);\n",
       "   }(LDAvis);\n",
       "}else if(typeof define === \"function\" && define.amd){\n",
       "   // require.js is available: use it to load d3/LDAvis\n",
       "   require.config({paths: {d3: \"https://d3js.org/d3.v5\"}});\n",
       "   require([\"d3\"], function(d3){\n",
       "      window.d3 = d3;\n",
       "      LDAvis_load_lib(\"https://cdn.jsdelivr.net/gh/bmabey/pyLDAvis@3.3.1/pyLDAvis/js/ldavis.v3.0.0.js\", function(){\n",
       "        new LDAvis(\"#\" + \"ldavis_el16181139904920796736893880168\", ldavis_el16181139904920796736893880168_data);\n",
       "      });\n",
       "    });\n",
       "}else{\n",
       "    // require.js not available: dynamically load d3 & LDAvis\n",
       "    LDAvis_load_lib(\"https://d3js.org/d3.v5.js\", function(){\n",
       "         LDAvis_load_lib(\"https://cdn.jsdelivr.net/gh/bmabey/pyLDAvis@3.3.1/pyLDAvis/js/ldavis.v3.0.0.js\", function(){\n",
       "                 new LDAvis(\"#\" + \"ldavis_el16181139904920796736893880168\", ldavis_el16181139904920796736893880168_data);\n",
       "            })\n",
       "         });\n",
       "}\n",
       "</script>"
      ],
      "text/plain": [
       "PreparedData(topic_coordinates=              x         y  topics  cluster       Freq\n",
       "topic                                                \n",
       "4     -0.399538 -0.245171       1        1  21.448006\n",
       "0     -0.092329  0.415798       2        1  18.377888\n",
       "3     -0.372599  0.256932       3        1  16.832046\n",
       "7      0.246120 -0.340723       4        1   8.989387\n",
       "9      0.390776 -0.088321       5        1   8.222512\n",
       "6      0.352822  0.172481       6        1   6.960292\n",
       "1      0.162273  0.319334       7        1   5.661957\n",
       "8     -0.059589 -0.395783       8        1   5.280723\n",
       "5     -0.242422  0.002131       9        1   5.084335\n",
       "2      0.014487 -0.096678      10        1   3.142853, topic_info=                Term         Freq        Total Category  logprob  loglift\n",
       "45               app  1441.000000  1441.000000  Default  30.0000  30.0000\n",
       "122              use   598.000000   598.000000  Default  29.0000  29.0000\n",
       "649              lie   352.000000   352.000000  Default  28.0000  28.0000\n",
       "14              just   565.000000   565.000000  Default  27.0000  27.0000\n",
       "10                go   578.000000   578.000000  Default  26.0000  26.0000\n",
       "...              ...          ...          ...      ...      ...      ...\n",
       "1400      unreliable    25.839106    26.756625  Topic10  -4.5562   3.4251\n",
       "1401   withdraw_fund    25.084607    26.002426  Topic10  -4.5858   3.4241\n",
       "1857       disappear    22.565799    23.483270  Topic10  -4.6916   3.4202\n",
       "1135         perfect    22.233781    23.151765  Topic10  -4.7065   3.4196\n",
       "2315  account_verify    19.736687    20.654990  Topic10  -4.8256   3.4146\n",
       "\n",
       "[339 rows x 6 columns], token_table=      Topic      Freq        Term\n",
       "term                             \n",
       "797       5  0.983253        able\n",
       "2114      5  0.987512       about\n",
       "209       7  0.985067    absolute\n",
       "999       8  0.970915  absolutely\n",
       "136       4  0.991110      accept\n",
       "...     ...       ...         ...\n",
       "208       3  0.996644        work\n",
       "540       7  0.983089       write\n",
       "155       4  0.987267       wrong\n",
       "432       9  0.980426        year\n",
       "1750      9  0.991225         yet\n",
       "\n",
       "[317 rows x 3 columns], R=30, lambda_step=0.01, plot_opts={'xlab': 'PC1', 'ylab': 'PC2'}, topic_order=[5, 1, 4, 8, 10, 7, 2, 9, 6, 3])"
      ]
     },
     "execution_count": 16,
     "metadata": {},
     "output_type": "execute_result"
    }
   ],
   "source": [
    "# Visualising the data\n",
    "pyLDAvis.enable_notebook()\n",
    "vis = pyLDAvis.gensim_models.prepare(lda_model, corpus, id2word, mds=\"mmds\", R=30)\n",
    "vis"
   ]
  },
  {
   "cell_type": "code",
   "execution_count": 57,
   "metadata": {},
   "outputs": [],
   "source": [
    "# Save the model into memory\n",
    "lda_model.save(f\"models/{csv_file[:-4]}.model\");"
   ]
  }
 ],
 "metadata": {
  "kernelspec": {
   "display_name": "Python 3.9.12 ('base')",
   "language": "python",
   "name": "python3"
  },
  "language_info": {
   "codemirror_mode": {
    "name": "ipython",
    "version": 3
   },
   "file_extension": ".py",
   "mimetype": "text/x-python",
   "name": "python",
   "nbconvert_exporter": "python",
   "pygments_lexer": "ipython3",
   "version": "3.9.12"
  },
  "orig_nbformat": 4,
  "vscode": {
   "interpreter": {
    "hash": "2f394aca7ca06fed1e6064aef884364492d7cdda3614a461e02e6407fc40ba69"
   }
  }
 },
 "nbformat": 4,
 "nbformat_minor": 2
}
