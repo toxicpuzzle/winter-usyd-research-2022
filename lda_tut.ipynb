{
 "cells": [
  {
   "cell_type": "code",
   "execution_count": 1,
   "metadata": {},
   "outputs": [],
   "source": [
    "import numpy as np\n",
    "import json\n",
    "import glob\n",
    "import pandas\n",
    "\n",
    "# Gensim\n",
    "import gensim\n",
    "import gensim.corpora as corpora\n",
    "from gensim.utils import simple_preprocess\n",
    "from gensim.models import CoherenceModel\n",
    "\n",
    "# Spacy\n",
    "import spacy\n",
    "from nltk.corpus import stopwords\n",
    "\n",
    "# Vis\n",
    "import pyLDAvis\n",
    "import pyLDAvis.gensim_models\n",
    "import warnings\n",
    "warnings.filterwarnings(\"ignore\", category=DeprecationWarning)\n"
   ]
  },
  {
   "cell_type": "code",
   "execution_count": 2,
   "metadata": {},
   "outputs": [],
   "source": [
    "def load_data(file):\n",
    "    with open(file, \"r\", encoding=\"utf-8\") as f:\n",
    "        data = json.load(f)\n",
    "    return (data);\n",
    "\n",
    "def write_data(file, data):\n",
    "    with open(file, \"w\", encoding=\"utf-8\") as f:\n",
    "        json.dump(data, f, indent=4);\n"
   ]
  },
  {
   "cell_type": "code",
   "execution_count": 3,
   "metadata": {},
   "outputs": [
    {
     "name": "stdout",
     "output_type": "stream",
     "text": [
      "['i', 'me', 'my', 'myself', 'we', 'our', 'ours', 'ourselves', 'you', \"you're\", \"you've\", \"you'll\", \"you'd\", 'your', 'yours', 'yourself', 'yourselves', 'he', 'him', 'his', 'himself', 'she', \"she's\", 'her', 'hers', 'herself', 'it', \"it's\", 'its', 'itself', 'they', 'them', 'their', 'theirs', 'themselves', 'what', 'which', 'who', 'whom', 'this', 'that', \"that'll\", 'these', 'those', 'am', 'is', 'are', 'was', 'were', 'be', 'been', 'being', 'have', 'has', 'had', 'having', 'do', 'does', 'did', 'doing', 'a', 'an', 'the', 'and', 'but', 'if', 'or', 'because', 'as', 'until', 'while', 'of', 'at', 'by', 'for', 'with', 'about', 'against', 'between', 'into', 'through', 'during', 'before', 'after', 'above', 'below', 'to', 'from', 'up', 'down', 'in', 'out', 'on', 'off', 'over', 'under', 'again', 'further', 'then', 'once', 'here', 'there', 'when', 'where', 'why', 'how', 'all', 'any', 'both', 'each', 'few', 'more', 'most', 'other', 'some', 'such', 'no', 'nor', 'not', 'only', 'own', 'same', 'so', 'than', 'too', 'very', 's', 't', 'can', 'will', 'just', 'don', \"don't\", 'should', \"should've\", 'now', 'd', 'll', 'm', 'o', 're', 've', 'y', 'ain', 'aren', \"aren't\", 'couldn', \"couldn't\", 'didn', \"didn't\", 'doesn', \"doesn't\", 'hadn', \"hadn't\", 'hasn', \"hasn't\", 'haven', \"haven't\", 'isn', \"isn't\", 'ma', 'mightn', \"mightn't\", 'mustn', \"mustn't\", 'needn', \"needn't\", 'shan', \"shan't\", 'shouldn', \"shouldn't\", 'wasn', \"wasn't\", 'weren', \"weren't\", 'won', \"won't\", 'wouldn', \"wouldn't\"]\n"
     ]
    }
   ],
   "source": [
    "# Stop words are basically words that are not really useful in the topic model\n",
    "# i.e. words that you want to eliminate from consideration\n",
    "stopwords = stopwords.words(\"english\")\n",
    "print(stopwords)"
   ]
  },
  {
   "cell_type": "code",
   "execution_count": 4,
   "metadata": {},
   "outputs": [
    {
     "name": "stdout",
     "output_type": "stream",
     "text": [
      " My name David Kochalski. I was born in a small town called , and I was born May 5, 1928. \n"
     ]
    }
   ],
   "source": [
    "data = load_data(\"ushmm_dn.json\")[\"texts\"]\n",
    "print(data[0][0:90]) # Prints out first text, char 0-89"
   ]
  },
  {
   "cell_type": "code",
   "execution_count": 6,
   "metadata": {},
   "outputs": [
    {
     "name": "stdout",
     "output_type": "stream",
     "text": [
      "name bear small town call bear very hard work child father mother small mill flour buckwhe\n"
     ]
    }
   ],
   "source": [
    "# Reducing words to their root form (lemma) using spacy or nltk to grab roots\n",
    "# Specify allowed_postags for spacy\n",
    "\n",
    "# Takes a list of texts i.e. [text1, text2...] and returns lemmatised [text1..]\n",
    "# Allowed_post_tages -> Basically default arguments in python \n",
    "# This is a list initalised that is used to filter tokens \n",
    "# pos_ tag marks category of word token belongs to i.e. only append nouns,adj,verbs,and adverbs \n",
    "# e.g. conjunctions (but, and, because), and pronouns (he/she) is ignored\n",
    "def lemmatization(texts, allowed_postags=[\"NOUN\", \"ADJ\", \"VERB\", \"ADV\"]):\n",
    "\n",
    "    # Spacy load creates an an nlp parser i.e. function pointer \n",
    "    spacy.load\n",
    "    nlp = spacy.load(\"en_core_web_sm\", disable=[\"parser\", \"ner\"])\n",
    "    texts_out = []\n",
    "\n",
    "    for text in texts:\n",
    "        doc = nlp(text) # Create document from the raw text/string\n",
    "        new_text = []\n",
    "        for token in doc:\n",
    "            if token.pos_ in allowed_postags and token.pos_ not in stopwords:\n",
    "               new_text.append(token.lemma_) # Appends only lemma to new_text\n",
    "        final = \" \".join(new_text)\n",
    "        texts_out.append(final)\n",
    "    return (texts_out);\n",
    "\n",
    "lemmatized_texts = lemmatization(data)\n",
    "print(lemmatized_texts[0][0:90])"
   ]
  },
  {
   "cell_type": "code",
   "execution_count": 7,
   "metadata": {},
   "outputs": [
    {
     "name": "stdout",
     "output_type": "stream",
     "text": [
      "['name', 'bear', 'small', 'town', 'call', 'bear', 'very', 'hard', 'work', 'child', 'father', 'mother', 'small', 'mill', 'flour', 'buckwheat', 'prosperous', 'comfortable', 'go', 'school']\n"
     ]
    }
   ],
   "source": [
    "# Simple preprocess converts documents to list of lower case tokens ignoring ones\n",
    "# which are too short or too long.\n",
    "def gen_words(texts):\n",
    "    final = []\n",
    "    for text in texts:\n",
    "        new = gensim.utils.simple_preprocess(text, deacc=True);\n",
    "        final.append(new)\n",
    "    return (final)\n",
    "\n",
    "data_words = gen_words(lemmatized_texts)\n",
    "\n",
    "print(data_words[0][0:20])\n"
   ]
  },
  {
   "cell_type": "code",
   "execution_count": 8,
   "metadata": {},
   "outputs": [
    {
     "name": "stdout",
     "output_type": "stream",
     "text": [
      "['name_bear', 'small_town', 'very_hard', 'public_school', 'morning_afternoon', 'late_night', 'small_town', 'small_town', 'other_word', 'non_jewish', 'very_much', 'public_school', 'more_less', 'other_word', 'other_word', 'other_word', 'polish_government', 'soon_later', 'few_day', 'about_week', 'very_anxious', 'other_word', 'very_friendly', 'so_kind_of', 'more_less', 'german_occupation', 'concentration_camp_so', 'little_town', 'little_town', 'young_man', 'sudden_hear', 'very_anxious', 'tough_tough', 'very_heavy', 'kind_of', 'other_word', 'walk_street', 'kind_of', 'turn_around', 'very_hard', 'very_hard', 'brother_sister', 'all_over', 'year_old', 'little_boy', 'dig_ditch', 'able_bodied', 'stand_line', 'all_over', 'funny_thing', 'jewish_holiday', 'no_matter', 'down_there', 'water_drink', 'very_dangerous', 'run_away', 'jewish_quarter', 'very_much', 'very_much', 'make_difference', 'stand_line', 'later_on', 'as_soon', 'middle_night', 'german_soldier', 'little_bit', 'few_day_later', 'year_later', 'about_hour', 'uncle_aunt', 'about_week', 'very_depressed', 'german_soldier', 'of_sudden', 'german_soldier', 'year_old', 'year_old', 'other_one', 'more_less', 'too_much', 'brother_sister', 'leave_behind', 'old_brother', 'take_care', 'about_year_old', 'over_there', 'old_brother', 'later_on', 'exact_date', 'over_there', 'take_care', 'run_away', 'down_there', 'down_there', 'speak_yiddish', 'quite_bit', 'certain_area', 'brother_sister', 'little_girl', 'year_old', 'little_bit', 'very_happy', 'young_kid', 'very_often', 'very_often', 'down_there', 'more_less', 'many_many', 'run_away', 'too_many', 'short_time', 'enough_eat', 'once_while', 'very_nice', 'brother_sister', 'once_while', 'very_nice', 'down_there', 'year_old', 'very_nice', 'completely_different', 'more_less', 'money_buy', 'other_word', 'all_together', 'later_on', 'other_side', 'read_newspaper', 'chief_rabbi', 'other_word', 'give_lecture', 'very_much', 'public_school', 'certain_amount', 'chief_rabbi', 'singe_song', 'very_often', 'year_half', 'very_nice', 'human_being', 'die_starvation', 'die_starvation', 'wife_child', 'cabinet_maker', 'strong_enough', 'few_dollar', 'sleep_floor', 'ask_question', 'horse_buggy', 'down_there', 'little_bit', 'same_thing', 'same_thing', 'right_away', 'kind_of', 'take_advantage', 'very_nice', 'very_happy', 'down_there', 'too_much', 'very_nice', 'very_nice', 'down_there', 'very_nice', 'of_sudden', 'run_away', 'kind_of', 'machine_gun', 'down_there', 'kind_of', 'run_away', 'full_blood', 'hear_shooting', 'down_there', 'sure_enough', 'full_blood', 'couple_hour', 'of_sudden', 'ss_man', 'open_door', 'look_window', 'ss_man', 'turn_around', 'little_boy', 'never_forget', 'start_cry', 'other_side', 'other_one', 'run_around', 'so_kind_of', 'enough_space', 'close_close', 'very_fast', 'look_around', 'little_girl', 'about_hour', 'still_alive', 'make_sure', 'horse_buggy', 'down_there', 'year_ago', 'too_far', 'little_boy', 'take_care', 'hour_later', 'couple_week', 'down_there', 'same_thing', 'whole_family', 'of_course', 'few_week', 'bucket_water', 'bucket_water', 'first_class', 'smart_enough', 'ss_man', 'so_kind_of', 'jump_train', 'as_far', 'couple_hour', 'other_word', 'austrian_army', 'down_there', 'local_population', 'human_being', 'very_angry', 'jump_train', 'piece_bread', 'quite_bit', 'jump_train', 'underground_activity', 'down_there', 'down_there', 'few_month', 'polish_army', 'young_kid', 'other_side', 'russian_side', 'russian_side', 'german_army', 'other_side', 'very_hard', 'german_army', 'very_hard', 'completely_destroy', 'pretty_good', 'brother_sister', 'will_live', 'village_village', 'all_right', 'very_fast', 'risk_life', 'funny_thing', 'human_being', 'tell_truth', 'get_marry', 'in_law', 'year_later', 'village_village', 'certain_area', 'bad_bad', 'pay_attention', 'up_there', 'piece_bread', 'german_soldier', 'little_boy', 'never_forget', 'very_hard', 'believe_believe', 'take_away', 'get_rid']\n"
     ]
    }
   ],
   "source": [
    "# BIGRAMS AND TRIGRAMS\n",
    "\n",
    "# min_count - ignore all words/bigrams with total collected count lower than this value.\n",
    "# threshold - score for forming phrases play around with this -> related to scoring function\n",
    "bigrams_phrases = gensim.models.Phrases(data_words, min_count=5, threshold=10) \n",
    "\n",
    "# First arg checks ensures no overlap between bigraph phrases and trigram phrases.\n",
    "trigram_phrases = gensim.models.Phrases(bigrams_phrases[data_words], threshold=10)\n",
    "\n",
    "# Create function pointer i.e. phraser that converts document to list of bigram\n",
    "bigram = gensim.models.phrases.Phraser(bigrams_phrases)\n",
    "trigram = gensim.models.phrases.Phraser(trigram_phrases)\n",
    "\n",
    "def make_bigrams(texts):\n",
    "    return([bigram[doc] for doc in texts])\n",
    "\n",
    "def make_trigrams(texts):\n",
    "    return ([trigram[bigram[doc]] for doc in texts])\n",
    "\n",
    "data_bigrams = make_bigrams(data_words)\n",
    "data_bigrams_trigrams = make_trigrams(data_bigrams)\n",
    "\n",
    "# print(data_bigrams_trigrams[0])\n",
    "\n",
    "new_words = []\n",
    "for word in data_bigrams_trigrams[0]:\n",
    "    if '_' in word:\n",
    "        new_words.append(word)\n",
    "print(new_words)\n"
   ]
  },
  {
   "cell_type": "code",
   "execution_count": 9,
   "metadata": {},
   "outputs": [
    {
     "name": "stdout",
     "output_type": "stream",
     "text": [
      "[(0, 1), (1, 1), (2, 5), (3, 2), (4, 2), (5, 1), (6, 1), (7, 2), (8, 1), (9, 2), (10, 3), (11, 12), (12, 8), (13, 1), (14, 1), (15, 1), (16, 3), (17, 2), (18, 1), (19, 2)]\n"
     ]
    }
   ],
   "source": [
    "# TF-IDF Removal - to remove words that are not important to the topic\n",
    "from gensim.models import TfidfModel\n",
    "\n",
    "id2word = corpora.Dictionary(data_bigrams_trigrams)\n",
    "\n",
    "texts = data_bigrams_trigrams\n",
    "\n",
    "corpus = [id2word.doc2bow(text) for text in texts]\n",
    "print(corpus[0][0:20])\n",
    "\n",
    "tfidf = TfidfModel(corpus, id2word=id2word)\n",
    "\n",
    "# Goes through words and looks at words that occur too frequentely and removes them\n",
    "# Corpus becomes new corpus where those irrelevant words are removed\n",
    "low_value = 0.03\n",
    "words = []\n",
    "words_missing_in_tfidf = []\n",
    "for i in range(0, len(corpus)):\n",
    "    bow = corpus[i]\n",
    "    low_value_words = []\n",
    "    tfidf_ids = [id for id, value in tfidf[bow]]\n",
    "    bow_ids = [id for id, value in bow]\n",
    "    low_value_words = [id for id, value in tfidf[bow] if value < low_value]\n",
    "    drops = low_value_words + words_missing_in_tfidf\n",
    "    for item in drops:\n",
    "        words.append(id2word[item])\n",
    "    words_missing_in_tfidf = [id for id in bow_ids if id not in tfidf_ids]\n",
    "\n",
    "    new_bow = [b for b in bow if b[0] not in low_value_words and b[0] not in words_missing_in_tfidf]\n",
    "    corpus[i] = new_bow\n",
    "\n",
    "\n"
   ]
  },
  {
   "cell_type": "code",
   "execution_count": 12,
   "metadata": {},
   "outputs": [
    {
     "name": "stdout",
     "output_type": "stream",
     "text": [
      "[(0, 2), (1, 10), (2, 1), (3, 2), (4, 1), (5, 1), (6, 2), (7, 3), (8, 1), (9, 12), (10, 1), (11, 8), (12, 1), (13, 2), (14, 1), (15, 3), (16, 2), (17, 1), (18, 2), (19, 1)]\n",
      "able\n"
     ]
    }
   ],
   "source": [
    "# id2word = corpora.Dictionary(data_words)\n",
    "# corpus = []\n",
    "# for text in data_words:\n",
    "#     new = id2word.doc2bow(text) # Create a bag of words all (word: f pairs) for 1 doc\n",
    "#     corpus.append(new)\n",
    "\n",
    "# print(corpus[0][0:20])\n",
    "# #(0,2) - 0 = index of word in the dictionary, 2 = frequency of word in that text\n",
    "\n",
    "# word = id2word[[0][:1][0]] # i.e. text 1 -> first tuple -> first value in tuple\n",
    "# print(word) # i.e. able is the first element in teh dictionary "
   ]
  },
  {
   "cell_type": "code",
   "execution_count": 10,
   "metadata": {},
   "outputs": [],
   "source": [
    "lda_model = gensim.models.LdaModel(corpus=corpus\n",
    "                                    ,id2word=id2word\n",
    "                                    ,num_topics=5\n",
    "                                    ,random_state=100\n",
    "                                    ,update_every=1\n",
    "                                    ,chunksize=100\n",
    "                                    ,passes=10\n",
    "                                    ,alpha=\"auto\")"
   ]
  },
  {
   "cell_type": "markdown",
   "metadata": {},
   "source": [
    "### Idea\n",
    "I think I can separate the review data set into one star vs 5 star reviews and look at if there are any differences in the topics that are mentioned."
   ]
  },
  {
   "cell_type": "code",
   "execution_count": 12,
   "metadata": {},
   "outputs": [
    {
     "name": "stderr",
     "output_type": "stream",
     "text": [
      "/root/miniconda3/lib/python3.9/site-packages/pyLDAvis/_prepare.py:246: FutureWarning: In a future version of pandas all arguments of DataFrame.drop except for the argument 'labels' will be keyword-only.\n",
      "  default_term_info = default_term_info.sort_values(\n",
      "/root/miniconda3/lib/python3.9/site-packages/past/builtins/misc.py:45: DeprecationWarning: the imp module is deprecated in favour of importlib; see the module's documentation for alternative uses\n",
      "  from imp import reload\n",
      "/root/miniconda3/lib/python3.9/site-packages/past/builtins/misc.py:45: DeprecationWarning: the imp module is deprecated in favour of importlib; see the module's documentation for alternative uses\n",
      "  from imp import reload\n",
      "/root/miniconda3/lib/python3.9/site-packages/past/builtins/misc.py:45: DeprecationWarning: the imp module is deprecated in favour of importlib; see the module's documentation for alternative uses\n",
      "  from imp import reload\n",
      "/root/miniconda3/lib/python3.9/site-packages/past/builtins/misc.py:45: DeprecationWarning: the imp module is deprecated in favour of importlib; see the module's documentation for alternative uses\n",
      "  from imp import reload\n"
     ]
    },
    {
     "data": {
      "text/html": [
       "\n",
       "<link rel=\"stylesheet\" type=\"text/css\" href=\"https://cdn.jsdelivr.net/gh/bmabey/pyLDAvis@3.3.1/pyLDAvis/js/ldavis.v1.0.0.css\">\n",
       "\n",
       "\n",
       "<div id=\"ldavis_el322981402852132048807286639362\"></div>\n",
       "<script type=\"text/javascript\">\n",
       "\n",
       "var ldavis_el322981402852132048807286639362_data = {\"mdsDat\": {\"x\": [-0.10602119334459298, -0.06522437253000572, -0.21257397865138727, 0.2082932360990878, 0.17552630842689818], \"y\": [0.23394899684840273, -0.21734558754148645, -0.005594941615918342, -0.15803739538729328, 0.14702892769629536], \"topics\": [1, 2, 3, 4, 5], \"cluster\": [1, 1, 1, 1, 1], \"Freq\": [28.397679240753654, 26.3028968856992, 17.741018835642866, 14.990285722365734, 12.568119315538553]}, \"tinfo\": {\"Term\": [\"use\", \"remember\", \"kill\", \"ghetto\", \"camp\", \"course\", \"sister\", \"prisoner\", \"brother\", \"really\", \"husband\", \"over_there\", \"indecipherable\", \"also\", \"just\", \"maybe\", \"able\", \"girl\", \"child\", \"partisan\", \"fight\", \"hungarian\", \"so_on\", \"trial\", \"apartment\", \"case\", \"survive\", \"boy\", \"shoot\", \"walk\", \"use\", \"shoot\", \"eat\", \"afraid\", \"run\", \"father\", \"bread\", \"lot\", \"couple\", \"horse\", \"piece\", \"clean\", \"later\", \"carry\", \"too_many\", \"fix\", \"beginning\", \"barber\", \"window\", \"die\", \"sit\", \"naked\", \"ice\", \"touch\", \"run_run\", \"finish\", \"drag\", \"liberation\", \"cut_hair\", \"hard\", \"boy\", \"kill\", \"over_there\", \"walk\", \"sleep\", \"burn\", \"brother\", \"water\", \"soldier\", \"run_away\", \"wood\", \"soup\", \"army\", \"take_away\", \"woman\", \"lay\", \"town\", \"barrack\", \"right_away\", \"group\", \"camp\", \"clothe\", \"guy\", \"ghetto\", \"partisan\", \"girl\", \"no\", \"polish\", \"farmer\", \"city\", \"escape\", \"transport\", \"book\", \"rather\", \"have\", \"apply\", \"certainly\", \"ever\", \"trip\", \"southern_part\", \"college\", \"bulgarian\", \"set\", \"duty\", \"anti_jewish\", \"false_paper\", \"canadian\", \"disease\", \"simply\", \"attempt\", \"immigrant\", \"western\", \"become\", \"austrian\", \"relationship\", \"degree\", \"get_permission\", \"literature\", \"pastor\", \"stateless\", \"restriction\", \"academic\", \"refugee\", \"service\", \"course\", \"especially\", \"really\", \"french\", \"visa\", \"examination\", \"household\", \"manage\", \"parent\", \"country\", \"dutch\", \"very_difficult\", \"ship\", \"prison\", \"boat\", \"system\", \"eventually\", \"arrest\", \"large\", \"so_on\", \"point\", \"sort_of\", \"actually\", \"paper\", \"perhaps\", \"guess\", \"ph\", \"later_on\", \"able\", \"mother\", \"sort\", \"camp\", \"prisoner\", \"area\", \"kid\", \"apartment\", \"guy\", \"remember\", \"just\", \"feel\", \"already\", \"too_much\", \"learn\", \"flower\", \"real\", \"eye\", \"mean\", \"ballet\", \"as\", \"meet\", \"keep\", \"aunt_uncle\", \"reason\", \"knit\", \"hardly\", \"change\", \"choose\", \"hurt\", \"by\", \"canary\", \"rash\", \"grand_piano\", \"big_city\", \"am\", \"hour\", \"dormitory\", \"pity\", \"age\", \"kind\", \"friend\", \"owner\", \"sister\", \"uncle\", \"neighbor\", \"ground\", \"restaurant\", \"always\", \"glove\", \"save\", \"love\", \"empty\", \"take_care\", \"relative\", \"girl\", \"horrible\", \"religious\", \"anyway\", \"pick\", \"city\", \"grandmother\", \"ss_man\", \"building\", \"dog\", \"wonderful\", \"ghetto\", \"apartment\", \"wife\", \"police\", \"aunt\", \"factory\", \"maybe\", \"mother\", \"hide\", \"sort_of\", \"barrack\", \"memory\", \"probably\", \"also\", \"arrive\", \"polish\", \"brother\", \"camp\", \"really\", \"actually\", \"trial\", \"follow_transcript\", \"interview_interview_part_collection\", \"oral_testimony_information_access\", \"primary_source_document_transcript\", \"result_recorded_interview_recording\", \"usage_right\", \"find_catalog_record\", \"court\", \"try\", \"war_crime\", \"problem\", \"crime\", \"sentence\", \"defendant\", \"restitution\", \"judge\", \"that_is\", \"clerk\", \"fraternity\", \"parole\", \"chain\", \"high\", \"second\", \"main\", \"seize\", \"claimant\", \"prosecutor\", \"order\", \"gro\", \"different\", \"case\", \"witness\", \"evidence\", \"claim\", \"tank\", \"division\", \"certain\", \"victim\", \"prisoner\", \"part\", \"also\", \"fight\", \"organization\", \"special\", \"maybe\", \"recall\", \"camp\", \"understand\", \"begin\", \"ghetto\", \"guard\", \"partisan\", \"polish\", \"so_on\", \"escape\", \"underground\", \"guy\", \"indecipherable\", \"bad\", \"shutzpass\", \"nice\", \"diplomat\", \"legation\", \"aryan_side\", \"month\", \"album\", \"lose\", \"resistor\", \"married\", \"statue\", \"conservatory\", \"spanish_government\", \"swedish_government\", \"swedish_passport\", \"huginal\", \"giant\", \"hungarian_government\", \"whole\", \"in\", \"musician\", \"swedish_house\", \"gold_tooth\", \"photography\", \"forbid\", \"thin\", \"terrific\", \"faculty\", \"hungarian\", \"morning\", \"protection\", \"swedish\", \"passport\", \"embassy\", \"violin\", \"therefore\", \"person\", \"orchestra\", \"christian\", \"husband\", \"child\", \"car\", \"survive\", \"very_much\", \"travel\", \"spanish\", \"able\", \"ghetto\", \"arrive\", \"remain\", \"play\", \"situation\", \"terrible\", \"hiding\", \"apartment\", \"hospital\", \"community\", \"stand\", \"romanian\", \"hide\", \"so_on\", \"paper\", \"group\", \"transport\", \"town\", \"begin\", \"underground\"], \"Freq\": [1620.0, 1003.0, 1327.0, 2263.0, 1996.0, 1172.0, 745.0, 701.0, 866.0, 757.0, 645.0, 747.0, 286.0, 644.0, 287.0, 547.0, 405.0, 733.0, 323.0, 454.0, 282.0, 189.0, 569.0, 181.0, 420.0, 186.0, 227.0, 286.0, 249.0, 299.0, 1620.1546743266142, 249.2776110732125, 205.62977038186574, 200.4646677005605, 157.74240027810754, 131.3772018956614, 221.01069375783447, 118.98092346825942, 131.30749566245146, 186.42949913834914, 75.9111154096374, 111.3375027210626, 73.35999032134455, 63.87724787133193, 55.44909366906673, 56.47866642306026, 48.745627331110384, 77.00026146073347, 46.546537177606155, 42.09926411791467, 42.430608667682534, 41.22775470818526, 41.26752048385625, 37.885860700148044, 36.47393725989707, 41.05201563505863, 42.064610952993675, 35.56252979876728, 28.384744228468914, 39.63457045215048, 278.94699565227984, 1255.5808125030906, 695.7520763997675, 282.5267337264832, 86.92722272420203, 176.7120933920353, 769.4878097732593, 212.86819360746128, 155.22837391763957, 272.1817873104949, 359.16478117362436, 119.21393793221284, 262.96636488104457, 217.21867467121498, 281.2330647883088, 181.02207962551648, 403.8256693813299, 373.9768327801737, 166.24220485918673, 269.79654213921935, 866.2838170494354, 208.64767498592525, 322.33611732165457, 716.8315858545787, 266.9635528524906, 333.9142426771482, 243.5680245755721, 273.29344484502565, 196.20335893549566, 235.36939029706056, 202.69267086756608, 202.4415684666632, 134.00502616456743, 90.21014258477778, 76.0893236471121, 70.92485324888196, 76.02444594294954, 57.222374409414044, 50.529816109584395, 46.430830223839635, 58.91161089213019, 133.03469276892474, 34.192350827485136, 32.273589165299555, 32.241905367746305, 32.540015141721526, 30.109357851422608, 30.786641763058995, 117.34570820516458, 27.9271106515808, 30.112204264530135, 26.78224284020771, 68.13274708212501, 25.872986232726152, 25.9829848557784, 25.75688448967759, 24.530735770678444, 24.543756899708875, 24.04215850580034, 27.57107537362557, 23.82634255222367, 22.383057246539412, 192.43462164305737, 80.4815242740806, 1030.9286812573725, 76.100692203968, 665.538773471593, 156.94839228077828, 102.55403614103137, 58.749732899846855, 32.392394858337155, 127.4890366538003, 258.9433803507369, 82.00491089276977, 158.18424273814693, 73.11834078877301, 208.44991513046764, 176.3827094356692, 151.5852713101189, 85.7816708478405, 143.06186248926448, 222.202119296815, 91.78572199155873, 274.498666127052, 148.90636063879325, 178.35376076086715, 209.86693308636382, 160.81822624042405, 110.07011674363237, 152.1598763537313, 172.69941098485583, 146.0744445782041, 171.82374148219063, 171.46072266216677, 115.5490089429054, 317.6400542867315, 170.19047590946874, 137.9466159477367, 127.89132970633081, 127.42150913563373, 126.72929793844146, 1002.2875174332419, 286.40921918626105, 56.48095971005991, 53.48833038299155, 50.09492190920628, 42.822947414122105, 40.49667030364946, 40.44399385929474, 35.555477610229744, 72.03932133966133, 27.40147727696254, 24.47280918378741, 23.112340555353626, 21.158180917351025, 20.80344993857223, 19.582507585696312, 29.92352780539999, 17.023252997198195, 16.75065383900997, 34.988528400120835, 16.326924597492482, 16.38059076708772, 15.510834639192273, 15.38363861051437, 14.937718383846793, 22.591689346738676, 16.633078324029245, 13.520973786057327, 13.418747660389304, 13.43605632131892, 50.38303765300997, 28.298062646062444, 37.780318453430205, 26.497781260503558, 589.660940635649, 104.96458586613906, 68.69394240609178, 38.19986586558191, 69.51006023044245, 32.24255397736295, 35.31415376964198, 48.897292870685234, 74.61057754782362, 40.235840227738805, 66.8774833368927, 48.35734105898183, 303.6859859797764, 84.99655051141278, 61.42624198660939, 125.78729028468173, 65.5244155471021, 198.4297867000516, 85.0894270967019, 67.12893888906885, 131.7731639137252, 100.41593165568604, 122.48812671535306, 377.6013267083538, 138.56290199210272, 106.52662981642334, 95.46622155980809, 87.0186418150502, 113.92550053991837, 138.8183471939863, 118.04130466226844, 105.54534510649725, 98.99450171782591, 106.61773066166927, 69.61040876084836, 88.28322240294847, 99.05104097331353, 77.8652323082776, 89.82807011740327, 94.75440347963908, 102.92120105635605, 90.98674433917604, 81.3802674442417, 180.59944586265976, 133.296056935751, 133.296056935751, 133.296056935751, 133.296056935751, 133.296056935751, 133.296056935751, 125.46316198881188, 108.76545186877684, 81.19084061979507, 63.44166593627194, 68.45482418587505, 54.63293762022362, 54.10358421250343, 38.3382344639841, 35.33898734762966, 32.03048308232582, 27.176858977409932, 24.041735198137985, 23.879477901763764, 22.806708776478786, 21.41070787885844, 18.916076845954855, 17.949161514451514, 37.381747325762746, 16.38074792949066, 15.798331223721798, 15.71537658622519, 99.33679977619866, 15.786050248045745, 89.71260038561533, 175.71307573692098, 118.1789374516612, 82.90165538972373, 87.36996246195807, 122.87064363927418, 53.79712653493649, 166.0693709807657, 51.701589051656896, 493.6118356028304, 45.52156761138144, 389.1676243769571, 193.99280545741203, 145.6256823581023, 71.0891267567662, 308.5572421320218, 141.79474542001563, 706.9494299929535, 135.71166947885584, 160.50294365376675, 473.29746826839136, 147.9422027076787, 172.096080767269, 160.98546599729318, 159.58488591794514, 129.39677652229034, 123.84982208439719, 127.33585895193067, 284.8265254459203, 38.19144149260662, 31.714797618925875, 30.848367740078455, 31.013619574119147, 30.555467100965636, 25.724251177580708, 25.79911142924129, 25.019459865616753, 24.013640105599272, 22.02744049140452, 21.595322874259907, 20.267877409662276, 18.880238508432242, 18.512156317338906, 17.620044195969296, 15.7562259676186, 14.082068867529351, 14.080986521112624, 14.603339154803479, 14.22802226074349, 13.710433312728268, 12.280567925383503, 11.860778165853311, 11.871424642556214, 11.694507973171474, 17.063136802023152, 11.140667227406059, 10.724285157286017, 10.625684079443184, 175.75978129378737, 23.01676501974267, 52.194637938802316, 120.06430952666429, 128.98635107517512, 77.66144042782564, 37.622023807813555, 113.95059614742166, 99.94378643406874, 34.3590366256501, 55.767884146007226, 372.673169678353, 193.57716923541383, 78.1010718435538, 138.36765603353888, 60.086394613951526, 55.145977425050006, 66.48224779447325, 192.47568638946208, 694.7724491470141, 120.41250104964644, 93.93039499539944, 76.06849334504177, 109.92891816318327, 103.21838127101083, 64.87054548623425, 150.6743840675984, 99.67666061553639, 92.30629267311824, 75.0383555074198, 66.47111119863824, 116.73304602651483, 125.12113000944024, 95.98855771260723, 104.71597839952814, 99.97886807239104, 113.81228452834222, 77.51793899171405, 78.87231786406277], \"Total\": [1620.0, 1003.0, 1327.0, 2263.0, 1996.0, 1172.0, 745.0, 701.0, 866.0, 757.0, 645.0, 747.0, 286.0, 644.0, 287.0, 547.0, 405.0, 733.0, 323.0, 454.0, 282.0, 189.0, 569.0, 181.0, 420.0, 186.0, 227.0, 286.0, 249.0, 299.0, 1620.9004480299755, 249.99538482215547, 206.3362081688223, 201.17524799679268, 158.44996299525593, 132.09754319324696, 222.3072262479709, 119.68428435232528, 132.21568859084203, 187.94052330585876, 76.62329397964359, 112.39322079940949, 74.06394187368782, 64.66524452352017, 56.153025164870954, 57.26129872284778, 49.45114025511224, 78.11988651250402, 47.28618898876973, 42.804931438593215, 43.152165466509125, 41.935288105317156, 41.976922113985474, 38.58929560242075, 37.17891910771945, 41.885173060265984, 42.93765290110399, 36.329189486147975, 29.089891353506463, 40.62044465451191, 286.7561711316643, 1327.6391259927677, 747.9610206246607, 299.281866821456, 90.47625637039042, 188.23150382330365, 866.330288622956, 234.86995946442818, 169.40627356570425, 309.7914483502125, 422.9923795128426, 131.61457030208925, 319.34860689940314, 263.013220740164, 353.0864266786543, 215.33399285550144, 607.6954880407122, 564.4765693435277, 208.17387930053894, 393.0167556610263, 1996.7020401971763, 286.2632881020951, 608.8745740819908, 2263.8207670613074, 454.3386218650913, 733.4410390715292, 409.62208641379493, 550.9553503490916, 276.1206118435896, 489.79178567021677, 357.7149323815419, 389.7168881818137, 134.72967516057116, 90.94798537857608, 76.81312788484563, 71.73677797417457, 76.90148031693779, 57.93755301104046, 51.26464572748875, 47.147665746831336, 59.87365555946699, 135.78516464661146, 34.91464330129793, 32.992699792418, 32.960633343690304, 33.28517549213012, 30.823260112365958, 31.520546725454523, 120.15782030185822, 28.652821338728536, 30.906127543016083, 27.498833471176024, 69.98851606334834, 26.59116981560568, 26.704557312915952, 26.47895890387864, 25.248831792459995, 25.26421804595561, 24.754903173000898, 28.38936808717087, 24.543651994578042, 23.097649861315787, 202.60231149480651, 84.69250211539334, 1172.226563231019, 80.87884885152346, 757.4606008977233, 171.79320779582827, 110.73059665833517, 62.8307184135352, 33.64585380440603, 146.9166440212344, 315.2233653971933, 93.30079006491601, 199.8270579094264, 85.09987694402889, 286.84617971000165, 245.48623751938442, 205.27197392420578, 106.73115007076626, 198.39898935868217, 350.3912827502448, 117.81247848911947, 569.6128736733252, 245.11610195077822, 335.8949648852306, 436.0295611828909, 305.1778741773118, 165.02316969600096, 302.36276509505785, 385.0891274213935, 291.19304026817633, 405.66520344294224, 448.8389713830623, 190.47512600407484, 1996.7020401971763, 701.1737663641816, 402.56048322633416, 347.67602106483025, 420.72087346298605, 608.8745740819908, 1003.5663873880017, 287.10700747502483, 57.17347721143229, 54.21247307559831, 50.837946956688626, 43.51522520372924, 41.20241267542459, 41.169945103663785, 36.27545834611785, 73.51486918397607, 28.098488547660587, 25.16979232204007, 23.80439181928276, 21.88410848385659, 21.520315235631017, 20.275428877253802, 30.993350510700413, 17.717286549753187, 17.450452444506645, 36.47036365333142, 17.036501125748085, 17.09347721359982, 16.20251739907251, 16.077073982532696, 15.630199565586022, 23.66278581980309, 17.435855549955715, 14.21297195120992, 14.118588026911711, 14.139979899991786, 53.55246002453968, 30.040782665204063, 40.87921083165905, 28.385761970171313, 745.4079165783774, 124.96458870980868, 82.34794825376177, 43.91863768299761, 86.39423583086483, 36.77518966196745, 41.624711320698474, 61.876056309549725, 104.78543447104808, 49.022158482912005, 93.75893749741354, 62.12419424020123, 733.4410390715292, 135.34674351438707, 88.33382137837386, 246.85987494760533, 98.92243216638114, 489.79178567021677, 145.0270292835695, 104.37049631988664, 302.6165229664498, 203.98694537334876, 287.46785631795694, 2263.8207670613074, 420.72087346298605, 265.11833802781166, 217.25375819157028, 182.17798206872828, 337.0354445225682, 547.6086905937484, 448.8389713830623, 367.19276550955817, 335.8949648852306, 564.4765693435277, 128.11345785844395, 371.11312072346607, 644.8084317350532, 228.48595127668602, 550.9553503490916, 866.330288622956, 1996.7020401971763, 757.4606008977233, 436.0295611828909, 181.5086306959283, 134.04400010579286, 134.04400010579286, 134.04400010579286, 134.04400010579286, 134.04400010579286, 134.04400010579286, 126.21110707966226, 109.52522824397833, 81.94161733693022, 64.18901323981524, 69.33494435785968, 55.382818542290416, 54.86301415744741, 39.08553610248116, 36.0966208211218, 32.78308979744268, 27.92712618279755, 24.794647319551242, 24.628701192333004, 23.561743436537505, 22.165716101908423, 19.682149462358698, 18.755108346680867, 39.07143189318032, 17.12902922341464, 16.548756389678175, 16.46455517161888, 104.09303613957067, 16.547975295050236, 94.64685819067248, 186.93742672594834, 127.49284404398772, 89.05683811370626, 95.28086872955319, 137.74788221385268, 58.30359146682782, 197.92415233719709, 57.03253572383936, 701.1737663641816, 50.61088306568782, 644.8084317350532, 282.4251366945435, 206.62452533069091, 86.30517717495346, 547.6086905937484, 218.84233504514265, 1996.7020401971763, 208.3716539836408, 304.0079092454648, 2263.8207670613074, 329.1018636053936, 454.3386218650913, 550.9553503490916, 569.6128736733252, 357.7149323815419, 390.97281586791183, 608.8745740819908, 286.3546791889226, 38.907137612701646, 32.42383384322089, 31.561440553976137, 31.731564091937873, 31.265156314101063, 26.434409861395018, 26.511667669943602, 25.749022183767803, 24.72360001957651, 22.737317048619374, 22.317708626008372, 20.98658761044833, 19.592612292606304, 19.221715937825888, 18.334936382840024, 16.46890679169404, 14.791101451661662, 14.790604625350657, 15.339896636438553, 14.945693521448245, 14.425978897759885, 13.007098607939017, 12.573291929881199, 12.588378092236402, 12.4054080992284, 18.139089482711235, 11.857467264029435, 11.435412685827293, 11.338140418361782, 189.71677013139956, 24.739635668915184, 57.77464565531507, 142.76715483219704, 156.79086592276246, 92.1136600808266, 42.821661614026084, 141.12452131990594, 132.69249367935907, 40.137345617022845, 70.35930534697697, 645.1896106243447, 323.11713691903674, 111.95578851238886, 227.3357478199712, 83.69551584657779, 76.0998120652872, 99.52612097000264, 405.66520344294224, 2263.8207670613074, 228.48595127668602, 164.45217213063552, 125.72573319922415, 228.64335948853267, 209.49599692342503, 107.71764662934555, 420.72087346298605, 221.69735961319677, 195.7047397207696, 142.46423537923903, 122.80691795153504, 367.19276550955817, 569.6128736733252, 305.1778741773118, 393.0167556610263, 389.7168881818137, 607.6954880407122, 304.0079092454648, 390.97281586791183], \"Category\": [\"Default\", \"Default\", \"Default\", \"Default\", \"Default\", \"Default\", \"Default\", \"Default\", \"Default\", \"Default\", \"Default\", \"Default\", \"Default\", \"Default\", \"Default\", \"Default\", \"Default\", \"Default\", \"Default\", \"Default\", \"Default\", \"Default\", \"Default\", \"Default\", \"Default\", \"Default\", \"Default\", \"Default\", \"Default\", \"Default\", \"Topic1\", \"Topic1\", \"Topic1\", \"Topic1\", \"Topic1\", \"Topic1\", \"Topic1\", \"Topic1\", \"Topic1\", \"Topic1\", \"Topic1\", \"Topic1\", \"Topic1\", \"Topic1\", \"Topic1\", \"Topic1\", \"Topic1\", \"Topic1\", \"Topic1\", \"Topic1\", \"Topic1\", \"Topic1\", \"Topic1\", \"Topic1\", \"Topic1\", \"Topic1\", \"Topic1\", \"Topic1\", \"Topic1\", \"Topic1\", \"Topic1\", \"Topic1\", \"Topic1\", \"Topic1\", \"Topic1\", \"Topic1\", \"Topic1\", \"Topic1\", \"Topic1\", \"Topic1\", \"Topic1\", \"Topic1\", \"Topic1\", \"Topic1\", \"Topic1\", \"Topic1\", \"Topic1\", \"Topic1\", \"Topic1\", \"Topic1\", \"Topic1\", \"Topic1\", \"Topic1\", \"Topic1\", \"Topic1\", \"Topic1\", \"Topic1\", \"Topic1\", \"Topic1\", \"Topic1\", \"Topic1\", \"Topic1\", \"Topic2\", \"Topic2\", \"Topic2\", \"Topic2\", \"Topic2\", \"Topic2\", \"Topic2\", \"Topic2\", \"Topic2\", \"Topic2\", \"Topic2\", \"Topic2\", \"Topic2\", \"Topic2\", \"Topic2\", \"Topic2\", \"Topic2\", \"Topic2\", \"Topic2\", \"Topic2\", \"Topic2\", \"Topic2\", \"Topic2\", \"Topic2\", \"Topic2\", \"Topic2\", \"Topic2\", \"Topic2\", \"Topic2\", \"Topic2\", \"Topic2\", \"Topic2\", \"Topic2\", \"Topic2\", \"Topic2\", \"Topic2\", \"Topic2\", \"Topic2\", \"Topic2\", \"Topic2\", \"Topic2\", \"Topic2\", \"Topic2\", \"Topic2\", \"Topic2\", \"Topic2\", \"Topic2\", \"Topic2\", \"Topic2\", \"Topic2\", \"Topic2\", \"Topic2\", \"Topic2\", \"Topic2\", \"Topic2\", \"Topic2\", \"Topic2\", \"Topic2\", \"Topic2\", \"Topic2\", \"Topic2\", \"Topic2\", \"Topic2\", \"Topic2\", \"Topic2\", \"Topic2\", \"Topic2\", \"Topic2\", \"Topic2\", \"Topic3\", \"Topic3\", \"Topic3\", \"Topic3\", \"Topic3\", \"Topic3\", \"Topic3\", \"Topic3\", \"Topic3\", \"Topic3\", \"Topic3\", \"Topic3\", \"Topic3\", \"Topic3\", \"Topic3\", \"Topic3\", \"Topic3\", \"Topic3\", \"Topic3\", \"Topic3\", \"Topic3\", \"Topic3\", \"Topic3\", \"Topic3\", \"Topic3\", \"Topic3\", \"Topic3\", \"Topic3\", \"Topic3\", \"Topic3\", \"Topic3\", \"Topic3\", \"Topic3\", \"Topic3\", \"Topic3\", \"Topic3\", \"Topic3\", \"Topic3\", \"Topic3\", \"Topic3\", \"Topic3\", \"Topic3\", \"Topic3\", \"Topic3\", \"Topic3\", \"Topic3\", \"Topic3\", \"Topic3\", \"Topic3\", \"Topic3\", \"Topic3\", \"Topic3\", \"Topic3\", \"Topic3\", \"Topic3\", \"Topic3\", \"Topic3\", \"Topic3\", \"Topic3\", \"Topic3\", \"Topic3\", \"Topic3\", \"Topic3\", \"Topic3\", \"Topic3\", \"Topic3\", \"Topic3\", \"Topic3\", \"Topic3\", \"Topic3\", \"Topic3\", \"Topic3\", \"Topic3\", \"Topic3\", \"Topic3\", \"Topic3\", \"Topic3\", \"Topic4\", \"Topic4\", \"Topic4\", \"Topic4\", \"Topic4\", \"Topic4\", \"Topic4\", \"Topic4\", \"Topic4\", \"Topic4\", \"Topic4\", \"Topic4\", \"Topic4\", \"Topic4\", \"Topic4\", \"Topic4\", \"Topic4\", \"Topic4\", \"Topic4\", \"Topic4\", \"Topic4\", \"Topic4\", \"Topic4\", \"Topic4\", \"Topic4\", \"Topic4\", \"Topic4\", \"Topic4\", \"Topic4\", \"Topic4\", \"Topic4\", \"Topic4\", \"Topic4\", \"Topic4\", \"Topic4\", \"Topic4\", \"Topic4\", \"Topic4\", \"Topic4\", \"Topic4\", \"Topic4\", \"Topic4\", \"Topic4\", \"Topic4\", \"Topic4\", \"Topic4\", \"Topic4\", \"Topic4\", \"Topic4\", \"Topic4\", \"Topic4\", \"Topic4\", \"Topic4\", \"Topic4\", \"Topic4\", \"Topic4\", \"Topic4\", \"Topic4\", \"Topic5\", \"Topic5\", \"Topic5\", \"Topic5\", \"Topic5\", \"Topic5\", \"Topic5\", \"Topic5\", \"Topic5\", \"Topic5\", \"Topic5\", \"Topic5\", \"Topic5\", \"Topic5\", \"Topic5\", \"Topic5\", \"Topic5\", \"Topic5\", \"Topic5\", \"Topic5\", \"Topic5\", \"Topic5\", \"Topic5\", \"Topic5\", \"Topic5\", \"Topic5\", \"Topic5\", \"Topic5\", \"Topic5\", \"Topic5\", \"Topic5\", \"Topic5\", \"Topic5\", \"Topic5\", \"Topic5\", \"Topic5\", \"Topic5\", \"Topic5\", \"Topic5\", \"Topic5\", \"Topic5\", \"Topic5\", \"Topic5\", \"Topic5\", \"Topic5\", \"Topic5\", \"Topic5\", \"Topic5\", \"Topic5\", \"Topic5\", \"Topic5\", \"Topic5\", \"Topic5\", \"Topic5\", \"Topic5\", \"Topic5\", \"Topic5\", \"Topic5\", \"Topic5\", \"Topic5\", \"Topic5\", \"Topic5\", \"Topic5\", \"Topic5\", \"Topic5\", \"Topic5\", \"Topic5\", \"Topic5\", \"Topic5\"], \"logprob\": [30.0, 29.0, 28.0, 27.0, 26.0, 25.0, 24.0, 23.0, 22.0, 21.0, 20.0, 19.0, 18.0, 17.0, 16.0, 15.0, 14.0, 13.0, 12.0, 11.0, 10.0, 9.0, 8.0, 7.0, 6.0, 5.0, 4.0, 3.0, 2.0, 1.0, -3.4849, -5.3566, -5.5491, -5.5745, -5.8142, -5.9971, -5.477, -6.0962, -5.9976, -5.6471, -6.5456, -6.1626, -6.5798, -6.7182, -6.8597, -6.8413, -6.9886, -6.5314, -7.0347, -7.1352, -7.1273, -7.1561, -7.1551, -7.2406, -7.2786, -7.1603, -7.136, -7.3039, -7.5293, -7.1955, -5.2442, -3.7398, -4.3302, -5.2314, -6.4101, -5.7007, -4.2295, -5.5145, -5.8303, -5.2687, -4.9914, -6.0943, -5.3032, -5.4943, -5.236, -5.6766, -4.8742, -4.951, -5.7617, -5.2775, -4.111, -5.5345, -5.0996, -4.3003, -5.2881, -5.0643, -5.3798, -5.2646, -5.596, -5.414, -5.5635, -5.5647, -5.9007, -6.2964, -6.4666, -6.5369, -6.4675, -6.7516, -6.876, -6.9606, -6.7225, -5.9079, -7.2666, -7.3243, -7.3253, -7.3161, -7.3937, -7.3715, -6.0334, -7.469, -7.3936, -7.5108, -6.5771, -7.5454, -7.5411, -7.5499, -7.5986, -7.5981, -7.6187, -7.4818, -7.6278, -7.6902, -5.5388, -6.4105, -3.8603, -6.4665, -4.298, -5.7426, -6.1682, -6.7253, -7.3206, -5.9505, -5.2419, -6.3918, -5.7348, -6.5065, -5.4589, -5.6259, -5.7774, -6.3467, -5.8353, -5.395, -6.2791, -5.1836, -5.7952, -5.6148, -5.4521, -5.7183, -6.0974, -5.7736, -5.647, -5.8144, -5.6521, -5.6542, -6.0489, -5.0376, -5.6616, -5.8717, -5.9474, -5.9511, -5.9565, -3.4947, -4.7473, -6.3709, -6.4253, -6.4908, -6.6477, -6.7035, -6.7048, -6.8337, -6.1275, -7.0942, -7.2072, -7.2644, -7.3527, -7.3696, -7.4301, -7.0061, -7.5702, -7.5863, -6.8497, -7.6119, -7.6087, -7.6632, -7.6714, -7.7009, -7.2872, -7.5934, -7.8005, -7.8081, -7.8068, -6.4851, -7.062, -6.773, -7.1277, -4.0252, -5.7511, -6.1751, -6.7619, -6.1633, -6.9315, -6.8405, -6.515, -6.0925, -6.71, -6.2019, -6.5261, -4.6888, -5.9621, -6.2869, -5.5702, -6.2223, -5.1143, -5.9611, -6.1981, -5.5237, -5.7954, -5.5967, -4.4709, -5.4734, -5.7364, -5.846, -5.9386, -5.6692, -5.4716, -5.6337, -5.7456, -5.8097, -5.7355, -6.1618, -5.9242, -5.8091, -6.0498, -5.9069, -5.8535, -5.7708, -5.894, -6.0056, -5.04, -5.3437, -5.3437, -5.3437, -5.3437, -5.3437, -5.3437, -5.4043, -5.5471, -5.8395, -6.0862, -6.0101, -6.2356, -6.2454, -6.5898, -6.6713, -6.7696, -6.9339, -7.0565, -7.0633, -7.1092, -7.1724, -7.2963, -7.3487, -6.6151, -7.4402, -7.4764, -7.4816, -5.6378, -7.4772, -5.7397, -5.0674, -5.4641, -5.8186, -5.7661, -5.4251, -6.2511, -5.1239, -6.2908, -4.0345, -6.4181, -4.2723, -4.9685, -5.2552, -5.9723, -4.5044, -5.2819, -3.6753, -5.3257, -5.158, -4.0766, -5.2395, -5.0882, -5.155, -5.1637, -5.3734, -5.4172, -5.3894, -4.4082, -6.4174, -6.6033, -6.631, -6.6256, -6.6405, -6.8126, -6.8097, -6.8404, -6.8814, -6.9677, -6.9876, -7.051, -7.1219, -7.1416, -7.191, -7.3028, -7.4151, -7.4152, -7.3788, -7.4048, -7.4419, -7.552, -7.5868, -7.5859, -7.6009, -7.2231, -7.6494, -7.6875, -7.6968, -4.8909, -6.9238, -6.1051, -5.272, -5.2003, -5.7077, -6.4324, -5.3243, -5.4554, -6.5232, -6.0388, -4.1393, -4.7944, -5.702, -5.1301, -5.9643, -6.0501, -5.8631, -4.8001, -3.5165, -5.2691, -5.5175, -5.7284, -5.3602, -5.4232, -5.8876, -5.0449, -5.4581, -5.5349, -5.742, -5.8633, -5.3001, -5.2308, -5.4958, -5.4088, -5.4551, -5.3255, -5.7095, -5.6922], \"loglift\": [30.0, 29.0, 28.0, 27.0, 26.0, 25.0, 24.0, 23.0, 22.0, 21.0, 20.0, 19.0, 18.0, 17.0, 16.0, 15.0, 14.0, 13.0, 12.0, 11.0, 10.0, 9.0, 8.0, 7.0, 6.0, 5.0, 4.0, 3.0, 2.0, 1.0, 1.2584, 1.256, 1.2554, 1.2553, 1.2544, 1.2534, 1.253, 1.253, 1.252, 1.2508, 1.2495, 1.2494, 1.2493, 1.2466, 1.2462, 1.2451, 1.2445, 1.2444, 1.2431, 1.2422, 1.242, 1.2418, 1.2418, 1.2405, 1.2397, 1.2388, 1.2383, 1.2375, 1.2343, 1.2343, 1.2313, 1.2031, 1.1865, 1.2013, 1.2188, 1.1957, 1.1403, 1.1605, 1.1715, 1.1294, 1.0953, 1.1599, 1.0646, 1.0676, 1.0313, 1.0853, 0.8502, 0.8472, 1.0339, 0.8827, 0.4238, 0.9426, 0.6228, 0.1089, 0.7271, 0.472, 0.739, 0.5578, 0.9172, 0.526, 0.6908, 0.6039, 1.3301, 1.3273, 1.326, 1.3241, 1.324, 1.3231, 1.3211, 1.3202, 1.3193, 1.315, 1.3146, 1.3135, 1.3134, 1.3128, 1.3121, 1.3119, 1.3118, 1.3098, 1.3095, 1.3091, 1.3086, 1.3081, 1.3081, 1.3078, 1.3066, 1.3066, 1.3063, 1.3062, 1.3058, 1.3041, 1.284, 1.2845, 1.207, 1.2746, 1.2061, 1.2451, 1.2588, 1.2683, 1.2975, 1.1937, 1.1388, 1.2064, 1.1018, 1.1837, 1.0162, 1.0049, 1.0323, 1.117, 1.0085, 0.88, 1.0859, 0.6055, 0.8371, 0.7025, 0.6043, 0.6949, 0.9305, 0.6488, 0.5336, 0.6456, 0.4764, 0.3732, 0.8357, -0.5028, -0.0803, 0.2645, 0.3354, 0.141, -0.2341, 1.728, 1.7269, 1.7171, 1.7158, 1.7146, 1.7133, 1.712, 1.7115, 1.7092, 1.709, 1.7042, 1.7012, 1.6998, 1.6956, 1.6954, 1.6945, 1.6942, 1.6893, 1.6884, 1.6878, 1.6867, 1.6867, 1.6857, 1.6852, 1.684, 1.683, 1.6822, 1.6794, 1.6785, 1.6782, 1.6683, 1.6695, 1.6505, 1.6605, 1.4949, 1.5549, 1.548, 1.5898, 1.5118, 1.5978, 1.5649, 1.4939, 1.3897, 1.5318, 1.3914, 1.4788, 0.8475, 1.2641, 1.366, 1.0551, 1.3174, 0.8257, 1.1961, 1.288, 0.8979, 1.0206, 0.8762, -0.0617, 0.6186, 0.8175, 0.907, 0.9904, 0.6446, 0.3569, 0.3937, 0.4825, 0.5076, 0.0626, 1.1193, 0.2933, -0.144, 0.6528, -0.0845, -0.4837, -1.236, -0.39, 0.0507, 1.8927, 1.8922, 1.8922, 1.8922, 1.8922, 1.8922, 1.8922, 1.8918, 1.8908, 1.8886, 1.8861, 1.885, 1.8841, 1.8838, 1.8785, 1.8766, 1.8745, 1.8705, 1.8669, 1.8669, 1.8652, 1.8631, 1.8581, 1.8538, 1.8536, 1.8531, 1.8514, 1.8512, 1.851, 1.8506, 1.8442, 1.8358, 1.8219, 1.8261, 1.8111, 1.7835, 1.8173, 1.7223, 1.7996, 1.5468, 1.7918, 1.3928, 1.5222, 1.5479, 1.7038, 1.3241, 1.4638, 0.8595, 1.469, 1.259, 0.3327, 1.0982, 0.927, 0.6674, 0.6254, 0.8809, 0.7482, 0.333, 2.0687, 2.0554, 2.0519, 2.0512, 2.0511, 2.051, 2.0468, 2.0468, 2.0453, 2.0449, 2.0423, 2.0411, 2.0392, 2.037, 2.0364, 2.0342, 2.0298, 2.0249, 2.0248, 2.0248, 2.0248, 2.0231, 2.0165, 2.0157, 2.0154, 2.015, 2.0129, 2.0117, 2.0098, 2.0091, 1.9976, 2.0018, 1.9724, 1.9008, 1.8788, 1.9033, 1.9446, 1.8601, 1.7906, 1.9186, 1.8416, 1.5252, 1.5617, 1.7139, 1.5775, 1.7426, 1.7519, 1.6705, 1.3284, 0.8928, 1.4335, 1.5139, 1.5715, 1.3417, 1.3661, 1.5669, 1.0472, 1.2746, 1.3225, 1.4329, 1.4602, 0.928, 0.5583, 0.9173, 0.7514, 0.7135, 0.3989, 0.7075, 0.4732]}, \"token.table\": {\"Topic\": [1, 2, 5, 2, 1, 2, 3, 4, 5, 1, 2, 3, 5, 3, 1, 2, 3, 4, 2, 3, 3, 2, 1, 2, 3, 4, 1, 2, 3, 5, 2, 1, 2, 3, 4, 1, 2, 3, 4, 5, 1, 2, 3, 4, 1, 2, 3, 5, 5, 3, 2, 1, 2, 3, 3, 2, 5, 3, 1, 5, 1, 2, 3, 4, 5, 2, 5, 2, 4, 5, 1, 2, 3, 2, 3, 5, 2, 1, 2, 3, 5, 1, 3, 1, 2, 3, 5, 1, 2, 3, 4, 5, 1, 2, 1, 2, 3, 4, 3, 1, 2, 3, 4, 5, 2, 3, 1, 2, 5, 1, 2, 3, 4, 1, 3, 4, 2, 4, 3, 2, 3, 5, 2, 3, 1, 2, 3, 5, 1, 3, 4, 1, 2, 4, 4, 1, 3, 4, 1, 2, 3, 2, 2, 3, 4, 5, 5, 2, 3, 1, 1, 2, 3, 4, 5, 4, 4, 1, 4, 2, 1, 1, 4, 5, 2, 1, 4, 1, 2, 3, 4, 3, 1, 1, 2, 3, 2, 1, 2, 5, 2, 3, 5, 1, 2, 3, 4, 5, 1, 2, 1, 2, 3, 5, 2, 2, 4, 5, 2, 5, 3, 1, 2, 3, 4, 5, 2, 1, 2, 4, 5, 1, 3, 1, 3, 4, 4, 1, 1, 3, 4, 2, 5, 4, 2, 3, 5, 3, 5, 2, 1, 2, 3, 4, 5, 5, 1, 2, 3, 4, 5, 2, 3, 5, 5, 3, 1, 2, 3, 5, 4, 1, 3, 1, 2, 3, 4, 5, 1, 2, 3, 4, 5, 1, 2, 3, 4, 1, 2, 3, 4, 5, 1, 3, 2, 1, 2, 3, 5, 1, 3, 4, 5, 4, 1, 2, 3, 1, 3, 4, 1, 2, 3, 4, 5, 3, 2, 3, 5, 1, 2, 3, 5, 5, 3, 1, 2, 3, 5, 1, 2, 5, 1, 5, 4, 4, 3, 3, 1, 2, 3, 5, 1, 4, 5, 1, 3, 2, 3, 2, 3, 4, 1, 1, 2, 3, 4, 1, 3, 5, 3, 5, 1, 2, 5, 1, 2, 3, 5, 2, 4, 2, 5, 5, 1, 3, 4, 5, 2, 3, 3, 1, 2, 3, 4, 5, 1, 5, 1, 2, 3, 5, 5, 1, 2, 3, 5, 5, 1, 2, 3, 4, 5, 4, 1, 5, 3, 4, 1, 2, 4, 5, 1, 3, 4, 2, 3, 2, 3, 5, 2, 5, 4, 2, 4, 1, 2, 4, 1, 2, 5, 2, 2, 3, 4, 5, 2, 5, 1, 2, 3, 4, 5, 5, 1, 2, 3, 1, 3, 3, 5, 2, 3, 4, 5, 1, 2, 3, 4, 1, 2, 3, 4, 5, 4, 1, 2, 4, 5, 1, 2, 3, 4, 5, 1, 2, 3, 4, 5, 4, 4, 4, 5, 3, 2, 3, 1, 2, 3, 3, 2, 3, 4, 2, 5, 2, 1, 2, 3, 1, 2, 3, 4, 1, 4, 5, 3, 4, 5, 1, 3, 5, 4, 2, 4, 1, 3, 5, 3, 5, 1, 1, 3, 5, 1, 3, 5, 4, 4, 4, 1, 2, 5, 2, 1, 2, 3, 4, 5, 1, 5, 2, 5, 1, 2, 3, 5, 1, 2, 3, 4, 5, 1, 5, 1, 2, 4, 5, 1, 3, 4, 5, 2, 3, 4, 2, 3, 4, 5, 1, 3, 4, 5, 2, 2, 4, 5, 5, 2, 3, 4, 1, 3, 4, 1, 2, 4, 5, 2, 5, 1, 5, 2, 3, 5, 5, 5, 5, 2, 4, 1, 3, 5, 1, 2, 3, 1, 2, 4, 1, 2, 3, 4, 5, 5, 4, 2, 3, 4, 5, 5, 1, 3, 1, 1, 2, 3, 4, 5, 1, 2, 3, 4, 5, 2, 3, 5, 4, 2, 4, 1, 2, 3, 5, 1, 2, 3, 4, 5, 2, 3, 4, 5, 4, 1, 1, 2, 2, 3, 5, 2, 4, 1, 5, 2, 3, 4, 1, 2, 4, 1, 3, 2, 5, 1, 2, 3, 4, 5, 1, 2, 4, 5, 1, 2, 3, 2, 3, 5, 1, 4, 5], \"Freq\": [0.10106856504335784, 0.42399495579164753, 0.47329669483718795, 0.9524778551971149, 0.12155139173641796, 0.4816187219744863, 0.18576722133301615, 0.10320401185167563, 0.10779085682286121, 0.9941580884900343, 0.05601983547768471, 0.9336639246280785, 0.9709106552310174, 0.9776347949685391, 0.21246620431336455, 0.029466115926670998, 0.15353397246002257, 0.603279952393422, 0.10876898356656911, 0.8701518685325529, 0.9750023422305295, 0.9708551309171309, 0.14988260043416554, 0.11342467059882796, 0.5104110176947259, 0.22279846010484067, 0.00950749119499513, 0.3018628454410954, 0.33038531902608076, 0.35890779261106615, 0.9897294247806918, 0.39000350640907017, 0.34280562983727186, 0.08694345684278634, 0.1788551112194462, 0.8235514241114154, 0.11272947250194278, 0.015656871180825385, 0.02191961965315554, 0.025050993889320618, 0.13413575712013676, 0.6335774059717099, 0.10845018660777014, 0.11986599572437753, 0.065649550513658, 0.065649550513658, 0.3413776626710216, 0.525196404109264, 0.9835665004941369, 0.9535239581211906, 0.9772161585412131, 0.3348373898278619, 0.18663067629749677, 0.4775549658200653, 0.9758221369002283, 0.9777681907300393, 0.9766845450896007, 0.9609057780528895, 0.9856645143445674, 0.012800837848630746, 0.6625607160895142, 0.09743539942492856, 0.18955614069940646, 0.0017715527168168828, 0.04960347607087272, 0.9715879664951249, 0.01428805833081066, 0.2170996148218949, 0.5295914846412891, 0.2565722720622395, 0.9908770505030852, 0.042260450972053866, 0.971990372357239, 0.7404810169367017, 0.17050549732095105, 0.0925601271170877, 0.9945841540870523, 0.9729520341234329, 0.0034872832764280748, 0.02092369965856845, 0.0034872832764280748, 0.9941197311934756, 0.00449827932666731, 0.8876522154412217, 0.0011542941683240855, 0.10965794599078812, 0.0011542941683240855, 0.14209402572762786, 0.0066090244524478065, 0.43619561386155525, 0.2577519536454645, 0.16192109908497127, 0.014729149573925198, 0.9794884466660256, 0.9403314344561212, 0.005312606974328369, 0.05312606974328369, 0.005312606974328369, 0.9360295626258048, 0.4337151876273345, 0.15926262086084572, 0.051585062731657576, 0.3540838771969117, 0.0015024775552909973, 0.9732909462086499, 0.9875008682858072, 0.2947592119932974, 0.008932097333130225, 0.6967035919841575, 0.9897124873118169, 0.026746917872845426, 0.03209630144741451, 0.941491509124159, 0.06568172629004021, 0.09094392870928644, 0.8387051203189749, 0.9882774647090995, 0.9474090484354775, 0.9741867756186203, 0.2290191127143533, 0.17021690809850581, 0.6004014576565478, 0.027419523685189635, 0.9596833289816372, 0.0710638056379678, 0.08527656676556136, 0.04263828338278068, 0.7959146231452394, 0.47979571498618107, 0.404253410924527, 0.11433429803926017, 0.020990572679147515, 0.05247643169786879, 0.9130899115429169, 0.9668400224913307, 0.9876040495191787, 0.00889733377945206, 0.9679508520806972, 0.7300971122970566, 0.06287917713563167, 0.20610396950012605, 0.9854083477732662, 0.36790115611266844, 0.005109738279342618, 0.15329214838027852, 0.4700959216995208, 0.9697532782379438, 0.878877873841655, 0.1178982513690025, 0.9908052621909028, 0.009383851505361383, 0.8795228092752352, 0.023886167468192613, 0.044360025298071995, 0.043506947888493686, 0.9952044998910358, 0.9930877742887337, 0.9625336739741694, 0.9722266543911561, 0.9819117169365567, 0.9811953573679251, 0.042262364292555074, 0.9509031965824891, 0.9769452243255874, 0.9834854791705071, 0.06860640827376516, 0.9261865116958297, 0.38237741075655535, 0.034315921478152406, 0.4902274496878915, 0.08824094094382047, 0.9207719621268395, 0.9781624556129411, 0.06505625482357039, 0.7906837124710863, 0.14012116423538237, 0.9699115319854444, 0.9983705808505154, 0.15198614394125123, 0.8467799448155425, 0.08159575432392084, 0.8159575432392084, 0.08159575432392084, 0.5674909868830368, 0.05311491995456995, 0.008386566308616308, 0.3606223512705012, 0.011182088411488409, 0.04945668808099826, 0.9396770735389669, 0.05544383081565646, 0.7207698006035339, 0.13608940291115676, 0.0806455720955003, 0.9838178700632766, 0.033686352036995194, 0.9319890730235336, 0.02245756802466346, 0.9390311218738193, 0.06366312690669962, 0.9924064819942563, 0.4183536250904866, 0.14835234932286762, 0.3382433564561381, 0.09494550356663527, 0.9701767304086151, 0.9914323572607406, 0.7098347301614178, 0.2462691920968184, 0.010864817298389048, 0.032594451895167145, 0.9916914185781536, 0.9794751470670102, 0.3080462349004534, 0.0035407613206948664, 0.6869076962148041, 0.9904041165022202, 0.9788666729634288, 0.9779729284703682, 0.9708169352873411, 0.9922115118545486, 0.05512955878811458, 0.937202499397948, 0.9744728239047895, 0.9138894489157592, 0.05820951903922033, 0.029104759519610165, 0.9295678470038067, 0.07338693528977422, 0.9901448195898591, 0.3167211867796169, 0.0004417310833746401, 0.16697434951561393, 0.20893880243620475, 0.30700310294537486, 0.9465468352797706, 0.45538766200322545, 0.1240726863541722, 0.41448457858976206, 0.0027268722275642244, 0.004090308341346337, 0.0720725719125458, 0.8408466723130343, 0.0720725719125458, 0.9532602144672417, 0.9596806449628723, 0.14480059409435303, 0.19306745879247073, 0.5860976427628576, 0.06895266385445382, 0.9668856591045224, 0.11384688286758195, 0.8652363097936229, 0.6869936106054286, 0.002544420780020106, 0.03816631170030159, 0.005088841560040212, 0.26716418190211116, 0.4132459127094749, 0.11242719684007774, 0.006077145775139337, 0.44970878736031095, 0.01823143732541801, 0.18520799008566588, 0.5027074016610932, 0.2149735599208622, 0.09260399504283294, 0.5288445497752705, 0.20858154602937687, 0.04270173383278582, 0.20858154602937687, 0.00985424626910442, 0.9847258034768216, 0.9595148756137729, 0.9894142068258875, 0.3839944934762875, 0.010893460807837943, 0.2886767114077055, 0.3186337286292598, 0.0464176498137293, 0.31564001873335923, 0.03713411985098344, 0.6034294475784809, 0.9653417192231326, 0.022165291325839002, 0.3472562307714777, 0.6280165875654384, 0.98967480098637, 0.0053208322633675805, 0.0053208322633675805, 0.45106536304479916, 0.06314915082627189, 0.0045106536304479914, 0.03157457541313594, 0.45106536304479916, 0.9850156637231815, 0.9510830126655754, 0.02972134414579923, 0.9465150412058875, 0.01054203062077634, 0.00527101531038817, 0.05798116841426986, 0.9276986946283178, 0.9778423124683149, 0.9391599766819743, 0.30068680091154565, 0.04959782283077042, 0.07129687031923247, 0.5781246223711677, 0.9767271618597307, 0.9706812980126706, 0.970471404347747, 0.0034921727238137767, 0.9952692262869263, 0.9922115118545486, 0.9761129959902753, 0.9961442687005084, 0.9596004340542921, 0.3739113200900307, 0.36815883824249174, 0.07478226401800614, 0.18120317819747642, 0.9460402118390431, 0.0037660836458560634, 0.04971230412530003, 0.033288080778211215, 0.932066261789914, 0.032264985344348344, 0.9679495603304502, 0.7809019993454821, 0.06790452168221583, 0.14429710857470865, 0.985634819768271, 0.12019518037850938, 0.5013856095789249, 0.07898540424873474, 0.2987708769408662, 0.8405547010938442, 0.08359107524690164, 0.0743031779972459, 0.98815988653817, 0.9915191111972316, 0.9909387054651057, 0.989541807885168, 0.9707324168404459, 0.9942825880939314, 0.0668031777062878, 0.7157483325673692, 0.2194961553206599, 0.025594147732644117, 0.9469834661078322, 0.864435754342743, 0.12932503411426866, 0.9857642811216684, 0.13330686903607986, 0.25383088761664524, 0.5642715415362832, 0.0493052803284131, 0.013602690327822395, 0.9793937036032124, 0.9662082599971673, 0.03902790607310464, 0.32783441101407895, 0.546390685023465, 0.08586139336083021, 0.980700283501076, 0.04042096712266779, 0.9296822438213591, 0.22502502331465643, 0.3809829602654084, 0.2629005222884105, 0.12922229061633736, 0.9225731549905892, 0.9776968718333768, 0.024287186777706235, 0.8379079438308651, 0.1457231206662374, 0.9822111873184, 0.5956710052824504, 0.13915265287335932, 0.1269462798142927, 0.007323823835439964, 0.13182882903791934, 0.9922115118545486, 0.12457226363966195, 0.8470913927497012, 0.03842716235730405, 0.9510722683432752, 0.004839696538441195, 0.27102300615270697, 0.7065956946124146, 0.01935878615376478, 0.9305297746916472, 0.013369680670857, 0.0561526588175994, 0.03522892924455693, 0.91595216035848, 0.5275611819304343, 0.15728532132087483, 0.31457064264174966, 0.821639600458076, 0.17765180550444887, 0.9761586642325286, 0.07903438465613025, 0.9088954235454979, 0.5876674074150832, 0.033015022888487816, 0.3785722624546603, 0.10842468341474978, 0.07015714809189692, 0.8227520094413365, 0.9695049030196071, 0.6665730648771174, 0.1636133886516561, 0.07877681675820478, 0.09089632702869782, 0.241159082271266, 0.7536221320977062, 0.010387205753599214, 0.44924664884316606, 0.12204966760479077, 0.23111532801758253, 0.18696970356478587, 0.9673200513852007, 0.2527232646074817, 0.08087144467439414, 0.6671894185637517, 0.9918654765767551, 0.9193789589479934, 0.3897372379793954, 0.6044904099272256, 0.6078752020539259, 0.008159398685287596, 0.342694744782079, 0.04079699342643798, 0.01380873695798006, 0.2807776514789279, 0.4372766703360353, 0.26236600220162115, 0.4955029474294497, 0.01815029111463186, 0.1633526200316867, 0.2922196869455729, 0.030855494894874158, 0.9922115118545486, 0.06925031794769197, 0.7169444681643403, 0.2077509538430759, 0.004073548114570116, 0.0014261799969860988, 0.24245059948763678, 0.04706393990054126, 0.7045329185111328, 0.005704719987944395, 0.18862173308111171, 0.16437036739925448, 0.23712446444482613, 0.2667650225004294, 0.14011900171739727, 0.9807464422128961, 0.9717845294466463, 0.08654315302650441, 0.9000487914756459, 0.9330055964348422, 0.9895766203656955, 0.9715825439961622, 0.0013202006795004586, 0.8792536525473054, 0.12013826183454172, 0.9864156324918585, 0.27873948606615334, 0.07311199634522055, 0.6488689675638324, 0.9476693458402211, 0.049357778429178184, 0.9736165889342346, 0.17706467077011653, 0.04829036475548633, 0.7726458360877813, 0.04528276867889802, 0.03396207650917352, 0.6905622223531949, 0.2264138433944901, 0.32228215239321073, 0.1033735205789544, 0.571594760848336, 0.998439179103957, 0.0009964462865308952, 0.9675723812513691, 0.023149692578049157, 0.8102392402317204, 0.17362269433536867, 0.9696198481692746, 0.9778495883702173, 0.9922115118545486, 0.7974103213993872, 0.09607353269872135, 0.10568088596859349, 0.45600036980082864, 0.5374290072652623, 0.997160220256603, 0.8780100336808198, 0.1162072103401085, 0.003227978065003014, 0.9682906567481497, 0.7919056727672787, 0.1939360831266805, 0.9597385238878399, 0.9340867944885454, 0.9842696546899391, 0.023614841338315932, 0.9445936535326372, 0.023614841338315932, 0.9738034470693295, 0.20568515174107724, 0.7251273146126113, 0.010458567037681894, 0.04880664617584884, 0.010458567037681894, 0.9960183872079735, 0.9869283242299397, 0.9737193942606048, 0.01664477597026675, 0.06573581915379054, 0.14220401694493465, 0.7915129245048249, 0.0013415473296691947, 0.9732999386229335, 0.3717580085865694, 0.08747247260860457, 0.05685710719559297, 0.4810985993473251, 0.9615782470468344, 0.033157870587821874, 0.017555782992599692, 0.48102845399723154, 0.2808925278815951, 0.21944728740749617, 0.914960212142812, 0.05312672199538908, 0.02361187644239515, 0.005902969110598787, 0.6090034034024916, 0.24150134962512596, 0.1522508508506229, 0.5299275625069862, 0.2947349926302901, 0.08335939185503155, 0.08931363413039095, 0.9041552141747258, 0.007597942976258199, 0.06838148678632379, 0.022793828928774598, 0.9756580579621067, 0.28133317893941884, 0.05023806766775337, 0.6631424932143445, 0.9884653410474359, 0.0811075329329312, 0.0811075329329312, 0.8226621197483022, 0.019162503490164223, 0.6419438669205015, 0.3353438110778739, 0.23163708359613328, 0.0701930556351919, 0.17548263908797976, 0.5264479172639392, 0.9862847215910091, 0.9529896127583338, 0.3870926629176148, 0.6070316759389869, 0.07704853411787167, 0.07704853411787167, 0.8405294631040545, 0.9817323400612671, 0.9544039911680778, 0.9715277524109537, 0.8057628906179608, 0.187386718748363, 0.8250535824371301, 0.12927106821595588, 0.04182299265810337, 0.2666412468751542, 0.01066564987500617, 0.7145985416254134, 0.06533675767172638, 0.036298198706514656, 0.8929356881802605, 0.17184099232768976, 0.004773360897991383, 0.3102684583694399, 0.023866804489956914, 0.4916561724931124, 0.9619241825555688, 0.9668019481586101, 0.12046099317824302, 0.028343763100763062, 0.042515644651144595, 0.8077972483717473, 0.9276854622546057, 0.9794663749373154, 0.9835172935405414, 0.9847290396670578, 0.6648066473268504, 0.12177151460937359, 0.01645561008234778, 0.00987336604940867, 0.1875939549387647, 0.5183249844327029, 0.177051603593349, 0.002565965269468826, 0.04362140958097004, 0.2565965269468826, 0.1445470061156384, 0.1314063691960349, 0.7227350305781919, 0.9971977602719048, 0.9948376561715545, 0.9885086801123482, 0.10402947054215854, 0.008002266964781426, 0.8402380313020498, 0.056015868753469984, 0.19182919363206666, 0.2890226517389804, 0.0025577225817608887, 0.3171576001383502, 0.2020600839591102, 0.26875056625694654, 0.07198675881882496, 0.6526799466240131, 0.004799117254588332, 0.9922115118545486, 0.9994444766604452, 0.12925988138895686, 0.8578155764903501, 0.07168842845772762, 0.20311721396356158, 0.7168842845772762, 0.08766925644356403, 0.911760267013066, 0.1167633345260537, 0.887401342398008, 0.9301855413803258, 0.03612371034486702, 0.03612371034486702, 0.9455968816474627, 0.05346130779632298, 0.9814763745413411, 0.9068848161157006, 0.08941117905366062, 0.9818598315561679, 0.936724681254095, 0.2904363408913739, 0.0942975132764201, 0.403593356823078, 0.1961388276149538, 0.015087602124227216, 0.9939477256490749, 0.06274861981461353, 0.9255421422655495, 0.007843577476826692, 0.795839145229277, 0.16426573104376535, 0.039650348872633016, 0.3409076800976525, 0.4243952752236082, 0.22959088659637822, 0.8487150534802963, 0.05201039324948891, 0.09929256893084247], \"Term\": [\"able\", \"able\", \"able\", \"academic\", \"actually\", \"actually\", \"actually\", \"actually\", \"actually\", \"afraid\", \"age\", \"age\", \"album\", \"already\", \"also\", \"also\", \"also\", \"also\", \"always\", \"always\", \"am\", \"anti_jewish\", \"anyway\", \"anyway\", \"anyway\", \"anyway\", \"apartment\", \"apartment\", \"apartment\", \"apartment\", \"apply\", \"area\", \"area\", \"area\", \"area\", \"army\", \"army\", \"army\", \"army\", \"army\", \"arrest\", \"arrest\", \"arrest\", \"arrest\", \"arrive\", \"arrive\", \"arrive\", \"arrive\", \"aryan_side\", \"as\", \"attempt\", \"aunt\", \"aunt\", \"aunt\", \"aunt_uncle\", \"austrian\", \"bad\", \"ballet\", \"barber\", \"barber\", \"barrack\", \"barrack\", \"barrack\", \"barrack\", \"barrack\", \"become\", \"become\", \"begin\", \"begin\", \"begin\", \"beginning\", \"big_city\", \"big_city\", \"boat\", \"boat\", \"boat\", \"book\", \"boy\", \"boy\", \"boy\", \"boy\", \"bread\", \"bread\", \"brother\", \"brother\", \"brother\", \"brother\", \"building\", \"building\", \"building\", \"building\", \"building\", \"bulgarian\", \"bulgarian\", \"burn\", \"burn\", \"burn\", \"burn\", \"by\", \"camp\", \"camp\", \"camp\", \"camp\", \"camp\", \"canadian\", \"canary\", \"car\", \"car\", \"car\", \"carry\", \"case\", \"case\", \"case\", \"certain\", \"certain\", \"certain\", \"certainly\", \"chain\", \"change\", \"child\", \"child\", \"child\", \"choose\", \"choose\", \"christian\", \"christian\", \"christian\", \"christian\", \"city\", \"city\", \"city\", \"claim\", \"claim\", \"claim\", \"claimant\", \"clean\", \"clean\", \"clerk\", \"clothe\", \"clothe\", \"clothe\", \"college\", \"community\", \"community\", \"community\", \"community\", \"conservatory\", \"country\", \"country\", \"couple\", \"course\", \"course\", \"course\", \"course\", \"course\", \"court\", \"crime\", \"cut_hair\", \"defendant\", \"degree\", \"die\", \"different\", \"different\", \"diplomat\", \"disease\", \"division\", \"division\", \"dog\", \"dog\", \"dog\", \"dog\", \"dormitory\", \"drag\", \"dutch\", \"dutch\", \"dutch\", \"duty\", \"eat\", \"embassy\", \"embassy\", \"empty\", \"empty\", \"empty\", \"escape\", \"escape\", \"escape\", \"escape\", \"escape\", \"especially\", \"especially\", \"eventually\", \"eventually\", \"eventually\", \"eventually\", \"ever\", \"evidence\", \"evidence\", \"evidence\", \"examination\", \"examination\", \"eye\", \"factory\", \"factory\", \"factory\", \"factory\", \"faculty\", \"false_paper\", \"farmer\", \"farmer\", \"farmer\", \"farmer\", \"father\", \"feel\", \"fight\", \"fight\", \"fight\", \"find_catalog_record\", \"finish\", \"fix\", \"flower\", \"follow_transcript\", \"forbid\", \"forbid\", \"fraternity\", \"french\", \"french\", \"french\", \"friend\", \"friend\", \"get_permission\", \"ghetto\", \"ghetto\", \"ghetto\", \"ghetto\", \"ghetto\", \"giant\", \"girl\", \"girl\", \"girl\", \"girl\", \"girl\", \"glove\", \"glove\", \"glove\", \"gold_tooth\", \"grand_piano\", \"grandmother\", \"grandmother\", \"grandmother\", \"grandmother\", \"gro\", \"ground\", \"ground\", \"group\", \"group\", \"group\", \"group\", \"group\", \"guard\", \"guard\", \"guard\", \"guard\", \"guard\", \"guess\", \"guess\", \"guess\", \"guess\", \"guy\", \"guy\", \"guy\", \"guy\", \"guy\", \"hard\", \"hardly\", \"have\", \"hide\", \"hide\", \"hide\", \"hide\", \"hiding\", \"hiding\", \"hiding\", \"hiding\", \"high\", \"horrible\", \"horrible\", \"horrible\", \"horse\", \"horse\", \"horse\", \"hospital\", \"hospital\", \"hospital\", \"hospital\", \"hospital\", \"hour\", \"household\", \"household\", \"huginal\", \"hungarian\", \"hungarian\", \"hungarian\", \"hungarian\", \"hungarian_government\", \"hurt\", \"husband\", \"husband\", \"husband\", \"husband\", \"ice\", \"immigrant\", \"in\", \"indecipherable\", \"indecipherable\", \"interview_interview_part_collection\", \"judge\", \"just\", \"keep\", \"kid\", \"kid\", \"kid\", \"kid\", \"kill\", \"kill\", \"kill\", \"kind\", \"kind\", \"knit\", \"knit\", \"large\", \"large\", \"large\", \"later\", \"later_on\", \"later_on\", \"later_on\", \"later_on\", \"lay\", \"lay\", \"lay\", \"learn\", \"legation\", \"liberation\", \"literature\", \"lose\", \"lot\", \"love\", \"love\", \"love\", \"main\", \"main\", \"manage\", \"manage\", \"married\", \"maybe\", \"maybe\", \"maybe\", \"maybe\", \"mean\", \"mean\", \"meet\", \"memory\", \"memory\", \"memory\", \"memory\", \"month\", \"morning\", \"morning\", \"mother\", \"mother\", \"mother\", \"mother\", \"musician\", \"naked\", \"neighbor\", \"neighbor\", \"neighbor\", \"nice\", \"no\", \"no\", \"no\", \"no\", \"no\", \"oral_testimony_information_access\", \"orchestra\", \"orchestra\", \"order\", \"order\", \"organization\", \"organization\", \"organization\", \"organization\", \"over_there\", \"over_there\", \"over_there\", \"owner\", \"owner\", \"paper\", \"paper\", \"paper\", \"parent\", \"parent\", \"parole\", \"part\", \"part\", \"partisan\", \"partisan\", \"partisan\", \"passport\", \"passport\", \"passport\", \"pastor\", \"perhaps\", \"perhaps\", \"perhaps\", \"perhaps\", \"person\", \"person\", \"ph\", \"ph\", \"ph\", \"ph\", \"ph\", \"photography\", \"pick\", \"pick\", \"pick\", \"piece\", \"pity\", \"play\", \"play\", \"point\", \"point\", \"point\", \"point\", \"police\", \"police\", \"police\", \"police\", \"polish\", \"polish\", \"polish\", \"polish\", \"polish\", \"primary_source_document_transcript\", \"prison\", \"prison\", \"prison\", \"prison\", \"prisoner\", \"prisoner\", \"prisoner\", \"prisoner\", \"prisoner\", \"probably\", \"probably\", \"probably\", \"probably\", \"probably\", \"problem\", \"prosecutor\", \"protection\", \"protection\", \"rash\", \"rather\", \"real\", \"really\", \"really\", \"really\", \"reason\", \"recall\", \"recall\", \"recall\", \"refugee\", \"refugee\", \"relationship\", \"relative\", \"relative\", \"relative\", \"religious\", \"religious\", \"religious\", \"religious\", \"remain\", \"remain\", \"remain\", \"remember\", \"remember\", \"resistor\", \"restaurant\", \"restaurant\", \"restaurant\", \"restitution\", \"restriction\", \"result_recorded_interview_recording\", \"right_away\", \"right_away\", \"right_away\", \"romanian\", \"romanian\", \"run\", \"run_away\", \"run_away\", \"run_away\", \"run_run\", \"save\", \"save\", \"second\", \"seize\", \"sentence\", \"service\", \"service\", \"service\", \"set\", \"ship\", \"ship\", \"ship\", \"ship\", \"ship\", \"shoot\", \"shutzpass\", \"simply\", \"simply\", \"sister\", \"sister\", \"sister\", \"sister\", \"sit\", \"situation\", \"situation\", \"situation\", \"situation\", \"sleep\", \"sleep\", \"so_on\", \"so_on\", \"so_on\", \"so_on\", \"soldier\", \"soldier\", \"soldier\", \"soldier\", \"sort\", \"sort\", \"sort\", \"sort_of\", \"sort_of\", \"sort_of\", \"sort_of\", \"soup\", \"soup\", \"soup\", \"soup\", \"southern_part\", \"spanish\", \"spanish\", \"spanish\", \"spanish_government\", \"special\", \"special\", \"special\", \"ss_man\", \"ss_man\", \"ss_man\", \"stand\", \"stand\", \"stand\", \"stand\", \"stateless\", \"statue\", \"survive\", \"survive\", \"swedish\", \"swedish\", \"swedish\", \"swedish_government\", \"swedish_house\", \"swedish_passport\", \"system\", \"system\", \"take_away\", \"take_away\", \"take_away\", \"take_care\", \"take_care\", \"take_care\", \"tank\", \"tank\", \"tank\", \"terrible\", \"terrible\", \"terrible\", \"terrible\", \"terrible\", \"terrific\", \"that_is\", \"therefore\", \"therefore\", \"therefore\", \"therefore\", \"thin\", \"too_many\", \"too_much\", \"touch\", \"town\", \"town\", \"town\", \"town\", \"town\", \"transport\", \"transport\", \"transport\", \"transport\", \"transport\", \"travel\", \"travel\", \"travel\", \"trial\", \"trip\", \"try\", \"uncle\", \"uncle\", \"uncle\", \"uncle\", \"underground\", \"underground\", \"underground\", \"underground\", \"underground\", \"understand\", \"understand\", \"understand\", \"understand\", \"usage_right\", \"use\", \"very_difficult\", \"very_difficult\", \"very_much\", \"very_much\", \"very_much\", \"victim\", \"victim\", \"violin\", \"violin\", \"visa\", \"visa\", \"visa\", \"walk\", \"walk\", \"war_crime\", \"water\", \"water\", \"western\", \"whole\", \"wife\", \"wife\", \"wife\", \"wife\", \"wife\", \"window\", \"witness\", \"witness\", \"witness\", \"woman\", \"woman\", \"woman\", \"wonderful\", \"wonderful\", \"wonderful\", \"wood\", \"wood\", \"wood\"]}, \"R\": 30, \"lambda.step\": 0.01, \"plot.opts\": {\"xlab\": \"PC1\", \"ylab\": \"PC2\"}, \"topic.order\": [3, 2, 1, 4, 5]};\n",
       "\n",
       "function LDAvis_load_lib(url, callback){\n",
       "  var s = document.createElement('script');\n",
       "  s.src = url;\n",
       "  s.async = true;\n",
       "  s.onreadystatechange = s.onload = callback;\n",
       "  s.onerror = function(){console.warn(\"failed to load library \" + url);};\n",
       "  document.getElementsByTagName(\"head\")[0].appendChild(s);\n",
       "}\n",
       "\n",
       "if(typeof(LDAvis) !== \"undefined\"){\n",
       "   // already loaded: just create the visualization\n",
       "   !function(LDAvis){\n",
       "       new LDAvis(\"#\" + \"ldavis_el322981402852132048807286639362\", ldavis_el322981402852132048807286639362_data);\n",
       "   }(LDAvis);\n",
       "}else if(typeof define === \"function\" && define.amd){\n",
       "   // require.js is available: use it to load d3/LDAvis\n",
       "   require.config({paths: {d3: \"https://d3js.org/d3.v5\"}});\n",
       "   require([\"d3\"], function(d3){\n",
       "      window.d3 = d3;\n",
       "      LDAvis_load_lib(\"https://cdn.jsdelivr.net/gh/bmabey/pyLDAvis@3.3.1/pyLDAvis/js/ldavis.v3.0.0.js\", function(){\n",
       "        new LDAvis(\"#\" + \"ldavis_el322981402852132048807286639362\", ldavis_el322981402852132048807286639362_data);\n",
       "      });\n",
       "    });\n",
       "}else{\n",
       "    // require.js not available: dynamically load d3 & LDAvis\n",
       "    LDAvis_load_lib(\"https://d3js.org/d3.v5.js\", function(){\n",
       "         LDAvis_load_lib(\"https://cdn.jsdelivr.net/gh/bmabey/pyLDAvis@3.3.1/pyLDAvis/js/ldavis.v3.0.0.js\", function(){\n",
       "                 new LDAvis(\"#\" + \"ldavis_el322981402852132048807286639362\", ldavis_el322981402852132048807286639362_data);\n",
       "            })\n",
       "         });\n",
       "}\n",
       "</script>"
      ],
      "text/plain": [
       "PreparedData(topic_coordinates=              x         y  topics  cluster       Freq\n",
       "topic                                                \n",
       "2     -0.106021  0.233949       1        1  28.397679\n",
       "1     -0.065224 -0.217346       2        1  26.302897\n",
       "0     -0.212574 -0.005595       3        1  17.741019\n",
       "3      0.208293 -0.158037       4        1  14.990286\n",
       "4      0.175526  0.147029       5        1  12.568119, topic_info=             Term         Freq        Total Category  logprob  loglift\n",
       "924           use  1620.000000  1620.000000  Default  30.0000  30.0000\n",
       "708      remember  1003.000000  1003.000000  Default  29.0000  29.0000\n",
       "462          kill  1327.000000  1327.000000  Default  28.0000  28.0000\n",
       "2590       ghetto  2263.000000  2263.000000  Default  27.0000  27.0000\n",
       "130          camp  1996.000000  1996.000000  Default  26.0000  26.0000\n",
       "...           ...          ...          ...      ...      ...      ...\n",
       "371         group   104.715978   393.016756   Topic5  -5.4088   0.7514\n",
       "2285    transport    99.978868   389.716888   Topic5  -5.4551   0.7135\n",
       "895          town   113.812285   607.695488   Topic5  -5.3255   0.3989\n",
       "84          begin    77.517939   304.007909   Topic5  -5.7095   0.7075\n",
       "910   underground    78.872318   390.972816   Topic5  -5.6922   0.4732\n",
       "\n",
       "[365 rows x 6 columns], token_table=      Topic      Freq       Term\n",
       "term                            \n",
       "0         1  0.101069       able\n",
       "0         2  0.423995       able\n",
       "0         5  0.473297       able\n",
       "6813      2  0.952478   academic\n",
       "1009      1  0.121551   actually\n",
       "...     ...       ...        ...\n",
       "2906      3  0.424395  wonderful\n",
       "2906      5  0.229591  wonderful\n",
       "2385      1  0.848715       wood\n",
       "2385      4  0.052010       wood\n",
       "2385      5  0.099293       wood\n",
       "\n",
       "[672 rows x 3 columns], R=30, lambda_step=0.01, plot_opts={'xlab': 'PC1', 'ylab': 'PC2'}, topic_order=[3, 2, 1, 4, 5])"
      ]
     },
     "execution_count": 12,
     "metadata": {},
     "output_type": "execute_result"
    }
   ],
   "source": [
    "# Visualising the data\n",
    "pyLDAvis.enable_notebook()\n",
    "vis = pyLDAvis.gensim_models.prepare(lda_model, corpus, id2word, mds=\"mmds\", R=30)\n",
    "vis"
   ]
  },
  {
   "cell_type": "code",
   "execution_count": null,
   "metadata": {},
   "outputs": [],
   "source": [
    "# Save the model into memory\n",
    "lda_model.save(\"models/tutorial_mode.model\");"
   ]
  }
 ],
 "metadata": {
  "kernelspec": {
   "display_name": "Python 3.9.12 ('base')",
   "language": "python",
   "name": "python3"
  },
  "language_info": {
   "codemirror_mode": {
    "name": "ipython",
    "version": 3
   },
   "file_extension": ".py",
   "mimetype": "text/x-python",
   "name": "python",
   "nbconvert_exporter": "python",
   "pygments_lexer": "ipython3",
   "version": "3.9.12"
  },
  "orig_nbformat": 4,
  "vscode": {
   "interpreter": {
    "hash": "2f394aca7ca06fed1e6064aef884364492d7cdda3614a461e02e6407fc40ba69"
   }
  }
 },
 "nbformat": 4,
 "nbformat_minor": 2
}
